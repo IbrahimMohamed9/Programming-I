{
 "cells": [
  {
   "cell_type": "code",
   "execution_count": 1,
   "id": "dd0c8cce",
   "metadata": {},
   "outputs": [
    {
     "data": {
      "text/plain": [
       "6"
      ]
     },
     "execution_count": 1,
     "metadata": {},
     "output_type": "execute_result"
    }
   ],
   "source": [
    "def count_int(n):\n",
    "    count = 0\n",
    "    for i in n:\n",
    "        if type(i) == type(4):\n",
    "            count += 1\n",
    "    return count\n",
    "    \n",
    "    \n",
    "count_int([1, 'abcd', 3, 1.2, 4, 'xyz', 5, 'pqr', 7, -5, -12.22]) #6"
   ]
  },
  {
   "cell_type": "code",
   "execution_count": 4,
   "id": "e280c8c6",
   "metadata": {},
   "outputs": [
    {
     "name": "stdout",
     "output_type": "stream",
     "text": [
      "[[2, 3], [4, 5], [1, 1]]\n",
      "[[1, 2], [-2, 4], [1, -1]]\n"
     ]
    }
   ],
   "source": [
    "def remove(n, n1):\n",
    "    new_n = []\n",
    "    n1 = n1 - 1\n",
    "    for i in n:\n",
    "        del i[n1]\n",
    "        new_n.append(i)\n",
    "    return new_n\n",
    "    \n",
    "    \n",
    "print(remove([[1, 2, 3], [2, 4, 5], [1, 1, 1]], 1)) #[[2, 3], [4, 5], [1, 1]]\n",
    "print(remove([[1, 2, 3], [-2, 4, -5], [1, -1, 1]], 3)) #[[1, 2], [-2, 4], [1, -1]]"
   ]
  },
  {
   "cell_type": "code",
   "execution_count": 6,
   "id": "b4a9ca79",
   "metadata": {},
   "outputs": [
    {
     "name": "stdout",
     "output_type": "stream",
     "text": [
      "[1, 2, 1]\n",
      "[3, -5, 1]\n"
     ]
    }
   ],
   "source": [
    "def extract(n, n1):\n",
    "    n1 = n1-1\n",
    "    new_n = []\n",
    "    for i in n:\n",
    "        new_n.append(i[n1])\n",
    "    return new_n\n",
    "\n",
    "\n",
    "print(extract([[1, 2, 3], [2, 4, 5], [1, 1, 1]], 1))#[1, 2, 1]\n",
    "print(extract([[1, 2, 3], [-2, 4, -5], [1, -1, 1]], 3))#[3, -5, 1]"
   ]
  },
  {
   "cell_type": "code",
   "execution_count": 11,
   "id": "afbee335",
   "metadata": {},
   "outputs": [
    {
     "name": "stdout",
     "output_type": "stream",
     "text": [
      "2\n",
      "3\n"
     ]
    }
   ],
   "source": [
    "def find(n):\n",
    "    count = 0\n",
    "    z1 = 0\n",
    "    for i in n:\n",
    "        m = n.count(i)\n",
    "        z = n.index(i)\n",
    "        if m > count:\n",
    "            count = m\n",
    "            z1 = z\n",
    "    z2 = n[z1]\n",
    "    return z2\n",
    "    \n",
    "    \n",
    "print(find([2, 3, 8, 4, 7, 9, 8, 2, 6, 5, 1, 6, 1, 2, 3, 4, 6, 9, 1, 2])) #2\n",
    "print(find([2, 3, 3, 3, 3, 8, 4, 7, 9, 8, 2, 6, 5, 1, 6, 1, 2, 3, 4, 6, 9, 1, 2])) #3"
   ]
  },
  {
   "cell_type": "code",
   "execution_count": 22,
   "id": "7b9756a4",
   "metadata": {},
   "outputs": [
    {
     "name": "stdout",
     "output_type": "stream",
     "text": [
      "True\n",
      "True\n"
     ]
    }
   ],
   "source": [
    "def check(n):\n",
    "    n1 = n.copy()\n",
    "    n1 = sorted(n)\n",
    "    if n1 == n:\n",
    "        return True\n",
    "    else:\n",
    "        return False\n",
    "    \n",
    "print(check([1, 2, 4, 6, 8, 10, 12, 14, 16, 17])) #True\n",
    "print(check([1, 2, 4, 6, 8, 10, 12, 14, 17, 16])) #False"
   ]
  },
  {
   "cell_type": "code",
   "execution_count": 24,
   "id": "cdb0cc7c",
   "metadata": {},
   "outputs": [
    {
     "data": {
      "text/plain": [
       "[1, 3, 5, 7, 9, 10]"
      ]
     },
     "execution_count": 24,
     "metadata": {},
     "output_type": "execute_result"
    }
   ],
   "source": [
    "def remove(n1, n2):\n",
    "    e = []\n",
    "    for i in n1:\n",
    "        if i not in n2:\n",
    "            e.append(i)\n",
    "    return e\n",
    "\n",
    "remove([1, 2, 3, 4, 5, 6, 7, 8, 9, 10], [2, 4, 6, 8])#[1, 3, 5, 7, 9, 10]"
   ]
  },
  {
   "cell_type": "code",
   "execution_count": 34,
   "id": "ea456b6b",
   "metadata": {},
   "outputs": [
    {
     "data": {
      "text/plain": [
       "['deR', 'neerG', 'eulB', 'etihW', 'kcalB']"
      ]
     },
     "execution_count": 34,
     "metadata": {},
     "output_type": "execute_result"
    }
   ],
   "source": [
    "def reverse(n):\n",
    "    n1 = []\n",
    "    for i in n:\n",
    "        n2 = \"\"\n",
    "        for j in range(len(i)-1, -1, -1):\n",
    "            n2 += i[j]\n",
    "        n1.append(n2)\n",
    "    return n1\n",
    "\n",
    "reverse(['Red', 'Green', 'Blue', 'White', 'Black']) #['deR', 'neerG', 'eulB', 'etihW', 'kcalB']"
   ]
  },
  {
   "cell_type": "code",
   "execution_count": 36,
   "id": "7e44840c",
   "metadata": {
    "scrolled": true
   },
   "outputs": [
    {
     "data": {
      "text/plain": [
       "29"
      ]
     },
     "execution_count": 36,
     "metadata": {},
     "output_type": "execute_result"
    }
   ],
   "source": [
    "def sum_range(n, s, b):\n",
    "    summ  = 0\n",
    "    b += 1\n",
    "    for i in range(s, b):\n",
    "        summ += n[i]\n",
    "    return summ\n",
    "\n",
    "sum_range([2, 1, 5, 6, 8, 3, 4, 9, 10, 11, 8, 12], 8, 10)"
   ]
  },
  {
   "cell_type": "code",
   "execution_count": null,
   "id": "169dc6a7",
   "metadata": {},
   "outputs": [],
   "source": [
    "def count(n):\n",
    "    n1, n2, count = [], [], 0\n",
    "    for i in n:\n",
    "        if i not in n1:\n",
    "            n1.append(i)\n",
    "            count += 1\n",
    "        else:\n",
    "            "
   ]
  },
  {
   "cell_type": "code",
   "execution_count": 37,
   "id": "44e9b690",
   "metadata": {},
   "outputs": [
    {
     "data": {
      "text/plain": [
       "([1, 2, 4, 5], [1, 3, 3, 4])"
      ]
     },
     "execution_count": 37,
     "metadata": {},
     "output_type": "execute_result"
    }
   ],
   "source": [
    "def count(n):\n",
    "    d, n1, n2 = {}, [], []\n",
    "    for i in n:\n",
    "        if i in d:\n",
    "            d[i] += 1\n",
    "        else:\n",
    "            d[i] = 1\n",
    "    for j in d:\n",
    "        n1.append(j) \n",
    "        n2.append(d[j])\n",
    "    return (n1, n2)\n",
    "        \n",
    "    \n",
    "count([1, 2, 2, 2, 4, 4, 4, 5, 5, 5, 5])"
   ]
  },
  {
   "cell_type": "code",
   "execution_count": 38,
   "id": "595bd616",
   "metadata": {},
   "outputs": [
    {
     "data": {
      "text/plain": [
       "['Python', 'Exercises', 'Practice', 'Solution']"
      ]
     },
     "execution_count": 38,
     "metadata": {},
     "output_type": "execute_result"
    }
   ],
   "source": [
    "def remove(n):\n",
    "    n1 = []\n",
    "    for i in n:\n",
    "        if i not in n1:\n",
    "            n1.append(i)\n",
    "    return n1\n",
    "\n",
    "remove(['Python', 'Exercises', 'Practice', 'Solution', 'Exercises'])\n",
    "#['Python', 'Exercises', 'Practice', 'Solution']"
   ]
  },
  {
   "cell_type": "code",
   "execution_count": 39,
   "id": "c9a505fe",
   "metadata": {},
   "outputs": [
    {
     "data": {
      "text/plain": [
       "['Red', 'Green', [1, 2], 'Blue']"
      ]
     },
     "execution_count": 39,
     "metadata": {},
     "output_type": "execute_result"
    }
   ],
   "source": [
    "def remove_empty(n):\n",
    "    n1 = []\n",
    "    for i in n:\n",
    "        if len(i) > 0:\n",
    "            n1.append(i)\n",
    "    return n1\n",
    "    \n",
    "    \n",
    "remove_empty([[], [], [], 'Red', 'Green', [1, 2], 'Blue', [], []])\n",
    "#['Red', 'Green', [1, 2], 'Blue']"
   ]
  },
  {
   "cell_type": "code",
   "execution_count": 41,
   "id": "48918d73",
   "metadata": {},
   "outputs": [
    {
     "name": "stdout",
     "output_type": "stream",
     "text": [
      "12\n",
      "15\n",
      "9\n"
     ]
    }
   ],
   "source": [
    "def summ(n, n1):\n",
    "    n1 -= 1\n",
    "    summ = 0\n",
    "    for i in n:\n",
    "        summ += i[n1]\n",
    "    return summ\n",
    "\n",
    "\n",
    "print(summ([[1, 2, 3, 2], [4, 5, 6, 2], [7, 8, 9, 5]],1)) #12\n",
    "print(summ([[1, 2, 3, 2], [4, 5, 6, 2], [7, 8, 9, 5]],2)) #15\n",
    "print(summ([[1, 2, 3, 2], [4, 5, 6, 2], [7, 8, 9, 5]],4)) #9"
   ]
  },
  {
   "cell_type": "code",
   "execution_count": 42,
   "id": "aed09d07",
   "metadata": {},
   "outputs": [
    {
     "name": "stdout",
     "output_type": "stream",
     "text": [
      "True\n",
      "True\n",
      "False\n"
     ]
    }
   ],
   "source": [
    "def check(l, n, o):\n",
    "    z = l.count(n)\n",
    "    if z >= o:\n",
    "        return True\n",
    "    else:\n",
    "        return False\n",
    "    \n",
    "    \n",
    "print(check([0, 1, 3, 5, 0, 3, 4, 5, 0, 8, 0, 3, 6, 0, 3, 1, 1, 0], 3, 4)) #True\n",
    "print(check([0, 1, 3, 5, 0, 3, 4, 5, 0, 8, 0, 3, 6, 0, 3, 1, 1, 0], 0, 5)) #True\n",
    "print(check([0, 1, 3, 5, 0, 3, 4, 5, 0, 8, 0, 3, 6, 0, 3, 1, 1, 0], 8, 3)) #False"
   ]
  },
  {
   "cell_type": "code",
   "execution_count": 47,
   "id": "b6b6e515",
   "metadata": {},
   "outputs": [
    {
     "name": "stdout",
     "output_type": "stream",
     "text": [
      "4\n",
      "1\n",
      "5\n",
      "3\n"
     ]
    }
   ],
   "source": [
    "def index(l, n):\n",
    "    for i in l:\n",
    "        if i > n:\n",
    "            break\n",
    "    return l.index(i)\n",
    "    \n",
    "    \n",
    "print(index([12, 45, 23, 67, 78, 90, 100, 76, 38, 62, 73, 29, 83], 73)) #4\n",
    "print(index([12, 45, 23, 67, 78, 90, 100, 76, 38, 62, 73, 29, 83], 21)) #1\n",
    "print(index([12, 45, 23, 67, 78, 90, 100, 76, 38, 62, 73, 29, 83], 80)) #5\n",
    "print(index([12, 45, 23, 67, 78, 90, 100, 76, 38, 62, 73, 29, 83], 55)) #3"
   ]
  },
  {
   "cell_type": "code",
   "execution_count": 48,
   "id": "8cc41b98",
   "metadata": {},
   "outputs": [
    {
     "name": "stdout",
     "output_type": "stream",
     "text": [
      "4\n",
      "1\n",
      "5\n",
      "3\n"
     ]
    }
   ],
   "source": [
    "def first_index(l1, n):\n",
    "    return next(a[0] for a in enumerate(l1) if a[1] > n)\n",
    "\n",
    "print(first_index([12, 45, 23, 67, 78, 90, 100, 76, 38, 62, 73, 29, 83], 73)) #4\n",
    "print(first_index([12, 45, 23, 67, 78, 90, 100, 76, 38, 62, 73, 29, 83], 21)) #1\n",
    "print(first_index([12, 45, 23, 67, 78, 90, 100, 76, 38, 62, 73, 29, 83], 80)) #5\n",
    "print(first_index([12, 45, 23, 67, 78, 90, 100, 76, 38, 62, 73, 29, 83], 55)) #3"
   ]
  },
  {
   "cell_type": "code",
   "execution_count": 49,
   "id": "13eeea29",
   "metadata": {},
   "outputs": [
    {
     "name": "stdout",
     "output_type": "stream",
     "text": [
      "[1, 2, 'a', 3, 4, 5, 6, 7, 8, 9, 0]\n",
      "[1, 2, 3, 4, 'b', 5, 6, 7, 8, 9, 0]\n"
     ]
    }
   ],
   "source": [
    "def insert(l, e, n):\n",
    "    l1 = l.copy()\n",
    "    l1.insert(n, e)\n",
    "    return l1\n",
    "    \n",
    "    \n",
    "print(insert([1, 2, 3, 4, 5, 6, 7, 8, 9, 0], \"a\", 2)) \n",
    "#[1, 2, 'a', 3, 4, 'a', 5, 6, 'a', 7, 8, 'a', 9, 0]\n",
    "print(insert([1, 2, 3, 4, 5, 6, 7, 8, 9, 0], \"b\", 4)) \n",
    "#[1, 2, 3, 4, 'b', 5, 6, 7, 8, 'b', 9, 0]"
   ]
  },
  {
   "cell_type": "code",
   "execution_count": 53,
   "id": "cb672f2d",
   "metadata": {},
   "outputs": [
    {
     "name": "stdout",
     "output_type": "stream",
     "text": [
      "[2, 3]\n",
      "['c']\n"
     ]
    }
   ],
   "source": [
    "def common(n):\n",
    "    n1 = []\n",
    "    for i in range(len(n)):\n",
    "        n2 += [i] \n",
    "    for k in n[0]:\n",
    "        count = 0\n",
    "        count2 = 0\n",
    "        for m in n2[1:]:\n",
    "            if count >= 1:\n",
    "                count2 += 1\n",
    "                if count2 >= len(n2-1):\n",
    "                    n1.append()\n",
    "            for j in n[m]:\n",
    "                if j == k:\n",
    "                    count += 1\n",
    "            \n",
    "                \n",
    "    return n1\n",
    "                \n",
    "        \n",
    "    \n",
    "    \n",
    "print(common([[7, 2, 3, 4, 7], [9, 2, 3, 2, 5], [8, 2, 3, 4, 4]]))#[2, 3]\n",
    "print(common([['a', 'b', 'c'], ['b', 'c', 'd'], ['c', 'd', 'e']]))#['c']"
   ]
  },
  {
   "cell_type": "code",
   "execution_count": 55,
   "id": "7d68ee8b",
   "metadata": {},
   "outputs": [
    {
     "data": {
      "text/plain": [
       "'Fizz'"
      ]
     },
     "execution_count": 55,
     "metadata": {},
     "output_type": "execute_result"
    }
   ],
   "source": [
    "def fizz_buzz(num):\n",
    "\treturn \"Fizz\"*(num%3==0) + \"Buzz\"*(num%5==0) or str(num)\n",
    "fizz_buzz(3)"
   ]
  },
  {
   "cell_type": "code",
   "execution_count": 57,
   "id": "2a20299f",
   "metadata": {},
   "outputs": [
    {
     "data": {
      "text/plain": [
       "3"
      ]
     },
     "execution_count": 57,
     "metadata": {},
     "output_type": "execute_result"
    }
   ],
   "source": [
    "x = \"ksmdf\"\n",
    "x.index(\"d\")"
   ]
  },
  {
   "cell_type": "code",
   "execution_count": 65,
   "id": "c2168fac",
   "metadata": {},
   "outputs": [
    {
     "data": {
      "text/plain": [
       "1"
      ]
     },
     "execution_count": 65,
     "metadata": {},
     "output_type": "execute_result"
    }
   ],
   "source": [
    "ord(\"A\") - 64"
   ]
  },
  {
   "cell_type": "code",
   "execution_count": 76,
   "id": "5ff11fb5",
   "metadata": {},
   "outputs": [
    {
     "data": {
      "text/plain": [
       "'Loves me, Loves me not, LOVES ME'"
      ]
     },
     "execution_count": 76,
     "metadata": {},
     "output_type": "execute_result"
    }
   ],
   "source": [
    "def loves_me(n):\n",
    "     return 'Loves me, Loves me not, ' * ((n-1) // 2) + \\\n",
    "     ('Loves me, LOVES ME NOT', 'LOVES ME')[n % 2]\n",
    "loves_me(3)"
   ]
  },
  {
   "cell_type": "code",
   "execution_count": 67,
   "id": "a3446001",
   "metadata": {},
   "outputs": [
    {
     "data": {
      "text/plain": [
       "6"
      ]
     },
     "execution_count": 67,
     "metadata": {},
     "output_type": "execute_result"
    }
   ],
   "source": [
    "81%15"
   ]
  },
  {
   "cell_type": "code",
   "execution_count": 81,
   "id": "10865d1a",
   "metadata": {},
   "outputs": [
    {
     "name": "stdout",
     "output_type": "stream",
     "text": [
      "[0, 1, 2, 3, 4]\n"
     ]
    }
   ],
   "source": [
    "n2 = []\n",
    "for i in range(5):\n",
    "    n2 += [i] \n",
    "print(n2)"
   ]
  },
  {
   "cell_type": "code",
   "execution_count": 89,
   "id": "f0cd545e",
   "metadata": {},
   "outputs": [
    {
     "name": "stdout",
     "output_type": "stream",
     "text": [
      "apple\n",
      "hallo world\n",
      "banana\n",
      "banana\n"
     ]
    }
   ],
   "source": [
    "mylist = iter([\"apple\", \"banana\", \"cherry\"])\n",
    "print(next(mylist))\n",
    "print(\"hallo world\")\n",
    "x = next(mylist)\n",
    "print(x)\n",
    "print(x)"
   ]
  },
  {
   "cell_type": "code",
   "execution_count": 96,
   "id": "ea2e9530",
   "metadata": {},
   "outputs": [
    {
     "name": "stdout",
     "output_type": "stream",
     "text": [
      "{2, 3}\n",
      "<class 'set'>\n"
     ]
    }
   ],
   "source": [
    "nums = [[7,2,3,4,7],[9,2,3,2,5],[8,2,3,4,4]]\n",
    "x = set(nums[0]).intersection(*nums)\n",
    "print(x)\n",
    "print(type(x))"
   ]
  },
  {
   "cell_type": "code",
   "execution_count": 8,
   "id": "48527a0a",
   "metadata": {},
   "outputs": [
    {
     "name": "stdout",
     "output_type": "stream",
     "text": [
      "hi Test User\n",
      "Test User\n",
      "Real User 1\n",
      "Real User 2\n"
     ]
    }
   ],
   "source": [
    "users = [\"Test User\", \"Real User 1\", \"Real User 2\"]\n",
    "\n",
    "for s in enumerate(users, start = 3):\n",
    "    if s[0] == 3:\n",
    "        print(\"hi\", s[1])\n",
    "    print(s[1])"
   ]
  },
  {
   "cell_type": "code",
   "execution_count": 40,
   "id": "93b24f77",
   "metadata": {},
   "outputs": [
    {
     "name": "stdout",
     "output_type": "stream",
     "text": [
      "{2, 3}\n",
      "{'c'}\n"
     ]
    }
   ],
   "source": [
    "def common_list_of_lists(lst):\n",
    "    temp = set(lst[0]).intersection(*lst)\n",
    "    return temp \n",
    "\n",
    "\n",
    "print(common_list_of_lists([[7,2,3,4,7],[9,2,3,2,5],[8,2,3,4,4]])) #[2, 3]\n",
    "print(common_list_of_lists([['a', 'b', 'c'], ['b', 'c', 'd'], ['c', 'd', 'e']])) #['c']"
   ]
  },
  {
   "cell_type": "code",
   "execution_count": 34,
   "id": "bdf65d5e",
   "metadata": {},
   "outputs": [
    {
     "data": {
      "text/plain": [
       "{' ', '2'}"
      ]
     },
     "execution_count": 34,
     "metadata": {},
     "output_type": "execute_result"
    }
   ],
   "source": [
    "set(\"2 2\")"
   ]
  },
  {
   "cell_type": "code",
   "execution_count": 54,
   "id": "2b827eef",
   "metadata": {},
   "outputs": [
    {
     "name": "stdout",
     "output_type": "stream",
     "text": [
      "['1', '0', '0', '0']\n",
      "['1', '0', '1', '1', '0', '1']\n",
      "['1', '1', '0', '0', '1', '0', '0']\n"
     ]
    }
   ],
   "source": [
    "def convert(d):\n",
    "    return list(bin(d))[2:]\n",
    "\n",
    "print(convert(8)) #['1', '0', '0', '0']\n",
    "print(convert(45)) #['1', '0', '1', '1', '0', '1']\n",
    "print(convert(100)) #['1', '1', '0', '0', '1', '0', '0']"
   ]
  },
  {
   "cell_type": "code",
   "execution_count": 55,
   "id": "45db16bf",
   "metadata": {},
   "outputs": [
    {
     "name": "stdout",
     "output_type": "stream",
     "text": [
      "[3, 6]\n",
      "[]\n"
     ]
    }
   ],
   "source": [
    "def find(l, n):\n",
    "    l1, l2 = [], []\n",
    "    for i in l:\n",
    "        if i > n:\n",
    "            l1.append(i)\n",
    "    for j in l1:\n",
    "        l2.append(l.index(j))\n",
    "    return l2\n",
    "\n",
    "\n",
    "print(find([1234, 1522, 1984, 19372, 1000, 2342, 7626], 3000)) #[3, 6]\n",
    "print(find([1234, 1522, 1984, 19372, 1000, 2342, 7626], 20000)) #[]"
   ]
  },
  {
   "cell_type": "code",
   "execution_count": 56,
   "id": "1a0190d1",
   "metadata": {},
   "outputs": [
    {
     "name": "stdout",
     "output_type": "stream",
     "text": [
      "[3, 6]\n",
      "[]\n"
     ]
    }
   ],
   "source": [
    "def find(n, n2):\n",
    "    return [i for i, val in enumerate(n) if val > n2]\n",
    "\n",
    "\"\"\"\n",
    "shurtcut for:\n",
    "l = []\n",
    "for i, val in enumerate(n):\n",
    "    if val > n2:\n",
    "        l.append(i)\n",
    "return l\n",
    "\"\"\"\n",
    "\n",
    "print(find([1234, 1522, 1984, 19372, 1000, 2342, 7626], 3000)) #[3, 6]\n",
    "print(find([1234, 1522, 1984, 19372, 1000, 2342, 7626], 20000)) #[]"
   ]
  },
  {
   "cell_type": "code",
   "execution_count": 68,
   "id": "cfad5742",
   "metadata": {},
   "outputs": [
    {
     "data": {
      "text/plain": [
       "4"
      ]
     },
     "execution_count": 68,
     "metadata": {},
     "output_type": "execute_result"
    }
   ],
   "source": [
    "def count_non_zero(n):\n",
    "    l, l2 = [], []\n",
    "    for i in n+[0]:\n",
    "        if i != 0:\n",
    "            l.append(i)\n",
    "        else:\n",
    "            if len(l) == 0:\n",
    "                pass\n",
    "            else:\n",
    "                l2.append(list(l))\n",
    "                l = []\n",
    "    return len(l2)\n",
    "\n",
    "count_non_zero([3, 4, 6, 2, 0, 0, 0, 0, 0, 0, 6, 7, 6, 9, 10, 0, 0,\n",
    " 0, 0, 0, 5, 9, 9, 7, 4, 4, 0, 0, 0, 0, 0, 0, 5, 3, 2, 9, 7, 1])"
   ]
  },
  {
   "cell_type": "code",
   "execution_count": 70,
   "id": "1813947a",
   "metadata": {},
   "outputs": [
    {
     "data": {
      "text/plain": [
       "4"
      ]
     },
     "execution_count": 70,
     "metadata": {},
     "output_type": "execute_result"
    }
   ],
   "source": [
    "def test(lst):\n",
    "    previous_digit = 0\n",
    "    ctr = 0\n",
    "    for digit in lst:\n",
    "        if previous_digit==0 and digit!=0:\n",
    "            ctr+=1\n",
    "        previous_digit = digit\n",
    "    return ctr\n",
    "\n",
    "nums = [3,4,6,2,0,0,0,0,0,0,6,7,6,9,10,0,0,0,0,0,5,9,9,7,4,4,0,0,0,0,0,0,5,3,2,9,7,1]\n",
    "\n",
    "test(nums)"
   ]
  },
  {
   "cell_type": "code",
   "execution_count": 73,
   "id": "d18f4ee4",
   "metadata": {},
   "outputs": [
    {
     "data": {
      "text/plain": [
       "[15, 38, 15, 27]"
      ]
     },
     "execution_count": 73,
     "metadata": {},
     "output_type": "execute_result"
    }
   ],
   "source": [
    "def summ(n):\n",
    "    l, l2 =[], []\n",
    "    for i in n + [0]:\n",
    "        if i != 0:\n",
    "            l.append(i)\n",
    "        else:\n",
    "            if len(l) > 0:\n",
    "                l2.append(l)\n",
    "                l = []\n",
    "            else:\n",
    "                pass\n",
    "    for j in range(len(l2)):\n",
    "        l2[j] = sum(l2[j])\n",
    "    return l2\n",
    "\n",
    "summ([3, 4, 6, 2, 0, 0, 0, 0, 0, 0, 6, 7, 6, 9, 10, 0, 0, 0, 0, 0,\n",
    "      7, 4, 4, 0, 0, 0, 0, 0, 0, 5, 3, 2, 9, 7, 1, 0, 0, 0]) #[15, 38, 15, 27]"
   ]
  },
  {
   "cell_type": "code",
   "execution_count": 78,
   "id": "325973cf",
   "metadata": {},
   "outputs": [
    {
     "name": "stdout",
     "output_type": "stream",
     "text": [
      "True\n",
      "True\n",
      "False\n"
     ]
    }
   ],
   "source": [
    "def check_common(n1, n2):\n",
    "    n = set(n1).intersection(n2)\n",
    "    if len(n) == len(n1):\n",
    "        return True\n",
    "    return False\n",
    "\n",
    "print(check_common([1, 2, 4], [2, 4, 1])) #True\n",
    "print(check_common([1, 2, 3], [1, 2, 3])) #True\n",
    "print(check_common([1, 2, 3], [1, 2, 4])) #False"
   ]
  },
  {
   "cell_type": "code",
   "execution_count": 87,
   "id": "f4121e5d",
   "metadata": {},
   "outputs": [
    {
     "name": "stdout",
     "output_type": "stream",
     "text": [
      "['a', 'bb', 'c']\n",
      "['a', 'bb', 'c']\n",
      "['']\n"
     ]
    }
   ],
   "source": [
    "def noX(n):\n",
    "    n1, strr = [], \"\"\n",
    "    for i in n:\n",
    "        for j in i:\n",
    "            if j == \"x\":\n",
    "                pass\n",
    "            else:\n",
    "                strr += j\n",
    "        n1.append(strr)\n",
    "        strr = \"\"\n",
    "    return n1\n",
    "    \n",
    "    \n",
    "print(noX([\"ax\", 'bb', 'cx'])) #[”a”, ”bb”, ”c”]\n",
    "print(noX(['xxax', 'xbxbx', 'xxcx'])) #[”a”, ”bb”, ”c”]\n",
    "print(noX(['x'])) #[””]"
   ]
  },
  {
   "cell_type": "code",
   "execution_count": 98,
   "id": "497b5c87",
   "metadata": {},
   "outputs": [
    {
     "name": "stdout",
     "output_type": "stream",
     "text": [
      "6\n",
      "2\n"
     ]
    }
   ],
   "source": [
    "def count(n):\n",
    "    co = 0\n",
    "    for i in n:\n",
    "        if \"q\" in i.lower() or \"w\" in i.lower():\n",
    "            co += 1\n",
    "    return co\n",
    "\n",
    "print(count(['Write', 'a', 'function', 'that', 'counts', 'how', 'many',\n",
    "           'words', 'occur', 'in', 'a', 'list',\n",
    "           'up', 'to', 'and', 'including', 'the', 'first', 'word',\n",
    "           'containing', 'character', 'q', 'or', 'character', 'w.'])) #6\n",
    "print(count([\"hallo\", \"hi\", \"w\", \"q\"])) #2"
   ]
  },
  {
   "cell_type": "code",
   "execution_count": 112,
   "id": "6cf07c1e",
   "metadata": {},
   "outputs": [
    {
     "name": "stdout",
     "output_type": "stream",
     "text": [
      "True\n",
      "False\n",
      "True\n",
      "True\n",
      "False\n"
     ]
    }
   ],
   "source": [
    "def first_last6(n):\n",
    "    if n[0] == 6 or n[-1] == 6 and len(n) >= 1:\n",
    "        return True\n",
    "    return False\n",
    "        \n",
    "\n",
    "print(first_last6([6])) #True\n",
    "print(first_last6([0])) #False\n",
    "print(first_last6([1, 2, 6])) #True\n",
    "print(first_last6([6, 1, 2, 3])) #True\n",
    "print(first_last6([13, 6, 1, 2, 3])) #False"
   ]
  },
  {
   "cell_type": "code",
   "execution_count": 110,
   "id": "46ed4cc2",
   "metadata": {},
   "outputs": [
    {
     "name": "stdout",
     "output_type": "stream",
     "text": [
      "False\n",
      "True\n",
      "True\n"
     ]
    }
   ],
   "source": [
    "def same_first_last(n):\n",
    "    if len(n) >= 1 and n[0] == n[-1]:\n",
    "        return True\n",
    "    return False\n",
    "\n",
    "\n",
    "print(same_first_last([1, 2, 3])) #False\n",
    "print(same_first_last([1, 2, 3, 1])) #True\n",
    "print(same_first_last([1, 2, 1])) #True"
   ]
  },
  {
   "cell_type": "code",
   "execution_count": 109,
   "id": "3abf111e",
   "metadata": {},
   "outputs": [
    {
     "name": "stdout",
     "output_type": "stream",
     "text": [
      "0\n"
     ]
    }
   ],
   "source": [
    "n = [0]\n",
    "print(n[-1])"
   ]
  },
  {
   "cell_type": "code",
   "execution_count": 114,
   "id": "4cbee8ee",
   "metadata": {},
   "outputs": [
    {
     "name": "stdout",
     "output_type": "stream",
     "text": [
      "True\n",
      "False\n",
      "True\n"
     ]
    }
   ],
   "source": [
    "def common_end(n1, n2):\n",
    "    if n1[0] == n2[0] or n1[-1] == n2[-1]:\n",
    "        return True\n",
    "    return False\n",
    "\n",
    "\n",
    "print(common_end([1, 2, 3], [7, 3])) #True\n",
    "print(common_end([1, 2, 3], [7, 3, 2])) #False\n",
    "print(common_end([1, 2, 3], [1, 3])) #True"
   ]
  },
  {
   "cell_type": "code",
   "execution_count": 115,
   "id": "01b2fec3",
   "metadata": {},
   "outputs": [
    {
     "name": "stdout",
     "output_type": "stream",
     "text": [
      "[2, 3, 1]\n",
      "[11, 9, 5]\n",
      "[0, 0, 7]\n"
     ]
    }
   ],
   "source": [
    "def rotate_left3(n):\n",
    "    if len(n) == 3:\n",
    "        n1 = n.copy()\n",
    "        del n1[0]\n",
    "        n1.append(n[0])\n",
    "        return n1\n",
    "    return False\n",
    "    \n",
    "\n",
    "\n",
    "print(rotate_left3([1, 2, 3])) #[2, 3, 1]\n",
    "print(rotate_left3([5, 11, 9])) #[11, 9, 5]\n",
    "print(rotate_left3([7, 0, 0])) #[0, 0, 7]"
   ]
  },
  {
   "cell_type": "code",
   "execution_count": 117,
   "id": "c7a85ce5",
   "metadata": {},
   "outputs": [
    {
     "name": "stdout",
     "output_type": "stream",
     "text": [
      "[3, 2, 1]\n",
      "[9, 11, 5]\n",
      "[0, 0, 7]\n"
     ]
    }
   ],
   "source": [
    "def reverse3(n):\n",
    "    if len(n) == 3:\n",
    "        n1 = n.copy()\n",
    "        n1[0], n1[-1] = n[-1], n[0]\n",
    "        return n1\n",
    "    return False\n",
    "    \n",
    "    \n",
    "print(reverse3([1, 2, 3])) #[3, 2, 1]\n",
    "print(reverse3([5, 11, 9])) #[9, 11, 5]\n",
    "print(reverse3([7, 0, 0])) #[0, 0, 7]"
   ]
  },
  {
   "cell_type": "code",
   "execution_count": 119,
   "id": "9ed5feee",
   "metadata": {},
   "outputs": [
    {
     "name": "stdout",
     "output_type": "stream",
     "text": [
      "[3, 3, 3]\n",
      "[11, 11, 11]\n",
      "[3, 3, 3]\n"
     ]
    }
   ],
   "source": [
    "def max_end3(n):\n",
    "    if len(n) == 3:\n",
    "        if n[-1] > n[0]:\n",
    "            return [n[-1] for i in range(3)]\n",
    "            \"\"\"\n",
    "            abbreviation for:\n",
    "            n2 = []\n",
    "            for i in range(3):\n",
    "                n2.append(n[-1])\n",
    "            return n2\n",
    "            \"\"\"\n",
    "        # We did not need else or elif\n",
    "        return [n[0] for i in range(3)]\n",
    "            \"\"\"\n",
    "            abbreviation for:\n",
    "            n2 = []\n",
    "            for i in range(3):\n",
    "                n2.append(n[0])\n",
    "            return n2\n",
    "            \"\"\"\n",
    "    return False\n",
    "\n",
    "\n",
    "print(max_end3([1, 2, 3])) #[3, 3, 3]\n",
    "print(max_end3([11, 5, 9])) #[11, 11, 11]\n",
    "print(max_end3([2, 11, 3])) #[3, 3, 3]"
   ]
  },
  {
   "cell_type": "code",
   "execution_count": 120,
   "id": "8e6e0f82",
   "metadata": {},
   "outputs": [
    {
     "name": "stdout",
     "output_type": "stream",
     "text": [
      "3\n",
      "2\n",
      "2\n"
     ]
    }
   ],
   "source": [
    "def sum2(n):\n",
    "    if len(n) == 0:\n",
    "        return 0\n",
    "    elif len(n) == 1:\n",
    "        return int(n)\n",
    "    return n[0] + n[1]\n",
    "\n",
    "print(sum2([1, 2, 3])) #3\n",
    "print(sum2([1, 1])) #2\n",
    "print(sum2([1, 1, 1, 1])) #2"
   ]
  },
  {
   "cell_type": "code",
   "execution_count": 122,
   "id": "9431c396",
   "metadata": {},
   "outputs": [
    {
     "name": "stdout",
     "output_type": "stream",
     "text": [
      "[2, 5]\n",
      "[7, 8]\n",
      "[2, 4]\n"
     ]
    }
   ],
   "source": [
    "def middle_way(n1, n2):\n",
    "    if len(n1) == len(n2) == 3:\n",
    "        return [n1[1],n2[1]]\n",
    "    return False\n",
    "\n",
    "\n",
    "print(middle_way([1, 2, 3], [4, 5, 6])) #[2, 5]\n",
    "print(middle_way([7, 7, 7], [3, 8, 0])) #[7, 8]\n",
    "print(middle_way([5, 2, 9], [1, 4, 5])) #[2, 4]"
   ]
  },
  {
   "cell_type": "code",
   "execution_count": 125,
   "id": "f00cd1dc",
   "metadata": {},
   "outputs": [
    {
     "name": "stdout",
     "output_type": "stream",
     "text": [
      "[1, 3]\n",
      "[1, 4]\n",
      "[7, 2]\n"
     ]
    }
   ],
   "source": [
    "def make_ends(n):\n",
    "    if len(n) >=1:\n",
    "        return [n[0], n[-1]]\n",
    "        \"\"\"\n",
    "        abbreviation for:\n",
    "        n1 = []\n",
    "        n1 += n[0]\n",
    "        n1 += n[-1]\n",
    "        return n1\n",
    "        \"\"\"\n",
    "    return False\n",
    "\n",
    "\n",
    "print(make_ends([1, 2, 3])) #[1, 3]\n",
    "print(make_ends([1, 2, 3, 4])) #[1, 4]\n",
    "print(make_ends([7, 4, 6, 2])) #[7, 2]"
   ]
  },
  {
   "cell_type": "code",
   "execution_count": 129,
   "id": "ed26f050",
   "metadata": {},
   "outputs": [
    {
     "name": "stdout",
     "output_type": "stream",
     "text": [
      "[0, 1]\n"
     ]
    }
   ],
   "source": [
    "        n1 = []\n",
    "        n = [0, 1]\n",
    "        n1.append(n[0])\n",
    "        n1.append(n[-1])\n",
    "        print(n1)"
   ]
  },
  {
   "cell_type": "code",
   "execution_count": 130,
   "id": "a5bd0d69",
   "metadata": {},
   "outputs": [
    {
     "name": "stdout",
     "output_type": "stream",
     "text": [
      "True\n",
      "True\n",
      "False\n"
     ]
    }
   ],
   "source": [
    "def has23(n):\n",
    "    if len(n) == 2:\n",
    "        if 2 in n or 3 in n:\n",
    "            return True\n",
    "    return False\n",
    "\n",
    "\n",
    "print(has23([2, 5])) #True\n",
    "print(has23([4, 3])) #True\n",
    "print(has23([4, 5])) #False"
   ]
  },
  {
   "cell_type": "code",
   "execution_count": 131,
   "id": "25cded04",
   "metadata": {},
   "outputs": [
    {
     "name": "stdout",
     "output_type": "stream",
     "text": [
      "3\n",
      "3\n",
      "0\n"
     ]
    }
   ],
   "source": [
    "def count_evens(n):\n",
    "    return len([i for i in n if i % 2 == 0])\n",
    "    \"\"\"\n",
    "    abbreviation for:\n",
    "    n1 = []\n",
    "    for i in n:\n",
    "        if i % 2 == 0:\n",
    "            n1.append(i)\n",
    "    return len(n1)\n",
    "    \"\"\"\n",
    "\n",
    "\n",
    "print(count_evens([2, 1, 2, 3, 4])) #3\n",
    "print(count_evens([2, 2, 0])) #3\n",
    "print(count_evens([1, 3, 5])) #0"
   ]
  },
  {
   "cell_type": "code",
   "execution_count": 142,
   "id": "56eb9613",
   "metadata": {},
   "outputs": [
    {
     "name": "stdout",
     "output_type": "stream",
     "text": [
      "7\n",
      "8\n",
      "8\n"
     ]
    }
   ],
   "source": [
    "def big_diff(n):\n",
    "    if len(n) >= 1:\n",
    "        s, b = n[0], n[0]\n",
    "        for j in n:\n",
    "            if s > j:\n",
    "                s = j \n",
    "            if b < j:\n",
    "                b = j \n",
    "        return b - s \n",
    "    \n",
    "    return False\n",
    "\n",
    "\n",
    "print(big_diff([10, 3, 5, 6])) #7\n",
    "print(big_diff([7, 2, 10, 9])) #8\n",
    "print(big_diff([2, 10, 7, 2])) #8"
   ]
  },
  {
   "cell_type": "code",
   "execution_count": 149,
   "id": "94c139d6",
   "metadata": {},
   "outputs": [
    {
     "name": "stdout",
     "output_type": "stream",
     "text": [
      "3\n",
      "5\n",
      "-3\n"
     ]
    }
   ],
   "source": [
    "def centered_average(n):\n",
    "    if len(n) < 3:\n",
    "        return False\n",
    "    b, s = n[0], n[0]\n",
    "    for i in n:\n",
    "        if i > b:\n",
    "            b = i\n",
    "        if s > i:\n",
    "            s = i\n",
    "    s = n.index(s)\n",
    "    del n[s]\n",
    "    b = n.index(b)\n",
    "    del n[b]\n",
    "    summ = 0\n",
    "    for j in n:\n",
    "        summ += j\n",
    "    return summ // len(n)\n",
    "    \n",
    "\n",
    "print(centered_average([1, 2, 3, 4, 100])) #3\n",
    "print(centered_average([1, 1, 5, 5, 10, 8, 7])) #5\n",
    "print(centered_average([-10, -4, -2, -4, -2, 0])) #-3"
   ]
  },
  {
   "cell_type": "code",
   "execution_count": 146,
   "id": "4e32ea3d",
   "metadata": {},
   "outputs": [],
   "source": [
    "n = [5,4,4,4,4,4]\n",
    "b = n.index(4)\n",
    "del n[b]"
   ]
  },
  {
   "cell_type": "code",
   "execution_count": 152,
   "id": "f70e9e03",
   "metadata": {},
   "outputs": [
    {
     "name": "stdout",
     "output_type": "stream",
     "text": [
      "6\n",
      "2\n",
      "6\n"
     ]
    }
   ],
   "source": [
    "def sum13(n):\n",
    "    if len(n) == 0:\n",
    "        return 0\n",
    "    z = sum([i for i in n if i not in [13, 14]])\n",
    "    \"\"\"\n",
    "    abbreviation for:\n",
    "    n1 = []\n",
    "    for i in n:\n",
    "        if i not in [13, 14]:\n",
    "            n1.append(i)\n",
    "    z = sum(n1)\n",
    "    \"\"\"\n",
    "    return z\n",
    "\n",
    "print(sum13([1, 2, 2, 1])) #6\n",
    "print(sum13([1, 1])) #2\n",
    "print(sum13([1, 2, 2, 1, 13])) #6"
   ]
  },
  {
   "cell_type": "code",
   "execution_count": 160,
   "id": "7675a6a8",
   "metadata": {},
   "outputs": [
    {
     "name": "stdout",
     "output_type": "stream",
     "text": [
      "5\n",
      "5\n",
      "4\n"
     ]
    }
   ],
   "source": [
    "def sum67(n):\n",
    "    if 6 in n and 7 in n:\n",
    "        i = [j for j in n if j == 6 or j == 7]\n",
    "        \"\"\"\n",
    "         abbreviation for:\n",
    "         i = []\n",
    "         for j in n:\n",
    "             if j == 6 or j == 7 :\n",
    "                 i.append(j)\n",
    "        \"\"\"\n",
    "        in6 = n.index(i[0])\n",
    "        in7 = n.index(i[1])\n",
    "        del n[in6:in7+1]\n",
    "    return sum(n)\n",
    "\n",
    "\n",
    "\n",
    "print(sum67([1, 2, 2])) #5\n",
    "print(sum67([1, 2, 2, 6, 99, 99, 7])) #5\n",
    "print(sum67([1, 1, 6, 7, 2])) #4"
   ]
  },
  {
   "cell_type": "code",
   "execution_count": 168,
   "id": "309498d1",
   "metadata": {},
   "outputs": [
    {
     "name": "stdout",
     "output_type": "stream",
     "text": [
      "True\n",
      "False\n",
      "False\n"
     ]
    }
   ],
   "source": [
    "def has22(n):\n",
    "    for i in range(1, len(n)):\n",
    "        if n[i-1] == n[i] == 2:\n",
    "            return True \n",
    "    return False\n",
    "    \n",
    "    \n",
    "print(has22([1, 2, 2])) #True\n",
    "print(has22([1, 2, 1, 2])) #False\n",
    "print(has22([2, 1, 2])) #False"
   ]
  },
  {
   "cell_type": "code",
   "execution_count": 5,
   "id": "2e72a466",
   "metadata": {},
   "outputs": [
    {
     "name": "stdout",
     "output_type": "stream",
     "text": [
      "5\n",
      "6\n",
      "5\n",
      "5\n"
     ]
    }
   ],
   "source": [
    "def suum(n):\n",
    "    if 6 in n or 7 in n or 8 in n or 9 in n:\n",
    "        for i in n:\n",
    "            if i > 5:\n",
    "                z = i\n",
    "                break\n",
    "        z = n.index(z)\n",
    "        del n[z]\n",
    "    return sum(n)\n",
    "\n",
    "print(suum([1, 2, 2, 6])) #5\n",
    "print(suum([1, 2, 1, 2])) #4\n",
    "print(suum([2, 1, 2])) #5\n",
    "print(suum([2, 1, 7, 2])) #5"
   ]
  },
  {
   "cell_type": "code",
   "execution_count": 35,
   "id": "8a2d4faa",
   "metadata": {},
   "outputs": [
    {
     "name": "stdout",
     "output_type": "stream",
     "text": [
      "{1: 10, 2: 20}\n",
      "{3: 30, 4: 40}\n",
      "{5: 50, 6: 60, 7: 70}\n"
     ]
    },
    {
     "data": {
      "text/plain": [
       "{'j': 'hi', 56: 3}"
      ]
     },
     "execution_count": 35,
     "metadata": {},
     "output_type": "execute_result"
    }
   ],
   "source": [
    "def summdic(n1, n2, n3):\n",
    "    n4 = {}\n",
    "    x = 0\n",
    "    for i in (n1, n2, n3):\n",
    "        print(i)\n",
    "        x += 1\n",
    "        n4.update({\"j\":\"hi\", 56: x})\n",
    "    return n4\n",
    "\n",
    "    \n",
    "dic1={1:10, 2:20}\n",
    "dic2={3:30, 4:40}\n",
    "dic3={5:50,6:60, 7:70}\n",
    "summdic(dic1, dic2, dic3) #{1: 10, 2: 20, 3: 30, 4: 40, 5: 50, 6: 60}\n"
   ]
  },
  {
   "cell_type": "markdown",
   "id": "0f8d68fb",
   "metadata": {},
   "source": [
    "##### dic = {}\n",
    "dic.update(dic1)\n",
    "print(dic)"
   ]
  },
  {
   "cell_type": "code",
   "execution_count": 11,
   "id": "c9236096",
   "metadata": {},
   "outputs": [
    {
     "name": "stdout",
     "output_type": "stream",
     "text": [
      "white\n",
      "{'brand': 'Ford', 'model': 'Mustang', 'year': 1964, 'color': 'white'}\n",
      "white\n",
      "{'brand': 'Ford', 'model': 'Mustang', 'year': 1964, 'color': 'white'}\n"
     ]
    }
   ],
   "source": [
    "car = {\n",
    "  \"brand\": \"Ford\",\n",
    "  \"model\": \"Mustang\",\n",
    "  \"year\": 1964\n",
    "}\n",
    "\n",
    "x = car.setdefault(\"color\", \"white\")\n",
    "\n",
    "print(x)\n",
    "print(car)\n",
    "x = car.setdefault(\"color\", \"black\")\n",
    "print(x)\n",
    "print(car)"
   ]
  },
  {
   "cell_type": "code",
   "execution_count": 13,
   "id": "a9d6a52f",
   "metadata": {},
   "outputs": [
    {
     "name": "stdout",
     "output_type": "stream",
     "text": [
      "Mustang\n",
      "{'brand': 'Ford', 'year': 1964}\n"
     ]
    }
   ],
   "source": [
    "car = {\n",
    "  \"brand\": \"Ford\",\n",
    "  \"model\": \"Mustang\",\n",
    "  \"year\": 1964\n",
    "}\n",
    "\n",
    "x = car.pop(\"model\")\n",
    "print(x)\n",
    "print(car)"
   ]
  },
  {
   "cell_type": "code",
   "execution_count": 15,
   "id": "9da7e8b6",
   "metadata": {},
   "outputs": [
    {
     "name": "stdout",
     "output_type": "stream",
     "text": [
      "{'key1': 10, 'key2': 10, 'key3': 10}\n"
     ]
    }
   ],
   "source": [
    "x = ('key1', 'key2', 'key3')\n",
    "\n",
    "thisdict = dict.fromkeys(x, 10)\n",
    "\n",
    "print(thisdict)"
   ]
  },
  {
   "cell_type": "code",
   "execution_count": 21,
   "id": "e4ae199a",
   "metadata": {},
   "outputs": [
    {
     "name": "stdout",
     "output_type": "stream",
     "text": [
      "{'key1': ['key1', 'key2', 'key3'], 'key2': ['key1', 'key2', 'key3'], 'key3': ['key1', 'key2', 'key3']}\n"
     ]
    }
   ],
   "source": [
    "x = ['key1', 'key2', 'key3']\n",
    "y = ['key1', 'key2', 'key3']\n",
    "\n",
    "thisdict = dict.fromkeys(x, y)\n",
    "\n",
    "print(thisdict)"
   ]
  },
  {
   "cell_type": "code",
   "execution_count": 36,
   "id": "8d6cf2ed",
   "metadata": {},
   "outputs": [
    {
     "name": "stdout",
     "output_type": "stream",
     "text": [
      "False\n",
      "True\n"
     ]
    }
   ],
   "source": [
    "def check(dic, n):\n",
    "    if n in dic.keys():\n",
    "        return True\n",
    "    return False\n",
    "\n",
    "car = {\"brand\": \"Ford\",\"model\": \"Mustang\",\"year\": 1964}\n",
    "print(check(car, \"hi\")) #False\n",
    "print(check(car, \"brand\")) #True"
   ]
  },
  {
   "cell_type": "code",
   "execution_count": 40,
   "id": "1e5f9b73",
   "metadata": {},
   "outputs": [
    {
     "data": {
      "text/plain": [
       "[('brand', 'Ford'), ('model', 'Mustang'), ('year', 1964)]"
      ]
     },
     "execution_count": 40,
     "metadata": {},
     "output_type": "execute_result"
    }
   ],
   "source": [
    "def iterate(n):\n",
    "    return [i for i in n.items()]\n",
    "\n",
    "car = {\"brand\": \"Ford\",\"model\": \"Mustang\",\"year\": 1964}\n",
    "iterate(car)"
   ]
  },
  {
   "cell_type": "code",
   "execution_count": 46,
   "id": "5de3ebe2",
   "metadata": {},
   "outputs": [
    {
     "data": {
      "text/plain": [
       "{1: 1, 2: 4, 3: 9, 4: 16, 5: 25}"
      ]
     },
     "execution_count": 46,
     "metadata": {},
     "output_type": "execute_result"
    }
   ],
   "source": [
    "def generate(n):\n",
    "    j = {}\n",
    "    for i in range(1, n+1):j.update({i:i*i})\n",
    "    return j\n",
    "\n",
    "generate(5)"
   ]
  },
  {
   "cell_type": "code",
   "execution_count": 50,
   "id": "38721cd3",
   "metadata": {},
   "outputs": [
    {
     "data": {
      "text/plain": [
       "180"
      ]
     },
     "execution_count": 50,
     "metadata": {},
     "output_type": "execute_result"
    }
   ],
   "source": [
    "def sumdic(n):\n",
    "    return sum(n.values())\n",
    "\n",
    "sumdic({5:50,6:60, 7:70}) #180"
   ]
  },
  {
   "cell_type": "code",
   "execution_count": 52,
   "id": "1ec9c77f",
   "metadata": {},
   "outputs": [
    {
     "data": {
      "text/plain": [
       "210000"
      ]
     },
     "execution_count": 52,
     "metadata": {},
     "output_type": "execute_result"
    }
   ],
   "source": [
    "50*60*70"
   ]
  },
  {
   "cell_type": "code",
   "execution_count": 53,
   "id": "7e9a1088",
   "metadata": {},
   "outputs": [
    {
     "data": {
      "text/plain": [
       "210000"
      ]
     },
     "execution_count": 53,
     "metadata": {},
     "output_type": "execute_result"
    }
   ],
   "source": [
    "def mult(n):\n",
    "    n1 = 1\n",
    "    for i in n.values(): \n",
    "        n1 *= i\n",
    "    return n1\n",
    "\n",
    "mult({5:50,6:60, 7:70}) #210000"
   ]
  },
  {
   "cell_type": "code",
   "execution_count": 54,
   "id": "cf103a74",
   "metadata": {},
   "outputs": [
    {
     "data": {
      "text/plain": [
       "{6: 60, 7: 70}"
      ]
     },
     "execution_count": 54,
     "metadata": {},
     "output_type": "execute_result"
    }
   ],
   "source": [
    "def remove(n, k):\n",
    "    del n[k]\n",
    "    return n\n",
    "\n",
    "remove({5:50,6:60, 7:70}, 5) #{6:60, 7:70}"
   ]
  },
  {
   "cell_type": "code",
   "execution_count": 78,
   "id": "3951a1ab",
   "metadata": {},
   "outputs": [
    {
     "data": {
      "text/plain": [
       "{'a': 400, 'b': 400, 'd': 400, 'c': 300}"
      ]
     },
     "execution_count": 78,
     "metadata": {},
     "output_type": "execute_result"
    }
   ],
   "source": [
    "def Counter(n1, n2):\n",
    "    d = {}\n",
    "    for i in n1: d.update({i:n1.get(i, 0) + n2.get(i, 0)})\n",
    "    \"\"\"\n",
    "    abbreviation for:\n",
    "    for i in n1:\n",
    "        d[i] = n1.get(i, 0) + n2.get(i, 0)\n",
    "    \"\"\"\n",
    "    for j in n2 :\n",
    "        if j not in d: d.update({j: n2[j]})\n",
    "    \"\"\"\n",
    "    abbreviation for:\n",
    "    if j not in d:\n",
    "        d[j] = n2[j]\n",
    "    \"\"\"\n",
    "    return d\n",
    "\n",
    "\n",
    "d1 = {'a': 100, 'b': 200, 'c':300}\n",
    "d2 = {'a': 300, 'b': 200, 'd':400}\n",
    "Counter(d2, d1)#{'a': 400, 'b': 400, 'd': 400, 'c': 300}"
   ]
  },
  {
   "cell_type": "code",
   "execution_count": 62,
   "id": "16ff3eac",
   "metadata": {},
   "outputs": [
    {
     "name": "stdout",
     "output_type": "stream",
     "text": [
      "[('a', 300), ('b', 200), ('d', 400)]\n"
     ]
    }
   ],
   "source": [
    "d2 = {'a': 300, 'd':400, 'b': 200}\n",
    "d1 = sorted(d2.items())\n",
    "print(d1)"
   ]
  },
  {
   "cell_type": "code",
   "execution_count": 84,
   "id": "94fea8e3",
   "metadata": {},
   "outputs": [
    {
     "data": {
      "text/plain": [
       "Counter({'a': 400, 'b': 400, 'd': 400, 'c': 300})"
      ]
     },
     "execution_count": 84,
     "metadata": {},
     "output_type": "execute_result"
    }
   ],
   "source": [
    "from collections import Counter\n",
    "def counter(d1, d2):\n",
    "    return Counter(d1) + Counter(d2)\n",
    "\n",
    "d1 = {'a': 100, 'b': 200, 'c':300}\n",
    "d2 = {'a': 300, 'b': 200, 'd':400}\n",
    "counter(d2, d1)#Counter({'a': 400, 'b': 400, 'd': 400, 'c': 300})"
   ]
  },
  {
   "cell_type": "code",
   "execution_count": null,
   "id": "86458506",
   "metadata": {},
   "outputs": [],
   "source": []
  },
  {
   "cell_type": "code",
   "execution_count": 3,
   "id": "09d574dc",
   "metadata": {},
   "outputs": [],
   "source": [
    "car = {\n",
    "  \"brand\": \"Ford\",\n",
    "  \"model\": \"Mustang\",\n",
    "  \"year\": 1964\n",
    "}"
   ]
  },
  {
   "cell_type": "code",
   "execution_count": 2,
   "id": "b4ac83bf",
   "metadata": {},
   "outputs": [],
   "source": [
    "x = {\n",
    "  \"V\":\"S001\",\n",
    "  \"V\": \"S002\",\n",
    "  \"VI\": \"S001\",\n",
    "  \"VI\": \"S005\",\n",
    "  \"VII\":\"S005\",\n",
    "  \"V\":\"S009\",\n",
    "  \"VIII\":\"S007\"\n",
    "}"
   ]
  },
  {
   "cell_type": "code",
   "execution_count": 24,
   "id": "365b7b3d",
   "metadata": {},
   "outputs": [
    {
     "name": "stdout",
     "output_type": "stream",
     "text": [
      "[2, 4, 5, 6]\n"
     ]
    }
   ],
   "source": [
    "z = [2,2,2,4,4,4,5,5,5,5,6,6,6,6,6,6,6,6]\n",
    "x = list(set(z))\n",
    "print(x)"
   ]
  },
  {
   "cell_type": "code",
   "execution_count": 55,
   "id": "a08f90ff",
   "metadata": {},
   "outputs": [
    {
     "data": {
      "text/plain": [
       "('S001', 'S005', 'S002', 'S009', 'S007')"
      ]
     },
     "execution_count": 55,
     "metadata": {},
     "output_type": "execute_result"
    }
   ],
   "source": [
    "def uniq(n):\n",
    "    return tuple(set(j for i in n for j in i.values()))\n",
    "\n",
    "uniq([{\"V\":\"S001\"}, {\"V\": \"S002\"}, {\"VI\": \"S001\"},\n",
    "      {\"VI\": \"S005\"}, {\"VII\":\"S005\"}, {\"V\":\"S009\"},{\"VIII\":\"S007\"}])"
   ]
  },
  {
   "cell_type": "code",
   "execution_count": 60,
   "id": "1976476c",
   "metadata": {},
   "outputs": [
    {
     "data": {
      "text/plain": [
       "{'S001', 'S002', 'S005', 'S007', 'S009'}"
      ]
     },
     "execution_count": 60,
     "metadata": {},
     "output_type": "execute_result"
    }
   ],
   "source": [
    "def uniq(n):\n",
    "    n1 = [j for i in n for j in i.values()]\n",
    "    \"\"\"\n",
    "    n1 = []\n",
    "    for i in n:\n",
    "        for j in i.values():\n",
    "            n1.append(j)\n",
    "    \"\"\"\n",
    "    return set(n1)\n",
    "\n",
    "uniq([{\"V\":\"S001\"}, {\"V\": \"S002\"}, {\"VI\": \"S001\"},\n",
    "      {\"VI\": \"S005\"}, {\"VII\":\"S005\"}, {\"V\":\"S009\"},{\"VIII\":\"S007\"}])"
   ]
  },
  {
   "cell_type": "code",
   "execution_count": 64,
   "id": "bf68dbc8",
   "metadata": {},
   "outputs": [
    {
     "name": "stdout",
     "output_type": "stream",
     "text": [
      "ac\n",
      "ad\n",
      "bc\n",
      "bd\n"
     ]
    }
   ],
   "source": [
    "def combinations(n):\n",
    "    n1 = n.copy()\n",
    "    n2 = []\n",
    "    for i in n:\n",
    "        del n1[i]\n",
    "        for j in n1:\n",
    "            for k in range(len(n[i])):\n",
    "                for q in range(len(n1[j])):\n",
    "                    n2.append(n[i][k] + n1[j][q])\n",
    "    for a in n2:\n",
    "        print(a)\n",
    "    \n",
    "    \n",
    "combinations({'1':['a','b'], '2':['c','d']})"
   ]
  },
  {
   "cell_type": "code",
   "execution_count": 156,
   "id": "4d266e67",
   "metadata": {},
   "outputs": [
    {
     "data": {
      "text/plain": [
       "{'item1': 1150, 'item2': 300}"
      ]
     },
     "execution_count": 156,
     "metadata": {},
     "output_type": "execute_result"
    }
   ],
   "source": [
    "def counter(n):\n",
    "    z = [j for i in n for j in i.values()]\n",
    "    z1, d = [(z[a-1],z[a]) for a in range(1, len(z), 2)], {}\n",
    "    for k in z1:d.update({k[0]:k[1] + d.get(k[0], 0)}) \n",
    "    return d\n",
    "    \n",
    "\n",
    "\n",
    "x = [{'item': 'item1', 'amount': 400},\n",
    "    {'item': 'item2', 'amount': 300}, {'item': 'item1', 'amount': 750}]\n",
    "counter(x) #{'item1': 1150, 'item2': 300}"
   ]
  },
  {
   "cell_type": "code",
   "execution_count": 99,
   "id": "2e3a60ec",
   "metadata": {},
   "outputs": [
    {
     "data": {
      "text/plain": [
       "{'item1': 1150, 'item2': 300}"
      ]
     },
     "execution_count": 99,
     "metadata": {},
     "output_type": "execute_result"
    }
   ],
   "source": [
    "def counter(n):\n",
    "    z = []\n",
    "    for i in n:\n",
    "        for j in i.values():\n",
    "            z.append(j)\n",
    "    z1 = []\n",
    "    d = {}\n",
    "    for a in range(1, len(z), 2):\n",
    "        z1.append((z[a-1],z[a]))\n",
    "    for k in z1:\n",
    "        d[k[0]] = k[1] + d.get(k[0], 0)\n",
    "    return d\n",
    "\n",
    "x = [{'item': 'item1', 'amount': 400},\n",
    "    {'item': 'item2', 'amount': 300}, {'item': 'item1', 'amount': 750}]\n",
    "counter(x) #{'item1': 1150, 'item2': 300}"
   ]
  },
  {
   "cell_type": "code",
   "execution_count": 112,
   "id": "ffd103ba",
   "metadata": {},
   "outputs": [
    {
     "data": {
      "text/plain": [
       "[2, 3]"
      ]
     },
     "execution_count": 112,
     "metadata": {},
     "output_type": "execute_result"
    }
   ],
   "source": [
    "def common(lst):\n",
    "    return list(set(lst[0]).intersection(lst)) \n",
    "\n",
    "common_list_of_lists([[7,2,3,4,7],[9,2,3,2,5],[8,2,3,4,4]])"
   ]
  },
  {
   "cell_type": "code",
   "execution_count": 130,
   "id": "df3fc221",
   "metadata": {},
   "outputs": [
    {
     "name": "stdout",
     "output_type": "stream",
     "text": [
      "{1, 3, 4, 5, 6}\n"
     ]
    }
   ],
   "source": [
    "x = {1,3,4,5,5,6}\n",
    "print(x)"
   ]
  },
  {
   "cell_type": "code",
   "execution_count": 134,
   "id": "0a28afca",
   "metadata": {},
   "outputs": [
    {
     "data": {
      "text/plain": [
       "4"
      ]
     },
     "execution_count": 134,
     "metadata": {},
     "output_type": "execute_result"
    }
   ],
   "source": [
    "def check(n, n1):\n",
    "    return n[n1-1]\n",
    "\n",
    "x = [1,3,4,5,5,6]\n",
    "check(x, 3)"
   ]
  },
  {
   "cell_type": "code",
   "execution_count": 170,
   "id": "ca92d832",
   "metadata": {},
   "outputs": [
    {
     "data": {
      "text/plain": [
       "{'item1': 1150, 'item2': 300}"
      ]
     },
     "execution_count": 170,
     "metadata": {},
     "output_type": "execute_result"
    }
   ],
   "source": [
    "def remove_space(n):\n",
    "    n1, z = {},[]\n",
    "    for i in n:\n",
    "        strr = \"\"\n",
    "        for j in i:\n",
    "            if j != \" \": strr += j\n",
    "        n1[strr] = n[i]\n",
    "    return n1\n",
    "    \n",
    "        \n",
    "\n",
    "remove_space({'ite  m1': 1150, 'ite  m2': 300})"
   ]
  },
  {
   "cell_type": "code",
   "execution_count": 179,
   "id": "2c96f7e3",
   "metadata": {},
   "outputs": [
    {
     "data": {
      "text/plain": [
       "('The max', 1150, 'The min', 300)"
      ]
     },
     "execution_count": 179,
     "metadata": {},
     "output_type": "execute_result"
    }
   ],
   "source": [
    "def the_max_min(n):\n",
    "    m, mi = list(n.values())[0], list(n.values())[0]\n",
    "    for i in n.values():\n",
    "        if i > m: m = i\n",
    "        if i < mi:mi = i\n",
    "    return \"The max\", m,\"The min\", mi\n",
    "     \n",
    "            \n",
    "    \n",
    "dic = {'ite  m1': 1150, 'ite  m2': 300}\n",
    "the_max_min(dic)"
   ]
  },
  {
   "cell_type": "code",
   "execution_count": 193,
   "id": "7ab408c1",
   "metadata": {},
   "outputs": [
    {
     "name": "stdout",
     "output_type": "stream",
     "text": [
      "key1: 1 is present in both x and y\n"
     ]
    }
   ],
   "source": [
    "def find(dic1, dic2):\n",
    "    z = [i for i in dic1 if i in dic2]\n",
    "    z1 = [[b, dic1[b]] for b in z if dic1[b] == dic2[b]]\n",
    "    for j in range(len(z1)):\n",
    "        print(str(z1[j][0]) + \": \" + str(z1[j][1]) + \" is present in both x and y\")\n",
    "\n",
    "    \n",
    "    \n",
    "x, y = {'key1': 1, 'key2': 3, 'key3': 2}, {'key1': 1, 'key2': 2}\n",
    "find(x, y) #key1: 1 is present in both x and y"
   ]
  },
  {
   "cell_type": "code",
   "execution_count": 196,
   "id": "b0b07399",
   "metadata": {},
   "outputs": [
    {
     "name": "stdout",
     "output_type": "stream",
     "text": [
      "key1: 1 is present in both x and y\n"
     ]
    }
   ],
   "source": [
    "x = {'key1': 1, 'key2': 3, 'key3': 2}\n",
    "y = {'key1': 1, 'key2': 2}\n",
    "for (key, value) in set(x.items()) & set(y.items()):\n",
    "    print('%s: %s is present in both x and y' % (key, value))"
   ]
  },
  {
   "cell_type": "code",
   "execution_count": 200,
   "id": "ec5c50e6",
   "metadata": {},
   "outputs": [
    {
     "name": "stdout",
     "output_type": "stream",
     "text": [
      "key1: 1 is present in both x and y\n"
     ]
    }
   ],
   "source": [
    "\"\"\"Task #14 other solve\"\"\"\n",
    "def find(x, y):\n",
    "    for (key, value) in set(x.items()) & set(y.items()):\n",
    "        print('%s: %s is present in both x and y' % (key, value))\n",
    "\n",
    "x = {'key1': 1, 'key2': 3, 'key3': 2}\n",
    "y = {'key1': 1, 'key2': 2}\n",
    "find(x, y)"
   ]
  },
  {
   "cell_type": "code",
   "execution_count": 208,
   "id": "a0f1a6e1",
   "metadata": {},
   "outputs": [
    {
     "name": "stdout",
     "output_type": "stream",
     "text": [
      "{'V': [4, 6, 10], 'VI': [4, 12], 'VII': [8]}\n",
      "{'V': [], 'VI': [], 'VII': [2]}\n"
     ]
    }
   ],
   "source": [
    "def filter_even(dic1):\n",
    "    dic2 = {}\n",
    "    for i in dic1:dic2.update({i:[j for j in dic1[i] if j % 2 == 0]})\n",
    "    \"\"\"\n",
    "    dic2= {}\n",
    "    for i in dic1:\n",
    "        z = []\n",
    "        for j in dic1[i]:\n",
    "            if j % 2 == 0:\n",
    "                z.append(j)\n",
    "        dic2[i] = z\n",
    "    return dic2\n",
    "    \"\"\"\n",
    "    return dic2\n",
    "    \n",
    "    \n",
    "print(filter_even({'V': [1, 4, 6, 10], 'VI': [1, 4, 12], 'VII': [1, 3, 8]}))\n",
    "#{'V': [4, 6, 10], 'VI': [4, 12], 'VII': [8]}\n",
    "print(filter_even({'V': [1, 3, 5], 'VI': [1, 5], 'VII': [2, 7, 9]}))\n",
    "#{'V': [], 'VI': [], 'VII': [2]}"
   ]
  },
  {
   "cell_type": "code",
   "execution_count": 206,
   "id": "631a61a3",
   "metadata": {},
   "outputs": [
    {
     "name": "stdout",
     "output_type": "stream",
     "text": [
      "{'V': [4, 6, 10], 'VI': [4, 12], 'VII': [8]}\n",
      "{'V': [], 'VI': [], 'VII': [2]}\n"
     ]
    }
   ],
   "source": [
    "def filter_even(dic1):\n",
    "    dic2= {}\n",
    "    for i in dic1:\n",
    "        z = []\n",
    "        for j in dic1[i]:\n",
    "            if j % 2 == 0:\n",
    "                z.append(j)\n",
    "        dic2[i] = z\n",
    "    return dic2\n",
    "\n",
    "print(filter_even({'V': [1, 4, 6, 10], 'VI': [1, 4, 12], 'VII': [1, 3, 8]}))\n",
    "#{'V': [4, 6, 10], 'VI': [4, 12], 'VII': [8]}\n",
    "print(filter_even({'V': [1, 3, 5], 'VI': [1, 5], 'VII': [2, 7, 9]}))\n",
    "\n",
    "#{'V': [], 'VI': [], 'VII': [2]}"
   ]
  },
  {
   "cell_type": "code",
   "execution_count": 213,
   "id": "406bc099",
   "metadata": {},
   "outputs": [
    {
     "data": {
      "text/plain": [
       "12.0"
      ]
     },
     "execution_count": 213,
     "metadata": {},
     "output_type": "execute_result"
    }
   ],
   "source": [
    "x = \"12 / 1\"\n",
    "eval(x)"
   ]
  },
  {
   "cell_type": "code",
   "execution_count": 215,
   "id": "32f84abd",
   "metadata": {},
   "outputs": [],
   "source": [
    "n =\"\"\"\n",
    "        1-kiwi\n",
    "        2-pear\n",
    "        3-kiwi\n",
    "        4-banana\n",
    "        5-melon\n",
    "        6-banana\n",
    "        7-melon\n",
    "        8-pineapple\n",
    "        9-apple\n",
    "        10-pineapple\n",
    "        11-cucumber\n",
    "        12-pineapple\n",
    "        13-cucumber\n",
    "        14-orange\n",
    "        15-grape\n",
    "        16-orange\n",
    "        17-grape\n",
    "        18-apple\n",
    "        19-grape\n",
    "        20-cherry\n",
    "        21-pear\n",
    "        22-cherry\n",
    "        23-pear\n",
    "        24-kiwi\n",
    "        25-banana\n",
    "        26-kiwi\n",
    "        27-apple\n",
    "        28-melon\n",
    "        29-banana\n",
    "        30-melon\n",
    "        31-pineapple\n",
    "        32-melon\n",
    "        33-pineapple\n",
    "        34-cucumber\n",
    "        35-orange\n",
    "        36-apple\n",
    "        37-orange\n",
    "        38-grape\n",
    "        39-orange\n",
    "        40-grape\n",
    "        41-cherry\n",
    "        42-pear\n",
    "        43-cherry\n",
    "        44-pear\n",
    "        45-apple\n",
    "        46-pear\n",
    "        47-kiwi\n",
    "        48-banana\n",
    "        49-kiwi\n",
    "        50-banana\n",
    "        51-melon\n",
    "        52-pineapple\n",
    "        53-melon\n",
    "        54-apple\n",
    "        55-cucumber\n",
    "        56-pineapple\n",
    "        57-cucumber\n",
    "        58-orange\n",
    "        59-cucumber\n",
    "        60-orange\n",
    "        61-grape\n",
    "        62-cherry\n",
    "        63-apple\n",
    "        64-cherry\n",
    "        65-pear\n",
    "        66-cherry\n",
    "        67-pear\n",
    "        68-kiwi\n",
    "        69-pear\n",
    "        70-kiwi\n",
    "        71-banana\n",
    "        72-apple\n",
    "        73-banana\n",
    "        74-melon\n",
    "        75-pineapple\n",
    "        76-melon\n",
    "        77-pineapple\n",
    "        78-cucumber\n",
    "        79-pineapple\n",
    "        80-cucumber\n",
    "        81-apple\n",
    "        82-grape\n",
    "        83-orange\n",
    "        84-grape\n",
    "        85-cherry\n",
    "        86-grape\n",
    "        87-cherry\n",
    "        88-pear\n",
    "        89-cherry\n",
    "        90-apple\n",
    "        91-kiwi\n",
    "        92-banana\n",
    "        93-kiwi\n",
    "        94-banana\n",
    "        95-melon\n",
    "        96-banana\n",
    "        97-melon\n",
    "        98-pineapple\n",
    "        99-apple\n",
    "        100-pineapple\n",
    "        \"\"\""
   ]
  },
  {
   "cell_type": "code",
   "execution_count": 221,
   "id": "53bdb65d",
   "metadata": {},
   "outputs": [
    {
     "name": "stdout",
     "output_type": "stream",
     "text": [
      "9\n",
      "1760\n",
      "1\n"
     ]
    }
   ],
   "source": [
    "print(n.index(\"1\"))\n",
    "print(n.index(\"100\"))\n",
    "print(n[1760])"
   ]
  },
  {
   "cell_type": "code",
   "execution_count": 222,
   "id": "77f467f8",
   "metadata": {},
   "outputs": [
    {
     "data": {
      "text/plain": [
       "81"
      ]
     },
     "execution_count": 222,
     "metadata": {},
     "output_type": "execute_result"
    }
   ],
   "source": [
    "98-(9+8)"
   ]
  },
  {
   "cell_type": "code",
   "execution_count": 225,
   "id": "bb55b906",
   "metadata": {},
   "outputs": [
    {
     "data": {
      "text/plain": [
       "'(123) 456-7890'"
      ]
     },
     "execution_count": 225,
     "metadata": {},
     "output_type": "execute_result"
    }
   ],
   "source": [
    "def create_phone_number(n):\n",
    "\treturn \"({}{}{}) {}{}{}-{}{}{}{}\".format(*n)\n",
    "\n",
    "create_phone_number([1, 2, 3, 4, 5, 6, 7, 8, 9, 0])"
   ]
  },
  {
   "cell_type": "code",
   "execution_count": 14,
   "id": "235f4b2b",
   "metadata": {},
   "outputs": [
    {
     "name": "stdout",
     "output_type": "stream",
     "text": [
      "[2, 3]\n",
      "3\n",
      "[2, 3, 34, 4, 4] [2, 3, 5, 567, 8, 9, 0, 87] [1, 2, 3, 4, 5, 6, 7, 1]\n"
     ]
    }
   ],
   "source": [
    "def common(lst):\n",
    "    return list(set(lst[0]).intersection(*lst))\n",
    "lst = [[2,3,34,4,4],[2,3,5,567,8,9,0,87],[1,2,3,4,5,6,7,1]]\n",
    "print(common(lst))\n",
    "print(len(lst))\n",
    "print(*lst)"
   ]
  },
  {
   "cell_type": "code",
   "execution_count": 10,
   "id": "deab602c",
   "metadata": {},
   "outputs": [
    {
     "name": "stdout",
     "output_type": "stream",
     "text": [
      "{'cherry', 'banana'}\n"
     ]
    }
   ],
   "source": [
    "thisset = {\"apple\", \"banana\", \"cherry\", \"apple\"}\n",
    "thisset.remove(\"apple\")\n",
    "thisset.discard(\"apple\")\n",
    "print(thisset)"
   ]
  },
  {
   "cell_type": "code",
   "execution_count": 16,
   "id": "8e76766b",
   "metadata": {},
   "outputs": [
    {
     "data": {
      "text/plain": [
       "20"
      ]
     },
     "execution_count": 16,
     "metadata": {},
     "output_type": "execute_result"
    }
   ],
   "source": [
    "d = {'#FF0000': 'Red', '#800000': 'Maroon', '#FFFF00': 'Yellow', '#808000': 'Olive'}\n",
    "def find_len(d):\n",
    "    return len([j for i in d.values() for j in i])\n",
    "    \"\"\"\n",
    "    z = []\n",
    "    for i in d.values():\n",
    "        for j in i:\n",
    "            z.append(j)\n",
    "    m = len(z)\n",
    "    return m\n",
    "    \"\"\"\n",
    "\n",
    "find_len(d)"
   ]
  },
  {
   "cell_type": "code",
   "execution_count": 18,
   "id": "d67c0c6b",
   "metadata": {},
   "outputs": [
    {
     "name": "stdout",
     "output_type": "stream",
     "text": [
      "hi\n"
     ]
    }
   ],
   "source": [
    "x = False\n",
    "print(\"hallo\") if x else print(\"hi\")"
   ]
  },
  {
   "cell_type": "code",
   "execution_count": 19,
   "id": "ce44fb43",
   "metadata": {},
   "outputs": [
    {
     "data": {
      "text/plain": [
       "['Theodore', 'Roxanne', 'Mathew', 'Betty']"
      ]
     },
     "execution_count": 19,
     "metadata": {},
     "output_type": "execute_result"
    }
   ],
   "source": [
    "def find(d):\n",
    "    return [i for i in d]\n",
    "    '''\n",
    "    j = []\n",
    "    for i in d:\n",
    "        j.append(i)\n",
    "    return j\n",
    "    '''\n",
    "\n",
    "find({'Theodore': 19, 'Roxanne': 20, 'Mathew': 21, 'Betty': 20})"
   ]
  },
  {
   "cell_type": "code",
   "execution_count": 20,
   "id": "b2bc278c",
   "metadata": {},
   "outputs": [
    {
     "data": {
      "text/plain": [
       "[19, 20, 21, 20]"
      ]
     },
     "execution_count": 20,
     "metadata": {},
     "output_type": "execute_result"
    }
   ],
   "source": [
    "def find(d):\n",
    "    return [i for i in d.values()]\n",
    "    \"\"\"\n",
    "    z = []\n",
    "    for i in d.values():\n",
    "        z.append(i)\n",
    "    return z\n",
    "    \"\"\"\n",
    "find({'Theodore': 19, 'Roxanne': 20, 'Mathew': 21, 'Betty': 20})"
   ]
  },
  {
   "cell_type": "code",
   "execution_count": 24,
   "id": "7e13d0d1",
   "metadata": {},
   "outputs": [
    {
     "data": {
      "text/plain": [
       "['Theodore', 'Roxanne']"
      ]
     },
     "execution_count": 24,
     "metadata": {},
     "output_type": "execute_result"
    }
   ],
   "source": [
    "def find(n):\n",
    "    minn, maxx = min([i for i in n.values()]), max([i for i in n.values()])\n",
    "    return tuple([j for j in n if n[j] == minn or n[j] == maxx])\n",
    "    \"\"\"\n",
    "    minn = 1000\n",
    "    maxx = 0\n",
    "    lst = ()\n",
    "    for i in n.values():\n",
    "        if i > maxx:\n",
    "            maxx = i\n",
    "        if minn > i:\n",
    "            minn = i\n",
    "    for j in n:\n",
    "        if n[j] == minn or n[j] == maxx:\n",
    "            lst.append(j)\n",
    "    return lst\n",
    "    \"\"\"\n",
    "\n",
    "find({'Theodore': 19, 'Roxanne': 22, 'Mathew': 21, 'Betty': 20})"
   ]
  },
  {
   "cell_type": "code",
   "execution_count": 28,
   "id": "e6fce168",
   "metadata": {},
   "outputs": [
    {
     "data": {
      "text/plain": [
       "('Theodore', 'Roxanne')"
      ]
     },
     "execution_count": 28,
     "metadata": {},
     "output_type": "execute_result"
    }
   ],
   "source": [
    "def find(n):\n",
    "    minn = 1000\n",
    "    maxx = 0\n",
    "    lst = []\n",
    "    for i in n.values():\n",
    "        if i > maxx:\n",
    "            maxx = i\n",
    "        if minn > i:\n",
    "            minn = i\n",
    "    for j in n:\n",
    "        if n[j] == minn or n[j] == maxx:\n",
    "            lst.append(j)\n",
    "    return tuple(lst)\n",
    "\n",
    "find({'Theodore': 19, 'Roxanne': 22, 'Mathew': 21, 'Betty': 20}) "
   ]
  },
  {
   "cell_type": "code",
   "execution_count": 30,
   "id": "3bfc7245",
   "metadata": {},
   "outputs": [
    {
     "data": {
      "text/plain": [
       "{'item1': 1150, 'item2': 300}"
      ]
     },
     "execution_count": 30,
     "metadata": {},
     "output_type": "execute_result"
    }
   ],
   "source": [
    "def remove_space(n):\n",
    "    n1, z = {},[]\n",
    "    for i in n:\n",
    "        strr = \"\"\n",
    "        for j in i:\n",
    "            if j != \" \": strr += j\n",
    "        n1[strr] = n[i]\n",
    "    return n1\n",
    "    \n",
    "        \n",
    "\n",
    "remove_space({'ite  m1': 1150, 'ite  m2': 300}) #{'item1': 1150, 'item2': 300}"
   ]
  },
  {
   "cell_type": "code",
   "execution_count": 31,
   "id": "eb5a380a",
   "metadata": {},
   "outputs": [
    {
     "name": "stdout",
     "output_type": "stream",
     "text": [
      "---------------\n",
      "ac\n",
      "ad\n",
      "bc\n",
      "bd\n"
     ]
    }
   ],
   "source": [
    "print(\"-\" * 15)\n",
    "\n",
    "import itertools      \n",
    "d ={'1':['a','b'], '2':['c','d']}\n",
    "for combo in itertools.product(*[d[k] for k in sorted(d.keys())]):\n",
    "    print(''.join(combo))\n"
   ]
  },
  {
   "cell_type": "code",
   "execution_count": 33,
   "id": "7324d135",
   "metadata": {},
   "outputs": [
    {
     "data": {
      "text/plain": [
       "('S002', 'S005', 'S007', 'S001', 'S009')"
      ]
     },
     "execution_count": 33,
     "metadata": {},
     "output_type": "execute_result"
    }
   ],
   "source": [
    "def uniq(n):\n",
    "    return tuple(set(j for i in n for j in i.values()))\n",
    "\n",
    "uniq([{\"V\":\"S001\"}, {\"V\": \"S002\"}, {\"VI\": \"S001\"},\n",
    "      {\"VI\": \"S005\"}, {\"VII\":\"S005\"}, {\"V\":\"S009\"},{\"VIII\":\"S007\"}])\n",
    "#('S002', 'S005', 'S007', 'S001', 'S009')"
   ]
  },
  {
   "cell_type": "code",
   "execution_count": 35,
   "id": "112f899a",
   "metadata": {},
   "outputs": [
    {
     "data": {
      "text/plain": [
       "('The maximum ', 1150, 'The minimum ', 300)"
      ]
     },
     "execution_count": 35,
     "metadata": {},
     "output_type": "execute_result"
    }
   ],
   "source": [
    "def the_max_min(n):\n",
    "    m, mi = list(n.values())[0], list(n.values())[0]\n",
    "    \"\"\"\n",
    "    m = list(n.values())[0]\n",
    "    mi = list(n.values())[0]\n",
    "    \"\"\"\n",
    "    for i in n.values():\n",
    "        if i > m: m = i\n",
    "        if i < mi:mi = i\n",
    "        \"\"\"\n",
    "        if i > m:\n",
    "            m = i\n",
    "        if i < mi:\n",
    "            mi = i\n",
    "        \"\"\"\n",
    "    return \"The maximum \", m,\"The minimum \", mi\n",
    "     \n",
    "            \n",
    "    \n",
    "dic = {'ite  m1': 1150, 'ite  m2': 300}\n",
    "the_max_min(dic)#('The maximum ', 1150, 'The minimum ', 300)"
   ]
  },
  {
   "cell_type": "code",
   "execution_count": 36,
   "id": "ff842432",
   "metadata": {},
   "outputs": [
    {
     "data": {
      "text/plain": [
       "{1: 1, 2: 4, 3: 9, 4: 16, 5: 25}"
      ]
     },
     "execution_count": 36,
     "metadata": {},
     "output_type": "execute_result"
    }
   ],
   "source": [
    "def generate(n):\n",
    "    j = {}\n",
    "    for i in range(1, n+1):j.update({i:i*i})\n",
    "    return j\n",
    "\n",
    "generate(5)"
   ]
  },
  {
   "cell_type": "code",
   "execution_count": 37,
   "id": "cc05aeaf",
   "metadata": {},
   "outputs": [
    {
     "data": {
      "text/plain": [
       "[('brand', 'Ford'), ('model', 'Mustang'), ('year', 1964)]"
      ]
     },
     "execution_count": 37,
     "metadata": {},
     "output_type": "execute_result"
    }
   ],
   "source": [
    "def iterate(n):\n",
    "    return [i for i in n.items()]\n",
    "\n",
    "car = {\"brand\": \"Ford\",\"model\": \"Mustang\",\"year\": 1964}\n",
    "iterate(car)#[('brand', 'Ford'), ('model', 'Mustang'), ('year', 1964)]"
   ]
  },
  {
   "cell_type": "code",
   "execution_count": 38,
   "id": "c6a04324",
   "metadata": {},
   "outputs": [
    {
     "data": {
      "text/plain": [
       "[('Red', 1), ('Green', 3), ('White', 5), ('Black', 2), ('Pink', 4)]"
      ]
     },
     "execution_count": 38,
     "metadata": {},
     "output_type": "execute_result"
    }
   ],
   "source": [
    "def find(d):\n",
    "    return [i for i in d.items()]\n",
    "    \"\"\"\n",
    "    z = []\n",
    "    for i in d.items():\n",
    "        z.append(i)\n",
    "    return z\n",
    "    \"\"\"\n",
    "find({'Red': 1, 'Green': 3, 'White': 5, 'Black': 2, 'Pink': 4})\n",
    "#[('Red', 1), ('Green', 3), ('White', 5), ('Black', 2), ('Pink', 4)]"
   ]
  },
  {
   "cell_type": "code",
   "execution_count": 63,
   "id": "615e7099",
   "metadata": {},
   "outputs": [
    {
     "data": {
      "text/plain": [
       "{'a': 1, 'b': 2, 'c': 3, 'd': 4, 'e': 5}"
      ]
     },
     "execution_count": 63,
     "metadata": {},
     "output_type": "execute_result"
    }
   ],
   "source": [
    "def find(n1, n2):\n",
    "    return dict(zip(n1,n2))\n",
    "    \"\"\"\n",
    "    d, c = {}, 0\n",
    "    for i in n1:\n",
    "        d.update({i:n2[c]})\n",
    "        c += 1\n",
    "        if len(n2) == c: break\n",
    "    return d \n",
    "    \"\"\"\n",
    "    \n",
    "\n",
    "find(['a', 'b', 'c', 'd', 'e', 'f'], [1, 2, 3, 4, 5])"
   ]
  },
  {
   "cell_type": "code",
   "execution_count": 62,
   "id": "1eadf772",
   "metadata": {},
   "outputs": [
    {
     "name": "stdout",
     "output_type": "stream",
     "text": [
      "{'hi': 2}\n"
     ]
    }
   ],
   "source": [
    "x = {\"hi\": 2}\n",
    "print(x)"
   ]
  },
  {
   "cell_type": "code",
   "execution_count": 67,
   "id": "9013e2a5",
   "metadata": {},
   "outputs": [
    {
     "name": "stdout",
     "output_type": "stream",
     "text": [
      "['aap', 'ole', 'en', 'fr', 'rex', 'cop']\n",
      "['aap', 'cop', 'en', 'fr', 'ole', 'rex']\n",
      "olerex\n"
     ]
    }
   ],
   "source": [
    "thedict = {\"aap\": 4, \"ole\": 6, \"en\":13, \"fr\": 77}\n",
    "thedict[\"rex\"] = thedict[\"aap\"] + thedict[\"fr\"]\n",
    "thedict[\"cop\"] = thedict[\"ole\"] + thedict[\"en\"]\n",
    "\n",
    "ahalist = list(thedict.keys())\n",
    "print(ahalist)\n",
    "ahalist.sort()\n",
    "print(ahalist)\n",
    "print(ahalist[-2]+ahalist[-1])"
   ]
  },
  {
   "cell_type": "code",
   "execution_count": 3,
   "id": "6b7fb23b",
   "metadata": {},
   "outputs": [
    {
     "name": "stdout",
     "output_type": "stream",
     "text": [
      "0\n",
      "False\n",
      "False\n"
     ]
    }
   ],
   "source": [
    "total = 0\n",
    "thedict = {\"ap\": 2, \"do\": 6, \"ty\":3, \"fruit\": 17}\n",
    "for akey in thedict:\n",
    "    if len(akey) > 5:\n",
    "        total = total + thedict[akey]\n",
    "        \n",
    "print(total); print(\"rex\" in thedict); print(22 in thedict)"
   ]
  },
  {
   "cell_type": "code",
   "execution_count": 7,
   "id": "1000291f",
   "metadata": {},
   "outputs": [
    {
     "name": "stdout",
     "output_type": "stream",
     "text": [
      "76\n",
      "False\n",
      "False\n"
     ]
    }
   ],
   "source": [
    "total = 0\n",
    "thedict = {\"apolo\": 22, \"orlando\": 36, \"qwerty\":23, \"notafruit\": 17}\n",
    "for akey in thedict:\n",
    "    if len(akey) > 5:total = total + thedict[akey]\n",
    "print(total)\n",
    "print(\"charlie\" in thedict)\n",
    "print(23 in thedict)"
   ]
  },
  {
   "cell_type": "code",
   "execution_count": 8,
   "id": "a6b7cc6a",
   "metadata": {},
   "outputs": [
    {
     "name": "stdout",
     "output_type": "stream",
     "text": [
      "46\n",
      "True\n",
      "False\n"
     ]
    }
   ],
   "source": [
    "total = 0\n",
    "mydict = {\"apple\":13, \"orange\":16, \"plum\":23, \"grapefruit\": 17}\n",
    "for akey in mydict:\n",
    "\tif len(akey) > 4:\n",
    "\t\ttotal = total + mydict[akey]\n",
    "print(total) #46\n",
    "print(\"orange\" in mydict)\n",
    "print(23 in mydict)\n"
   ]
  },
  {
   "cell_type": "code",
   "execution_count": 15,
   "id": "3117e6e4",
   "metadata": {},
   "outputs": [
    {
     "name": "stdout",
     "output_type": "stream",
     "text": [
      "92\n",
      "key qw maps to 4\n",
      "key en maps to 13\n",
      "key fro maps to 77\n",
      "key klo maps to 2\n",
      "key rex maps to 92\n",
      "key str maps to 154\n",
      "['qw', 'en', 'fro', 'klo', 'rex', 'str']\n",
      "rexstr\n"
     ]
    }
   ],
   "source": [
    "tvoc = {\"qw\": 4, \"en\":13, \"fro\": 77, \"klo\": 2}\n",
    "tvoc [\"rex\"] = tvoc[\"klo\"] + tvoc[\"fro\"]+ tvoc[\"en\"]\n",
    "tvoc[\"str\"] = tvoc[\"fro\"] + tvoc[\"fro\"]\n",
    "print(tvoc[\"rex\"])\n",
    "for akey in tvoc.keys():\n",
    "    print(\"key\", akey, \"maps to\", tvoc [akey])\n",
    "\n",
    "ahalist = list(tvoc .keys())\n",
    "print(ahalist)\n",
    "ahalist.sort()\n",
    "print(ahalist[-2]+ahalist[-1])\n"
   ]
  },
  {
   "cell_type": "code",
   "execution_count": null,
   "id": "0fe2ff3a",
   "metadata": {},
   "outputs": [],
   "source": [
    "returns a dictionary in which all values are\n",
    "replaced by their rightmost digit (for example 29 is replaced by 9)."
   ]
  },
  {
   "cell_type": "code",
   "execution_count": 22,
   "id": "086dadab",
   "metadata": {},
   "outputs": [
    {
     "data": {
      "text/plain": [
       "{'qw': 5, 'en': 4, 'fro': 4, 'klo': 3}"
      ]
     },
     "execution_count": 22,
     "metadata": {},
     "output_type": "execute_result"
    }
   ],
   "source": [
    "def mostright(d):\n",
    "    for i in d:d.update({i:int(str(d[i])[-1])})\n",
    "    \"\"\"\n",
    "    for i in d:\n",
    "        d[i] = int(str(d[i])[-1])\n",
    "    return d\n",
    "    \"\"\"\n",
    "    return d\n",
    "\n",
    "mostright({\"qw\": 45, \"en\":1334, \"fro\": 774, \"klo\": 223})#{'qw': 5, 'en': 4, 'fro': 4, 'klo': 3}"
   ]
  },
  {
   "cell_type": "code",
   "execution_count": 25,
   "id": "93570a3f",
   "metadata": {},
   "outputs": [
    {
     "name": "stdout",
     "output_type": "stream",
     "text": [
      "-864\n",
      "27648\n"
     ]
    }
   ],
   "source": [
    "def mult(t):\n",
    "    mult = 1\n",
    "    for i in t:\n",
    "        mult *= i\n",
    "    return mult\n",
    "\n",
    "print(mult((4, 3, 2, 2, -1, 18))) #-864\n",
    "print(mult((2, 4, 8, 8, 3, 2, 9))) #27648"
   ]
  },
  {
   "cell_type": "code",
   "execution_count": 33,
   "id": "49a339c8",
   "metadata": {},
   "outputs": [
    {
     "name": "stdout",
     "output_type": "stream",
     "text": [
      "[10.5, 44.0, 58.0, 2.5]\n"
     ]
    }
   ],
   "source": [
    "def average(t):\n",
    "    return [(sum(j)/len(j)) for j in t]\n",
    "    \n",
    "    \n",
    "print(average_tuple(((10, 10, 10, 12), (30, 45, 56, 45), (81, 80, 39, 32), (1, 2, 3, 4))))\n",
    "#[30.5, 34.25, 27.0, 23.25]"
   ]
  },
  {
   "cell_type": "code",
   "execution_count": 46,
   "id": "66d993b6",
   "metadata": {},
   "outputs": [
    {
     "name": "stdout",
     "output_type": "stream",
     "text": [
      "[30.5, 34.25, 27.0, 23.25]\n",
      "[25.5, -18.0, 3.75]\n"
     ]
    }
   ],
   "source": [
    "def average_tuple(nums):\n",
    "    return [sum(i)/len(i) for i in zip(*nums)]\n",
    "    \"\"\"\n",
    "    z = []\n",
    "    for i in zip(*nums): #* this will split the big tuple into tuples\n",
    "        average = sum(i)/len(i)\n",
    "        z.append(average)\n",
    "    return z\n",
    "    \n",
    "    zip will take the first int from all tuples and put those in a new tuple:\n",
    "    (10, 30, 81, 1)\n",
    "    (10, 45, 80, 2)\n",
    "    (10, 56, 39, 3)\n",
    "    (12, 45, 32, 4)\n",
    "    \"\"\"\n",
    "    \n",
    "print(average_tuple(((10, 10, 10, 12), (30, 45, 56, 45), (81, 80, 39, 32), (1, 2, 3, 4))))\n",
    "#[30.5, 34.25, 27.0, 23.25]    \n",
    "print(average_tuple(((1, 1, -5), (30, -15, 56), (81, -60, -39), (-10, 2, 3))))\n",
    "#[25.5, -18.0, 3.75]"
   ]
  },
  {
   "cell_type": "code",
   "execution_count": 42,
   "id": "845da31e",
   "metadata": {},
   "outputs": [
    {
     "name": "stdout",
     "output_type": "stream",
     "text": [
      "(10, 30, 81, 1)\n",
      "(10, 45, 80, 2)\n",
      "(10, 56, 39, 3)\n",
      "(12, 45, 32, 4)\n",
      "None\n"
     ]
    }
   ],
   "source": [
    "def average_tuple(nums):\n",
    "    for i in zip(*nums):\n",
    "        print(i)\n",
    "print(average_tuple(((10, 10, 10, 12), (30, 45, 56, 45), (81, 80, 39, 32), (1, 2, 3, 4))))\n",
    "#[30.5, 34.25, 27.0, 23.25]"
   ]
  },
  {
   "cell_type": "code",
   "execution_count": 49,
   "id": "f6d88242",
   "metadata": {},
   "outputs": [
    {
     "data": {
      "text/plain": [
       "[(333, 33), (1416, 55)]"
      ]
     },
     "execution_count": 49,
     "metadata": {},
     "output_type": "execute_result"
    }
   ],
   "source": [
    "def int_tuple(n):\n",
    "    return tuple([(int(i[0]),int(i[1])) for i in n])\n",
    "    \"\"\"\n",
    "    lst = []\n",
    "    for i in n:\n",
    "        tup = (int(i[0]), int(i[1]))\n",
    "        lst.append(tup)\n",
    "    return lst\n",
    "    \"\"\"\n",
    "    \n",
    "int_tuple((('333', '33'), ('1416', '55'))) #((333, 33), (1416, 55))"
   ]
  },
  {
   "cell_type": "code",
   "execution_count": 53,
   "id": "16311206",
   "metadata": {},
   "outputs": [
    {
     "name": "stdout",
     "output_type": "stream",
     "text": [
      "123\n",
      "102040570\n"
     ]
    }
   ],
   "source": [
    "def convert(n):\n",
    "    strr = ''\n",
    "    for i in n:strr += str(i)\n",
    "    \"\"\"\n",
    "    for i in n:\n",
    "        strr += str(i)\n",
    "    \"\"\"\n",
    "    return int(strr)\n",
    "\n",
    "\n",
    "print(convert((1, 2, 3))) #123\n",
    "print(convert((10, 20, 40, 5, 70))) #102040570"
   ]
  },
  {
   "cell_type": "code",
   "execution_count": 76,
   "id": "710f75ae",
   "metadata": {},
   "outputs": [
    {
     "name": "stdout",
     "output_type": "stream",
     "text": [
      "True\n",
      "False\n"
     ]
    }
   ],
   "source": [
    "def check(tup, co):\n",
    "    if co in [j for i in tup for j in i]:return True\n",
    "    return False\n",
    "    \n",
    "print(check((('Red', 'White', 'Blue'),\n",
    "             ('Green', 'Pink', 'Purple'),\n",
    "             ('Orange', 'Yellow', 'Lime')),\n",
    "            \"White\")) #True\n",
    "print(check((('Red', 'White', 'Blue'),\n",
    "             ('Green', 'Pink', 'Purple'),\n",
    "             ('Orange', 'Yellow', 'Lime')),\n",
    "            \"Olive \")) #False"
   ]
  },
  {
   "cell_type": "code",
   "execution_count": 83,
   "id": "d428c6cc",
   "metadata": {},
   "outputs": [
    {
     "name": "stdout",
     "output_type": "stream",
     "text": [
      "True\n",
      "False\n"
     ]
    }
   ],
   "source": [
    "def check(tup, item):\n",
    "    for i in tup:\n",
    "        if item in i:return True\n",
    "        \"\"\"\n",
    "        if item in i:\n",
    "            return True\n",
    "        \"\"\"\n",
    "    return False\n",
    "\n",
    "print(check((('Red', 'White', 'Blue'),\n",
    "             ('Green', 'Pink', 'Purple'),\n",
    "             ('Orange', 'Yellow', 'Lime')),\n",
    "            \"White\")) #True\n",
    "print(check((('Red', 'White', 'Blue'),\n",
    "             ('Green', 'Pink', 'Purple'),\n",
    "             ('Orange', 'Yellow', 'Lime')),\n",
    "            \"Olive \")) #False"
   ]
  },
  {
   "cell_type": "code",
   "execution_count": 85,
   "id": "fa4593d4",
   "metadata": {},
   "outputs": [
    {
     "name": "stdout",
     "output_type": "stream",
     "text": [
      "[3, 5, 7]\n",
      "[9, -1, 7, 8]\n"
     ]
    }
   ],
   "source": [
    "def sum_tuple(tup):\n",
    "    return [sum(i) for i in tup]\n",
    "    \"\"\"\n",
    "    lst = []\n",
    "    for i in tup:\n",
    "        suum = sum(i)\n",
    "        lst.append(suum)\n",
    "    return lst\n",
    "    \"\"\"\n",
    "    \n",
    "print(sum_tuple([(1, 2), (2, 3), (3, 4)]))#[3, 5, 7]\n",
    "print(sum_tuple([(1, 2, 6), (2, 3, -6), (3, 4), (2, 2, 2, 2)]))#[9, -1, 7, 8]"
   ]
  },
  {
   "cell_type": "code",
   "execution_count": 88,
   "id": "af8bea2d",
   "metadata": {},
   "outputs": [
    {
     "name": "stdout",
     "output_type": "stream",
     "text": [
      "[[1, 2], [2, 3], [3, 4]]\n",
      "[[1, 2], [2, 3, 5], [3, 4], [2, 3, 4, 2]]\n"
     ]
    }
   ],
   "source": [
    "def conver(n):\n",
    "    return [list(i) for i in n]\n",
    "    \"\"\"\n",
    "    lst = []\n",
    "    for i in n:\n",
    "        a = list(i)\n",
    "        lst.append(a)\n",
    "    return lst\n",
    "    \"\"\"\n",
    "\n",
    "print(conver([(1, 2), (2, 3), (3, 4)])) #[[1, 2], [2, 3], [3, 4]]\n",
    "print(conver([(1, 2), (2, 3, 5), (3, 4), (2, 3, 4, 2)])) \n",
    "#[[1, 2], [2, 3, 5], [3, 4], [2, 3, 4, 2]]"
   ]
  },
  {
   "cell_type": "code",
   "execution_count": 89,
   "id": "afea8b30",
   "metadata": {},
   "outputs": [
    {
     "name": "stdout",
     "output_type": "stream",
     "text": [
      "True\n",
      "False\n"
     ]
    }
   ],
   "source": [
    "def check(tup, item):\n",
    "    for i in tup:\n",
    "        if item in i:return True\n",
    "    return False\n",
    "\n",
    "print(check((('Red', 'White', 'Blue'),\n",
    "             ('Green', 'Pink', 'Purple'),\n",
    "             ('Orange', 'Yellow', 'Lime')),\n",
    "            \"White\")) #True\n",
    "print(check((('Red', 'White', 'Blue'),\n",
    "             ('Green', 'Pink', 'Purple'),\n",
    "             ('Orange', 'Yellow', 'Lime')),\n",
    "            \"Olive \")) #False"
   ]
  },
  {
   "cell_type": "code",
   "execution_count": 98,
   "id": "aa7cb340",
   "metadata": {},
   "outputs": [
    {
     "name": "stdout",
     "output_type": "stream",
     "text": [
      "hi\n",
      "True\n",
      "False\n"
     ]
    }
   ],
   "source": [
    "def retur(n):\n",
    "    return True if n > 10 else \"hi\" if n == 10 else False\n",
    "    \"\"\"\n",
    "    if n:\n",
    "        return True\n",
    "    elif n == 10:\n",
    "        reutrn \"hi\"\n",
    "    else:\n",
    "        return False\n",
    "    \"\"\"\n",
    "print(retur(10))\n",
    "print(retur(15))\n",
    "print(retur(9))"
   ]
  },
  {
   "cell_type": "code",
   "execution_count": 99,
   "id": "2e6ef8d9",
   "metadata": {},
   "outputs": [
    {
     "name": "stdout",
     "output_type": "stream",
     "text": [
      "The lyrics is good!\n",
      "The lyrics is poor!\n"
     ]
    }
   ],
   "source": [
    "def replace(str1):\n",
    "    x1 = \"not\"\n",
    "    x2 = \"poor\"\n",
    "    if x1 in str1 and x2 in str1:\n",
    "        for i in range(3, len(str1)+1):\n",
    "            if str1[i-3:i] == x1:i1 = i\n",
    "        for j in range(4, len(str1)+1):\n",
    "            if str1[j-4:j] == x2:j1 = j\n",
    "        return str1[:i1-3] + \"good\" + str1[j1:]\n",
    "    return str1\n",
    "\n",
    "\n",
    "print(replace(\"The lyrics is not that poor!\")) #'The lyrics is good!'\n",
    "print(replace('The lyrics is poor!')) #'The lyrics is poor!'"
   ]
  },
  {
   "cell_type": "code",
   "execution_count": 13,
   "id": "2f73145c",
   "metadata": {},
   "outputs": [
    {
     "name": "stdout",
     "output_type": "stream",
     "text": [
      "The lyrics is good! good\n",
      "The lyrics is good! poor hi not\n",
      "The lyrics is poor!\n"
     ]
    }
   ],
   "source": [
    "def replace(str1):\n",
    "    x1, x2 = \"not\", \"poor\"\n",
    "    if x1 in str1 and x2 in str1:\n",
    "        for i in range(3, len(str1)+1):\n",
    "            if str1[i-3:i] == x1: i1 = i; break\n",
    "        for j in range(4, len(str1)+1):\n",
    "            if str1[j-4:j] == x2: j1 = j; break \n",
    "        return replace(str1[:i1-3] + \"good\" + str1[j1:]) if j1 > i1 else str1\n",
    "    return str1\n",
    "\n",
    "\n",
    "print(replace(\"The lyrics is not that poor! not poor\")) #'The lyrics is good! good'\n",
    "print(replace(\"The lyrics is not that poor! poor hi not\")) #The lyrics is good! poor hi not\n",
    "print(replace('The lyrics is poor!')) #'The lyrics is poor!'"
   ]
  },
  {
   "cell_type": "code",
   "execution_count": 40,
   "id": "354bc3d4",
   "metadata": {},
   "outputs": [
    {
     "name": "stdout",
     "output_type": "stream",
     "text": [
      "The lyrics goodpoor! not poor\n",
      "The lyrics is poor!\n"
     ]
    }
   ],
   "source": [
    "def replace(str1):\n",
    "    x1, x2 = \"not\", \"poor\"\n",
    "    if x1 in str1 and x2 in str1:\n",
    "        j1, i1 = str1.index(x2), str1.index(x1)\n",
    "        return replace(str1[:i1-3] + \"good\" + str1[j1:]) if j1 > i1 else \\\n",
    "        str1[:i1] + str1[i1:] + replace(str1[j1+1:]) if str1.count(\"poor\") >= 2\\\n",
    "        and str1.count(\"not\") >= 2 else str1\n",
    "    return str1\n",
    "\n",
    "\n",
    "print(replace(\"The lyrics is not that poor! not poor\")) #'The lyrics is good! good'\n",
    "# print(replace(\"poor hi not The lyrics is not that poor! \")) #'poor hi not The lyrics is good!'\n",
    "print(replace('The lyrics is poor!')) #'The lyrics is poor!'"
   ]
  },
  {
   "cell_type": "code",
   "execution_count": 18,
   "id": "5b7d5ef0",
   "metadata": {},
   "outputs": [
    {
     "data": {
      "text/plain": [
       "3"
      ]
     },
     "execution_count": 18,
     "metadata": {},
     "output_type": "execute_result"
    }
   ],
   "source": [
    "x = \"hi hi hi\"\n",
    "x.count(\"hi\")"
   ]
  },
  {
   "cell_type": "code",
   "execution_count": 29,
   "id": "bd11921f",
   "metadata": {},
   "outputs": [
    {
     "name": "stdout",
     "output_type": "stream",
     "text": [
      "The lyrics is good! good\n",
      "poor hi not The lyrics is not that poor! hi good! \n",
      "The lyrics is poor!\n"
     ]
    }
   ],
   "source": [
    "def replace(str1):\n",
    "    x1, x2 = \"not\", \"poor\"\n",
    "    if x1 in str1 and x2 in str1:\n",
    "        for i in range(3, len(str1)+1):\n",
    "            if str1[i-3:i] == x1: i1 = i; break\n",
    "        for j in range(4, len(str1)+1):\n",
    "            if str1[j-4:j] == x2: j1 = j; break \n",
    "        return replace(str1[:i1-3] + \"good\" + str1[j1:]) if j1 > i1 else \\\n",
    "        str1[:i1] + str1[i1:] + replace(str1[j1+1:]) if str1.count(\"poor\") >= 2\\\n",
    "        and str1.count(\"not\") >= 2 else str1\n",
    "    return str1\n",
    "\n",
    "\n",
    "print(replace(\"The lyrics is not that poor! not poor\")) #'The lyrics is good! good'\n",
    "# print(replace(\"poor hi not The lyrics is not that poor! \")) #'poor hi not The lyrics is good!'\n",
    "print(replace('The lyrics is poor!')) #'The lyrics is poor!'"
   ]
  },
  {
   "cell_type": "code",
   "execution_count": 64,
   "id": "31210ea7",
   "metadata": {},
   "outputs": [
    {
     "name": "stdout",
     "output_type": "stream",
     "text": [
      "The lyrics is good!\n",
      "poor hi not The lyrics is good!\n",
      "hi good The lyrics good is good!\n",
      "The lyrics is poor!\n"
     ]
    }
   ],
   "source": [
    "def replace(str1):\n",
    "    if \"not\" in str1 and \"poor\" in str1:\n",
    "        j1, i1, str2 = str1.index(\"poor\"), str1.index(\"not\"), str1[str1.index(\"not\")+3:]\n",
    "        return replace(str1[:i1] + \"good\" + str1[j1+4:]) if j1 > i1\\\n",
    "        else str1[:str2.index(\"not\")] + replace(str1[str2.index(\"not\"):])\\\n",
    "        if str1.count(\"poor\") >= 2 and str1.count(\"not\") >= 2 \\\n",
    "        else str1\n",
    "    return str1\n",
    "\n",
    "\n",
    "print(replace(\"The lyrics is not that poor!\")) #'The lyrics is good!'\n",
    "print(replace(\"poor hi not The lyrics is not that poor!\"))\n",
    "#'poor hi not The lyrics is good!'\n",
    "print(replace(\"hi not that poor The lyrics not that poor is not that poor!\"))\n",
    "#poor hi good The lyrics good is good!\n",
    "print(replace('The lyrics is poor!')) #'The lyrics is poor!'"
   ]
  },
  {
   "cell_type": "code",
   "execution_count": null,
   "id": "f3173e21",
   "metadata": {},
   "outputs": [],
   "source": [
    "        return replace(str1[:i1] + \"good\" + str1[j1+4:]) if j1 > i1 e str1[:str2.index(\"not\")] + replace(str1[str2.index(\"not\"):]) f str1.count(\"poor\") >= 2 and str1.count(\"not\") >= 2 \n",
    "\n",
    "if j1 > i1:\n",
    "    return replace(str1[:i1] + \"good\" + str1[j1+4:])\n",
    "elif str1.count(\"poor\") >= 2:\n",
    "    return str1[:str2.index(\"not\")] + replace(str1[str2.index(\"not\"):])\n",
    "else :\n",
    "    return str1"
   ]
  },
  {
   "cell_type": "code",
   "execution_count": null,
   "id": "67facbfd",
   "metadata": {},
   "outputs": [],
   "source": [
    "5312 base 6 = 1196 base 10\n",
    "1196 base 11 = 1557 base 10\n",
    "1557 base 8 = 879 base 10\n",
    "879 base 11 = 1054 base 10\n",
    "1054 base 6 = 250 base 10\n",
    "250 base 6 = 102 base 10\n",
    "102 base 3 = 11 base 10\n",
    "11 base 2 = 3 base 10"
   ]
  },
  {
   "cell_type": "code",
   "execution_count": 66,
   "id": "c3fdce7d",
   "metadata": {
    "scrolled": false
   },
   "outputs": [
    {
     "data": {
      "text/plain": [
       "6"
      ]
     },
     "execution_count": 66,
     "metadata": {},
     "output_type": "execute_result"
    }
   ],
   "source": [
    "1196 % 10"
   ]
  },
  {
   "cell_type": "code",
   "execution_count": 72,
   "id": "09891049",
   "metadata": {},
   "outputs": [
    {
     "ename": "SyntaxError",
     "evalue": "invalid syntax (1406709783.py, line 2)",
     "output_type": "error",
     "traceback": [
      "\u001b[1;36m  File \u001b[1;32m\"C:\\Users\\User\\AppData\\Local\\Temp\\ipykernel_4404\\1406709783.py\"\u001b[1;36m, line \u001b[1;32m2\u001b[0m\n\u001b[1;33m    return [n[-1] for i in range(3)] if len(n) == 3 if n[-1] > n[0]\\\u001b[0m\n\u001b[1;37m                                                    ^\u001b[0m\n\u001b[1;31mSyntaxError\u001b[0m\u001b[1;31m:\u001b[0m invalid syntax\n"
     ]
    }
   ],
   "source": [
    "def max_end3(n):\n",
    "        return [n[-1] for i in range(3)] if len(n) == 3 if n[-1] > n[0]\\\n",
    "    else [n[0] for i in range(3)]\n",
    "#     return False\n",
    "\n",
    "\n",
    "print(max_end3([1, 2, 3])) #[3, 3, 3]\n",
    "print(max_end3([11, 5, 9])) #[11, 11, 11]\n",
    "print(max_end3([2, 11, 3])) #[3, 3, 3]"
   ]
  },
  {
   "cell_type": "code",
   "execution_count": 7,
   "id": "6cea5a25",
   "metadata": {},
   "outputs": [],
   "source": [
    "# myFile = open(\"C:\\Users\\User\\Desktop\\university\\semester I\\New Text Document.txt\", \"w\") \n",
    "with open(\"New Text Document.txt\", \"r\") as myFile, open(\"New Text Document2.txt\", \"w\") as new:\n",
    "    z = [i for i in myFile]\n",
    "    k = [z[j] for j in range(len(z)-1, -1 , -1)]\n",
    "    for a in k:\n",
    "        new.write(str(a))"
   ]
  },
  {
   "cell_type": "code",
   "execution_count": 11,
   "id": "26cd4a23",
   "metadata": {},
   "outputs": [
    {
     "data": {
      "text/plain": [
       "{'for': 8, 'hi': 14, 'hallow': 26}"
      ]
     },
     "execution_count": 11,
     "metadata": {},
     "output_type": "execute_result"
    }
   ],
   "source": [
    "def dubled(dictt):\n",
    "    z = [i for i in dictt.values() if i < 14]\n",
    "    for j in dictt:\n",
    "        if dictt[j] in z:\n",
    "            dictt[j] = dictt[j]*2\n",
    "    return dictt\n",
    "\n",
    "dubled({\"for\": 4, \"hi\": 14, \"hallow\": 13})#{'for': 8, 'hi': 14, 'hallow': 26}"
   ]
  },
  {
   "cell_type": "code",
   "execution_count": 12,
   "id": "a0d4d799",
   "metadata": {},
   "outputs": [
    {
     "data": {
      "text/plain": [
       "{'for': 8, 'hi': 14, 'hallow': 13}"
      ]
     },
     "execution_count": 12,
     "metadata": {},
     "output_type": "execute_result"
    }
   ],
   "source": [
    "def dubled(dictt):\n",
    "    z = [i for i in dictt.values() if i < 9]\n",
    "    for j in dictt:\n",
    "        if dictt[j] in z:\n",
    "            dictt[j] = dictt[j]*2\n",
    "    return dictt\n",
    "\n",
    "dubled({\"for\": 4, \"hi\": 14, \"hallow\": 13})#{'for': 8, 'hi': 14, 'hallow': 13}"
   ]
  },
  {
   "cell_type": "code",
   "execution_count": null,
   "id": "7bb73b1d",
   "metadata": {},
   "outputs": [],
   "source": [
    "def readposint(n):\n",
    "    \n",
    "    \n",
    "i = input(\"\")"
   ]
  },
  {
   "cell_type": "code",
   "execution_count": 15,
   "id": "36835900",
   "metadata": {},
   "outputs": [
    {
     "name": "stdout",
     "output_type": "stream",
     "text": [
      "False\n",
      "True\n"
     ]
    }
   ],
   "source": [
    "def check(n, n1):\n",
    "    return True if len(n) == n1 else False\n",
    "\n",
    "print(check([1,2,3,4,5,6,4], 5))\n",
    "print(check([1,2,3,4,5,6,4], 7))"
   ]
  },
  {
   "cell_type": "code",
   "execution_count": 17,
   "id": "56f70f31",
   "metadata": {},
   "outputs": [
    {
     "name": "stdout",
     "output_type": "stream",
     "text": [
      "Enter the word: njkl\n",
      "Enter the word: bnmn\n",
      "Enter the word: bnmm\n",
      "Enter the word: bnmm\n",
      "Enter the word: \n",
      "the average is 4\n"
     ]
    }
   ],
   "source": [
    "v = 0\n",
    "n = 0\n",
    "x = 1\n",
    "k = 0\n",
    "while x != \"\":\n",
    "    if k != 0:\n",
    "        v += len(x)\n",
    "        n += 1\n",
    "    x = input(\"Enter the word: \")\n",
    "    k += 1\n",
    "\n",
    "if n == 0:\n",
    "    n += 1\n",
    "print(\"the average is\", v // n)"
   ]
  },
  {
   "cell_type": "code",
   "execution_count": 23,
   "id": "00a52eef",
   "metadata": {},
   "outputs": [
    {
     "name": "stdout",
     "output_type": "stream",
     "text": [
      "sue\n",
      "joe 19.17\n",
      "bill 16.0\n",
      "sue 14.92\n",
      "grace 20.29\n",
      "john 29.33\n"
     ]
    }
   ],
   "source": [
    "f = open(\"studentdata.txt\", \"r\")\n",
    "z = f.readlines()\n",
    "words = [i.split() for i in z]\n",
    "for i in words:\n",
    "    if len(i) > 8: print(i[0])\n",
    "\n",
    "for i in words:\n",
    "    v = 0\n",
    "    for j in range(1, len(i)):\n",
    "        v += int(i[j])\n",
    "    v /= len(i)\n",
    "    \n",
    "    print(i[0], round(v, 2))\n",
    "f.close()"
   ]
  },
  {
   "cell_type": "code",
   "execution_count": 25,
   "id": "f04c3a98",
   "metadata": {},
   "outputs": [
    {
     "name": "stdout",
     "output_type": "stream",
     "text": [
      "joe 10 40\n",
      "bill 16 23\n",
      "sue 2 32\n",
      "grace 10 45\n",
      "john 14 89\n"
     ]
    }
   ],
   "source": [
    "f = open(\"studentdata.txt\", \"r\")\n",
    "z = f.readlines()\n",
    "words = [i.split() for i in z]\n",
    "for i in words:\n",
    "    z1 = [int(i[j]) for j in range(1, len(i))]\n",
    "    minn, maxx = min(z1), max(z1)\n",
    "    print(i[0], minn, maxx)\n",
    "f.close()"
   ]
  },
  {
   "cell_type": "code",
   "execution_count": 41,
   "id": "e5a63ced",
   "metadata": {},
   "outputs": [
    {
     "name": "stdout",
     "output_type": "stream",
     "text": [
      "The psychological fragility of the rising generation \n",
      "\n",
      "The psychological fragility of the rising generation \n",
      "\n",
      "dr. Ismail arfa.\n"
     ]
    }
   ],
   "source": [
    "book = open(\"book.txt\", \"w\")\n",
    "book.write(\"The psychological fragility of the rising generation \\n\")\n",
    "book.close()\n",
    "book = open(\"book.txt\", \"r\")\n",
    "print(book.readline())\n",
    "book.close()\n",
    "book = open(\"book.txt\", \"a\")\n",
    "book.write(\"dr. Ismail arfa.\")\n",
    "book.close()\n",
    "book = open(\"book.txt\", \"r\")\n",
    "for i in book.readlines():\n",
    "    print(i)\n",
    "book.close()"
   ]
  },
  {
   "cell_type": "code",
   "execution_count": 66,
   "id": "cab9cbdf",
   "metadata": {},
   "outputs": [
    {
     "name": "stdout",
     "output_type": "stream",
     "text": [
      "['joe', [10, 15, 20, 30, 40], [115]]\n",
      "['bill', [23, 16, 19, 22], [80]]\n",
      "['sue', [8, 22, 17, 14, 32, 17, 24, 21, 2, 9, 11, 17], [194]]\n",
      "['grace', [12, 28, 21, 45, 26, 10], [142]]\n",
      "['john', [14, 32, 25, 16, 89], [176]]\n"
     ]
    }
   ],
   "source": [
    "f = open(\"student.txt\", \"w\")\n",
    "f.write(\"\"\"joe 10 15 20 30 40\n",
    "bill 23 16 19 22\n",
    "sue 8 22 17 14 32 17 24 21 2 9 11 17\n",
    "grace 12 28 21 45 26 10\n",
    "john 14 32 25 16 89\n",
    "\"\"\")\n",
    "f.close()\n",
    "f = open(\"student.txt\", \"r\")\n",
    "for i in f:\n",
    "    listt = i.split()\n",
    "    grads = [int(listt[j]) for j in range(1,len(listt))]\n",
    "    print([listt[0], grads, [sum(grads)]])\n",
    "f.close()"
   ]
  },
  {
   "cell_type": "code",
   "execution_count": 2,
   "id": "fd506952",
   "metadata": {},
   "outputs": [
    {
     "name": "stdout",
     "output_type": "stream",
     "text": [
      "[1, 2, 3, 4, 5, 6, 7, 8, 9, 10]\n"
     ]
    }
   ],
   "source": [
    "z = []\n",
    "for i in range(1, 11):\n",
    "    z.append(i)\n",
    "print(z)"
   ]
  },
  {
   "cell_type": "code",
   "execution_count": 5,
   "id": "d5d70ef0",
   "metadata": {},
   "outputs": [
    {
     "data": {
      "text/plain": [
       "set"
      ]
     },
     "execution_count": 5,
     "metadata": {},
     "output_type": "execute_result"
    }
   ],
   "source": [
    "type({24})"
   ]
  },
  {
   "cell_type": "code",
   "execution_count": 6,
   "id": "e1fa3a21",
   "metadata": {},
   "outputs": [
    {
     "name": "stdout",
     "output_type": "stream",
     "text": [
      "False\n",
      "True\n"
     ]
    }
   ],
   "source": [
    "def check(dictt, key):\n",
    "    if key in dictt:\n",
    "        return True\n",
    "    return False\n",
    "\n",
    "car = {\n",
    "  \"brand\": \"Ford\",\n",
    "  \"model\": \"Mustang\",\n",
    "  \"year\": 1964\n",
    "}\n",
    "print(check(car, \"hi\")) #False\n",
    "print(check(car, \"brand\")) #True"
   ]
  },
  {
   "cell_type": "code",
   "execution_count": 8,
   "id": "6c7f2aee",
   "metadata": {},
   "outputs": [
    {
     "name": "stdout",
     "output_type": "stream",
     "text": [
      "<class 'dict_values'>\n"
     ]
    },
    {
     "ename": "TypeError",
     "evalue": "'>' not supported between instances of 'int' and 'dict_values'",
     "output_type": "error",
     "traceback": [
      "\u001b[1;31m---------------------------------------------------------------------------\u001b[0m",
      "\u001b[1;31mTypeError\u001b[0m                                 Traceback (most recent call last)",
      "\u001b[1;32m~\\AppData\\Local\\Temp\\ipykernel_7576\\1464274600.py\u001b[0m in \u001b[0;36m<module>\u001b[1;34m\u001b[0m\n\u001b[0;32m     12\u001b[0m \u001b[1;33m\u001b[0m\u001b[0m\n\u001b[0;32m     13\u001b[0m \u001b[0mdic\u001b[0m \u001b[1;33m=\u001b[0m \u001b[1;33m{\u001b[0m\u001b[1;34m'ite  m1'\u001b[0m\u001b[1;33m:\u001b[0m \u001b[1;36m1150\u001b[0m\u001b[1;33m,\u001b[0m \u001b[1;34m'ite  m2'\u001b[0m\u001b[1;33m:\u001b[0m \u001b[1;36m300\u001b[0m\u001b[1;33m}\u001b[0m\u001b[1;33m\u001b[0m\u001b[1;33m\u001b[0m\u001b[0m\n\u001b[1;32m---> 14\u001b[1;33m \u001b[0mthe_max_min\u001b[0m\u001b[1;33m(\u001b[0m\u001b[0mdic\u001b[0m\u001b[1;33m)\u001b[0m\u001b[1;31m#('The maximum ', 1150, 'The minimum ', 300)\u001b[0m\u001b[1;33m\u001b[0m\u001b[1;33m\u001b[0m\u001b[0m\n\u001b[0m",
      "\u001b[1;32m~\\AppData\\Local\\Temp\\ipykernel_7576\\1464274600.py\u001b[0m in \u001b[0;36mthe_max_min\u001b[1;34m(n)\u001b[0m\n\u001b[0;32m      5\u001b[0m     \u001b[0mprint\u001b[0m\u001b[1;33m(\u001b[0m\u001b[0mtype\u001b[0m\u001b[1;33m(\u001b[0m\u001b[0mm\u001b[0m\u001b[1;33m)\u001b[0m\u001b[1;33m)\u001b[0m\u001b[1;33m\u001b[0m\u001b[1;33m\u001b[0m\u001b[0m\n\u001b[0;32m      6\u001b[0m     \u001b[1;32mfor\u001b[0m \u001b[0mi\u001b[0m \u001b[1;32min\u001b[0m \u001b[0mn\u001b[0m\u001b[1;33m.\u001b[0m\u001b[0mvalues\u001b[0m\u001b[1;33m(\u001b[0m\u001b[1;33m)\u001b[0m\u001b[1;33m:\u001b[0m\u001b[1;33m\u001b[0m\u001b[1;33m\u001b[0m\u001b[0m\n\u001b[1;32m----> 7\u001b[1;33m         \u001b[1;32mif\u001b[0m \u001b[0mi\u001b[0m \u001b[1;33m>\u001b[0m \u001b[0mm\u001b[0m\u001b[1;33m:\u001b[0m \u001b[0mm\u001b[0m \u001b[1;33m=\u001b[0m \u001b[0mi\u001b[0m\u001b[1;33m\u001b[0m\u001b[1;33m\u001b[0m\u001b[0m\n\u001b[0m\u001b[0;32m      8\u001b[0m         \u001b[1;32mif\u001b[0m \u001b[0mi\u001b[0m \u001b[1;33m<\u001b[0m \u001b[0mmi\u001b[0m\u001b[1;33m:\u001b[0m\u001b[0mmi\u001b[0m \u001b[1;33m=\u001b[0m \u001b[0mi\u001b[0m\u001b[1;33m\u001b[0m\u001b[1;33m\u001b[0m\u001b[0m\n\u001b[0;32m      9\u001b[0m     \u001b[1;32mreturn\u001b[0m \u001b[1;34m\"The maximum \"\u001b[0m\u001b[1;33m,\u001b[0m \u001b[0mm\u001b[0m\u001b[1;33m,\u001b[0m\u001b[1;34m\"The minimum \"\u001b[0m\u001b[1;33m,\u001b[0m \u001b[0mmi\u001b[0m\u001b[1;33m\u001b[0m\u001b[1;33m\u001b[0m\u001b[0m\n",
      "\u001b[1;31mTypeError\u001b[0m: '>' not supported between instances of 'int' and 'dict_values'"
     ]
    }
   ],
   "source": [
    "\"\"\"Task #8 First Solve\"\"\"\n",
    "\n",
    "def the_max_min(n):\n",
    "    m, mi = n.values(), list(n.values())[0]\n",
    "    print(type(m))\n",
    "    for i in n.values():\n",
    "        if i > m: m = i\n",
    "        if i < mi:mi = i\n",
    "    return \"The maximum \", m,\"The minimum \", mi\n",
    "     \n",
    "            \n",
    "    \n",
    "dic = {'ite  m1': 1150, 'ite  m2': 300}\n",
    "the_max_min(dic)#('The maximum ', 1150, 'The minimum ', 300)"
   ]
  },
  {
   "cell_type": "code",
   "execution_count": 4,
   "id": "c90f888a",
   "metadata": {},
   "outputs": [
    {
     "name": "stdout",
     "output_type": "stream",
     "text": [
      "1\n",
      "01\n",
      "101\n",
      "0101\n",
      "10101\n"
     ]
    }
   ],
   "source": [
    "def triangle(n):\n",
    "    for i in range(1,n+1):\n",
    "        for j in range(0, i):\n",
    "            print((j+i)%2, end= \"\")\n",
    "        print()\n",
    "        \n",
    "triangle(5)"
   ]
  },
  {
   "cell_type": "code",
   "execution_count": null,
   "id": "082d0c3c",
   "metadata": {},
   "outputs": [],
   "source": [
    "\n"
   ]
  },
  {
   "cell_type": "code",
   "execution_count": null,
   "id": "182a11e9",
   "metadata": {},
   "outputs": [],
   "source": []
  },
  {
   "cell_type": "code",
   "execution_count": null,
   "id": "faaaa795",
   "metadata": {},
   "outputs": [],
   "source": []
  },
  {
   "cell_type": "code",
   "execution_count": null,
   "id": "fccfc8fb",
   "metadata": {},
   "outputs": [],
   "source": []
  },
  {
   "cell_type": "code",
   "execution_count": null,
   "id": "06c34a83",
   "metadata": {},
   "outputs": [],
   "source": []
  },
  {
   "cell_type": "code",
   "execution_count": null,
   "id": "50e32387",
   "metadata": {},
   "outputs": [],
   "source": []
  },
  {
   "cell_type": "code",
   "execution_count": null,
   "id": "135708b9",
   "metadata": {},
   "outputs": [],
   "source": []
  },
  {
   "cell_type": "code",
   "execution_count": null,
   "id": "f24e78f9",
   "metadata": {},
   "outputs": [],
   "source": []
  },
  {
   "cell_type": "code",
   "execution_count": null,
   "id": "a7d85b84",
   "metadata": {},
   "outputs": [],
   "source": []
  },
  {
   "cell_type": "code",
   "execution_count": null,
   "id": "9cb8f5cd",
   "metadata": {},
   "outputs": [],
   "source": []
  },
  {
   "cell_type": "code",
   "execution_count": null,
   "id": "f844f943",
   "metadata": {},
   "outputs": [],
   "source": []
  },
  {
   "cell_type": "code",
   "execution_count": null,
   "id": "0ad29034",
   "metadata": {},
   "outputs": [],
   "source": []
  },
  {
   "cell_type": "code",
   "execution_count": null,
   "id": "64ce3788",
   "metadata": {},
   "outputs": [],
   "source": []
  },
  {
   "cell_type": "code",
   "execution_count": null,
   "id": "d8aed194",
   "metadata": {},
   "outputs": [],
   "source": []
  },
  {
   "cell_type": "code",
   "execution_count": null,
   "id": "cafca8c8",
   "metadata": {},
   "outputs": [],
   "source": []
  },
  {
   "cell_type": "code",
   "execution_count": null,
   "id": "b9558504",
   "metadata": {},
   "outputs": [],
   "source": []
  },
  {
   "cell_type": "code",
   "execution_count": null,
   "id": "a6e7f76d",
   "metadata": {},
   "outputs": [],
   "source": []
  },
  {
   "cell_type": "code",
   "execution_count": null,
   "id": "c789619a",
   "metadata": {},
   "outputs": [],
   "source": []
  },
  {
   "cell_type": "code",
   "execution_count": null,
   "id": "24fa41a0",
   "metadata": {},
   "outputs": [],
   "source": []
  },
  {
   "cell_type": "code",
   "execution_count": null,
   "id": "70197e4e",
   "metadata": {},
   "outputs": [],
   "source": []
  },
  {
   "cell_type": "code",
   "execution_count": null,
   "id": "adc1dac5",
   "metadata": {},
   "outputs": [],
   "source": []
  },
  {
   "cell_type": "code",
   "execution_count": null,
   "id": "ee369602",
   "metadata": {},
   "outputs": [],
   "source": []
  },
  {
   "cell_type": "code",
   "execution_count": null,
   "id": "a64021b4",
   "metadata": {},
   "outputs": [],
   "source": []
  },
  {
   "cell_type": "code",
   "execution_count": null,
   "id": "501cb0e9",
   "metadata": {},
   "outputs": [],
   "source": []
  },
  {
   "cell_type": "code",
   "execution_count": null,
   "id": "04ecaf53",
   "metadata": {},
   "outputs": [],
   "source": []
  },
  {
   "cell_type": "code",
   "execution_count": null,
   "id": "208b53f4",
   "metadata": {},
   "outputs": [],
   "source": []
  },
  {
   "cell_type": "code",
   "execution_count": null,
   "id": "a0f2562e",
   "metadata": {},
   "outputs": [],
   "source": []
  },
  {
   "cell_type": "code",
   "execution_count": null,
   "id": "6a3a534c",
   "metadata": {},
   "outputs": [],
   "source": []
  },
  {
   "cell_type": "code",
   "execution_count": null,
   "id": "5fd785cf",
   "metadata": {},
   "outputs": [],
   "source": []
  },
  {
   "cell_type": "code",
   "execution_count": null,
   "id": "cb2130a5",
   "metadata": {},
   "outputs": [],
   "source": []
  },
  {
   "cell_type": "code",
   "execution_count": null,
   "id": "eae0dece",
   "metadata": {},
   "outputs": [],
   "source": []
  },
  {
   "cell_type": "code",
   "execution_count": null,
   "id": "c9e634a4",
   "metadata": {},
   "outputs": [],
   "source": []
  },
  {
   "cell_type": "code",
   "execution_count": null,
   "id": "79f68946",
   "metadata": {},
   "outputs": [],
   "source": []
  },
  {
   "cell_type": "code",
   "execution_count": null,
   "id": "e8c1698e",
   "metadata": {},
   "outputs": [],
   "source": []
  },
  {
   "cell_type": "code",
   "execution_count": null,
   "id": "22f6bffa",
   "metadata": {},
   "outputs": [],
   "source": []
  },
  {
   "cell_type": "code",
   "execution_count": null,
   "id": "41917eeb",
   "metadata": {},
   "outputs": [],
   "source": []
  }
 ],
 "metadata": {
  "kernelspec": {
   "display_name": "Python 3 (ipykernel)",
   "language": "python",
   "name": "python3"
  },
  "language_info": {
   "codemirror_mode": {
    "name": "ipython",
    "version": 3
   },
   "file_extension": ".py",
   "mimetype": "text/x-python",
   "name": "python",
   "nbconvert_exporter": "python",
   "pygments_lexer": "ipython3",
   "version": "3.9.13"
  }
 },
 "nbformat": 4,
 "nbformat_minor": 5
}
