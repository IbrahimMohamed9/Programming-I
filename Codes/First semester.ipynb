{
 "cells": [
  {
   "cell_type": "code",
   "execution_count": 1,
   "id": "591574b3",
   "metadata": {},
   "outputs": [
    {
     "name": "stdout",
     "output_type": "stream",
     "text": [
      "Inter your grades 5\n",
      "F3\n"
     ]
    }
   ],
   "source": [
    "mark = float(input(\"Inter your grades \"))\n",
    "\n",
    "if mark >= 75:\n",
    "    print(\"Your are the first\")\n",
    "elif mark >= 70:  # and mark < 75:\n",
    "    print(\"Upper Second\")\n",
    "elif mark >= 60:  # and mark <= 70:\n",
    "    print(\"Second\")\n",
    "elif mark >= 50:  # and mark < 60:\n",
    "    print(\"Third\")\n",
    "elif mark >= 45:  # and mark < 50:\n",
    "    print(\"F1 Supp\")\n",
    "elif mark >= 40:  # and mark < 45:\n",
    "    print(\"F2\")\n",
    "else:\n",
    "    print(\"F3\")\n",
    "    "
   ]
  },
  {
   "cell_type": "code",
   "execution_count": 2,
   "id": "764d658f",
   "metadata": {},
   "outputs": [
    {
     "data": {
      "text/plain": [
       "{'A', 'a', 'b', 'l', 'm'}"
      ]
     },
     "execution_count": 2,
     "metadata": {},
     "output_type": "execute_result"
    }
   ],
   "source": [
    "set(\"Alabama\")\n",
    "\n"
   ]
  },
  {
   "cell_type": "code",
   "execution_count": 3,
   "id": "4162f0d3",
   "metadata": {},
   "outputs": [
    {
     "name": "stdout",
     "output_type": "stream",
     "text": [
      "15\n",
      "-5\n",
      "0.5\n",
      "50\n"
     ]
    }
   ],
   "source": [
    "a = 5 \n",
    "b = 10\n",
    "print(a + b)\n",
    "print(a - b)\n",
    "print(a / b)\n",
    "print(a * b)\n",
    "\n"
   ]
  },
  {
   "cell_type": "code",
   "execution_count": 52,
   "id": "21a460e6",
   "metadata": {},
   "outputs": [
    {
     "name": "stdout",
     "output_type": "stream",
     "text": [
      "15\n",
      "-5\n",
      "50\n",
      "0.5\n"
     ]
    }
   ],
   "source": [
    "a=5\n",
    "b=10\n",
    "\n",
    "\n",
    "print(a+b)\n",
    "print(a-b)\n",
    "print(a*b)\n",
    "print(a/b)\n"
   ]
  },
  {
   "cell_type": "code",
   "execution_count": 60,
   "id": "72080b26",
   "metadata": {},
   "outputs": [
    {
     "name": "stdout",
     "output_type": "stream",
     "text": [
      "1.2.3.4.5.6.7.8\n"
     ]
    }
   ],
   "source": [
    "print(1,2,3,4,5,6,7,8,sep=\".\")"
   ]
  },
  {
   "cell_type": "code",
   "execution_count": 63,
   "id": "b0ecc2b4",
   "metadata": {},
   "outputs": [
    {
     "name": "stdout",
     "output_type": "stream",
     "text": [
      "I love mum and dad\n"
     ]
    }
   ],
   "source": [
    "print(\"I love {1} and {0}\". format(\"dad\",\"mum\"))"
   ]
  },
  {
   "cell_type": "code",
   "execution_count": 71,
   "id": "049398ed",
   "metadata": {},
   "outputs": [
    {
     "name": "stdout",
     "output_type": "stream",
     "text": [
      "The value of x is 12\n"
     ]
    }
   ],
   "source": [
    "x = 12.3456433456789\n",
    "print(\"The value of x is %d\" %x)"
   ]
  },
  {
   "cell_type": "code",
   "execution_count": 78,
   "id": "631bdb36",
   "metadata": {},
   "outputs": [
    {
     "name": "stdout",
     "output_type": "stream",
     "text": [
      "The value of x is 5 and y is 10.\n"
     ]
    }
   ],
   "source": [
    "x=5 ;y=10\n",
    "print(\"The value of x is {} and y is {}.\".format(x,y)) "
   ]
  },
  {
   "cell_type": "code",
   "execution_count": 94,
   "id": "6409cb3b",
   "metadata": {},
   "outputs": [
    {
     "name": "stdout",
     "output_type": "stream",
     "text": [
      "24\n"
     ]
    }
   ],
   "source": [
    "a=1\n",
    "b=2\n",
    "c=3\n",
    "d=4\n",
    "print(a*b*c*d)\n"
   ]
  },
  {
   "cell_type": "code",
   "execution_count": 97,
   "id": "0344e05b",
   "metadata": {},
   "outputs": [
    {
     "name": "stdout",
     "output_type": "stream",
     "text": [
      "254.34\n"
     ]
    }
   ],
   "source": [
    "r=4.5**2\n",
    "b=3.14\n",
    "d=4\n",
    "ar=r*b*d\n",
    "print(ar)\n"
   ]
  },
  {
   "cell_type": "code",
   "execution_count": 98,
   "id": "b7b49ca8",
   "metadata": {},
   "outputs": [
    {
     "name": "stdout",
     "output_type": "stream",
     "text": [
      "254.34\n"
     ]
    }
   ],
   "source": [
    "radius=4.5\n",
    "volume=4*3.14*radius**2\n",
    "print(volume)\n"
   ]
  },
  {
   "cell_type": "code",
   "execution_count": 100,
   "id": "468e692f",
   "metadata": {},
   "outputs": [
    {
     "data": {
      "text/plain": [
       "2"
      ]
     },
     "execution_count": 100,
     "metadata": {},
     "output_type": "execute_result"
    }
   ],
   "source": [
    "What happens when we don’t declare a variable but try using it in a code?\n",
    "What happens  when we open parenthesis but never close them?\n",
    "What happens if we don’t use print function with some of the variables?\n",
    "What happens when you try running this code; why; how to solve it? \n"
   ]
  },
  {
   "cell_type": "code",
   "execution_count": 103,
   "id": "f9954916",
   "metadata": {},
   "outputs": [
    {
     "name": "stdout",
     "output_type": "stream",
     "text": [
      "I love bread and butter\n"
     ]
    }
   ],
   "source": [
    "print('I love {0} and {1}'.format('bread','butter'))"
   ]
  },
  {
   "cell_type": "code",
   "execution_count": 110,
   "id": "3a68bf08",
   "metadata": {},
   "outputs": [
    {
     "name": "stdout",
     "output_type": "stream",
     "text": [
      "please inter the number:3\n",
      "please inter the number:2\n",
      "I love a 3 and 2\n"
     ]
    }
   ],
   "source": [
    "m = int(input(\"please inter the number:\"))\n",
    "M=int(input(\"please inter the number:\"))\n",
    "print(\"I love a {} and {}\".format(m,M))\n",
    "    "
   ]
  },
  {
   "cell_type": "code",
   "execution_count": 115,
   "id": "870d1127",
   "metadata": {},
   "outputs": [
    {
     "name": "stdout",
     "output_type": "stream",
     "text": [
      "inter your gardes:5\n",
      "inter your gardes:4\n",
      "inter your gardes:3\n",
      "4.0\n"
     ]
    }
   ],
   "source": [
    "m=int(input(\"inter your gardes:\"))\n",
    "M=int(input(\"inter your gardes:\"))\n",
    "s=int(input(\"inter your gardes:\"))\n",
    "print((m+M+s)/3)"
   ]
  },
  {
   "cell_type": "code",
   "execution_count": 118,
   "id": "6a6527cd",
   "metadata": {},
   "outputs": [
    {
     "name": "stdout",
     "output_type": "stream",
     "text": [
      "inter any number:0\n",
      "inter any number:1\n",
      "inter any number:4\n",
      "inter any number:80\n",
      "0\n"
     ]
    }
   ],
   "source": [
    "M=int(input(\"inter any number:\"))\n",
    "N=int(input(\"inter any number:\"))\n",
    "B=int(input(\"inter any number:\"))\n",
    "X=int(input(\"inter any number:\"))\n",
    "print(M*N*B*X)"
   ]
  },
  {
   "cell_type": "code",
   "execution_count": 120,
   "id": "cefdd2a3",
   "metadata": {},
   "outputs": [
    {
     "name": "stdout",
     "output_type": "stream",
     "text": [
      "inter your name:sad\n",
      "HELLO sad\n"
     ]
    }
   ],
   "source": [
    "name=input(\"inter your name:\")\n",
    "print(\"HELLO\",name)"
   ]
  },
  {
   "cell_type": "code",
   "execution_count": 2,
   "id": "5f2fcb68",
   "metadata": {},
   "outputs": [
    {
     "name": "stdout",
     "output_type": "stream",
     "text": [
      "inter any number4\n",
      "2.0\n",
      "<class 'float'>\n"
     ]
    }
   ],
   "source": [
    "number=float(input(\"inter any number\"))\n",
    "print(number**.5)\n",
    "n=number\n",
    "type(number)\n",
    "print(type(n))"
   ]
  },
  {
   "cell_type": "code",
   "execution_count": 4,
   "id": "8e2cea5d",
   "metadata": {},
   "outputs": [
    {
     "name": "stdout",
     "output_type": "stream",
     "text": [
      "Enter high tariffs:56.58\n",
      "Enter low tariffs:175.68\n",
      "Enter high tariffs price:0.3\n",
      "Enter low tariffs price:0.2\n",
      "total tariffs is: 232.26\n",
      "share low tariffs is: 75.00 %\n",
      "share high tariffs is:24.00 %\n",
      "total amount is: 52.11\n"
     ]
    }
   ],
   "source": [
    "high_tariffs=float(input(\"Enter high tariffs:\"))\n",
    "low_tariffs=float(input(\"Enter low tariffs:\"))\n",
    "total_tariffs=high_tariffs+low_tariffs\n",
    "share_low_tariffs=(low_tariffs/total_tariffs)*100\n",
    "share_high_tariffs=(high_tariffs/total_tariffs)*100\n",
    "htprice=float(input(\"Enter high tariffs price:\"))\n",
    "lwprice=float(input(\"Enter low tariffs price:\"))\n",
    "print(\"total tariffs is: %.2f\"%total_tariffs)\n",
    "\n",
    "\n",
    "\n",
    "total_amount=high_tariffs*htprice + lwprice*low_tariffs\n",
    "print(\"share of low tariffs is: %.2f\" % int(share_low_tariffs),\"%\")\n",
    "print(\"share of high tariffs is:%.2f\" % int(share_high_tariffs),\"%\")\n",
    "print(\"total amount is: %.2f\"% total_amount)\n",
    "\n",
    "\n",
    "#  HT = 58.56, LT = 175.68, price VT = 0.3, price MT = 0.2, program output is as follows: \n",
    "# The total consumption is 234.24 KWh.\n",
    "# The share of high tariffs in total consumption is 25%.\n",
    "# The share of low tariffs in total consumption is 75%.\n",
    "# The invoice amount is 52.70 KM."
   ]
  },
  {
   "cell_type": "code",
   "execution_count": null,
   "id": "f1e34a2e",
   "metadata": {},
   "outputs": [],
   "source": [
    "# total consumption in kWh;\n",
    "# cash account amount;\n",
    "# the share of large tariffs and small tariffs in total consumption.\n",
    "\n",
    "# Example: If inputs are given: HT = 58.56, LT = 175.68, price VT = 0.3, price MT = 0.2, program output is as follows: \n",
    "# The total consumption is 234.24 KWh.\n",
    "# The share of high tariffs in total consumption is 25%.\n",
    "# The share of low tariffs in total consumption is 75%.\n",
    "# The invoice amount is 52.70 KM.\n"
   ]
  },
  {
   "cell_type": "code",
   "execution_count": 7,
   "id": "1aed1e1b",
   "metadata": {},
   "outputs": [
    {
     "name": "stdout",
     "output_type": "stream",
     "text": [
      "Enter total high tariffs consumption:58.56\n",
      "Enter total low tariffs consumption:175.68\n",
      "total consumption is: 234.24\n",
      "the share of the low tariffs in total consumption is:75.00\n",
      "the share of the high tariffs in total consumption is:25.00\n",
      "Enter price of low tariffs:.2\n",
      "Enter price of high tariffs:0.3\n",
      "The invoice amount is:52.70\n"
     ]
    }
   ],
   "source": [
    "totalh=float(input(\"Enter total high tariffs consumption:\"))\n",
    "totalw=float(input(\"Enter total low tariffs consumption:\"))\n",
    "totalconsumption=totalh+totalw\n",
    "print(\"total consumption is: %.2f\"%totalconsumption)\n",
    "sharel=(totalw/totalconsumption)*100\n",
    "shareh=(totalh/totalconsumption)*100\n",
    "\n",
    "print(\"the share of the low tariffs in total consumption is:%.2f\"%sharel)\n",
    "print(\"the share of the high tariffs in total consumption is:%.2f\"%shareh)\n",
    "\n",
    "pricelw=float(input(\"Enter price of low tariffs:\"))\n",
    "priceh=float(input(\"Enter price of high tariffs:\"))\n",
    "\n",
    "invoice=totalh*priceh+totalw*pricelw\n",
    "print(\"The invoice amount is:%.2f\"%invoice)"
   ]
  },
  {
   "cell_type": "code",
   "execution_count": 17,
   "id": "9eecd025",
   "metadata": {},
   "outputs": [
    {
     "name": "stdout",
     "output_type": "stream",
     "text": [
      "Inter any number here:0\n",
      "is zero\n"
     ]
    }
   ],
   "source": [
    "number=float(input(\"Inter any number here:\"))\n",
    "if number>0:\n",
    "    print(int(number),\"is a positive number\")\n",
    "elif number==0:\n",
    "    print(\"zero\")\n",
    "else:\n",
    "    print(int(number),\"is a negative number\")"
   ]
  },
  {
   "cell_type": "code",
   "execution_count": 28,
   "id": "4cb2ae15",
   "metadata": {},
   "outputs": [
    {
     "name": "stdout",
     "output_type": "stream",
     "text": [
      "Enter any number from(1.2.3.4.5.6.7.8.9):2\n",
      "2 is between 1 and 3\n"
     ]
    }
   ],
   "source": [
    "x=int(input(\"Enter any number from(1.2.3.4.5.6.7.8.9):\"))\n",
    "if (x>0 and x<2):\n",
    "    print(x,\"is between {} and {}\".format(\"0\",\"2\")) \n",
    "elif (x>1 and x<3):\n",
    "    print(x,\"is between {} and {}\".format(\"1\",\"3\"))\n",
    "elif (x>2 and x<4):\n",
    "    print(x,\"is between {} and {}\".format(\"2\",\"4\"))\n",
    "elif (x>3 and x<5):\n",
    "    print(x,\"is between {} and {}\".format(\"3\",\"5\"))\n",
    "elif (x>4 and x<6):\n",
    "    print(x,\"is between {} and {}\".format(\"4\",\"6\"))\n",
    "elif (x>5 and x<7):\n",
    "    print(x,\"is between {} and {}\".format(\"5\",\"7\"))\n",
    "elif (x>6 and x<8):\n",
    "    print(x,\"is between {} and {}\".format(\"6\",\"8\"))\n",
    "elif (x>7 and x<9):\n",
    "    print(x,\"is between {} and {}\".format(\"7\",\"9\"))\n",
    "elif (x>8 and x<10):\n",
    "    print(x,\"is between {} and {}\".format(\"8\",\"10\"))\n",
    "else:\n",
    "    print(\"Please stick to the number in parentheses\")"
   ]
  },
  {
   "cell_type": "code",
   "execution_count": 31,
   "id": "1c5e16d3",
   "metadata": {},
   "outputs": [
    {
     "name": "stdout",
     "output_type": "stream",
     "text": [
      "No\n"
     ]
    }
   ],
   "source": [
    "a = 50\n",
    "b = 50\n",
    "if a!=b:\n",
    "    print(\"Yes\")\n",
    "else:\n",
    "    print(\"No\")\n"
   ]
  },
  {
   "cell_type": "code",
   "execution_count": null,
   "id": "98d0c7e9",
   "metadata": {},
   "outputs": [],
   "source": [
    "  if 5>2 :print(\"Five is greater than two!\") "
   ]
  },
  {
   "cell_type": "code",
   "execution_count": null,
   "id": "991d65d9",
   "metadata": {},
   "outputs": [],
   "source": [
    "x=1\n",
    "x=2\n",
    "y=3\n",
    "if x < y:\n",
    "    print(\"x is less than y\")\n",
    "else:\n",
    "    if x > y:\n",
    "        print(\"x is greater than y\")\n",
    "    else:\n",
    "        print(\"x and y must be equal\")\n"
   ]
  },
  {
   "cell_type": "code",
   "execution_count": 49,
   "id": "79f46820",
   "metadata": {},
   "outputs": [
    {
     "name": "stdout",
     "output_type": "stream",
     "text": [
      "180300\n"
     ]
    }
   ],
   "source": [
    "sum=0\n",
    "for x in range (601):\n",
    "    sum=sum+x\n",
    "print(sum)"
   ]
  },
  {
   "cell_type": "code",
   "execution_count": 53,
   "id": "d48134e4",
   "metadata": {},
   "outputs": [
    {
     "name": "stdout",
     "output_type": "stream",
     "text": [
      "even 10\n",
      "even 12\n",
      "even 14\n",
      "even 16\n",
      "even 18\n",
      "even 20\n",
      "even 22\n",
      "even 24\n",
      "even 26\n",
      "even 28\n",
      "even 30\n",
      "even 32\n",
      "even 34\n",
      "even 36\n",
      "even 38\n",
      "even 40\n",
      "even 42\n",
      "even 44\n",
      "even 46\n",
      "even 48\n",
      "even 50\n",
      "even 52\n",
      "even 54\n",
      "even 56\n",
      "even 58\n",
      "even 60\n",
      "even 62\n",
      "even 64\n",
      "even 66\n",
      "even 68\n",
      "even 70\n",
      "even 72\n",
      "even 74\n",
      "even 76\n",
      "even 78\n",
      "even 80\n",
      "even 82\n",
      "even 84\n",
      "even 86\n",
      "even 88\n",
      "even 90\n",
      "even 92\n",
      "even 94\n",
      "even 96\n",
      "even 98\n",
      "even 100\n",
      "even 102\n",
      "even 104\n",
      "even 106\n",
      "even 108\n",
      "even 110\n",
      "even 112\n",
      "even 114\n",
      "even 116\n",
      "even 118\n",
      "even 120\n",
      "even 122\n",
      "even 124\n",
      "even 126\n",
      "even 128\n",
      "even 130\n",
      "even 132\n",
      "even 134\n",
      "even 136\n",
      "even 138\n",
      "even 140\n",
      "even 142\n",
      "even 144\n",
      "even 146\n",
      "even 148\n",
      "even 150\n",
      "even 152\n",
      "even 154\n",
      "even 156\n",
      "even 158\n",
      "even 160\n",
      "even 162\n",
      "even 164\n",
      "even 166\n",
      "even 168\n",
      "even 170\n",
      "even 172\n",
      "even 174\n",
      "even 176\n",
      "even 178\n",
      "even 180\n",
      "even 182\n",
      "even 184\n",
      "even 186\n",
      "even 188\n",
      "even 190\n",
      "even 192\n",
      "even 194\n",
      "even 196\n",
      "even 198\n",
      "even 200\n",
      "even 202\n",
      "even 204\n",
      "even 206\n",
      "even 208\n",
      "even 210\n",
      "even 212\n",
      "even 214\n",
      "even 216\n",
      "even 218\n",
      "even 220\n",
      "even 222\n",
      "even 224\n",
      "even 226\n",
      "even 228\n",
      "even 230\n",
      "even 232\n",
      "even 234\n",
      "even 236\n",
      "even 238\n",
      "even 240\n",
      "even 242\n",
      "even 244\n",
      "even 246\n",
      "even 248\n",
      "even 250\n",
      "even 252\n",
      "even 254\n",
      "even 256\n",
      "even 258\n",
      "even 260\n",
      "even 262\n",
      "even 264\n",
      "even 266\n",
      "even 268\n",
      "even 270\n",
      "even 272\n",
      "even 274\n",
      "even 276\n",
      "even 278\n",
      "even 280\n",
      "even 282\n",
      "even 284\n",
      "even 286\n",
      "even 288\n",
      "even 290\n",
      "even 292\n",
      "even 294\n",
      "even 296\n",
      "even 298\n",
      "even 300\n",
      "even 302\n",
      "even 304\n",
      "even 306\n",
      "even 308\n",
      "even 310\n",
      "even 312\n",
      "even 314\n",
      "even 316\n",
      "even 318\n",
      "even 320\n",
      "even 322\n",
      "even 324\n",
      "even 326\n",
      "even 328\n",
      "even 330\n",
      "even 332\n",
      "even 334\n",
      "even 336\n",
      "even 338\n",
      "even 340\n",
      "even 342\n",
      "even 344\n",
      "even 346\n",
      "even 348\n",
      "even 350\n",
      "even 352\n",
      "even 354\n",
      "even 356\n",
      "even 358\n",
      "even 360\n",
      "even 362\n",
      "even 364\n",
      "even 366\n",
      "even 368\n",
      "even 370\n",
      "even 372\n",
      "even 374\n",
      "even 376\n",
      "even 378\n",
      "even 380\n",
      "even 382\n",
      "even 384\n",
      "even 386\n",
      "even 388\n",
      "even 390\n",
      "even 392\n",
      "even 394\n",
      "even 396\n",
      "even 398\n",
      "even 400\n",
      "even 402\n",
      "even 404\n",
      "even 406\n",
      "even 408\n",
      "even 410\n",
      "even 412\n",
      "even 414\n",
      "even 416\n",
      "even 418\n",
      "even 420\n",
      "even 422\n",
      "even 424\n",
      "even 426\n",
      "even 428\n",
      "even 430\n",
      "even 432\n",
      "even 434\n",
      "even 436\n",
      "even 438\n",
      "even 440\n",
      "even 442\n",
      "even 444\n",
      "even 446\n",
      "even 448\n",
      "even 450\n",
      "even 452\n",
      "even 454\n",
      "even 456\n",
      "even 458\n",
      "even 460\n",
      "even 462\n",
      "even 464\n",
      "even 466\n",
      "even 468\n",
      "even 470\n",
      "even 472\n",
      "even 474\n",
      "even 476\n",
      "even 478\n",
      "even 480\n",
      "even 482\n",
      "even 484\n",
      "even 486\n",
      "even 488\n",
      "even 490\n",
      "even 492\n",
      "even 494\n",
      "even 496\n",
      "even 498\n",
      "even 500\n",
      "even 502\n",
      "even 504\n",
      "even 506\n",
      "even 508\n",
      "even 510\n",
      "even 512\n",
      "even 514\n",
      "even 516\n",
      "even 518\n",
      "even 520\n",
      "even 522\n",
      "even 524\n",
      "even 526\n",
      "even 528\n",
      "even 530\n",
      "even 532\n",
      "even 534\n",
      "even 536\n",
      "even 538\n",
      "even 540\n",
      "even 542\n",
      "even 544\n",
      "even 546\n",
      "even 548\n",
      "even 550\n",
      "even 552\n",
      "even 554\n",
      "even 556\n",
      "even 558\n",
      "even 560\n",
      "even 562\n",
      "even 564\n",
      "even 566\n",
      "even 568\n",
      "even 570\n",
      "even 572\n",
      "even 574\n",
      "even 576\n",
      "even 578\n",
      "even 580\n",
      "even 582\n",
      "even 584\n",
      "even 586\n",
      "even 588\n",
      "even 590\n",
      "even 592\n",
      "even 594\n",
      "even 596\n",
      "even 598\n",
      "even 600\n",
      "even 602\n",
      "even 604\n",
      "even 606\n",
      "even 608\n",
      "even 610\n",
      "even 612\n",
      "even 614\n",
      "even 616\n",
      "even 618\n",
      "even 620\n",
      "even 622\n",
      "even 624\n",
      "even 626\n",
      "even 628\n",
      "even 630\n",
      "odd 9\n",
      "odd 11\n",
      "odd 13\n",
      "odd 15\n",
      "odd 17\n",
      "odd 19\n",
      "odd 21\n",
      "odd 23\n",
      "odd 25\n",
      "odd 27\n",
      "odd 29\n",
      "odd 31\n",
      "odd 33\n",
      "odd 35\n",
      "odd 37\n",
      "odd 39\n",
      "odd 41\n",
      "odd 43\n",
      "odd 45\n",
      "odd 47\n",
      "odd 49\n",
      "odd 51\n",
      "odd 53\n",
      "odd 55\n",
      "odd 57\n",
      "odd 59\n",
      "odd 61\n",
      "odd 63\n",
      "odd 65\n",
      "odd 67\n",
      "odd 69\n",
      "odd 71\n",
      "odd 73\n",
      "odd 75\n",
      "odd 77\n",
      "odd 79\n",
      "odd 81\n",
      "odd 83\n",
      "odd 85\n",
      "odd 87\n",
      "odd 89\n",
      "odd 91\n",
      "odd 93\n",
      "odd 95\n",
      "odd 97\n",
      "odd 99\n",
      "odd 101\n",
      "odd 103\n",
      "odd 105\n",
      "odd 107\n",
      "odd 109\n",
      "odd 111\n",
      "odd 113\n",
      "odd 115\n",
      "odd 117\n",
      "odd 119\n",
      "odd 121\n",
      "odd 123\n",
      "odd 125\n",
      "odd 127\n",
      "odd 129\n",
      "odd 131\n",
      "odd 133\n",
      "odd 135\n",
      "odd 137\n",
      "odd 139\n",
      "odd 141\n",
      "odd 143\n",
      "odd 145\n",
      "odd 147\n",
      "odd 149\n",
      "odd 151\n",
      "odd 153\n",
      "odd 155\n",
      "odd 157\n",
      "odd 159\n",
      "odd 161\n",
      "odd 163\n",
      "odd 165\n",
      "odd 167\n",
      "odd 169\n",
      "odd 171\n",
      "odd 173\n",
      "odd 175\n",
      "odd 177\n",
      "odd 179\n",
      "odd 181\n",
      "odd 183\n",
      "odd 185\n",
      "odd 187\n",
      "odd 189\n",
      "odd 191\n",
      "odd 193\n",
      "odd 195\n",
      "odd 197\n",
      "odd 199\n",
      "odd 201\n",
      "odd 203\n",
      "odd 205\n",
      "odd 207\n",
      "odd 209\n",
      "odd 211\n",
      "odd 213\n",
      "odd 215\n",
      "odd 217\n",
      "odd 219\n",
      "odd 221\n",
      "odd 223\n",
      "odd 225\n",
      "odd 227\n",
      "odd 229\n",
      "odd 231\n",
      "odd 233\n",
      "odd 235\n",
      "odd 237\n",
      "odd 239\n",
      "odd 241\n",
      "odd 243\n",
      "odd 245\n",
      "odd 247\n",
      "odd 249\n",
      "odd 251\n",
      "odd 253\n",
      "odd 255\n",
      "odd 257\n",
      "odd 259\n",
      "odd 261\n",
      "odd 263\n",
      "odd 265\n",
      "odd 267\n",
      "odd 269\n",
      "odd 271\n",
      "odd 273\n",
      "odd 275\n",
      "odd 277\n",
      "odd 279\n",
      "odd 281\n",
      "odd 283\n",
      "odd 285\n",
      "odd 287\n",
      "odd 289\n",
      "odd 291\n",
      "odd 293\n",
      "odd 295\n",
      "odd 297\n",
      "odd 299\n",
      "odd 301\n",
      "odd 303\n",
      "odd 305\n",
      "odd 307\n",
      "odd 309\n",
      "odd 311\n",
      "odd 313\n",
      "odd 315\n",
      "odd 317\n",
      "odd 319\n",
      "odd 321\n",
      "odd 323\n",
      "odd 325\n",
      "odd 327\n",
      "odd 329\n",
      "odd 331\n",
      "odd 333\n",
      "odd 335\n",
      "odd 337\n",
      "odd 339\n",
      "odd 341\n",
      "odd 343\n",
      "odd 345\n",
      "odd 347\n",
      "odd 349\n",
      "odd 351\n",
      "odd 353\n",
      "odd 355\n",
      "odd 357\n",
      "odd 359\n",
      "odd 361\n",
      "odd 363\n",
      "odd 365\n",
      "odd 367\n",
      "odd 369\n",
      "odd 371\n",
      "odd 373\n",
      "odd 375\n",
      "odd 377\n",
      "odd 379\n",
      "odd 381\n",
      "odd 383\n",
      "odd 385\n",
      "odd 387\n",
      "odd 389\n",
      "odd 391\n",
      "odd 393\n",
      "odd 395\n",
      "odd 397\n",
      "odd 399\n",
      "odd 401\n",
      "odd 403\n",
      "odd 405\n",
      "odd 407\n",
      "odd 409\n",
      "odd 411\n",
      "odd 413\n",
      "odd 415\n",
      "odd 417\n",
      "odd 419\n",
      "odd 421\n",
      "odd 423\n",
      "odd 425\n",
      "odd 427\n",
      "odd 429\n",
      "odd 431\n",
      "odd 433\n",
      "odd 435\n",
      "odd 437\n",
      "odd 439\n",
      "odd 441\n",
      "odd 443\n",
      "odd 445\n",
      "odd 447\n",
      "odd 449\n",
      "odd 451\n",
      "odd 453\n",
      "odd 455\n",
      "odd 457\n",
      "odd 459\n",
      "odd 461\n",
      "odd 463\n",
      "odd 465\n",
      "odd 467\n",
      "odd 469\n",
      "odd 471\n",
      "odd 473\n",
      "odd 475\n",
      "odd 477\n",
      "odd 479\n",
      "odd 481\n",
      "odd 483\n",
      "odd 485\n",
      "odd 487\n",
      "odd 489\n",
      "odd 491\n",
      "odd 493\n",
      "odd 495\n",
      "odd 497\n",
      "odd 499\n",
      "odd 501\n",
      "odd 503\n",
      "odd 505\n",
      "odd 507\n",
      "odd 509\n",
      "odd 511\n",
      "odd 513\n",
      "odd 515\n",
      "odd 517\n",
      "odd 519\n",
      "odd 521\n",
      "odd 523\n",
      "odd 525\n",
      "odd 527\n",
      "odd 529\n",
      "odd 531\n",
      "odd 533\n",
      "odd 535\n",
      "odd 537\n",
      "odd 539\n",
      "odd 541\n",
      "odd 543\n",
      "odd 545\n",
      "odd 547\n",
      "odd 549\n",
      "odd 551\n",
      "odd 553\n",
      "odd 555\n",
      "odd 557\n",
      "odd 559\n",
      "odd 561\n",
      "odd 563\n",
      "odd 565\n",
      "odd 567\n",
      "odd 569\n",
      "odd 571\n",
      "odd 573\n",
      "odd 575\n",
      "odd 577\n",
      "odd 579\n",
      "odd 581\n",
      "odd 583\n",
      "odd 585\n",
      "odd 587\n",
      "odd 589\n",
      "odd 591\n",
      "odd 593\n",
      "odd 595\n",
      "odd 597\n",
      "odd 599\n",
      "odd 601\n",
      "odd 603\n",
      "odd 605\n",
      "odd 607\n",
      "odd 609\n",
      "odd 611\n",
      "odd 613\n",
      "odd 615\n",
      "odd 617\n",
      "odd 619\n",
      "odd 621\n",
      "odd 623\n",
      "odd 625\n",
      "odd 627\n",
      "odd 629\n"
     ]
    }
   ],
   "source": [
    "odd=0\n",
    "evem=0\n",
    "for x in range(10,631,2):\n",
    "    even=+x\n",
    "    print(\"even\",even)\n",
    "for y in range(9,630,2):\n",
    "    odd=+y\n",
    "    print(\"odd\",odd)\n"
   ]
  },
  {
   "cell_type": "code",
   "execution_count": 65,
   "id": "137ec0c3",
   "metadata": {
    "scrolled": true
   },
   "outputs": [
    {
     "name": "stdout",
     "output_type": "stream",
     "text": [
      "10 is an even\n",
      "11 is an odd\n",
      "12 is an even\n",
      "13 is an odd\n",
      "14 is an even\n",
      "15 is an odd\n",
      "16 is an even\n",
      "17 is an odd\n",
      "18 is an even\n",
      "19 is an odd\n",
      "20 is an even\n",
      "21 is an odd\n",
      "22 is an even\n",
      "23 is an odd\n",
      "24 is an even\n",
      "25 is an odd\n",
      "26 is an even\n",
      "27 is an odd\n",
      "28 is an even\n",
      "29 is an odd\n",
      "30 is an even\n",
      "31 is an odd\n",
      "32 is an even\n",
      "33 is an odd\n",
      "34 is an even\n",
      "35 is an odd\n",
      "36 is an even\n",
      "37 is an odd\n",
      "38 is an even\n",
      "39 is an odd\n",
      "40 is an even\n",
      "41 is an odd\n",
      "42 is an even\n",
      "43 is an odd\n",
      "44 is an even\n",
      "45 is an odd\n",
      "46 is an even\n",
      "47 is an odd\n",
      "48 is an even\n",
      "49 is an odd\n",
      "50 is an even\n",
      "51 is an odd\n",
      "52 is an even\n",
      "53 is an odd\n",
      "54 is an even\n",
      "55 is an odd\n",
      "56 is an even\n",
      "57 is an odd\n",
      "58 is an even\n",
      "59 is an odd\n",
      "60 is an even\n",
      "61 is an odd\n",
      "62 is an even\n",
      "63 is an odd\n",
      "64 is an even\n",
      "65 is an odd\n",
      "66 is an even\n",
      "67 is an odd\n",
      "68 is an even\n",
      "69 is an odd\n",
      "70 is an even\n",
      "71 is an odd\n",
      "72 is an even\n",
      "73 is an odd\n",
      "74 is an even\n",
      "75 is an odd\n",
      "76 is an even\n",
      "77 is an odd\n",
      "78 is an even\n",
      "79 is an odd\n",
      "80 is an even\n",
      "81 is an odd\n",
      "82 is an even\n",
      "83 is an odd\n",
      "84 is an even\n",
      "85 is an odd\n",
      "86 is an even\n",
      "87 is an odd\n",
      "88 is an even\n",
      "89 is an odd\n",
      "90 is an even\n",
      "91 is an odd\n",
      "92 is an even\n",
      "93 is an odd\n",
      "94 is an even\n",
      "95 is an odd\n",
      "96 is an even\n",
      "97 is an odd\n",
      "98 is an even\n",
      "99 is an odd\n",
      "100 is an even\n",
      "101 is an odd\n",
      "102 is an even\n",
      "103 is an odd\n",
      "104 is an even\n",
      "105 is an odd\n",
      "106 is an even\n",
      "107 is an odd\n",
      "108 is an even\n",
      "109 is an odd\n",
      "110 is an even\n",
      "111 is an odd\n",
      "112 is an even\n",
      "113 is an odd\n",
      "114 is an even\n",
      "115 is an odd\n",
      "116 is an even\n",
      "117 is an odd\n",
      "118 is an even\n",
      "119 is an odd\n",
      "120 is an even\n",
      "121 is an odd\n",
      "122 is an even\n",
      "123 is an odd\n",
      "124 is an even\n",
      "125 is an odd\n",
      "126 is an even\n",
      "127 is an odd\n",
      "128 is an even\n",
      "129 is an odd\n",
      "130 is an even\n",
      "131 is an odd\n",
      "132 is an even\n",
      "133 is an odd\n",
      "134 is an even\n",
      "135 is an odd\n",
      "136 is an even\n",
      "137 is an odd\n",
      "138 is an even\n",
      "139 is an odd\n",
      "140 is an even\n",
      "141 is an odd\n",
      "142 is an even\n",
      "143 is an odd\n",
      "144 is an even\n",
      "145 is an odd\n",
      "146 is an even\n",
      "147 is an odd\n",
      "148 is an even\n",
      "149 is an odd\n",
      "150 is an even\n",
      "151 is an odd\n",
      "152 is an even\n",
      "153 is an odd\n",
      "154 is an even\n",
      "155 is an odd\n",
      "156 is an even\n",
      "157 is an odd\n",
      "158 is an even\n",
      "159 is an odd\n",
      "160 is an even\n",
      "161 is an odd\n",
      "162 is an even\n",
      "163 is an odd\n",
      "164 is an even\n",
      "165 is an odd\n",
      "166 is an even\n",
      "167 is an odd\n",
      "168 is an even\n",
      "169 is an odd\n",
      "170 is an even\n",
      "171 is an odd\n",
      "172 is an even\n",
      "173 is an odd\n",
      "174 is an even\n",
      "175 is an odd\n",
      "176 is an even\n",
      "177 is an odd\n",
      "178 is an even\n",
      "179 is an odd\n",
      "180 is an even\n",
      "181 is an odd\n",
      "182 is an even\n",
      "183 is an odd\n",
      "184 is an even\n",
      "185 is an odd\n",
      "186 is an even\n",
      "187 is an odd\n",
      "188 is an even\n",
      "189 is an odd\n",
      "190 is an even\n",
      "191 is an odd\n",
      "192 is an even\n",
      "193 is an odd\n",
      "194 is an even\n",
      "195 is an odd\n",
      "196 is an even\n",
      "197 is an odd\n",
      "198 is an even\n",
      "199 is an odd\n",
      "200 is an even\n",
      "201 is an odd\n",
      "202 is an even\n",
      "203 is an odd\n",
      "204 is an even\n",
      "205 is an odd\n",
      "206 is an even\n",
      "207 is an odd\n",
      "208 is an even\n",
      "209 is an odd\n",
      "210 is an even\n",
      "211 is an odd\n",
      "212 is an even\n",
      "213 is an odd\n",
      "214 is an even\n",
      "215 is an odd\n",
      "216 is an even\n",
      "217 is an odd\n",
      "218 is an even\n",
      "219 is an odd\n",
      "220 is an even\n",
      "221 is an odd\n",
      "222 is an even\n",
      "223 is an odd\n",
      "224 is an even\n",
      "225 is an odd\n",
      "226 is an even\n",
      "227 is an odd\n",
      "228 is an even\n",
      "229 is an odd\n",
      "230 is an even\n",
      "231 is an odd\n",
      "232 is an even\n",
      "233 is an odd\n",
      "234 is an even\n",
      "235 is an odd\n",
      "236 is an even\n",
      "237 is an odd\n",
      "238 is an even\n",
      "239 is an odd\n",
      "240 is an even\n",
      "241 is an odd\n",
      "242 is an even\n",
      "243 is an odd\n",
      "244 is an even\n",
      "245 is an odd\n",
      "246 is an even\n",
      "247 is an odd\n",
      "248 is an even\n",
      "249 is an odd\n",
      "250 is an even\n",
      "251 is an odd\n",
      "252 is an even\n",
      "253 is an odd\n",
      "254 is an even\n",
      "255 is an odd\n",
      "256 is an even\n",
      "257 is an odd\n",
      "258 is an even\n",
      "259 is an odd\n",
      "260 is an even\n",
      "261 is an odd\n",
      "262 is an even\n",
      "263 is an odd\n",
      "264 is an even\n",
      "265 is an odd\n",
      "266 is an even\n",
      "267 is an odd\n",
      "268 is an even\n",
      "269 is an odd\n",
      "270 is an even\n",
      "271 is an odd\n",
      "272 is an even\n",
      "273 is an odd\n",
      "274 is an even\n",
      "275 is an odd\n",
      "276 is an even\n",
      "277 is an odd\n",
      "278 is an even\n",
      "279 is an odd\n",
      "280 is an even\n",
      "281 is an odd\n",
      "282 is an even\n",
      "283 is an odd\n",
      "284 is an even\n",
      "285 is an odd\n",
      "286 is an even\n",
      "287 is an odd\n",
      "288 is an even\n",
      "289 is an odd\n",
      "290 is an even\n",
      "291 is an odd\n",
      "292 is an even\n",
      "293 is an odd\n",
      "294 is an even\n",
      "295 is an odd\n",
      "296 is an even\n",
      "297 is an odd\n",
      "298 is an even\n",
      "299 is an odd\n",
      "300 is an even\n",
      "301 is an odd\n",
      "302 is an even\n",
      "303 is an odd\n",
      "304 is an even\n",
      "305 is an odd\n",
      "306 is an even\n",
      "307 is an odd\n",
      "308 is an even\n",
      "309 is an odd\n",
      "310 is an even\n",
      "311 is an odd\n",
      "312 is an even\n",
      "313 is an odd\n",
      "314 is an even\n",
      "315 is an odd\n",
      "316 is an even\n",
      "317 is an odd\n",
      "318 is an even\n",
      "319 is an odd\n",
      "320 is an even\n",
      "321 is an odd\n",
      "322 is an even\n",
      "323 is an odd\n",
      "324 is an even\n",
      "325 is an odd\n",
      "326 is an even\n",
      "327 is an odd\n",
      "328 is an even\n",
      "329 is an odd\n",
      "330 is an even\n",
      "331 is an odd\n",
      "332 is an even\n",
      "333 is an odd\n",
      "334 is an even\n",
      "335 is an odd\n",
      "336 is an even\n",
      "337 is an odd\n",
      "338 is an even\n",
      "339 is an odd\n",
      "340 is an even\n",
      "341 is an odd\n",
      "342 is an even\n",
      "343 is an odd\n",
      "344 is an even\n",
      "345 is an odd\n",
      "346 is an even\n",
      "347 is an odd\n",
      "348 is an even\n",
      "349 is an odd\n",
      "350 is an even\n",
      "351 is an odd\n",
      "352 is an even\n",
      "353 is an odd\n",
      "354 is an even\n",
      "355 is an odd\n",
      "356 is an even\n",
      "357 is an odd\n",
      "358 is an even\n",
      "359 is an odd\n",
      "360 is an even\n",
      "361 is an odd\n",
      "362 is an even\n",
      "363 is an odd\n",
      "364 is an even\n",
      "365 is an odd\n",
      "366 is an even\n",
      "367 is an odd\n",
      "368 is an even\n",
      "369 is an odd\n",
      "370 is an even\n",
      "371 is an odd\n",
      "372 is an even\n",
      "373 is an odd\n",
      "374 is an even\n",
      "375 is an odd\n",
      "376 is an even\n",
      "377 is an odd\n",
      "378 is an even\n",
      "379 is an odd\n",
      "380 is an even\n",
      "381 is an odd\n",
      "382 is an even\n",
      "383 is an odd\n",
      "384 is an even\n",
      "385 is an odd\n",
      "386 is an even\n",
      "387 is an odd\n",
      "388 is an even\n",
      "389 is an odd\n",
      "390 is an even\n",
      "391 is an odd\n",
      "392 is an even\n",
      "393 is an odd\n",
      "394 is an even\n",
      "395 is an odd\n",
      "396 is an even\n",
      "397 is an odd\n",
      "398 is an even\n",
      "399 is an odd\n",
      "400 is an even\n",
      "401 is an odd\n",
      "402 is an even\n",
      "403 is an odd\n",
      "404 is an even\n",
      "405 is an odd\n",
      "406 is an even\n",
      "407 is an odd\n",
      "408 is an even\n",
      "409 is an odd\n",
      "410 is an even\n",
      "411 is an odd\n",
      "412 is an even\n",
      "413 is an odd\n",
      "414 is an even\n",
      "415 is an odd\n",
      "416 is an even\n",
      "417 is an odd\n",
      "418 is an even\n",
      "419 is an odd\n",
      "420 is an even\n",
      "421 is an odd\n",
      "422 is an even\n",
      "423 is an odd\n",
      "424 is an even\n",
      "425 is an odd\n",
      "426 is an even\n",
      "427 is an odd\n",
      "428 is an even\n",
      "429 is an odd\n",
      "430 is an even\n",
      "431 is an odd\n",
      "432 is an even\n",
      "433 is an odd\n",
      "434 is an even\n",
      "435 is an odd\n",
      "436 is an even\n",
      "437 is an odd\n",
      "438 is an even\n",
      "439 is an odd\n",
      "440 is an even\n",
      "441 is an odd\n",
      "442 is an even\n",
      "443 is an odd\n",
      "444 is an even\n",
      "445 is an odd\n",
      "446 is an even\n",
      "447 is an odd\n",
      "448 is an even\n",
      "449 is an odd\n",
      "450 is an even\n",
      "451 is an odd\n",
      "452 is an even\n",
      "453 is an odd\n",
      "454 is an even\n",
      "455 is an odd\n",
      "456 is an even\n",
      "457 is an odd\n",
      "458 is an even\n",
      "459 is an odd\n",
      "460 is an even\n",
      "461 is an odd\n",
      "462 is an even\n",
      "463 is an odd\n",
      "464 is an even\n",
      "465 is an odd\n",
      "466 is an even\n",
      "467 is an odd\n",
      "468 is an even\n",
      "469 is an odd\n",
      "470 is an even\n",
      "471 is an odd\n",
      "472 is an even\n",
      "473 is an odd\n",
      "474 is an even\n",
      "475 is an odd\n",
      "476 is an even\n",
      "477 is an odd\n",
      "478 is an even\n",
      "479 is an odd\n",
      "480 is an even\n",
      "481 is an odd\n",
      "482 is an even\n",
      "483 is an odd\n",
      "484 is an even\n",
      "485 is an odd\n",
      "486 is an even\n",
      "487 is an odd\n",
      "488 is an even\n",
      "489 is an odd\n",
      "490 is an even\n",
      "491 is an odd\n",
      "492 is an even\n",
      "493 is an odd\n",
      "494 is an even\n",
      "495 is an odd\n",
      "496 is an even\n",
      "497 is an odd\n",
      "498 is an even\n",
      "499 is an odd\n",
      "500 is an even\n",
      "501 is an odd\n",
      "502 is an even\n",
      "503 is an odd\n",
      "504 is an even\n",
      "505 is an odd\n",
      "506 is an even\n",
      "507 is an odd\n",
      "508 is an even\n",
      "509 is an odd\n",
      "510 is an even\n",
      "511 is an odd\n",
      "512 is an even\n",
      "513 is an odd\n",
      "514 is an even\n",
      "515 is an odd\n",
      "516 is an even\n",
      "517 is an odd\n",
      "518 is an even\n",
      "519 is an odd\n",
      "520 is an even\n",
      "521 is an odd\n",
      "522 is an even\n",
      "523 is an odd\n",
      "524 is an even\n",
      "525 is an odd\n",
      "526 is an even\n",
      "527 is an odd\n",
      "528 is an even\n",
      "529 is an odd\n",
      "530 is an even\n",
      "531 is an odd\n",
      "532 is an even\n",
      "533 is an odd\n",
      "534 is an even\n",
      "535 is an odd\n",
      "536 is an even\n",
      "537 is an odd\n",
      "538 is an even\n",
      "539 is an odd\n",
      "540 is an even\n",
      "541 is an odd\n",
      "542 is an even\n",
      "543 is an odd\n",
      "544 is an even\n",
      "545 is an odd\n",
      "546 is an even\n",
      "547 is an odd\n",
      "548 is an even\n",
      "549 is an odd\n",
      "550 is an even\n",
      "551 is an odd\n",
      "552 is an even\n",
      "553 is an odd\n",
      "554 is an even\n",
      "555 is an odd\n",
      "556 is an even\n",
      "557 is an odd\n",
      "558 is an even\n",
      "559 is an odd\n",
      "560 is an even\n",
      "561 is an odd\n",
      "562 is an even\n",
      "563 is an odd\n",
      "564 is an even\n",
      "565 is an odd\n",
      "566 is an even\n",
      "567 is an odd\n",
      "568 is an even\n",
      "569 is an odd\n",
      "570 is an even\n",
      "571 is an odd\n",
      "572 is an even\n",
      "573 is an odd\n",
      "574 is an even\n",
      "575 is an odd\n",
      "576 is an even\n",
      "577 is an odd\n",
      "578 is an even\n",
      "579 is an odd\n",
      "580 is an even\n",
      "581 is an odd\n",
      "582 is an even\n",
      "583 is an odd\n",
      "584 is an even\n",
      "585 is an odd\n",
      "586 is an even\n",
      "587 is an odd\n",
      "588 is an even\n",
      "589 is an odd\n",
      "590 is an even\n",
      "591 is an odd\n",
      "592 is an even\n",
      "593 is an odd\n",
      "594 is an even\n",
      "595 is an odd\n",
      "596 is an even\n",
      "597 is an odd\n",
      "598 is an even\n",
      "599 is an odd\n",
      "600 is an even\n",
      "601 is an odd\n",
      "602 is an even\n",
      "603 is an odd\n",
      "604 is an even\n",
      "605 is an odd\n",
      "606 is an even\n",
      "607 is an odd\n",
      "608 is an even\n",
      "609 is an odd\n",
      "610 is an even\n",
      "611 is an odd\n",
      "612 is an even\n",
      "613 is an odd\n",
      "614 is an even\n",
      "615 is an odd\n",
      "616 is an even\n",
      "617 is an odd\n",
      "618 is an even\n",
      "619 is an odd\n",
      "620 is an even\n",
      "621 is an odd\n",
      "622 is an even\n",
      "623 is an odd\n",
      "624 is an even\n",
      "625 is an odd\n",
      "626 is an even\n",
      "627 is an odd\n",
      "628 is an even\n",
      "629 is an odd\n",
      "630 is an even\n"
     ]
    }
   ],
   "source": [
    "for x in range (10,631):\n",
    "    if x %2==0:\n",
    "        print(x,\"is an even\")\n",
    "    else:\n",
    "        print(x,\"is an odd\")"
   ]
  },
  {
   "cell_type": "code",
   "execution_count": 73,
   "id": "6c59c382",
   "metadata": {
    "scrolled": true
   },
   "outputs": [
    {
     "name": "stdout",
     "output_type": "stream",
     "text": [
      "10\n",
      "11\n",
      "12\n",
      "13\n",
      "14\n",
      "15\n",
      "16\n",
      "17\n",
      "18\n",
      "19\n",
      "20\n",
      "21\n",
      "22\n",
      "23\n",
      "24\n",
      "25\n",
      "26\n",
      "27\n",
      "28\n",
      "29\n",
      "30\n",
      "31\n",
      "32\n",
      "33\n",
      "34\n",
      "35\n",
      "36\n",
      "37\n",
      "38\n",
      "39\n",
      "40\n",
      "41\n",
      "42\n",
      "43\n",
      "44\n",
      "45\n",
      "46\n",
      "47\n",
      "48\n",
      "49\n",
      "50\n",
      "51\n",
      "52\n",
      "53\n",
      "54\n",
      "55\n",
      "56\n",
      "57\n",
      "58\n",
      "59\n",
      "60\n",
      "61\n",
      "62\n",
      "63\n",
      "64\n",
      "65\n",
      "66\n",
      "67\n",
      "68\n",
      "69\n",
      "70\n",
      "71\n",
      "72\n",
      "73\n",
      "74\n",
      "75\n",
      "76\n",
      "77\n",
      "78\n",
      "79\n",
      "80\n",
      "81\n",
      "82\n",
      "83\n",
      "84\n",
      "85\n",
      "86\n",
      "87\n",
      "88\n",
      "89\n",
      "90\n",
      "91\n",
      "92\n",
      "93\n",
      "94\n",
      "95\n",
      "96\n",
      "97\n",
      "98\n",
      "99\n",
      "hi\n"
     ]
    }
   ],
   "source": [
    "for x in range(10,100):\n",
    "    print(x)\n",
    "print (\"hi\")"
   ]
  },
  {
   "cell_type": "code",
   "execution_count": 80,
   "id": "41ddcbf6",
   "metadata": {},
   "outputs": [
    {
     "name": "stdout",
     "output_type": "stream",
     "text": [
      "1\n",
      "2\n",
      "3\n",
      "4\n",
      "5\n",
      "6\n",
      "7\n",
      "8\n",
      "9\n",
      "10\n",
      "11\n",
      "12\n",
      "13\n",
      "14\n",
      "15\n",
      "16\n",
      "17\n",
      "18\n",
      "19\n",
      "20\n",
      "21\n",
      "22\n",
      "23\n",
      "24\n",
      "25\n",
      "26\n",
      "27\n",
      "28\n",
      "29\n",
      "30\n",
      "31\n",
      "32\n",
      "33\n",
      "34\n",
      "35\n",
      "36\n",
      "37\n",
      "38\n",
      "39\n",
      "40\n",
      "41\n",
      "42\n",
      "43\n",
      "44\n",
      "45\n",
      "46\n",
      "47\n",
      "48\n",
      "49\n",
      "50\n",
      "51\n",
      "52\n",
      "53\n",
      "54\n",
      "55\n",
      "56\n",
      "57\n",
      "58\n",
      "59\n",
      "60\n",
      "61\n",
      "62\n",
      "63\n",
      "64\n",
      "65\n",
      "66\n",
      "67\n",
      "68\n",
      "69\n",
      "70\n",
      "71\n",
      "72\n",
      "73\n",
      "74\n",
      "75\n",
      "76\n",
      "77\n",
      "78\n",
      "79\n",
      "80\n",
      "81\n",
      "82\n",
      "83\n",
      "84\n",
      "85\n",
      "86\n",
      "87\n",
      "88\n",
      "89\n",
      "90\n",
      "91\n",
      "92\n",
      "93\n",
      "94\n",
      "95\n",
      "96\n",
      "97\n",
      "98\n",
      "99\n",
      "100\n",
      "101\n",
      "102\n",
      "103\n",
      "104\n",
      "105\n",
      "106\n",
      "107\n",
      "108\n",
      "109\n",
      "110\n",
      "111\n",
      "112\n",
      "113\n",
      "114\n",
      "115\n",
      "116\n",
      "117\n",
      "118\n",
      "119\n",
      "120\n",
      "121\n",
      "122\n",
      "123\n",
      "124\n",
      "125\n",
      "126\n",
      "127\n",
      "128\n",
      "129\n",
      "130\n",
      "131\n",
      "132\n",
      "133\n",
      "134\n",
      "135\n",
      "136\n",
      "137\n",
      "138\n",
      "139\n",
      "140\n",
      "141\n",
      "142\n",
      "143\n",
      "144\n",
      "145\n",
      "146\n",
      "147\n",
      "148\n",
      "149\n",
      "150\n",
      "151\n",
      "152\n",
      "153\n",
      "154\n",
      "155\n",
      "156\n",
      "157\n",
      "158\n",
      "159\n",
      "160\n",
      "161\n",
      "162\n",
      "163\n",
      "164\n",
      "165\n",
      "166\n",
      "167\n",
      "168\n",
      "169\n",
      "170\n",
      "171\n",
      "172\n",
      "173\n",
      "174\n",
      "175\n",
      "176\n",
      "177\n",
      "178\n",
      "179\n",
      "180\n",
      "181\n",
      "182\n",
      "183\n",
      "184\n",
      "185\n",
      "186\n",
      "187\n",
      "188\n",
      "189\n",
      "190\n",
      "191\n",
      "192\n",
      "193\n",
      "194\n",
      "195\n",
      "196\n",
      "197\n",
      "198\n",
      "199\n",
      "200\n",
      "201\n",
      "202\n",
      "203\n",
      "204\n",
      "205\n",
      "206\n",
      "207\n",
      "208\n",
      "209\n",
      "210\n",
      "211\n",
      "212\n",
      "213\n",
      "214\n",
      "215\n",
      "216\n",
      "217\n",
      "218\n",
      "219\n",
      "220\n",
      "221\n",
      "222\n",
      "223\n",
      "224\n",
      "225\n",
      "226\n",
      "227\n",
      "228\n",
      "229\n",
      "230\n",
      "231\n",
      "232\n",
      "233\n",
      "234\n",
      "235\n",
      "236\n",
      "237\n",
      "238\n",
      "239\n",
      "240\n",
      "241\n",
      "242\n",
      "243\n",
      "244\n",
      "245\n",
      "246\n",
      "247\n",
      "248\n",
      "249\n",
      "250\n",
      "251\n",
      "252\n",
      "253\n",
      "254\n",
      "255\n",
      "256\n",
      "257\n",
      "258\n",
      "259\n",
      "260\n",
      "261\n",
      "262\n",
      "263\n",
      "264\n",
      "265\n",
      "266\n",
      "267\n",
      "268\n",
      "269\n",
      "270\n",
      "271\n",
      "272\n",
      "273\n",
      "274\n",
      "275\n",
      "276\n",
      "277\n",
      "278\n",
      "279\n",
      "280\n",
      "281\n",
      "282\n",
      "283\n",
      "284\n",
      "285\n",
      "286\n",
      "287\n",
      "288\n",
      "289\n",
      "290\n",
      "291\n",
      "292\n",
      "293\n",
      "294\n",
      "295\n",
      "296\n",
      "297\n",
      "298\n",
      "299\n",
      "300\n",
      "301\n",
      "302\n",
      "303\n",
      "304\n",
      "305\n",
      "306\n",
      "307\n",
      "308\n",
      "309\n",
      "310\n",
      "311\n",
      "312\n",
      "313\n",
      "314\n",
      "315\n",
      "316\n",
      "317\n",
      "318\n",
      "319\n",
      "320\n",
      "321\n",
      "322\n",
      "323\n",
      "324\n",
      "325\n",
      "326\n",
      "327\n",
      "328\n",
      "329\n",
      "330\n",
      "331\n",
      "332\n",
      "333\n",
      "334\n",
      "335\n",
      "336\n",
      "337\n",
      "338\n",
      "339\n",
      "340\n",
      "341\n",
      "342\n",
      "343\n",
      "344\n",
      "345\n",
      "346\n",
      "347\n",
      "348\n",
      "349\n",
      "350\n",
      "351\n",
      "352\n",
      "353\n",
      "354\n",
      "355\n",
      "356\n",
      "357\n",
      "358\n",
      "359\n",
      "360\n",
      "361\n",
      "362\n",
      "363\n",
      "364\n",
      "365\n",
      "366\n",
      "367\n",
      "368\n",
      "369\n",
      "370\n",
      "371\n",
      "372\n",
      "373\n",
      "374\n",
      "375\n",
      "376\n",
      "377\n",
      "378\n",
      "379\n",
      "380\n",
      "381\n",
      "382\n",
      "383\n",
      "384\n",
      "385\n",
      "386\n",
      "387\n",
      "388\n",
      "389\n",
      "390\n",
      "391\n",
      "392\n",
      "393\n",
      "394\n",
      "395\n",
      "396\n",
      "397\n",
      "398\n",
      "399\n",
      "400\n",
      "401\n",
      "402\n",
      "403\n",
      "404\n",
      "405\n",
      "406\n",
      "407\n",
      "408\n",
      "409\n",
      "410\n",
      "411\n",
      "412\n",
      "413\n",
      "414\n",
      "415\n",
      "416\n",
      "417\n",
      "418\n",
      "419\n",
      "420\n",
      "421\n",
      "422\n",
      "423\n",
      "424\n",
      "425\n",
      "426\n",
      "427\n",
      "428\n",
      "429\n",
      "430\n",
      "431\n",
      "432\n",
      "433\n",
      "434\n",
      "435\n",
      "436\n",
      "437\n",
      "438\n",
      "439\n",
      "440\n",
      "441\n",
      "442\n",
      "443\n",
      "444\n",
      "445\n",
      "446\n",
      "447\n",
      "448\n",
      "449\n",
      "450\n",
      "451\n",
      "452\n",
      "453\n",
      "454\n",
      "455\n",
      "456\n",
      "457\n",
      "458\n",
      "459\n",
      "460\n",
      "461\n",
      "462\n",
      "463\n",
      "464\n",
      "465\n",
      "466\n",
      "467\n",
      "468\n",
      "469\n",
      "470\n",
      "471\n",
      "472\n",
      "473\n",
      "474\n",
      "475\n",
      "476\n",
      "477\n",
      "478\n",
      "479\n",
      "480\n",
      "481\n",
      "482\n",
      "483\n",
      "484\n",
      "485\n",
      "486\n",
      "487\n",
      "488\n",
      "489\n",
      "490\n",
      "491\n",
      "492\n",
      "493\n",
      "494\n",
      "495\n",
      "496\n",
      "497\n",
      "498\n",
      "499\n",
      "500\n",
      "501\n",
      "502\n",
      "503\n",
      "504\n",
      "505\n",
      "506\n",
      "507\n",
      "508\n",
      "509\n",
      "510\n",
      "511\n",
      "512\n",
      "513\n",
      "514\n",
      "515\n",
      "516\n",
      "517\n",
      "518\n",
      "519\n",
      "520\n",
      "521\n",
      "522\n",
      "523\n",
      "524\n",
      "525\n",
      "526\n",
      "527\n",
      "528\n",
      "529\n",
      "530\n",
      "531\n",
      "532\n",
      "533\n",
      "534\n",
      "535\n",
      "536\n",
      "537\n",
      "538\n",
      "539\n",
      "540\n",
      "541\n",
      "542\n",
      "543\n",
      "544\n",
      "545\n",
      "546\n",
      "547\n",
      "548\n",
      "549\n",
      "550\n",
      "551\n",
      "552\n",
      "553\n",
      "554\n",
      "555\n",
      "556\n",
      "557\n",
      "558\n",
      "559\n",
      "560\n",
      "561\n",
      "562\n",
      "563\n",
      "564\n",
      "565\n",
      "566\n",
      "567\n",
      "568\n",
      "569\n",
      "570\n",
      "571\n",
      "572\n",
      "573\n",
      "574\n",
      "575\n",
      "576\n",
      "577\n",
      "578\n",
      "579\n",
      "580\n",
      "581\n",
      "582\n",
      "583\n",
      "584\n",
      "585\n",
      "586\n",
      "587\n",
      "588\n",
      "589\n",
      "590\n",
      "591\n",
      "592\n",
      "593\n",
      "594\n",
      "595\n",
      "596\n",
      "597\n",
      "598\n",
      "599\n",
      "600\n",
      "601\n",
      "602\n",
      "603\n",
      "604\n",
      "605\n",
      "606\n",
      "607\n",
      "608\n",
      "609\n",
      "610\n",
      "611\n",
      "612\n",
      "613\n",
      "614\n",
      "615\n",
      "616\n",
      "617\n",
      "618\n",
      "619\n",
      "620\n",
      "621\n",
      "622\n",
      "623\n",
      "624\n",
      "625\n",
      "626\n",
      "627\n",
      "628\n",
      "629\n",
      "630\n",
      "631\n",
      "632\n",
      "633\n",
      "634\n",
      "635\n",
      "636\n",
      "637\n",
      "638\n",
      "639\n",
      "640\n",
      "641\n",
      "642\n",
      "643\n",
      "644\n",
      "645\n",
      "646\n",
      "647\n",
      "648\n",
      "649\n",
      "650\n",
      "651\n",
      "652\n",
      "653\n",
      "654\n",
      "655\n",
      "656\n",
      "657\n",
      "658\n",
      "659\n",
      "660\n",
      "661\n",
      "662\n",
      "663\n",
      "664\n",
      "665\n",
      "666\n",
      "667\n",
      "668\n",
      "669\n",
      "670\n",
      "671\n",
      "672\n",
      "673\n",
      "674\n",
      "675\n",
      "676\n",
      "677\n",
      "678\n",
      "679\n",
      "680\n",
      "681\n",
      "682\n",
      "683\n",
      "684\n",
      "685\n",
      "686\n",
      "687\n",
      "688\n",
      "689\n",
      "690\n",
      "691\n",
      "692\n",
      "693\n",
      "694\n",
      "695\n",
      "696\n",
      "697\n",
      "698\n",
      "699\n",
      "700\n",
      "701\n",
      "702\n",
      "703\n",
      "704\n",
      "705\n",
      "706\n",
      "707\n",
      "708\n",
      "709\n",
      "710\n",
      "711\n",
      "712\n",
      "713\n",
      "714\n",
      "715\n",
      "716\n",
      "717\n",
      "718\n",
      "719\n",
      "720\n",
      "721\n",
      "722\n",
      "723\n",
      "724\n",
      "725\n",
      "726\n",
      "727\n",
      "728\n",
      "729\n",
      "730\n",
      "731\n",
      "732\n",
      "733\n",
      "734\n",
      "735\n",
      "736\n",
      "737\n",
      "738\n",
      "739\n",
      "740\n",
      "741\n",
      "742\n",
      "743\n",
      "744\n",
      "745\n",
      "746\n",
      "747\n",
      "748\n",
      "749\n",
      "750\n",
      "751\n",
      "752\n",
      "753\n",
      "754\n",
      "755\n",
      "756\n",
      "757\n",
      "758\n",
      "759\n",
      "760\n",
      "761\n",
      "762\n",
      "763\n",
      "764\n",
      "765\n",
      "766\n",
      "767\n",
      "768\n",
      "769\n",
      "770\n",
      "771\n",
      "772\n",
      "773\n",
      "774\n",
      "775\n",
      "776\n",
      "777\n",
      "778\n",
      "779\n",
      "780\n",
      "781\n",
      "782\n",
      "783\n",
      "784\n",
      "785\n",
      "786\n",
      "787\n",
      "788\n",
      "789\n",
      "790\n",
      "791\n",
      "792\n",
      "793\n",
      "794\n",
      "795\n",
      "796\n",
      "797\n",
      "798\n",
      "799\n",
      "800\n",
      "801\n",
      "802\n",
      "803\n",
      "804\n",
      "805\n",
      "806\n",
      "807\n",
      "808\n",
      "809\n",
      "810\n",
      "811\n",
      "812\n",
      "813\n",
      "814\n",
      "815\n",
      "816\n",
      "817\n",
      "818\n",
      "819\n",
      "820\n",
      "821\n",
      "822\n",
      "823\n",
      "824\n",
      "825\n",
      "826\n",
      "827\n",
      "828\n",
      "829\n",
      "830\n",
      "831\n",
      "832\n",
      "833\n",
      "834\n",
      "835\n",
      "836\n",
      "837\n",
      "838\n",
      "839\n",
      "840\n",
      "841\n",
      "842\n",
      "843\n",
      "844\n",
      "845\n",
      "846\n",
      "847\n",
      "848\n",
      "849\n",
      "850\n",
      "851\n",
      "852\n",
      "853\n",
      "854\n",
      "855\n",
      "856\n",
      "857\n",
      "858\n",
      "859\n",
      "860\n",
      "861\n",
      "862\n",
      "863\n",
      "864\n",
      "865\n",
      "866\n",
      "867\n",
      "868\n",
      "869\n",
      "870\n",
      "871\n",
      "872\n",
      "873\n",
      "874\n",
      "875\n",
      "876\n",
      "877\n",
      "878\n",
      "879\n",
      "880\n",
      "881\n",
      "882\n",
      "883\n",
      "884\n",
      "885\n",
      "886\n",
      "887\n",
      "888\n",
      "889\n",
      "890\n",
      "891\n",
      "892\n",
      "893\n",
      "894\n",
      "895\n",
      "896\n",
      "897\n",
      "898\n",
      "899\n",
      "900\n",
      "901\n",
      "902\n",
      "903\n",
      "904\n",
      "905\n",
      "906\n",
      "907\n",
      "908\n",
      "909\n",
      "910\n",
      "911\n",
      "912\n",
      "913\n",
      "914\n",
      "915\n",
      "916\n",
      "917\n",
      "918\n",
      "919\n",
      "920\n",
      "921\n",
      "922\n",
      "923\n",
      "924\n",
      "925\n",
      "926\n",
      "927\n",
      "928\n",
      "929\n",
      "930\n",
      "931\n",
      "932\n",
      "933\n",
      "934\n",
      "935\n",
      "936\n",
      "937\n",
      "938\n",
      "939\n",
      "940\n",
      "941\n",
      "942\n",
      "943\n",
      "944\n",
      "945\n",
      "946\n",
      "947\n",
      "948\n",
      "949\n",
      "950\n",
      "951\n",
      "952\n",
      "953\n",
      "954\n",
      "955\n",
      "956\n",
      "957\n",
      "958\n",
      "959\n",
      "960\n",
      "961\n",
      "962\n",
      "963\n",
      "964\n",
      "965\n",
      "966\n",
      "967\n",
      "968\n",
      "969\n",
      "970\n",
      "971\n",
      "972\n",
      "973\n",
      "974\n",
      "975\n",
      "976\n",
      "977\n",
      "978\n",
      "979\n",
      "980\n",
      "981\n",
      "982\n",
      "983\n",
      "984\n",
      "985\n",
      "986\n",
      "987\n",
      "988\n",
      "989\n",
      "990\n",
      "991\n",
      "992\n",
      "993\n",
      "994\n",
      "995\n",
      "996\n",
      "997\n",
      "998\n",
      "999\n",
      "1000\n"
     ]
    }
   ],
   "source": [
    "x=0\n",
    "while x<1000:\n",
    "    x+=1\n",
    "    print(x)"
   ]
  },
  {
   "cell_type": "code",
   "execution_count": 86,
   "id": "4b550a45",
   "metadata": {},
   "outputs": [
    {
     "name": "stdout",
     "output_type": "stream",
     "text": [
      "1 .My name is ibrahim\n",
      "2 .My name is ibrahim\n",
      "3 .My name is ibrahim\n",
      "4 .My name is ibrahim\n",
      "5 .My name is ibrahim\n",
      "6 .My name is ibrahim\n",
      "7 .My name is ibrahim\n",
      "8 .My name is ibrahim\n",
      "9 .My name is ibrahim\n",
      "10 .My name is ibrahim\n",
      "11 .My name is ibrahim\n",
      "12 .My name is ibrahim\n",
      "13 .My name is ibrahim\n",
      "14 .My name is ibrahim\n",
      "15 .My name is ibrahim\n",
      "16 .My name is ibrahim\n",
      "17 .My name is ibrahim\n",
      "18 .My name is ibrahim\n",
      "19 .My name is ibrahim\n",
      "20 .My name is ibrahim\n",
      "21 .My name is ibrahim\n",
      "22 .My name is ibrahim\n",
      "23 .My name is ibrahim\n",
      "24 .My name is ibrahim\n",
      "25 .My name is ibrahim\n",
      "26 .My name is ibrahim\n",
      "27 .My name is ibrahim\n",
      "28 .My name is ibrahim\n",
      "29 .My name is ibrahim\n",
      "30 .My name is ibrahim\n",
      "31 .My name is ibrahim\n",
      "32 .My name is ibrahim\n",
      "33 .My name is ibrahim\n",
      "34 .My name is ibrahim\n",
      "35 .My name is ibrahim\n",
      "36 .My name is ibrahim\n",
      "37 .My name is ibrahim\n",
      "38 .My name is ibrahim\n",
      "39 .My name is ibrahim\n",
      "40 .My name is ibrahim\n",
      "41 .My name is ibrahim\n",
      "42 .My name is ibrahim\n",
      "43 .My name is ibrahim\n",
      "44 .My name is ibrahim\n",
      "45 .My name is ibrahim\n",
      "46 .My name is ibrahim\n",
      "47 .My name is ibrahim\n",
      "48 .My name is ibrahim\n",
      "49 .My name is ibrahim\n",
      "50 .My name is ibrahim\n",
      "51 .My name is ibrahim\n",
      "52 .My name is ibrahim\n",
      "53 .My name is ibrahim\n",
      "54 .My name is ibrahim\n",
      "55 .My name is ibrahim\n",
      "56 .My name is ibrahim\n",
      "57 .My name is ibrahim\n",
      "58 .My name is ibrahim\n",
      "59 .My name is ibrahim\n",
      "60 .My name is ibrahim\n",
      "61 .My name is ibrahim\n",
      "62 .My name is ibrahim\n",
      "63 .My name is ibrahim\n",
      "64 .My name is ibrahim\n",
      "65 .My name is ibrahim\n",
      "66 .My name is ibrahim\n",
      "67 .My name is ibrahim\n",
      "68 .My name is ibrahim\n",
      "69 .My name is ibrahim\n",
      "70 .My name is ibrahim\n",
      "71 .My name is ibrahim\n",
      "72 .My name is ibrahim\n",
      "73 .My name is ibrahim\n",
      "74 .My name is ibrahim\n",
      "75 .My name is ibrahim\n",
      "76 .My name is ibrahim\n",
      "77 .My name is ibrahim\n",
      "78 .My name is ibrahim\n",
      "79 .My name is ibrahim\n",
      "80 .My name is ibrahim\n",
      "81 .My name is ibrahim\n",
      "82 .My name is ibrahim\n",
      "83 .My name is ibrahim\n",
      "84 .My name is ibrahim\n",
      "85 .My name is ibrahim\n",
      "86 .My name is ibrahim\n",
      "87 .My name is ibrahim\n",
      "88 .My name is ibrahim\n",
      "89 .My name is ibrahim\n",
      "90 .My name is ibrahim\n",
      "91 .My name is ibrahim\n",
      "92 .My name is ibrahim\n",
      "93 .My name is ibrahim\n",
      "94 .My name is ibrahim\n",
      "95 .My name is ibrahim\n",
      "96 .My name is ibrahim\n",
      "97 .My name is ibrahim\n",
      "98 .My name is ibrahim\n",
      "99 .My name is ibrahim\n",
      "100 .My name is ibrahim\n",
      "101 .My name is ibrahim\n",
      "102 .My name is ibrahim\n",
      "103 .My name is ibrahim\n",
      "104 .My name is ibrahim\n",
      "105 .My name is ibrahim\n",
      "106 .My name is ibrahim\n",
      "107 .My name is ibrahim\n",
      "108 .My name is ibrahim\n",
      "109 .My name is ibrahim\n",
      "110 .My name is ibrahim\n",
      "111 .My name is ibrahim\n",
      "112 .My name is ibrahim\n",
      "113 .My name is ibrahim\n",
      "114 .My name is ibrahim\n",
      "115 .My name is ibrahim\n",
      "116 .My name is ibrahim\n",
      "117 .My name is ibrahim\n",
      "118 .My name is ibrahim\n",
      "119 .My name is ibrahim\n",
      "120 .My name is ibrahim\n",
      "121 .My name is ibrahim\n",
      "122 .My name is ibrahim\n",
      "123 .My name is ibrahim\n",
      "124 .My name is ibrahim\n",
      "125 .My name is ibrahim\n",
      "126 .My name is ibrahim\n",
      "127 .My name is ibrahim\n",
      "128 .My name is ibrahim\n",
      "129 .My name is ibrahim\n",
      "130 .My name is ibrahim\n",
      "131 .My name is ibrahim\n",
      "132 .My name is ibrahim\n",
      "133 .My name is ibrahim\n",
      "134 .My name is ibrahim\n",
      "135 .My name is ibrahim\n",
      "136 .My name is ibrahim\n",
      "137 .My name is ibrahim\n",
      "138 .My name is ibrahim\n",
      "139 .My name is ibrahim\n",
      "140 .My name is ibrahim\n",
      "141 .My name is ibrahim\n",
      "142 .My name is ibrahim\n",
      "143 .My name is ibrahim\n",
      "144 .My name is ibrahim\n",
      "145 .My name is ibrahim\n",
      "146 .My name is ibrahim\n",
      "147 .My name is ibrahim\n",
      "148 .My name is ibrahim\n",
      "149 .My name is ibrahim\n",
      "150 .My name is ibrahim\n",
      "151 .My name is ibrahim\n",
      "152 .My name is ibrahim\n",
      "153 .My name is ibrahim\n",
      "154 .My name is ibrahim\n",
      "155 .My name is ibrahim\n",
      "156 .My name is ibrahim\n",
      "157 .My name is ibrahim\n",
      "158 .My name is ibrahim\n",
      "159 .My name is ibrahim\n",
      "160 .My name is ibrahim\n",
      "161 .My name is ibrahim\n",
      "162 .My name is ibrahim\n",
      "163 .My name is ibrahim\n",
      "164 .My name is ibrahim\n",
      "165 .My name is ibrahim\n",
      "166 .My name is ibrahim\n",
      "167 .My name is ibrahim\n",
      "168 .My name is ibrahim\n",
      "169 .My name is ibrahim\n",
      "170 .My name is ibrahim\n",
      "171 .My name is ibrahim\n",
      "172 .My name is ibrahim\n",
      "173 .My name is ibrahim\n",
      "174 .My name is ibrahim\n",
      "175 .My name is ibrahim\n",
      "176 .My name is ibrahim\n",
      "177 .My name is ibrahim\n",
      "178 .My name is ibrahim\n",
      "179 .My name is ibrahim\n",
      "180 .My name is ibrahim\n",
      "181 .My name is ibrahim\n",
      "182 .My name is ibrahim\n",
      "183 .My name is ibrahim\n",
      "184 .My name is ibrahim\n",
      "185 .My name is ibrahim\n",
      "186 .My name is ibrahim\n",
      "187 .My name is ibrahim\n",
      "188 .My name is ibrahim\n",
      "189 .My name is ibrahim\n",
      "190 .My name is ibrahim\n",
      "191 .My name is ibrahim\n",
      "192 .My name is ibrahim\n",
      "193 .My name is ibrahim\n",
      "194 .My name is ibrahim\n",
      "195 .My name is ibrahim\n",
      "196 .My name is ibrahim\n",
      "197 .My name is ibrahim\n",
      "198 .My name is ibrahim\n",
      "199 .My name is ibrahim\n",
      "200 .My name is ibrahim\n",
      "201 .My name is ibrahim\n",
      "202 .My name is ibrahim\n",
      "203 .My name is ibrahim\n",
      "204 .My name is ibrahim\n",
      "205 .My name is ibrahim\n",
      "206 .My name is ibrahim\n",
      "207 .My name is ibrahim\n",
      "208 .My name is ibrahim\n",
      "209 .My name is ibrahim\n",
      "210 .My name is ibrahim\n",
      "211 .My name is ibrahim\n",
      "212 .My name is ibrahim\n",
      "213 .My name is ibrahim\n",
      "214 .My name is ibrahim\n",
      "215 .My name is ibrahim\n",
      "216 .My name is ibrahim\n",
      "217 .My name is ibrahim\n",
      "218 .My name is ibrahim\n",
      "219 .My name is ibrahim\n",
      "220 .My name is ibrahim\n",
      "221 .My name is ibrahim\n",
      "222 .My name is ibrahim\n",
      "223 .My name is ibrahim\n",
      "224 .My name is ibrahim\n",
      "225 .My name is ibrahim\n",
      "226 .My name is ibrahim\n",
      "227 .My name is ibrahim\n",
      "228 .My name is ibrahim\n",
      "229 .My name is ibrahim\n",
      "230 .My name is ibrahim\n",
      "231 .My name is ibrahim\n",
      "232 .My name is ibrahim\n",
      "233 .My name is ibrahim\n",
      "234 .My name is ibrahim\n",
      "235 .My name is ibrahim\n",
      "236 .My name is ibrahim\n",
      "237 .My name is ibrahim\n",
      "238 .My name is ibrahim\n",
      "239 .My name is ibrahim\n",
      "240 .My name is ibrahim\n",
      "241 .My name is ibrahim\n",
      "242 .My name is ibrahim\n",
      "243 .My name is ibrahim\n",
      "244 .My name is ibrahim\n",
      "245 .My name is ibrahim\n",
      "246 .My name is ibrahim\n",
      "247 .My name is ibrahim\n",
      "248 .My name is ibrahim\n",
      "249 .My name is ibrahim\n",
      "250 .My name is ibrahim\n",
      "251 .My name is ibrahim\n",
      "252 .My name is ibrahim\n",
      "253 .My name is ibrahim\n",
      "254 .My name is ibrahim\n",
      "255 .My name is ibrahim\n",
      "256 .My name is ibrahim\n",
      "257 .My name is ibrahim\n",
      "258 .My name is ibrahim\n",
      "259 .My name is ibrahim\n",
      "260 .My name is ibrahim\n",
      "261 .My name is ibrahim\n",
      "262 .My name is ibrahim\n",
      "263 .My name is ibrahim\n",
      "264 .My name is ibrahim\n",
      "265 .My name is ibrahim\n",
      "266 .My name is ibrahim\n",
      "267 .My name is ibrahim\n",
      "268 .My name is ibrahim\n",
      "269 .My name is ibrahim\n",
      "270 .My name is ibrahim\n",
      "271 .My name is ibrahim\n",
      "272 .My name is ibrahim\n",
      "273 .My name is ibrahim\n",
      "274 .My name is ibrahim\n",
      "275 .My name is ibrahim\n",
      "276 .My name is ibrahim\n",
      "277 .My name is ibrahim\n",
      "278 .My name is ibrahim\n",
      "279 .My name is ibrahim\n",
      "280 .My name is ibrahim\n",
      "281 .My name is ibrahim\n",
      "282 .My name is ibrahim\n",
      "283 .My name is ibrahim\n",
      "284 .My name is ibrahim\n",
      "285 .My name is ibrahim\n",
      "286 .My name is ibrahim\n",
      "287 .My name is ibrahim\n",
      "288 .My name is ibrahim\n",
      "289 .My name is ibrahim\n",
      "290 .My name is ibrahim\n",
      "291 .My name is ibrahim\n",
      "292 .My name is ibrahim\n",
      "293 .My name is ibrahim\n",
      "294 .My name is ibrahim\n",
      "295 .My name is ibrahim\n",
      "296 .My name is ibrahim\n",
      "297 .My name is ibrahim\n",
      "298 .My name is ibrahim\n",
      "299 .My name is ibrahim\n",
      "300 .My name is ibrahim\n",
      "301 .My name is ibrahim\n",
      "302 .My name is ibrahim\n",
      "303 .My name is ibrahim\n",
      "304 .My name is ibrahim\n",
      "305 .My name is ibrahim\n",
      "306 .My name is ibrahim\n",
      "307 .My name is ibrahim\n",
      "308 .My name is ibrahim\n",
      "309 .My name is ibrahim\n",
      "310 .My name is ibrahim\n",
      "311 .My name is ibrahim\n",
      "312 .My name is ibrahim\n",
      "313 .My name is ibrahim\n",
      "314 .My name is ibrahim\n",
      "315 .My name is ibrahim\n",
      "316 .My name is ibrahim\n",
      "317 .My name is ibrahim\n",
      "318 .My name is ibrahim\n",
      "319 .My name is ibrahim\n",
      "320 .My name is ibrahim\n",
      "321 .My name is ibrahim\n",
      "322 .My name is ibrahim\n",
      "323 .My name is ibrahim\n",
      "324 .My name is ibrahim\n",
      "325 .My name is ibrahim\n",
      "326 .My name is ibrahim\n",
      "327 .My name is ibrahim\n",
      "328 .My name is ibrahim\n",
      "329 .My name is ibrahim\n",
      "330 .My name is ibrahim\n",
      "331 .My name is ibrahim\n",
      "332 .My name is ibrahim\n",
      "333 .My name is ibrahim\n",
      "334 .My name is ibrahim\n",
      "335 .My name is ibrahim\n",
      "336 .My name is ibrahim\n",
      "337 .My name is ibrahim\n",
      "338 .My name is ibrahim\n",
      "339 .My name is ibrahim\n",
      "340 .My name is ibrahim\n",
      "341 .My name is ibrahim\n",
      "342 .My name is ibrahim\n",
      "343 .My name is ibrahim\n",
      "344 .My name is ibrahim\n",
      "345 .My name is ibrahim\n",
      "346 .My name is ibrahim\n",
      "347 .My name is ibrahim\n",
      "348 .My name is ibrahim\n",
      "349 .My name is ibrahim\n",
      "350 .My name is ibrahim\n",
      "351 .My name is ibrahim\n",
      "352 .My name is ibrahim\n",
      "353 .My name is ibrahim\n",
      "354 .My name is ibrahim\n",
      "355 .My name is ibrahim\n",
      "356 .My name is ibrahim\n",
      "357 .My name is ibrahim\n",
      "358 .My name is ibrahim\n",
      "359 .My name is ibrahim\n",
      "360 .My name is ibrahim\n",
      "361 .My name is ibrahim\n",
      "362 .My name is ibrahim\n",
      "363 .My name is ibrahim\n",
      "364 .My name is ibrahim\n",
      "365 .My name is ibrahim\n",
      "366 .My name is ibrahim\n",
      "367 .My name is ibrahim\n",
      "368 .My name is ibrahim\n",
      "369 .My name is ibrahim\n",
      "370 .My name is ibrahim\n",
      "371 .My name is ibrahim\n",
      "372 .My name is ibrahim\n",
      "373 .My name is ibrahim\n",
      "374 .My name is ibrahim\n",
      "375 .My name is ibrahim\n",
      "376 .My name is ibrahim\n",
      "377 .My name is ibrahim\n",
      "378 .My name is ibrahim\n",
      "379 .My name is ibrahim\n",
      "380 .My name is ibrahim\n",
      "381 .My name is ibrahim\n",
      "382 .My name is ibrahim\n",
      "383 .My name is ibrahim\n",
      "384 .My name is ibrahim\n",
      "385 .My name is ibrahim\n",
      "386 .My name is ibrahim\n",
      "387 .My name is ibrahim\n",
      "388 .My name is ibrahim\n",
      "389 .My name is ibrahim\n",
      "390 .My name is ibrahim\n",
      "391 .My name is ibrahim\n",
      "392 .My name is ibrahim\n",
      "393 .My name is ibrahim\n",
      "394 .My name is ibrahim\n",
      "395 .My name is ibrahim\n",
      "396 .My name is ibrahim\n",
      "397 .My name is ibrahim\n",
      "398 .My name is ibrahim\n",
      "399 .My name is ibrahim\n",
      "400 .My name is ibrahim\n",
      "401 .My name is ibrahim\n",
      "402 .My name is ibrahim\n",
      "403 .My name is ibrahim\n",
      "404 .My name is ibrahim\n",
      "405 .My name is ibrahim\n",
      "406 .My name is ibrahim\n",
      "407 .My name is ibrahim\n",
      "408 .My name is ibrahim\n",
      "409 .My name is ibrahim\n",
      "410 .My name is ibrahim\n",
      "411 .My name is ibrahim\n",
      "412 .My name is ibrahim\n",
      "413 .My name is ibrahim\n",
      "414 .My name is ibrahim\n",
      "415 .My name is ibrahim\n",
      "416 .My name is ibrahim\n",
      "417 .My name is ibrahim\n",
      "418 .My name is ibrahim\n",
      "419 .My name is ibrahim\n",
      "420 .My name is ibrahim\n",
      "421 .My name is ibrahim\n",
      "422 .My name is ibrahim\n",
      "423 .My name is ibrahim\n",
      "424 .My name is ibrahim\n",
      "425 .My name is ibrahim\n",
      "426 .My name is ibrahim\n",
      "427 .My name is ibrahim\n",
      "428 .My name is ibrahim\n",
      "429 .My name is ibrahim\n",
      "430 .My name is ibrahim\n",
      "431 .My name is ibrahim\n",
      "432 .My name is ibrahim\n",
      "433 .My name is ibrahim\n",
      "434 .My name is ibrahim\n",
      "435 .My name is ibrahim\n",
      "436 .My name is ibrahim\n",
      "437 .My name is ibrahim\n",
      "438 .My name is ibrahim\n",
      "439 .My name is ibrahim\n",
      "440 .My name is ibrahim\n",
      "441 .My name is ibrahim\n",
      "442 .My name is ibrahim\n",
      "443 .My name is ibrahim\n",
      "444 .My name is ibrahim\n",
      "445 .My name is ibrahim\n",
      "446 .My name is ibrahim\n",
      "447 .My name is ibrahim\n",
      "448 .My name is ibrahim\n",
      "449 .My name is ibrahim\n",
      "450 .My name is ibrahim\n",
      "451 .My name is ibrahim\n",
      "452 .My name is ibrahim\n",
      "453 .My name is ibrahim\n",
      "454 .My name is ibrahim\n",
      "455 .My name is ibrahim\n",
      "456 .My name is ibrahim\n",
      "457 .My name is ibrahim\n",
      "458 .My name is ibrahim\n",
      "459 .My name is ibrahim\n",
      "460 .My name is ibrahim\n",
      "461 .My name is ibrahim\n",
      "462 .My name is ibrahim\n",
      "463 .My name is ibrahim\n",
      "464 .My name is ibrahim\n",
      "465 .My name is ibrahim\n",
      "466 .My name is ibrahim\n",
      "467 .My name is ibrahim\n",
      "468 .My name is ibrahim\n",
      "469 .My name is ibrahim\n",
      "470 .My name is ibrahim\n",
      "471 .My name is ibrahim\n",
      "472 .My name is ibrahim\n",
      "473 .My name is ibrahim\n",
      "474 .My name is ibrahim\n",
      "475 .My name is ibrahim\n",
      "476 .My name is ibrahim\n",
      "477 .My name is ibrahim\n",
      "478 .My name is ibrahim\n",
      "479 .My name is ibrahim\n",
      "480 .My name is ibrahim\n",
      "481 .My name is ibrahim\n",
      "482 .My name is ibrahim\n",
      "483 .My name is ibrahim\n",
      "484 .My name is ibrahim\n",
      "485 .My name is ibrahim\n",
      "486 .My name is ibrahim\n",
      "487 .My name is ibrahim\n",
      "488 .My name is ibrahim\n",
      "489 .My name is ibrahim\n",
      "490 .My name is ibrahim\n",
      "491 .My name is ibrahim\n",
      "492 .My name is ibrahim\n",
      "493 .My name is ibrahim\n",
      "494 .My name is ibrahim\n",
      "495 .My name is ibrahim\n",
      "496 .My name is ibrahim\n",
      "497 .My name is ibrahim\n",
      "498 .My name is ibrahim\n",
      "499 .My name is ibrahim\n",
      "500 .My name is ibrahim\n",
      "501 .My name is ibrahim\n",
      "502 .My name is ibrahim\n",
      "503 .My name is ibrahim\n",
      "504 .My name is ibrahim\n",
      "505 .My name is ibrahim\n",
      "506 .My name is ibrahim\n",
      "507 .My name is ibrahim\n",
      "508 .My name is ibrahim\n",
      "509 .My name is ibrahim\n",
      "510 .My name is ibrahim\n",
      "511 .My name is ibrahim\n",
      "512 .My name is ibrahim\n",
      "513 .My name is ibrahim\n",
      "514 .My name is ibrahim\n",
      "515 .My name is ibrahim\n",
      "516 .My name is ibrahim\n",
      "517 .My name is ibrahim\n",
      "518 .My name is ibrahim\n",
      "519 .My name is ibrahim\n",
      "520 .My name is ibrahim\n",
      "521 .My name is ibrahim\n",
      "522 .My name is ibrahim\n",
      "523 .My name is ibrahim\n",
      "524 .My name is ibrahim\n",
      "525 .My name is ibrahim\n",
      "526 .My name is ibrahim\n",
      "527 .My name is ibrahim\n",
      "528 .My name is ibrahim\n",
      "529 .My name is ibrahim\n",
      "530 .My name is ibrahim\n",
      "531 .My name is ibrahim\n",
      "532 .My name is ibrahim\n",
      "533 .My name is ibrahim\n",
      "534 .My name is ibrahim\n",
      "535 .My name is ibrahim\n",
      "536 .My name is ibrahim\n",
      "537 .My name is ibrahim\n",
      "538 .My name is ibrahim\n",
      "539 .My name is ibrahim\n",
      "540 .My name is ibrahim\n",
      "541 .My name is ibrahim\n",
      "542 .My name is ibrahim\n",
      "543 .My name is ibrahim\n",
      "544 .My name is ibrahim\n",
      "545 .My name is ibrahim\n",
      "546 .My name is ibrahim\n",
      "547 .My name is ibrahim\n",
      "548 .My name is ibrahim\n",
      "549 .My name is ibrahim\n",
      "550 .My name is ibrahim\n",
      "551 .My name is ibrahim\n",
      "552 .My name is ibrahim\n",
      "553 .My name is ibrahim\n",
      "554 .My name is ibrahim\n",
      "555 .My name is ibrahim\n",
      "556 .My name is ibrahim\n",
      "557 .My name is ibrahim\n",
      "558 .My name is ibrahim\n",
      "559 .My name is ibrahim\n",
      "560 .My name is ibrahim\n",
      "561 .My name is ibrahim\n",
      "562 .My name is ibrahim\n",
      "563 .My name is ibrahim\n",
      "564 .My name is ibrahim\n",
      "565 .My name is ibrahim\n",
      "566 .My name is ibrahim\n",
      "567 .My name is ibrahim\n",
      "568 .My name is ibrahim\n",
      "569 .My name is ibrahim\n",
      "570 .My name is ibrahim\n",
      "571 .My name is ibrahim\n",
      "572 .My name is ibrahim\n",
      "573 .My name is ibrahim\n",
      "574 .My name is ibrahim\n",
      "575 .My name is ibrahim\n",
      "576 .My name is ibrahim\n",
      "577 .My name is ibrahim\n",
      "578 .My name is ibrahim\n",
      "579 .My name is ibrahim\n",
      "580 .My name is ibrahim\n",
      "581 .My name is ibrahim\n",
      "582 .My name is ibrahim\n",
      "583 .My name is ibrahim\n",
      "584 .My name is ibrahim\n",
      "585 .My name is ibrahim\n",
      "586 .My name is ibrahim\n",
      "587 .My name is ibrahim\n",
      "588 .My name is ibrahim\n",
      "589 .My name is ibrahim\n",
      "590 .My name is ibrahim\n",
      "591 .My name is ibrahim\n",
      "592 .My name is ibrahim\n",
      "593 .My name is ibrahim\n",
      "594 .My name is ibrahim\n",
      "595 .My name is ibrahim\n",
      "596 .My name is ibrahim\n",
      "597 .My name is ibrahim\n",
      "598 .My name is ibrahim\n",
      "599 .My name is ibrahim\n",
      "600 .My name is ibrahim\n",
      "601 .My name is ibrahim\n",
      "602 .My name is ibrahim\n",
      "603 .My name is ibrahim\n",
      "604 .My name is ibrahim\n",
      "605 .My name is ibrahim\n",
      "606 .My name is ibrahim\n",
      "607 .My name is ibrahim\n",
      "608 .My name is ibrahim\n",
      "609 .My name is ibrahim\n",
      "610 .My name is ibrahim\n",
      "611 .My name is ibrahim\n",
      "612 .My name is ibrahim\n",
      "613 .My name is ibrahim\n",
      "614 .My name is ibrahim\n",
      "615 .My name is ibrahim\n",
      "616 .My name is ibrahim\n",
      "617 .My name is ibrahim\n",
      "618 .My name is ibrahim\n",
      "619 .My name is ibrahim\n",
      "620 .My name is ibrahim\n",
      "621 .My name is ibrahim\n",
      "622 .My name is ibrahim\n",
      "623 .My name is ibrahim\n",
      "624 .My name is ibrahim\n",
      "625 .My name is ibrahim\n",
      "626 .My name is ibrahim\n",
      "627 .My name is ibrahim\n",
      "628 .My name is ibrahim\n",
      "629 .My name is ibrahim\n",
      "630 .My name is ibrahim\n",
      "631 .My name is ibrahim\n",
      "632 .My name is ibrahim\n",
      "633 .My name is ibrahim\n",
      "634 .My name is ibrahim\n",
      "635 .My name is ibrahim\n",
      "636 .My name is ibrahim\n",
      "637 .My name is ibrahim\n",
      "638 .My name is ibrahim\n",
      "639 .My name is ibrahim\n",
      "640 .My name is ibrahim\n",
      "641 .My name is ibrahim\n",
      "642 .My name is ibrahim\n",
      "643 .My name is ibrahim\n",
      "644 .My name is ibrahim\n",
      "645 .My name is ibrahim\n",
      "646 .My name is ibrahim\n",
      "647 .My name is ibrahim\n",
      "648 .My name is ibrahim\n",
      "649 .My name is ibrahim\n",
      "650 .My name is ibrahim\n",
      "651 .My name is ibrahim\n",
      "652 .My name is ibrahim\n",
      "653 .My name is ibrahim\n",
      "654 .My name is ibrahim\n",
      "655 .My name is ibrahim\n",
      "656 .My name is ibrahim\n",
      "657 .My name is ibrahim\n",
      "658 .My name is ibrahim\n",
      "659 .My name is ibrahim\n",
      "660 .My name is ibrahim\n",
      "661 .My name is ibrahim\n",
      "662 .My name is ibrahim\n",
      "663 .My name is ibrahim\n",
      "664 .My name is ibrahim\n",
      "665 .My name is ibrahim\n",
      "666 .My name is ibrahim\n",
      "667 .My name is ibrahim\n",
      "668 .My name is ibrahim\n",
      "669 .My name is ibrahim\n",
      "670 .My name is ibrahim\n",
      "671 .My name is ibrahim\n",
      "672 .My name is ibrahim\n",
      "673 .My name is ibrahim\n",
      "674 .My name is ibrahim\n",
      "675 .My name is ibrahim\n",
      "676 .My name is ibrahim\n",
      "677 .My name is ibrahim\n",
      "678 .My name is ibrahim\n",
      "679 .My name is ibrahim\n",
      "680 .My name is ibrahim\n",
      "681 .My name is ibrahim\n",
      "682 .My name is ibrahim\n",
      "683 .My name is ibrahim\n",
      "684 .My name is ibrahim\n",
      "685 .My name is ibrahim\n",
      "686 .My name is ibrahim\n",
      "687 .My name is ibrahim\n",
      "688 .My name is ibrahim\n",
      "689 .My name is ibrahim\n",
      "690 .My name is ibrahim\n",
      "691 .My name is ibrahim\n",
      "692 .My name is ibrahim\n",
      "693 .My name is ibrahim\n",
      "694 .My name is ibrahim\n",
      "695 .My name is ibrahim\n",
      "696 .My name is ibrahim\n",
      "697 .My name is ibrahim\n",
      "698 .My name is ibrahim\n",
      "699 .My name is ibrahim\n",
      "700 .My name is ibrahim\n",
      "701 .My name is ibrahim\n",
      "702 .My name is ibrahim\n",
      "703 .My name is ibrahim\n",
      "704 .My name is ibrahim\n",
      "705 .My name is ibrahim\n",
      "706 .My name is ibrahim\n",
      "707 .My name is ibrahim\n",
      "708 .My name is ibrahim\n",
      "709 .My name is ibrahim\n",
      "710 .My name is ibrahim\n",
      "711 .My name is ibrahim\n",
      "712 .My name is ibrahim\n",
      "713 .My name is ibrahim\n",
      "714 .My name is ibrahim\n",
      "715 .My name is ibrahim\n",
      "716 .My name is ibrahim\n",
      "717 .My name is ibrahim\n",
      "718 .My name is ibrahim\n",
      "719 .My name is ibrahim\n",
      "720 .My name is ibrahim\n",
      "721 .My name is ibrahim\n",
      "722 .My name is ibrahim\n",
      "723 .My name is ibrahim\n",
      "724 .My name is ibrahim\n",
      "725 .My name is ibrahim\n",
      "726 .My name is ibrahim\n",
      "727 .My name is ibrahim\n",
      "728 .My name is ibrahim\n",
      "729 .My name is ibrahim\n",
      "730 .My name is ibrahim\n",
      "731 .My name is ibrahim\n",
      "732 .My name is ibrahim\n",
      "733 .My name is ibrahim\n",
      "734 .My name is ibrahim\n",
      "735 .My name is ibrahim\n",
      "736 .My name is ibrahim\n",
      "737 .My name is ibrahim\n",
      "738 .My name is ibrahim\n",
      "739 .My name is ibrahim\n",
      "740 .My name is ibrahim\n",
      "741 .My name is ibrahim\n",
      "742 .My name is ibrahim\n",
      "743 .My name is ibrahim\n",
      "744 .My name is ibrahim\n",
      "745 .My name is ibrahim\n",
      "746 .My name is ibrahim\n",
      "747 .My name is ibrahim\n",
      "748 .My name is ibrahim\n",
      "749 .My name is ibrahim\n",
      "750 .My name is ibrahim\n",
      "751 .My name is ibrahim\n",
      "752 .My name is ibrahim\n",
      "753 .My name is ibrahim\n",
      "754 .My name is ibrahim\n",
      "755 .My name is ibrahim\n",
      "756 .My name is ibrahim\n",
      "757 .My name is ibrahim\n",
      "758 .My name is ibrahim\n",
      "759 .My name is ibrahim\n",
      "760 .My name is ibrahim\n",
      "761 .My name is ibrahim\n",
      "762 .My name is ibrahim\n",
      "763 .My name is ibrahim\n",
      "764 .My name is ibrahim\n",
      "765 .My name is ibrahim\n",
      "766 .My name is ibrahim\n",
      "767 .My name is ibrahim\n",
      "768 .My name is ibrahim\n",
      "769 .My name is ibrahim\n",
      "770 .My name is ibrahim\n",
      "771 .My name is ibrahim\n",
      "772 .My name is ibrahim\n",
      "773 .My name is ibrahim\n",
      "774 .My name is ibrahim\n",
      "775 .My name is ibrahim\n",
      "776 .My name is ibrahim\n",
      "777 .My name is ibrahim\n",
      "778 .My name is ibrahim\n",
      "779 .My name is ibrahim\n",
      "780 .My name is ibrahim\n",
      "781 .My name is ibrahim\n",
      "782 .My name is ibrahim\n",
      "783 .My name is ibrahim\n",
      "784 .My name is ibrahim\n",
      "785 .My name is ibrahim\n",
      "786 .My name is ibrahim\n",
      "787 .My name is ibrahim\n",
      "788 .My name is ibrahim\n",
      "789 .My name is ibrahim\n",
      "790 .My name is ibrahim\n",
      "791 .My name is ibrahim\n",
      "792 .My name is ibrahim\n",
      "793 .My name is ibrahim\n",
      "794 .My name is ibrahim\n",
      "795 .My name is ibrahim\n",
      "796 .My name is ibrahim\n",
      "797 .My name is ibrahim\n",
      "798 .My name is ibrahim\n",
      "799 .My name is ibrahim\n",
      "800 .My name is ibrahim\n",
      "801 .My name is ibrahim\n",
      "802 .My name is ibrahim\n",
      "803 .My name is ibrahim\n",
      "804 .My name is ibrahim\n",
      "805 .My name is ibrahim\n",
      "806 .My name is ibrahim\n",
      "807 .My name is ibrahim\n",
      "808 .My name is ibrahim\n",
      "809 .My name is ibrahim\n",
      "810 .My name is ibrahim\n",
      "811 .My name is ibrahim\n",
      "812 .My name is ibrahim\n",
      "813 .My name is ibrahim\n",
      "814 .My name is ibrahim\n",
      "815 .My name is ibrahim\n",
      "816 .My name is ibrahim\n",
      "817 .My name is ibrahim\n",
      "818 .My name is ibrahim\n",
      "819 .My name is ibrahim\n",
      "820 .My name is ibrahim\n",
      "821 .My name is ibrahim\n",
      "822 .My name is ibrahim\n",
      "823 .My name is ibrahim\n",
      "824 .My name is ibrahim\n",
      "825 .My name is ibrahim\n",
      "826 .My name is ibrahim\n",
      "827 .My name is ibrahim\n",
      "828 .My name is ibrahim\n",
      "829 .My name is ibrahim\n",
      "830 .My name is ibrahim\n",
      "831 .My name is ibrahim\n",
      "832 .My name is ibrahim\n",
      "833 .My name is ibrahim\n",
      "834 .My name is ibrahim\n",
      "835 .My name is ibrahim\n",
      "836 .My name is ibrahim\n",
      "837 .My name is ibrahim\n",
      "838 .My name is ibrahim\n",
      "839 .My name is ibrahim\n",
      "840 .My name is ibrahim\n",
      "841 .My name is ibrahim\n",
      "842 .My name is ibrahim\n",
      "843 .My name is ibrahim\n",
      "844 .My name is ibrahim\n",
      "845 .My name is ibrahim\n",
      "846 .My name is ibrahim\n",
      "847 .My name is ibrahim\n",
      "848 .My name is ibrahim\n",
      "849 .My name is ibrahim\n",
      "850 .My name is ibrahim\n",
      "851 .My name is ibrahim\n",
      "852 .My name is ibrahim\n",
      "853 .My name is ibrahim\n",
      "854 .My name is ibrahim\n",
      "855 .My name is ibrahim\n",
      "856 .My name is ibrahim\n",
      "857 .My name is ibrahim\n",
      "858 .My name is ibrahim\n",
      "859 .My name is ibrahim\n",
      "860 .My name is ibrahim\n",
      "861 .My name is ibrahim\n",
      "862 .My name is ibrahim\n",
      "863 .My name is ibrahim\n",
      "864 .My name is ibrahim\n",
      "865 .My name is ibrahim\n",
      "866 .My name is ibrahim\n",
      "867 .My name is ibrahim\n",
      "868 .My name is ibrahim\n",
      "869 .My name is ibrahim\n",
      "870 .My name is ibrahim\n",
      "871 .My name is ibrahim\n",
      "872 .My name is ibrahim\n",
      "873 .My name is ibrahim\n",
      "874 .My name is ibrahim\n",
      "875 .My name is ibrahim\n",
      "876 .My name is ibrahim\n",
      "877 .My name is ibrahim\n",
      "878 .My name is ibrahim\n",
      "879 .My name is ibrahim\n",
      "880 .My name is ibrahim\n",
      "881 .My name is ibrahim\n",
      "882 .My name is ibrahim\n",
      "883 .My name is ibrahim\n",
      "884 .My name is ibrahim\n",
      "885 .My name is ibrahim\n",
      "886 .My name is ibrahim\n",
      "887 .My name is ibrahim\n",
      "888 .My name is ibrahim\n",
      "889 .My name is ibrahim\n",
      "890 .My name is ibrahim\n",
      "891 .My name is ibrahim\n",
      "892 .My name is ibrahim\n",
      "893 .My name is ibrahim\n",
      "894 .My name is ibrahim\n",
      "895 .My name is ibrahim\n",
      "896 .My name is ibrahim\n",
      "897 .My name is ibrahim\n",
      "898 .My name is ibrahim\n",
      "899 .My name is ibrahim\n",
      "900 .My name is ibrahim\n",
      "901 .My name is ibrahim\n",
      "902 .My name is ibrahim\n",
      "903 .My name is ibrahim\n",
      "904 .My name is ibrahim\n",
      "905 .My name is ibrahim\n",
      "906 .My name is ibrahim\n",
      "907 .My name is ibrahim\n",
      "908 .My name is ibrahim\n",
      "909 .My name is ibrahim\n",
      "910 .My name is ibrahim\n",
      "911 .My name is ibrahim\n",
      "912 .My name is ibrahim\n",
      "913 .My name is ibrahim\n",
      "914 .My name is ibrahim\n",
      "915 .My name is ibrahim\n",
      "916 .My name is ibrahim\n",
      "917 .My name is ibrahim\n",
      "918 .My name is ibrahim\n",
      "919 .My name is ibrahim\n",
      "920 .My name is ibrahim\n",
      "921 .My name is ibrahim\n",
      "922 .My name is ibrahim\n",
      "923 .My name is ibrahim\n",
      "924 .My name is ibrahim\n",
      "925 .My name is ibrahim\n",
      "926 .My name is ibrahim\n",
      "927 .My name is ibrahim\n",
      "928 .My name is ibrahim\n",
      "929 .My name is ibrahim\n",
      "930 .My name is ibrahim\n",
      "931 .My name is ibrahim\n",
      "932 .My name is ibrahim\n",
      "933 .My name is ibrahim\n",
      "934 .My name is ibrahim\n",
      "935 .My name is ibrahim\n",
      "936 .My name is ibrahim\n",
      "937 .My name is ibrahim\n",
      "938 .My name is ibrahim\n",
      "939 .My name is ibrahim\n",
      "940 .My name is ibrahim\n",
      "941 .My name is ibrahim\n",
      "942 .My name is ibrahim\n",
      "943 .My name is ibrahim\n",
      "944 .My name is ibrahim\n",
      "945 .My name is ibrahim\n",
      "946 .My name is ibrahim\n",
      "947 .My name is ibrahim\n",
      "948 .My name is ibrahim\n",
      "949 .My name is ibrahim\n",
      "950 .My name is ibrahim\n",
      "951 .My name is ibrahim\n",
      "952 .My name is ibrahim\n",
      "953 .My name is ibrahim\n",
      "954 .My name is ibrahim\n",
      "955 .My name is ibrahim\n",
      "956 .My name is ibrahim\n",
      "957 .My name is ibrahim\n",
      "958 .My name is ibrahim\n",
      "959 .My name is ibrahim\n",
      "960 .My name is ibrahim\n",
      "961 .My name is ibrahim\n",
      "962 .My name is ibrahim\n",
      "963 .My name is ibrahim\n",
      "964 .My name is ibrahim\n",
      "965 .My name is ibrahim\n",
      "966 .My name is ibrahim\n",
      "967 .My name is ibrahim\n",
      "968 .My name is ibrahim\n",
      "969 .My name is ibrahim\n",
      "970 .My name is ibrahim\n",
      "971 .My name is ibrahim\n",
      "972 .My name is ibrahim\n",
      "973 .My name is ibrahim\n",
      "974 .My name is ibrahim\n",
      "975 .My name is ibrahim\n",
      "976 .My name is ibrahim\n",
      "977 .My name is ibrahim\n",
      "978 .My name is ibrahim\n",
      "979 .My name is ibrahim\n",
      "980 .My name is ibrahim\n",
      "981 .My name is ibrahim\n",
      "982 .My name is ibrahim\n",
      "983 .My name is ibrahim\n",
      "984 .My name is ibrahim\n",
      "985 .My name is ibrahim\n",
      "986 .My name is ibrahim\n",
      "987 .My name is ibrahim\n",
      "988 .My name is ibrahim\n",
      "989 .My name is ibrahim\n",
      "990 .My name is ibrahim\n",
      "991 .My name is ibrahim\n",
      "992 .My name is ibrahim\n",
      "993 .My name is ibrahim\n",
      "994 .My name is ibrahim\n",
      "995 .My name is ibrahim\n",
      "996 .My name is ibrahim\n",
      "997 .My name is ibrahim\n",
      "998 .My name is ibrahim\n",
      "999 .My name is ibrahim\n",
      "1000 .My name is ibrahim\n"
     ]
    }
   ],
   "source": [
    "x=0\n",
    "while x<1000:\n",
    "    x+=1\n",
    "    print(x,\".My name is ibrahim\")\n",
    "    "
   ]
  },
  {
   "cell_type": "code",
   "execution_count": 108,
   "id": "7a69d859",
   "metadata": {},
   "outputs": [
    {
     "name": "stdout",
     "output_type": "stream",
     "text": [
      "638\n",
      "22\n",
      "44\n"
     ]
    }
   ],
   "source": [
    "i=7\n",
    "sum=0\n",
    "tries=0\n",
    "c=0\n",
    "while (i<=50):\n",
    "    if i%2==0:\n",
    "        sum+=i\n",
    "        tries+=1\n",
    "    i+=1\n",
    "    c+=1\n",
    "print(sum)\n",
    "print(tries)\n",
    "print(c)"
   ]
  },
  {
   "cell_type": "code",
   "execution_count": 106,
   "id": "221b4cb2",
   "metadata": {},
   "outputs": [
    {
     "name": "stdout",
     "output_type": "stream",
     "text": [
      "638\n"
     ]
    }
   ],
   "source": [
    "i =7\n",
    "sum=0\n",
    "while (i<=50):\n",
    "    if i%2==0:\n",
    "        sum=sum+i\n",
    "    i+=1\n",
    "print(sum)\n"
   ]
  },
  {
   "cell_type": "code",
   "execution_count": 7,
   "id": "4e9730de",
   "metadata": {
    "scrolled": true
   },
   "outputs": [
    {
     "name": "stdout",
     "output_type": "stream",
     "text": [
      "7 is an odd number\n",
      "8 is an even number\n",
      "9 is an odd number\n",
      "10 is an even number\n",
      "11 is an odd number\n",
      "12 is an even number\n",
      "13 is an odd number\n",
      "14 is an even number\n",
      "15 is an odd number\n",
      "16 is an even number\n",
      "17 is an odd number\n",
      "18 is an even number\n",
      "19 is an odd number\n",
      "20 is an even number\n",
      "21 is an odd number\n",
      "22 is an even number\n",
      "23 is an odd number\n",
      "24 is an even number\n",
      "25 is an odd number\n",
      "26 is an even number\n",
      "27 is an odd number\n",
      "28 is an even number\n",
      "29 is an odd number\n",
      "30 is an even number\n",
      "31 is an odd number\n",
      "32 is an even number\n",
      "33 is an odd number\n",
      "34 is an even number\n",
      "35 is an odd number\n",
      "36 is an even number\n",
      "37 is an odd number\n",
      "38 is an even number\n",
      "39 is an odd number\n",
      "40 is an even number\n",
      "41 is an odd number\n",
      "42 is an even number\n",
      "43 is an odd number\n",
      "44 is an even number\n",
      "45 is an odd number\n",
      "46 is an even number\n",
      "47 is an odd number\n",
      "48 is an even number\n",
      "49 is an odd number\n",
      "50 is an even number\n"
     ]
    }
   ],
   "source": [
    "sum=0\n",
    "tries=0\n",
    "for x in range(7,51):\n",
    "    if x%2==0:\n",
    "        print(x,\"is an even number\")\n",
    "    else:\n",
    "        print(x,\"is an odd number\")\n"
   ]
  },
  {
   "cell_type": "code",
   "execution_count": 33,
   "id": "ff47e205",
   "metadata": {},
   "outputs": [
    {
     "name": "stdout",
     "output_type": "stream",
     "text": [
      "638\n"
     ]
    }
   ],
   "source": [
    "sum=0\n",
    "for x in range (7,51):\n",
    "        if (x%2==0 and x<51):\n",
    "            sum+=x\n",
    "print(sum)"
   ]
  },
  {
   "cell_type": "code",
   "execution_count": 39,
   "id": "6b8d3431",
   "metadata": {},
   "outputs": [
    {
     "name": "stdout",
     "output_type": "stream",
     "text": [
      "638\n"
     ]
    }
   ],
   "source": [
    "sum=0\n",
    "for x in range (8,51,2):\n",
    "    sum+=x\n",
    "print(sum) "
   ]
  },
  {
   "cell_type": "code",
   "execution_count": 85,
   "id": "25e78fa9",
   "metadata": {},
   "outputs": [
    {
     "name": "stdout",
     "output_type": "stream",
     "text": [
      "638\n"
     ]
    }
   ],
   "source": [
    "x=7\n",
    "sum=0\n",
    "while (x<51):\n",
    "    if x%2==0:\n",
    "        sum+=x\n",
    "    x=x+1\n",
    "print(sum)\n"
   ]
  },
  {
   "cell_type": "code",
   "execution_count": 86,
   "id": "8b199412",
   "metadata": {},
   "outputs": [
    {
     "name": "stdout",
     "output_type": "stream",
     "text": [
      "2\n",
      "3\n"
     ]
    }
   ],
   "source": [
    "i = 1\n",
    "while i < 6:\n",
    "    i += 1\n",
    "    print(i)\n",
    "    if i == 3:\n",
    "        break\n"
   ]
  },
  {
   "cell_type": "code",
   "execution_count": 91,
   "id": "a2de7be1",
   "metadata": {},
   "outputs": [
    {
     "name": "stdout",
     "output_type": "stream",
     "text": [
      "Enter a number:0\n",
      "Enter a number:900\n",
      "202950\n"
     ]
    }
   ],
   "source": [
    "a = int(input(\"Enter a number:\"))\n",
    "b = int(input(\"Enter a number:\"))\n",
    "sum=0\n",
    "for x in range (a,(b+1)):\n",
    "    if x%2==0:\n",
    "        sum+=x\n",
    "print(sum)"
   ]
  },
  {
   "cell_type": "code",
   "execution_count": 93,
   "id": "0dfe24a4",
   "metadata": {},
   "outputs": [
    {
     "name": "stdout",
     "output_type": "stream",
     "text": [
      "1001\n"
     ]
    }
   ],
   "source": [
    "x=1\n",
    "for i in range(1000):\n",
    "        x+=1\n",
    "print(x)"
   ]
  },
  {
   "cell_type": "code",
   "execution_count": null,
   "id": "4cffba30",
   "metadata": {},
   "outputs": [],
   "source": [
    "\n",
    "x=int(input(\"Enter your grades:\"))\n",
    "if (x<=100 and x>=95):\n",
    "    print(\"A\")\n",
    "elif (x<=94 and x>=85):\n",
    "    print(\"B\")\n",
    "elif (x<=84 and x>=75):\n",
    "    print(\"C\")\n",
    "elif (x<=74 and x>=65):\n",
    "    print(\"D\")\n",
    "elif (x<=64 and x>=55):\n",
    "    print(\"E\")\n",
    "elif (x<=54 and x>=0):\n",
    "    print(\"F\")\n",
    "else:\n",
    "    print(\"Out of range\")"
   ]
  },
  {
   "cell_type": "code",
   "execution_count": 98,
   "id": "8c63f3b8",
   "metadata": {},
   "outputs": [],
   "source": [
    "# Write a program to find the hypotenuse of a right-angled triangle. The sides of a triangle should be entered by the user.\n"
   ]
  },
  {
   "cell_type": "code",
   "execution_count": 99,
   "id": "7da19b79",
   "metadata": {},
   "outputs": [
    {
     "name": "stdout",
     "output_type": "stream",
     "text": [
      "Enter the frist side of the right angled triangle3\n",
      "Enter the second side of the right angled triangle6\n",
      "The hypotenuse is: 6.708203932499369\n"
     ]
    }
   ],
   "source": [
    "a=int(input(\"Enter the frist side of the right angled triangle\"))\n",
    "b=int(input(\"Enter the second side of the right angled triangle\"))\n",
    "hypo=a**2+b**2\n",
    "final=hypo**0.5\n",
    "print(\"The hypotenuse is:\",final)"
   ]
  },
  {
   "cell_type": "code",
   "execution_count": null,
   "id": "4fd2a381",
   "metadata": {},
   "outputs": [],
   "source": [
    "# Write a program to find out if the year is a leap year. 3 criteria must be taken into account to determine that:\n",
    "# The year is evenly divisible by 4\n",
    "# If the year can be evenly divided by 100, it is not a leap year, unless\n",
    "# The year is also evenly divisible by 400 - in that case it is a leap year\n"
   ]
  },
  {
   "cell_type": "code",
   "execution_count": 112,
   "id": "33b3482c",
   "metadata": {},
   "outputs": [
    {
     "name": "stdout",
     "output_type": "stream",
     "text": [
      "Enter the year:1900\n",
      "1900 is not leap year\n"
     ]
    }
   ],
   "source": [
    "x=int(input(\"Enter the year:\"))\n",
    "\n",
    "if x%4==0:\n",
    "    if x%100==0:\n",
    "        if x%400==0:\n",
    "            print(x,\"is leap year\")\n",
    "        else:\n",
    "            print(x,\"is not leap year\")\n",
    "    else:\n",
    "        print(x,\"is not leap year\")\n",
    "else:\n",
    "    print(x,\"is not leap year\")"
   ]
  },
  {
   "cell_type": "code",
   "execution_count": 108,
   "id": "28a61e35",
   "metadata": {},
   "outputs": [
    {
     "name": "stdout",
     "output_type": "stream",
     "text": [
      "Enter year: 1900\n",
      "1900 is not a leap year.\n"
     ]
    }
   ],
   "source": [
    "year=int(input(\"Enter year: \"))\n",
    "\n",
    "if(year%4)==0:\n",
    "    if(year%100==0):\n",
    "        if(year%400==0):\n",
    "            print(year, \" is a leap year.\")\n",
    "        else:\n",
    "            print(year, \"is not a leap year.\")\n",
    "    else:\n",
    "        print(year, \"is not a leap year.\")\n",
    "else: \n",
    "    print(year, \"is not a leap year.\")\n"
   ]
  },
  {
   "cell_type": "code",
   "execution_count": null,
   "id": "9db85bc8",
   "metadata": {},
   "outputs": [],
   "source": [
    "#4. Write a program to swap the value of two variables.\n",
    "#5. Write a program to find out if the number is prime or not.\n",
    "#6. Write a program to find factors of a number. \n",
    "#7: Create a simple menu in Python:\n",
    "# ------------------------------ MENU ------------------------------\n",
    "# 1. Menu Option 1\n",
    "# 2. Menu Option 2\n",
    "# 3. Menu Option 3\n",
    "# 4. Menu Option 4\n",
    "# 5. Exit\n",
    "# -------------------------------------------------------------------\n",
    "# Enter your choice [1-5]: \n"
   ]
  },
  {
   "cell_type": "code",
   "execution_count": 144,
   "id": "57a3cea8",
   "metadata": {},
   "outputs": [
    {
     "name": "stdout",
     "output_type": "stream",
     "text": [
      "Enter a number: 2\n"
     ]
    }
   ],
   "source": [
    "number=int(input(\"Enter a number: \"))\n",
    "x=0\n",
    "for i in range(2,number):\n",
    "    if number%i==0:\n",
    "        print(\"Number is not prime.\")"
   ]
  },
  {
   "cell_type": "code",
   "execution_count": 165,
   "id": "851c86d2",
   "metadata": {},
   "outputs": [
    {
     "name": "stdout",
     "output_type": "stream",
     "text": [
      "hi:18\n",
      "Number is not prime.\n",
      "0\n"
     ]
    }
   ],
   "source": [
    "x=int(input(\"hi:\"))\n",
    "for i in range (2,x):\n",
    "    if x%i==0:\n",
    "        print(\"Number is not prime.\")\n",
    "        break"
   ]
  },
  {
   "cell_type": "code",
   "execution_count": 167,
   "id": "442c2d7d",
   "metadata": {},
   "outputs": [
    {
     "name": "stdout",
     "output_type": "stream",
     "text": [
      "Enter a number here1\n",
      "1.0 is a factor of a number\n"
     ]
    }
   ],
   "source": [
    "x=float(input(\"Enter a number here\"))\n",
    "if x%1==0:\n",
    "    print(x,\"is a factor of a number\")\n",
    "else:\n",
    "    print(x,\"is not a factor of a number\")"
   ]
  },
  {
   "cell_type": "code",
   "execution_count": 174,
   "id": "a35595fb",
   "metadata": {},
   "outputs": [
    {
     "name": "stdout",
     "output_type": "stream",
     "text": [
      "Enter a number: 17\n",
      "The factors of  17  are: \n",
      "1\n",
      "17\n"
     ]
    }
   ],
   "source": [
    "entered_number=int(input(\"Enter a number: \"))\n",
    "\n",
    "print(\"The factors of \", entered_number, \" are: \")\n",
    "for i in range(1,entered_number+1):\n",
    "    if entered_number%i ==0:\n",
    "        print(i)"
   ]
  },
  {
   "cell_type": "code",
   "execution_count": 176,
   "id": "6885bd96",
   "metadata": {},
   "outputs": [
    {
     "name": "stdout",
     "output_type": "stream",
     "text": [
      "Enter the number here:100\n",
      "The factors of 100 are:\n",
      "1\n",
      "2\n",
      "4\n",
      "5\n",
      "10\n",
      "20\n",
      "25\n",
      "50\n",
      "100\n"
     ]
    }
   ],
   "source": [
    "x=int(input(\"Enter the number here:\"))\n",
    "print(\"The factors of\", x, \"are:\")\n",
    "for i in range (1,x+1):\n",
    "    if x%i==0:\n",
    "        print(i)"
   ]
  },
  {
   "cell_type": "code",
   "execution_count": 192,
   "id": "976f7e7c",
   "metadata": {},
   "outputs": [
    {
     "name": "stdout",
     "output_type": "stream",
     "text": [
      "------------------------------ MENU ------------------------------\n",
      "1. Menu Option\n",
      "2. Menu Option\n",
      "3. Menu Option\n",
      "4. Menu Option\n",
      "5. Exit\n",
      "-------------------------------------------------------------------\n",
      "Enter your choice [1-5]:0\n",
      "You enter the number out of the menu\n"
     ]
    }
   ],
   "source": [
    "print(\"------------------------------ MENU ------------------------------\")\n",
    "print( \"1. Menu Option\")\n",
    "print(\"2. Menu Option\")\n",
    "print(\"3. Menu Option\")\n",
    "print(\"4. Menu Option\")\n",
    "print(\"5. Exit\")\n",
    "print(\"-------------------------------------------------------------------\")\n",
    "x=int(input(\"Enter your choice [1-5]:\"))\n",
    "if x==1:\n",
    "    print( \"1. Menu Option\")\n",
    "elif x==2:\n",
    "    print(\"2. Menu Option\")\n",
    "elif x==3:\n",
    "    print(\"3. Menu Option\")\n",
    "elif x==4:\n",
    "    print(\"4. Menu Option\")\n",
    "elif x==5:\n",
    "    print(\"5. Exit\")\n",
    "else:\n",
    "    print (\"You enter the number out of the menu\")"
   ]
  },
  {
   "cell_type": "code",
   "execution_count": 203,
   "id": "bebf62c9",
   "metadata": {
    "scrolled": false
   },
   "outputs": [
    {
     "name": "stdout",
     "output_type": "stream",
     "text": [
      "------------------------------ MENU ------------------------------\n",
      "1. Menu Option 1\n",
      "2. Menu Option 2\n",
      "3. Menu Option 3\n",
      "4. Menu Option 4\n",
      "5. Exit\n",
      "Enter your choice:4\n",
      "Option 4 selected\n"
     ]
    }
   ],
   "source": [
    "loop=True\n",
    "while loop:\n",
    "    print(30*\"-\", \"MENU\", 30*\"-\")\n",
    "    print(\"1. Menu Option 1\")\n",
    "    print(\"2. Menu Option 2\")\n",
    "    print(\"3. Menu Option 3\")\n",
    "    print(\"4. Menu Option 4\")\n",
    "    print(\"5. Exit\")\n",
    "    break\n",
    "choice=int(input(\"Enter your choice:\"))\n",
    "if choice==1:\n",
    "    print(\"Option 1 selected\")\n",
    "elif choice==2:\n",
    "    print(\"Option 2 selected\")\n",
    "elif choice==3:\n",
    "    print(\"Option 3 selected\")\n",
    "elif choice==4:\n",
    "    print(\"Option 4 selected\")\n",
    "elif choice==5:\n",
    "    loop=False"
   ]
  },
  {
   "cell_type": "code",
   "execution_count": 209,
   "id": "835a3f01",
   "metadata": {},
   "outputs": [
    {
     "name": "stdout",
     "output_type": "stream",
     "text": [
      "Enter a number:9\n",
      "9 * 1 = 9\n",
      "9 * 2 = 18\n",
      "9 * 3 = 27\n",
      "9 * 4 = 36\n",
      "9 * 5 = 45\n",
      "9 * 6 = 54\n",
      "9 * 7 = 63\n",
      "9 * 8 = 72\n",
      "9 * 9 = 81\n",
      "9 * 10 = 90\n"
     ]
    }
   ],
   "source": [
    "z=int(input(\"Enter a number:\"))\n",
    "for i in range (1,11):\n",
    "    print(z, \"*\", i, \"=\", z*i)"
   ]
  },
  {
   "cell_type": "code",
   "execution_count": 207,
   "id": "ec6dd308",
   "metadata": {},
   "outputs": [
    {
     "name": "stdout",
     "output_type": "stream",
     "text": [
      "Enter a number: 9\n",
      "9  *  1  =  9\n",
      "9  *  2  =  18\n",
      "9  *  3  =  27\n",
      "9  *  4  =  36\n",
      "9  *  5  =  45\n",
      "9  *  6  =  54\n",
      "9  *  7  =  63\n",
      "9  *  8  =  72\n",
      "9  *  9  =  81\n",
      "9  *  10  =  90\n"
     ]
    }
   ],
   "source": [
    "#8. Write a program to display the  multiplication table of  variable num (from 1 to 10).\n",
    "mult_number=int(input(\"Enter a number: \"))\n",
    "for i in range(1,11):\n",
    "    print(mult_number, \" * \", i, \" = \", mult_number*i)"
   ]
  },
  {
   "cell_type": "code",
   "execution_count": 288,
   "id": "2b879f2c",
   "metadata": {},
   "outputs": [
    {
     "name": "stdout",
     "output_type": "stream",
     "text": [
      "The first:0\n",
      "The second:10\n",
      "Prime numbers between  0  and  10  are:\n",
      "2\n",
      "3\n",
      "5\n",
      "7\n"
     ]
    }
   ],
   "source": [
    "lower_interval=int(input(\"The first:\"))\n",
    "upper_interval=int(input(\"The second:\"))\n",
    "\n",
    "print(\"Prime numbers between \", lower_interval, \" and \",upper_interval, \" are:\" )\n",
    "for i in range (lower_interval,upper_interval+1):\n",
    "    if i>1:\n",
    "        for j in range (2,i):\n",
    "            if (i%j==0):\n",
    "                break\n",
    "        else:\n",
    "            print(i)"
   ]
  },
  {
   "cell_type": "code",
   "execution_count": 322,
   "id": "42e27409",
   "metadata": {},
   "outputs": [
    {
     "name": "stdout",
     "output_type": "stream",
     "text": [
      "Prime numbers between  10  and  11  are:\n",
      "99999999999999999999999\n",
      "a\n",
      "a\n",
      "a\n",
      "a\n",
      "a\n",
      "a\n",
      "a\n",
      "a\n",
      "a\n",
      "11\n"
     ]
    }
   ],
   "source": [
    "lower_interval=10\n",
    "upper_interval=11\n",
    "\n",
    "print(\"Prime numbers between \", lower_interval, \" and \",upper_interval, \" are:\" )\n",
    "for i in range(lower_interval,upper_interval+1):\n",
    "#     if i>1:\n",
    "        for j in range(2, i):\n",
    "            if (i%j==0):\n",
    "                print(\"99999999999999999999999\")\n",
    "#                 continue\n",
    "                break\n",
    "            else:\n",
    "                print(\"a\")\n",
    "        else:\n",
    "            print(i)"
   ]
  },
  {
   "cell_type": "code",
   "execution_count": 294,
   "id": "d0a3266b",
   "metadata": {},
   "outputs": [
    {
     "name": "stdout",
     "output_type": "stream",
     "text": [
      "20\n",
      "20\n",
      "21\n"
     ]
    }
   ],
   "source": [
    "for i in range (20,29):\n",
    "    print (i)\n",
    "    if i==25:\n",
    "        break\n",
    "    elif i%21 ==0:\n",
    "        break\n",
    "    print(i)\n"
   ]
  },
  {
   "cell_type": "code",
   "execution_count": null,
   "id": "0c9a2143",
   "metadata": {},
   "outputs": [],
   "source": [
    "X=int(input(\"Enter a number:\"))\n",
    "for i in range (2,X):\n",
    "    if (i%2==0):\n",
    "        print(X ,\"is not prime number\")\n",
    "        break"
   ]
  },
  {
   "cell_type": "code",
   "execution_count": 337,
   "id": "3a724cbc",
   "metadata": {},
   "outputs": [
    {
     "name": "stdout",
     "output_type": "stream",
     "text": [
      "Enter the temperature in celsius: 5\n",
      "5.0 degree celsius equal 41.0 degree fahrenheit.\n"
     ]
    }
   ],
   "source": [
    "celsius=float(input(\"Enter the temperature in celsius: \"))\n",
    "\n",
    "fahrenheit=(celsius*1.8)+32\n",
    "print('%0.1f degree celsius equal %0.1f degree fahrenheit.' %(celsius,fahrenheit))"
   ]
  },
  {
   "cell_type": "code",
   "execution_count": 338,
   "id": "8ddfeb29",
   "metadata": {},
   "outputs": [
    {
     "name": "stdout",
     "output_type": "stream",
     "text": [
      "Celsius: 5\n",
      "5.0 degree Celsius is equal to 41.0 degree Fahrenheit\n"
     ]
    }
   ],
   "source": [
    "celsius=float(input(\"Celsius: \"))\n",
    "fahrenheit= (celsius*1.8) + 32\n",
    "print('%0.1f degree Celsius is equal to %0.1f degree Fahrenheit' %(celsius,fahrenheit))\n"
   ]
  },
  {
   "cell_type": "code",
   "execution_count": 375,
   "id": "c1d93a20",
   "metadata": {},
   "outputs": [
    {
     "name": "stdout",
     "output_type": "stream",
     "text": [
      "Enter the year: 1913\n",
      "March 23\n"
     ]
    }
   ],
   "source": [
    "year=int(input(\"Enter the year: \"))\n",
    "if year<=2099 and year>=1900:\n",
    "    a = year % 19\n",
    "    b= year % 4\n",
    "    c= year % 7\n",
    "    d= (19*a + 24) % 30\n",
    "    e= (2*b +4*c + 6*d + 5) %7\n",
    "    date_easter=22+d+e\n",
    "    if year==1954 or year==1981 or year==2049 or year==2076:\n",
    "        date_easter-=7\n",
    "    if date_easter>31:\n",
    "        print(\"April\" ,date_easter-31)\n",
    "    else:\n",
    "        print(\"March\" ,date_easter)\n",
    "else:\n",
    "    print(year,\"is out of range.\")"
   ]
  },
  {
   "cell_type": "code",
   "execution_count": 374,
   "id": "547882c7",
   "metadata": {},
   "outputs": [
    {
     "name": "stdout",
     "output_type": "stream",
     "text": [
      "Enter a year: 1916\n",
      "April  23\n"
     ]
    }
   ],
   "source": [
    "year=int(input(\"Enter a year: \"))\n",
    "\n",
    "if year>=1900 and year<=2099:\n",
    "    a=year%19\n",
    "    b=year%4\n",
    "    c=year%7\n",
    "    d=(19*a + 24) % 30\n",
    "    e=(2*b + 4*c + 6*d + 5) %7\n",
    "    date_easter=22+d+e\n",
    "    \n",
    "    if year==1954 or year == 2981 or year==2049 or year==2076:\n",
    "        date_easter=date_easter-7\n",
    "        \n",
    "    if date_easter>31:\n",
    "        print(\"April \", date_easter-31)\n",
    "    else: \n",
    "        print(\"March \", date_easter)\n",
    "else:\n",
    "    print(\"Year out of range.\")"
   ]
  },
  {
   "cell_type": "code",
   "execution_count": 389,
   "id": "e1925de7",
   "metadata": {},
   "outputs": [
    {
     "name": "stdout",
     "output_type": "stream",
     "text": [
      "Prime numbers between  10  and  20  are:\n",
      "11\n",
      "11\n",
      "11\n",
      "11\n",
      "11\n",
      "11\n",
      "11\n",
      "11\n",
      "11\n",
      "13\n",
      "13\n",
      "13\n",
      "13\n",
      "13\n",
      "13\n",
      "13\n",
      "13\n",
      "13\n",
      "13\n",
      "13\n",
      "15\n",
      "17\n",
      "17\n",
      "17\n",
      "17\n",
      "17\n",
      "17\n",
      "17\n",
      "17\n",
      "17\n",
      "17\n",
      "17\n",
      "17\n",
      "17\n",
      "17\n",
      "17\n",
      "19\n",
      "19\n",
      "19\n",
      "19\n",
      "19\n",
      "19\n",
      "19\n",
      "19\n",
      "19\n",
      "19\n",
      "19\n",
      "19\n",
      "19\n",
      "19\n",
      "19\n",
      "19\n",
      "19\n"
     ]
    }
   ],
   "source": [
    "lower_interval=10\n",
    "upper_interval=20\n",
    "\n",
    "print(\"Prime numbers between \", lower_interval, \" and \",upper_interval, \" are:\" )\n",
    "for i in range(lower_interval,upper_interval+1):\n",
    "    if i>1:\n",
    "        for j in range(2, i):\n",
    "            if (i%j==0):\n",
    "                \n",
    "                break\n",
    "#         else:\n",
    "            print(i)"
   ]
  },
  {
   "cell_type": "code",
   "execution_count": 1,
   "id": "860fd63c",
   "metadata": {},
   "outputs": [
    {
     "name": "stdout",
     "output_type": "stream",
     "text": [
      "Enter the radius2\n",
      "12.566370614359172\n"
     ]
    }
   ],
   "source": [
    "import math\n",
    "r= int(input(\"Enter the radius\"))\n",
    "area = math.pi * r**2\n",
    "print(area)"
   ]
  },
  {
   "cell_type": "code",
   "execution_count": 3,
   "id": "85f6a70f",
   "metadata": {},
   "outputs": [
    {
     "ename": "TypeError",
     "evalue": "Random.random() takes no arguments (1 given)",
     "output_type": "error",
     "traceback": [
      "\u001b[1;31m---------------------------------------------------------------------------\u001b[0m",
      "\u001b[1;31mTypeError\u001b[0m                                 Traceback (most recent call last)",
      "Input \u001b[1;32mIn [3]\u001b[0m, in \u001b[0;36m<cell line: 2>\u001b[1;34m()\u001b[0m\n\u001b[0;32m      1\u001b[0m \u001b[38;5;28;01mimport\u001b[39;00m \u001b[38;5;21;01mrandom\u001b[39;00m\n\u001b[0;32m      2\u001b[0m \u001b[38;5;28;01mfor\u001b[39;00m i \u001b[38;5;129;01min\u001b[39;00m \u001b[38;5;28mrange\u001b[39m (\u001b[38;5;241m1\u001b[39m,\u001b[38;5;241m100\u001b[39m):\n\u001b[1;32m----> 3\u001b[0m     \u001b[38;5;28mprint\u001b[39m (\u001b[43mrandom\u001b[49m\u001b[38;5;241;43m.\u001b[39;49m\u001b[43mrandom\u001b[49m\u001b[43m(\u001b[49m\u001b[43mi\u001b[49m\u001b[43m)\u001b[49m)\n",
      "\u001b[1;31mTypeError\u001b[0m: Random.random() takes no arguments (1 given)"
     ]
    }
   ],
   "source": [
    "import random\n",
    "for i in range (1,100):\n",
    "    print (random.random(i))"
   ]
  },
  {
   "cell_type": "code",
   "execution_count": 30,
   "id": "27b6654e",
   "metadata": {},
   "outputs": [
    {
     "name": "stdout",
     "output_type": "stream",
     "text": [
      "5\n",
      "5\n",
      "5\n",
      "3\n",
      "3\n",
      "2\n",
      "You won!\n"
     ]
    }
   ],
   "source": [
    "import random\n",
    "dice=0\n",
    "while(dice!=2 and dice!=6):\n",
    "    dice=random.randrange(1,7)\n",
    "    print(dice)\n",
    "    if (dice==2):\n",
    "        print(\"You won!\")\n",
    "    elif (dice==6):\n",
    "        print(\"You lost!\")"
   ]
  },
  {
   "cell_type": "code",
   "execution_count": 61,
   "id": "82ceb3c9",
   "metadata": {},
   "outputs": [
    {
     "name": "stdout",
     "output_type": "stream",
     "text": [
      "0\n"
     ]
    }
   ],
   "source": [
    "from random import randint\n",
    "x=0\n",
    "for i in range (1, 101):\n",
    "    i = randint(1,100000)\n",
    "    if i == 10:\n",
    "        x+=i\n",
    "print(x)\n"
   ]
  },
  {
   "cell_type": "code",
   "execution_count": 63,
   "id": "7f4e0882",
   "metadata": {},
   "outputs": [
    {
     "name": "stdout",
     "output_type": "stream",
     "text": [
      "Number 10 has been repeated  0 times\n"
     ]
    }
   ],
   "source": [
    "import random\n",
    "\n",
    "count=0\n",
    "for i in range(100):\n",
    "    rand_number=random.randint(1,100000)\n",
    "    if rand_number==10:\n",
    "        count+=1\n",
    "        \n",
    "print(\"Number 10 has been repeated \", count, \"times\")\n"
   ]
  },
  {
   "cell_type": "code",
   "execution_count": 7,
   "id": "7fab42f4",
   "metadata": {},
   "outputs": [
    {
     "name": "stdout",
     "output_type": "stream",
     "text": [
      "71\n"
     ]
    }
   ],
   "source": [
    "A={1, 20, 30}\n",
    "print(sum(A ,20))"
   ]
  },
  {
   "cell_type": "code",
   "execution_count": null,
   "id": "57000021",
   "metadata": {},
   "outputs": [],
   "source": [
    "def sum_to(a, b, c, d, e, f, g, h, , j, x):\n",
    "    sum=(a+ b+ c+ d+ e+ f+ +, h+ + j+ x)"
   ]
  },
  {
   "cell_type": "code",
   "execution_count": 9,
   "id": "0281b4e6",
   "metadata": {},
   "outputs": [
    {
     "name": "stdout",
     "output_type": "stream",
     "text": [
      "Inter a number:1\n",
      "Inter a number:2\n",
      "The sum is: 3\n"
     ]
    }
   ],
   "source": [
    "def sum(num1 ,num2):\n",
    "    print(\"The sum is:\" ,num1+num2)\n",
    "i=int(input(\"Inter a number:\"))\n",
    "m=int(input(\"Inter a number:\"))\n",
    "sum(i ,m)"
   ]
  },
  {
   "cell_type": "code",
   "execution_count": 10,
   "id": "da62c3ce",
   "metadata": {},
   "outputs": [
    {
     "name": "stdout",
     "output_type": "stream",
     "text": [
      "25\n"
     ]
    }
   ],
   "source": [
    "def pow(b,p):\n",
    "    y=b**p\n",
    "    return y\n",
    "\n",
    "def square(x):\n",
    "    a=pow(x,2)\n",
    "    return a\n",
    "\n",
    "n=5\n",
    "result=square(n)\n",
    "print(result)\n"
   ]
  },
  {
   "cell_type": "code",
   "execution_count": 13,
   "id": "520ce7a0",
   "metadata": {},
   "outputs": [
    {
     "name": "stdout",
     "output_type": "stream",
     "text": [
      "Enter the nights:1\n",
      "Enter the price:2\n",
      "Enter the guests:3\n"
     ]
    },
    {
     "data": {
      "text/plain": [
       "6"
      ]
     },
     "execution_count": 13,
     "metadata": {},
     "output_type": "execute_result"
    }
   ],
   "source": [
    "def hotel_cost(nights ,price ,guests):\n",
    "    y=(nights*price)*guests\n",
    "    return y\n",
    "i=int(input(\"Enter the nights:\"))\n",
    "k=int(input(\"Enter the price:\"))\n",
    "e=int(input(\"Enter the guests:\"))\n",
    "hotel_cost(i ,k ,e)"
   ]
  },
  {
   "cell_type": "markdown",
   "id": "66381fc8",
   "metadata": {},
   "source": [
    "def even(n):\n",
    "    if n%2==0:\n",
    "        return True\n",
    "    elif n%2!=0:\n",
    "        return False\n",
    "i = int(input(\"Enter the number:\"))\n",
    "even(i)"
   ]
  },
  {
   "cell_type": "code",
   "execution_count": 17,
   "id": "26e4e5ec",
   "metadata": {},
   "outputs": [
    {
     "name": "stdout",
     "output_type": "stream",
     "text": [
      "Enter the number:2\n"
     ]
    },
    {
     "data": {
      "text/plain": [
       "True"
      ]
     },
     "execution_count": 17,
     "metadata": {},
     "output_type": "execute_result"
    }
   ],
   "source": [
    "def even(n):\n",
    "    if n%2==0:\n",
    "        return True\n",
    "    elif n%2!=0:\n",
    "        return False\n",
    "i = int(input(\"Enter the number:\"))\n",
    "even(i)"
   ]
  },
  {
   "cell_type": "code",
   "execution_count": null,
   "id": "5de613e8",
   "metadata": {},
   "outputs": [],
   "source": [
    "#6: Create a function that takes the number and returns the factorial of a number.\n",
    "#7: Write a function that takes the number of kilometers and converts them into meters."
   ]
  },
  {
   "cell_type": "code",
   "execution_count": null,
   "id": "2c80e043",
   "metadata": {},
   "outputs": [],
   "source": []
  },
  {
   "cell_type": "code",
   "execution_count": 65,
   "id": "2b27b504",
   "metadata": {},
   "outputs": [
    {
     "name": "stdout",
     "output_type": "stream",
     "text": [
      "Enter number 7\n",
      "Factorial is 5040\n"
     ]
    }
   ],
   "source": [
    "def factorial(num):\n",
    "    fact = 1\n",
    "    while(num!=0):\n",
    "        fact *= num\n",
    "        num = num - 1\n",
    "    print(\"Factorial is\",fact)\n",
    "\n",
    "num = int(input(\"Enter number \"))\n",
    "factorial(num)"
   ]
  },
  {
   "cell_type": "code",
   "execution_count": 64,
   "id": "3a0144a4",
   "metadata": {},
   "outputs": [
    {
     "name": "stdout",
     "output_type": "stream",
     "text": [
      "Enter the number:9\n",
      "1\n",
      "3\n",
      "9\n"
     ]
    }
   ],
   "source": [
    "def af(n):\n",
    "    for i in range(1,n+1):\n",
    "        if n%i==0:\n",
    "            print(i)\n",
    "        else:\n",
    "            continue\n",
    "p=int(input(\"Enter the number:\"))\n",
    "af(p)"
   ]
  },
  {
   "cell_type": "code",
   "execution_count": 59,
   "id": "787a2596",
   "metadata": {},
   "outputs": [
    {
     "name": "stdout",
     "output_type": "stream",
     "text": [
      "Enter the number8\n",
      "Better luck next time\n"
     ]
    }
   ],
   "source": [
    "def v(n):\n",
    "    if n==7:\n",
    "        print(\"bingo\")\n",
    "    else:\n",
    "        print(\"Better luck next time\")\n",
    "i=int(input(\"Enter the number\"))\n",
    "v(i)"
   ]
  },
  {
   "cell_type": "code",
   "execution_count": 57,
   "id": "2ec3fe9d",
   "metadata": {},
   "outputs": [
    {
     "name": "stdout",
     "output_type": "stream",
     "text": [
      "Enter your name:gdf\n",
      "Enter your surnamegdf\n",
      "gdf.gdf@stu.ibu.edu.ba\n"
     ]
    }
   ],
   "source": [
    "def email(name,surname):\n",
    "     return name +\".\"+surname +\"@stu.ibu.edu.ba\"\n",
    "i=input(\"Enter your name:\")\n",
    "e=input(\"Enter your surname\")\n",
    "print(email(i,e))\n"
   ]
  },
  {
   "cell_type": "code",
   "execution_count": 40,
   "id": "e35794e0",
   "metadata": {},
   "outputs": [
    {
     "name": "stdout",
     "output_type": "stream",
     "text": [
      "Enter the number:9\n",
      "Enter the number:0\n",
      "Enter the number:0\n"
     ]
    },
    {
     "data": {
      "text/plain": [
       "9"
      ]
     },
     "execution_count": 40,
     "metadata": {},
     "output_type": "execute_result"
    }
   ],
   "source": [
    "def a7mad(a,b,c):\n",
    "    max=a\n",
    "    if b>max:\n",
    "        max=b\n",
    "    if c>max:\n",
    "        max=c\n",
    "    return max\n",
    "i=int(input(\"Enter the number:\"))\n",
    "c=int(input(\"Enter the number:\"))\n",
    "e=int(input(\"Enter the number:\"))\n",
    "a7mad(i,c,e)\n"
   ]
  },
  {
   "cell_type": "code",
   "execution_count": 69,
   "id": "62eb62b1",
   "metadata": {},
   "outputs": [
    {
     "name": "stdout",
     "output_type": "stream",
     "text": [
      "Enter the range from:1\n",
      "Enter the range end in:3\n",
      "Enter the number:2\n",
      "The number is 2 in a given range\n"
     ]
    }
   ],
   "source": [
    "def man(n,k,j):\n",
    "    for o in range(n,k+1):\n",
    "        if o==j:\n",
    "            print(\"The number is\" ,j ,\"in a given range\")\n",
    "            break\n",
    "    else:\n",
    "        print(\"The number is not\" ,j ,\"in a given range\")\n",
    "n=int(input(\"Enter the range from:\"))\n",
    "k=int(input(\"Enter the range end in:\"))\n",
    "j=int(input(\"Enter the number:\"))\n",
    "man(n,k,j)"
   ]
  },
  {
   "cell_type": "code",
   "execution_count": 23,
   "id": "46f6f1a3",
   "metadata": {},
   "outputs": [
    {
     "name": "stdout",
     "output_type": "stream",
     "text": [
      "Enter the number:9\n",
      "False\n"
     ]
    }
   ],
   "source": [
    "def a7a(n):\n",
    "    if (n%5==0 and n%3==0):\n",
    "        print(True)\n",
    "    else:\n",
    "        print(False)\n",
    "i=int(input(\"Enter the number:\"))\n",
    "a7a(i)"
   ]
  },
  {
   "cell_type": "code",
   "execution_count": 66,
   "id": "169c9291",
   "metadata": {},
   "outputs": [
    {
     "name": "stdout",
     "output_type": "stream",
     "text": [
      "Enter the number:2\n",
      "Enter the number:3\n"
     ]
    },
    {
     "data": {
      "text/plain": [
       "5"
      ]
     },
     "execution_count": 66,
     "metadata": {},
     "output_type": "execute_result"
    }
   ],
   "source": [
    "def sum(n1,n2):\n",
    "    return n1+n2\n",
    "n1=int(input(\"Enter the number:\"))\n",
    "n2=int(input(\"Enter the number:\"))\n",
    "sum(n1,n2)"
   ]
  },
  {
   "cell_type": "code",
   "execution_count": 67,
   "id": "829eff65",
   "metadata": {},
   "outputs": [
    {
     "name": "stdout",
     "output_type": "stream",
     "text": [
      "Enter the nights:3\n",
      "Enter the price:2\n",
      "Enter the guests:4\n"
     ]
    },
    {
     "data": {
      "text/plain": [
       "24"
      ]
     },
     "execution_count": 67,
     "metadata": {},
     "output_type": "execute_result"
    }
   ],
   "source": [
    "def hotel_cost(nights,price,guests):\n",
    "    return(nights*price*guests)\n",
    "i=int(input(\"Enter the nights:\"))\n",
    "e=int(input(\"Enter the price:\"))\n",
    "j=int(input(\"Enter the guests:\"))\n",
    "hotel_cost(i,e,j)"
   ]
  },
  {
   "cell_type": "code",
   "execution_count": 68,
   "id": "530316bc",
   "metadata": {},
   "outputs": [
    {
     "name": "stdout",
     "output_type": "stream",
     "text": [
      "Enter the number:4\n"
     ]
    },
    {
     "data": {
      "text/plain": [
       "True"
      ]
     },
     "execution_count": 68,
     "metadata": {},
     "output_type": "execute_result"
    }
   ],
   "source": [
    "def even(n):\n",
    "    if n%2==0:\n",
    "        return True\n",
    "    return False\n",
    "i = int(input(\"Enter the number:\"))\n",
    "even(i)"
   ]
  },
  {
   "cell_type": "code",
   "execution_count": null,
   "id": "1ce7a752",
   "metadata": {},
   "outputs": [],
   "source": [
    "def di(x):\n",
    "    if x%3==0 or X%5==0:\n",
    "        print(\"\")"
   ]
  },
  {
   "cell_type": "code",
   "execution_count": 3,
   "id": "e665ca38",
   "metadata": {},
   "outputs": [
    {
     "name": "stdout",
     "output_type": "stream",
     "text": [
      "My name is Ibrahim My country is Egypt I am 17 years old\n",
      "<class 'str'>\n",
      "<class 'str'>\n",
      "<class 'str'>\n"
     ]
    }
   ],
   "source": [
    "x=\"My name is Ibrahim\"\n",
    "y=\"I am 17 years old\"\n",
    "v=\"My country is Egypt\"\n",
    "print(x,v,y)\n",
    "print(type(v))\n",
    "print(type(x))\n",
    "print(type(y))"
   ]
  },
  {
   "cell_type": "code",
   "execution_count": 5,
   "id": "1b6a19a1",
   "metadata": {},
   "outputs": [
    {
     "name": "stdout",
     "output_type": "stream",
     "text": [
      "Hello World\n",
      "Second Line\n",
      "Abcde\n",
      "Hello\tPython\n",
      "Os\n"
     ]
    }
   ],
   "source": [
    "print(\"Hello World\\nSecond Line\")\n",
    "\n",
    "# Carriage Return\n",
    "print(\"123456\\rAbcde\")\n",
    "\n",
    "# Horizontal Tab\n",
    "print(\"Hello\\tPython\")\n",
    "\n",
    "# Character Hex Value\n",
    "print(\"\\x4F\\x73\")"
   ]
  },
  {
   "cell_type": "code",
   "execution_count": null,
   "id": "625cead9",
   "metadata": {},
   "outputs": [],
   "source": [
    "\"Hello, My Name Is Osama And Iam 38 Years Old and I Live in Egypt.\""
   ]
  },
  {
   "cell_type": "code",
   "execution_count": 12,
   "id": "0059948f",
   "metadata": {},
   "outputs": [
    {
     "name": "stdout",
     "output_type": "stream",
     "text": [
      "\"Hello, My Name Is Osama And\n",
      "I am 38 Years Old and I Live in Egypt.\"\n"
     ]
    }
   ],
   "source": [
    "x=\"Hello,\"\n",
    "b=\" \"\n",
    "v=\"My Name \\\n",
    "Is \\\n",
    "Osama \\\n",
    "And\"\n",
    "c=\"I am 38 \\\n",
    "Years \\\n",
    "Old and I \\\n",
    "Live in \\\n",
    "Egypt.\"\n",
    "print(\"\\\"\"+ x + b + v + \"\\n\"+ c + \"\\\"\")"
   ]
  },
  {
   "cell_type": "code",
   "execution_count": 19,
   "id": "78ecbe07",
   "metadata": {},
   "outputs": [
    {
     "name": "stdout",
     "output_type": "stream",
     "text": [
      "\" Hello 'Osama', How You Doing \\ \"\"\" YOur Age Is \"\"38\" + And Your Country Is: Egypt\n"
     ]
    }
   ],
   "source": [
    "# \"Hello 'Osama', How You Doing \\ \"\"\" Your Age Is \"38\"\" + And Your Country Is: Egypt\n",
    "x=\"\\\" Hello \\'Osama\\', How You Doing \\\\ \\\"\\\"\\\" \"\n",
    "v=\"YOur Age Is \\\"\\\"38\\\" + And \"\n",
    "b=\"Your Country Is: Egypt\"\n",
    "print(x + v + b)"
   ]
  },
  {
   "cell_type": "code",
   "execution_count": null,
   "id": "cab789df",
   "metadata": {},
   "outputs": [],
   "source": [
    "\"Hello 'Osama', How You Doing \\\n",
    "\"\"\" Your Age Is \"38\"\" +\n",
    "And Your Country Is: Egypt"
   ]
  },
  {
   "cell_type": "code",
   "execution_count": 3,
   "id": "8e95710c",
   "metadata": {},
   "outputs": [
    {
     "name": "stdout",
     "output_type": "stream",
     "text": [
      "\" Hello 'Osama', How You Doing \\\n",
      "\"\"\" Your Age Is \"\"38\" +\n",
      "And Your Country Is: Egypt\n"
     ]
    }
   ],
   "source": [
    "x=\"\\\" Hello \\'Osama\\', How You Doing \\\\\"\n",
    "v=\"\\\"\\\"\\\" Your Age Is \\\"\\\"38\\\" +\"\n",
    "b=\"And Your Country Is: Egypt\"\n",
    "print(x + \"\\n\" + v + \"\\n\" + b)"
   ]
  },
  {
   "cell_type": "code",
   "execution_count": 14,
   "id": "f434b7fc",
   "metadata": {},
   "outputs": [
    {
     "name": "stdout",
     "output_type": "stream",
     "text": [
      "First\n",
      "Second \"Test\" \\\\ 'Test'\n",
      "Third\n"
     ]
    }
   ],
   "source": [
    "\n",
    "print(\"\"\"First\n",
    "Second \"Test\" \\\\\\ 'Test'\n",
    "Third\"\"\")"
   ]
  },
  {
   "cell_type": "code",
   "execution_count": 16,
   "id": "4ca616b1",
   "metadata": {},
   "outputs": [
    {
     "name": "stdout",
     "output_type": "stream",
     "text": [
      " fskdafljaslk\n",
      "sdfasdf\n",
      "dsfasdf'\\''djsfafklajsd\n",
      "Dsf\n"
     ]
    }
   ],
   "source": [
    "print(\"\"\" fskdafljaslk\n",
    "sdfasdf\n",
    "dsfasdf'\\\\''\\\n",
    "djsfafklajsd\n",
    "Dsf\"\"\")"
   ]
  },
  {
   "cell_type": "code",
   "execution_count": 21,
   "id": "3373902c",
   "metadata": {},
   "outputs": [
    {
     "name": "stdout",
     "output_type": "stream",
     "text": [
      "Elzero\n",
      "Second Letter Is l\n",
      "Third Letter Is z\n",
      "Last Letter Is o\n"
     ]
    }
   ],
   "source": [
    "name = 'Elzero'\n",
    "print(name)\n",
    "print(\"Second Letter Is\",name[1])\n",
    "print(\"Third Letter Is\",name[2])\n",
    "print(\"Last Letter Is\",name[5])\n",
    "# Needed Output\n",
    "# Second Letter Is \"l\"\n",
    "# Third Letter Is \"z\"\n",
    "# Last Letter Is \"o\""
   ]
  },
  {
   "cell_type": "code",
   "execution_count": null,
   "id": "07847a2d",
   "metadata": {},
   "outputs": [],
   "source": [
    "name = 'Elzero'\n",
    "\n",
    "# Needed Output\n",
    "# \"lze\"\n",
    "# \"Ezr\"\n",
    "# \"rzE\""
   ]
  },
  {
   "cell_type": "code",
   "execution_count": 60,
   "id": "22090879",
   "metadata": {},
   "outputs": [
    {
     "name": "stdout",
     "output_type": "stream",
     "text": [
      "lze\n",
      "Ezr\n",
      "rz\n"
     ]
    }
   ],
   "source": [
    "name = 'Elzero'\n",
    "print(name[1:4])\n",
    "print(name[0:5:2])\n",
    "print(name[4:0:-2])"
   ]
  },
  {
   "cell_type": "code",
   "execution_count": 63,
   "id": "c82aea07",
   "metadata": {},
   "outputs": [
    {
     "name": "stdout",
     "output_type": "stream",
     "text": [
      "!\n",
      "11\n",
      "d\n",
      "10\n",
      "l\n",
      "9\n",
      "r\n",
      "8\n",
      "o\n",
      "7\n",
      "W\n",
      "6\n",
      " \n",
      "5\n",
      "o\n",
      "4\n",
      "l\n",
      "3\n",
      "l\n",
      "2\n",
      "e\n",
      "1\n",
      "!dlroW olle\n"
     ]
    }
   ],
   "source": [
    "XX"
   ]
  },
  {
   "cell_type": "code",
   "execution_count": null,
   "id": "b3569135",
   "metadata": {},
   "outputs": [],
   "source": [
    "def reverse(text):\n",
    "    a = \"\"\n",
    "    for i in range(1, len(text) + 1):\n",
    "        a += text[len(text) - i]\n",
    "    return a\n",
    "\n",
    "print(reverse(\"Hello World!\")) # prints: !dlroW olleH"
   ]
  },
  {
   "cell_type": "code",
   "execution_count": 2,
   "id": "dc748014",
   "metadata": {},
   "outputs": [
    {
     "name": "stdout",
     "output_type": "stream",
     "text": [
      "intet the letter:m\n",
      "intet the wordman\n",
      "an\n"
     ]
    }
   ],
   "source": [
    "def remove_letter(letter, name):\n",
    "    u=\"\"\n",
    "    for i in name:\n",
    "        if letter != i:\n",
    "            u+=i\n",
    "    return u\n",
    "c=input(\"intet the letter:\")\n",
    "a=input(\"intet the word\")\n",
    "remove_letter(c,a)\n",
    "print(remove_letter(c,a))"
   ]
  },
  {
   "cell_type": "code",
   "execution_count": null,
   "id": "c148a111",
   "metadata": {},
   "outputs": [],
   "source": [
    "def counts (letters, word)\n",
    "\n",
    "\n",
    "\n",
    "c=input(\"intet the letter:\")\n",
    "a=input(\"intet the word\")\n",
    "remove_letter(c,a)\n",
    "print(counts(c,a))"
   ]
  },
  {
   "cell_type": "code",
   "execution_count": 10,
   "id": "b3078d70",
   "metadata": {},
   "outputs": [
    {
     "name": "stdout",
     "output_type": "stream",
     "text": [
      "J\n",
      "n\n"
     ]
    },
    {
     "ename": "TypeError",
     "evalue": "string indices must be integers",
     "output_type": "error",
     "traceback": [
      "\u001b[1;31m---------------------------------------------------------------------------\u001b[0m",
      "\u001b[1;31mTypeError\u001b[0m                                 Traceback (most recent call last)",
      "Input \u001b[1;32mIn [10]\u001b[0m, in \u001b[0;36m<cell line: 5>\u001b[1;34m()\u001b[0m\n\u001b[0;32m      3\u001b[0m \u001b[38;5;28mprint\u001b[39m(name[\u001b[38;5;241m0\u001b[39m]) \u001b[38;5;66;03m#first element\u001b[39;00m\n\u001b[0;32m      4\u001b[0m \u001b[38;5;28mprint\u001b[39m(name[\u001b[38;5;241m3\u001b[39m]) \u001b[38;5;66;03m#element with index 3\u001b[39;00m\n\u001b[1;32m----> 5\u001b[0m \u001b[38;5;28mprint\u001b[39m(\u001b[43mname\u001b[49m\u001b[43m[\u001b[49m\u001b[38;5;241;43m1\u001b[39;49m\u001b[43m,\u001b[49m\u001b[38;5;241;43m3\u001b[39;49m\u001b[43m,\u001b[49m\u001b[38;5;241;43m1\u001b[39;49m\u001b[43m]\u001b[49m) \u001b[38;5;66;03m#last element\u001b[39;00m\n\u001b[0;32m      6\u001b[0m \u001b[38;5;28mprint\u001b[39m(name[\u001b[38;5;28mlen\u001b[39m(name)\u001b[38;5;241m-\u001b[39m\u001b[38;5;241m1\u001b[39m]) \u001b[38;5;66;03m#last element\u001b[39;00m\n\u001b[0;32m      9\u001b[0m first \u001b[38;5;241m=\u001b[39m name[\u001b[38;5;241m0\u001b[39m]\n",
      "\u001b[1;31mTypeError\u001b[0m: string indices must be integers"
     ]
    }
   ],
   "source": [
    "name = \"John\"\n",
    "\n",
    "print(name[0]) #first element\n",
    "print(name[3]) #element with index 3\n",
    "print(name[1,3,1]) #last element\n",
    "print(name[len(name)-1]) #last element\n",
    "\n",
    "\n",
    "first = name[0]\n",
    "print(\"First: \", first)\n",
    "print(len(name))\n"
   ]
  },
  {
   "cell_type": "code",
   "execution_count": 11,
   "id": "47d59a88",
   "metadata": {},
   "outputs": [
    {
     "name": "stdout",
     "output_type": "stream",
     "text": [
      "r\n"
     ]
    }
   ],
   "source": [
    "s = \"python rocks\"\n",
    "print(s[len(s)-5])\n"
   ]
  },
  {
   "cell_type": "code",
   "execution_count": 14,
   "id": "70f16ce7",
   "metadata": {},
   "outputs": [
    {
     "name": "stdout",
     "output_type": "stream",
     "text": [
      "A\n",
      "5\n",
      "p\n",
      "5\n",
      "p\n",
      "5\n",
      "l\n",
      "5\n",
      "e\n",
      "5\n"
     ]
    }
   ],
   "source": [
    "fruit = \"Apple\"\n",
    "index=0\n",
    "\n",
    "while index<len(fruit):\n",
    "    letter=fruit[index]\n",
    "    print(letter)\n",
    "    index+=1"
   ]
  },
  {
   "cell_type": "code",
   "execution_count": 15,
   "id": "a5311592",
   "metadata": {},
   "outputs": [
    {
     "name": "stdout",
     "output_type": "stream",
     "text": [
      "A\n",
      "p\n",
      "p\n",
      "l\n",
      "e\n"
     ]
    }
   ],
   "source": [
    "fruit=\"Apple\"\n",
    "for char in fruit:\n",
    "    print(char)"
   ]
  },
  {
   "cell_type": "code",
   "execution_count": 17,
   "id": "cd2e1ffe",
   "metadata": {},
   "outputs": [
    {
     "name": "stdout",
     "output_type": "stream",
     "text": [
      "APPLE\n",
      "apple\n"
     ]
    }
   ],
   "source": [
    "fruit=\"apple\"\n",
    "print (fruit.upper())\n",
    "    \n",
    "fruit=\"APPLE\"\n",
    "print(fruit.lower())\n"
   ]
  },
  {
   "cell_type": "code",
   "execution_count": 18,
   "id": "c93d8072",
   "metadata": {},
   "outputs": [
    {
     "name": "stdout",
     "output_type": "stream",
     "text": [
      "2\n"
     ]
    }
   ],
   "source": [
    "fruit=\"Apple\"\n",
    "print(fruit.count(\"p\"))\n"
   ]
  },
  {
   "cell_type": "code",
   "execution_count": 74,
   "id": "3a3cfe50",
   "metadata": {},
   "outputs": [
    {
     "name": "stdout",
     "output_type": "stream",
     "text": [
      "Write the litter: g\n"
     ]
    },
    {
     "data": {
      "text/plain": [
       "7"
      ]
     },
     "execution_count": 74,
     "metadata": {},
     "output_type": "execute_result"
    }
   ],
   "source": [
    "e = \"\"\"gjkhfdslaklhsdfjkdsfhgggggg\n",
    "\"\"\"\n",
    "\n",
    "def countant(word, litter):\n",
    "    t = 0\n",
    "    for i in range(len(word)-1):\n",
    "\n",
    "        if word[i]==litter:\n",
    "            t+=1\n",
    "        else:\n",
    "            continue\n",
    "    return t\n",
    "g = str(input(\"Write the litter: \"))\n",
    "countant(e,g)"
   ]
  },
  {
   "cell_type": "code",
   "execution_count": 83,
   "id": "3b2ef107",
   "metadata": {},
   "outputs": [
    {
     "name": "stdout",
     "output_type": "stream",
     "text": [
      "0\n"
     ]
    }
   ],
   "source": [
    "fruit=\"apple\"\n",
    "def count_occurences(a):\n",
    "    counter=0\n",
    "    for i in range(len(fruit)-1):\n",
    "        if fruit[i]==a:\n",
    "            counter+=1\n",
    "    return counter\n",
    "            \n",
    "print(count_occurences(\"e\"))\n"
   ]
  },
  {
   "cell_type": "code",
   "execution_count": 78,
   "id": "f4570d5d",
   "metadata": {},
   "outputs": [
    {
     "data": {
      "text/plain": [
       "12"
      ]
     },
     "execution_count": 78,
     "metadata": {},
     "output_type": "execute_result"
    }
   ],
   "source": [
    "a = \"apppppppppppple\"\n",
    "a.count(\"p\")"
   ]
  },
  {
   "cell_type": "code",
   "execution_count": 82,
   "id": "cc92226e",
   "metadata": {},
   "outputs": [
    {
     "name": "stdout",
     "output_type": "stream",
     "text": [
      "Please enter the litter: !\n",
      "1\n"
     ]
    }
   ],
   "source": [
    "_word=\"\"\"dsajkfhgadjksdslaifewiorqrewpioyyturioq[wfdskmn bmnvxczx\n",
    "ck.vewk;rlqyiotasd14138092652871-\n",
    "123456987546231546897213sdqewdfasvcerqwtrweuiytropi][/.m,]!\"\"\"\n",
    "def count(word,letter):\n",
    "    t=0\n",
    "    for i in range(len(_word)):\n",
    "        if word[i]==letter:\n",
    "            t+=1\n",
    "    return t\n",
    "x=input(\"Please enter the litter: \")\n",
    "print(count(_word,x))"
   ]
  },
  {
   "cell_type": "code",
   "execution_count": null,
   "id": "11e6db5c",
   "metadata": {},
   "outputs": [],
   "source": [
    "_word=\"\"\"dsajkfhgadjksdslaifewiorqrewpioyyturioq[wfdskmn bmnvxczx\n",
    "ck.vewk;rlqyiotasd14138092652871-\n",
    "123456987546231546897213sdqewdfasvcerqwtrweuiytropi][/.m,]!\"\"\"\n",
    "def count(word,letter):\n",
    "    t=0\n",
    "    for i in range(len(_word)):\n",
    "        if word[i]==letter:\n",
    "            t+=1\n",
    "    return t\n",
    "x=input(\"Please enter the litter: \")\n",
    "print(count(_word,x))"
   ]
  },
  {
   "cell_type": "code",
   "execution_count": 88,
   "id": "ca8c9c51",
   "metadata": {},
   "outputs": [
    {
     "name": "stdout",
     "output_type": "stream",
     "text": [
      "Enter the litter: ~\n",
      "3\n"
     ]
    }
   ],
   "source": [
    "wordd=\"\"\"\n",
    "~~~```1243254365786980-0=\n",
    "$#!@%$#&^%&*^%()_)(+)((*&*&^%^&%$%$@##@$!@!#))\n",
    "qrwewterurytoyiup[oi][po';\\m,./,mnbmvnbfdghtgsfdcxzvzxvca]\n",
    "rqewtyretuyyuioopiui[po[p]o\\';l;lkj'lkjhkjhghgjfhgfdgfsdfsdadfsa\n",
    "vzxczvxcxbvncnmbvmnb,,.mn/.,m/.,]\n",
    "213123132132213456546456654897798987\n",
    "\"\"\"\n",
    "def count(word,litter):\n",
    "    t=0\n",
    "    for i in range(len(word)):\n",
    "        if word[i]==litter:\n",
    "            t+=1\n",
    "    return t\n",
    "litterr=(input(\"Enter the litter: \"))\n",
    "print(count(wordd,litterr))"
   ]
  },
  {
   "cell_type": "code",
   "execution_count": 97,
   "id": "c08c9396",
   "metadata": {},
   "outputs": [
    {
     "name": "stdout",
     "output_type": "stream",
     "text": [
      "0\n",
      "1\n",
      "0\n",
      "0\n",
      "0\n"
     ]
    }
   ],
   "source": [
    "def find(word,letter):\n",
    "    t=0\n",
    "    for i in range(len(word)):\n",
    "            if word[i]==letter:\n",
    "                t+=1\n",
    "            return t\n",
    "    return -1 \n",
    "\n",
    "\n",
    "\n",
    "print(find(\"Compsci\", \"p\"))\n",
    "print(find(\"Compsci\", \"C\"))\n",
    "print(find(\"Compsci\", \"i\"))\n",
    "print(find(\"Compsci\", \"x\"))\n",
    "print(find(\"Compsci\", \"9\"))"
   ]
  },
  {
   "cell_type": "code",
   "execution_count": 98,
   "id": "703d906e",
   "metadata": {},
   "outputs": [
    {
     "name": "stdout",
     "output_type": "stream",
     "text": [
      "3\n",
      "0\n",
      "-1\n"
     ]
    }
   ],
   "source": [
    "def find(mystring, myletter):\n",
    "    counter=0\n",
    "    for char in mystring:\n",
    "        if char==myletter:\n",
    "            return counter\n",
    "        counter+=1\n",
    "    return -1\n",
    "print(find(\"Compsci\", \"p\"))\n",
    "print(find(\"Compsci\", \"C\"))\n",
    "print(find(\"Compsci\", \"x\"))\n"
   ]
  },
  {
   "cell_type": "code",
   "execution_count": 104,
   "id": "bc9dabb3",
   "metadata": {},
   "outputs": [
    {
     "name": "stdout",
     "output_type": "stream",
     "text": [
      "8\n"
     ]
    }
   ],
   "source": [
    "def counter(word,letter):\n",
    "    count=0\n",
    "    for i in range(len(word)):\n",
    "        if word==letter:\n",
    "            return count\n",
    "        count+=1\n",
    "    return count\n",
    "wordd=\"gaaiiiii\"\n",
    "letterr=\"i\"\n",
    "print(counter(wordd,letterr))"
   ]
  },
  {
   "cell_type": "code",
   "execution_count": 110,
   "id": "5d3f1d14",
   "metadata": {},
   "outputs": [
    {
     "name": "stdout",
     "output_type": "stream",
     "text": [
      "1\n",
      "2\n"
     ]
    }
   ],
   "source": [
    "word = \"banana\"\n",
    "index = word.find(\"a\") \n",
    "index1 = word.find(\"nana\") \n",
    "print (index) \n",
    "print (index1)"
   ]
  },
  {
   "cell_type": "code",
   "execution_count": 108,
   "id": "8c39031b",
   "metadata": {},
   "outputs": [
    {
     "name": "stdout",
     "output_type": "stream",
     "text": [
      "2\n"
     ]
    }
   ],
   "source": [
    "word = \"banananananananana\"\n",
    "# index = word.find(\"a\")\n",
    "index1 = word.find('n')\n",
    "# print (index)\n",
    "print(index1)"
   ]
  },
  {
   "cell_type": "code",
   "execution_count": 115,
   "id": "733d1905",
   "metadata": {},
   "outputs": [
    {
     "name": "stdout",
     "output_type": "stream",
     "text": [
      "True\n",
      "False\n",
      "True\n"
     ]
    }
   ],
   "source": [
    "print(\"Dog\" < \"Doghouse\")\n",
    "print(\"dog\" < \"Dog\")\n",
    "print(\"dog\" < \"doghouse\")\n"
   ]
  },
  {
   "cell_type": "code",
   "execution_count": 130,
   "id": "431937f3",
   "metadata": {},
   "outputs": [
    {
     "name": "stdout",
     "output_type": "stream",
     "text": [
      "2\n",
      "3\n"
     ]
    }
   ],
   "source": [
    "# #1: Count number of letter “e” in a string.\n",
    "\n",
    "def count(word,letter):\n",
    "    n=0\n",
    "    for i in range(len(word)):\n",
    "        if word[i]==letter:\n",
    "                return n\n",
    "        n+=1\n",
    "    return -1\n",
    "e=\"gie fsadee\"\n",
    "a=\"e\"\n",
    "print(count(e,a))\n",
    "def count2(word):\n",
    "    n=0\n",
    "    for i in range (len(word)):\n",
    "        if word[i]==\"e\":\n",
    "            n+=1\n",
    "    return n\n",
    "print(count2(e))"
   ]
  },
  {
   "cell_type": "code",
   "execution_count": 154,
   "id": "1b179eb6",
   "metadata": {},
   "outputs": [
    {
     "name": "stdout",
     "output_type": "stream",
     "text": [
      "('hallo ', 'world ', '123456')\n"
     ]
    }
   ],
   "source": [
    "#2: Slice string into 3 parts.\n",
    "def slice(word):\n",
    "    q = \"\"\n",
    "    a = \"\"\n",
    "    z = \"\"\n",
    "#     for i in range(len(word)):\n",
    "    q += word[0:int(len(word)/3)]\n",
    "    a += word[int(len(word)/3):int(len(word)*2/3)]\n",
    "    z += word[int(len(word)*2/3):int(len(word))]\n",
    "    return q,a,z\n",
    "print(slice(\"hallo world 123456\"))"
   ]
  },
  {
   "cell_type": "code",
   "execution_count": 127,
   "id": "0f1be458",
   "metadata": {},
   "outputs": [
    {
     "name": "stdout",
     "output_type": "stream",
     "text": [
      "Total number of digits is:  5\n",
      "Sum of digits is:  15\n"
     ]
    }
   ],
   "source": [
    "def countAndSum(word):\n",
    "    sum = 0\n",
    "    counter = 0\n",
    "    for i in range(len(word)):\n",
    "        if(word[i] >= '0' and word[i] <= '9'):\n",
    "            counter = counter + 1\n",
    "            sum = sum + int(word[i])\n",
    "    print(\"Total number of digits is: \", counter)\n",
    "    print(\"Sum of digits is: \", sum)\n",
    "    \n",
    "word = \"hello 2w3orl910\"\n",
    "countAndSum(word)"
   ]
  },
  {
   "cell_type": "code",
   "execution_count": 144,
   "id": "b03cb96d",
   "metadata": {},
   "outputs": [
    {
     "name": "stdout",
     "output_type": "stream",
     "text": [
      "gjj\n"
     ]
    },
    {
     "data": {
      "text/plain": [
       "4"
      ]
     },
     "execution_count": 144,
     "metadata": {},
     "output_type": "execute_result"
    }
   ],
   "source": [
    "\n",
    "i=\"fdhgjjsdhkfg\"\n",
    "print(i[3:6])\n",
    "int(len(i)/3)"
   ]
  },
  {
   "cell_type": "code",
   "execution_count": null,
   "id": "82eaa48b",
   "metadata": {},
   "outputs": [],
   "source": [
    "# #4: Find index of letter “a” in a string.\n",
    "# #5: Find index of letter “a” in a string starting at position 3.\n",
    "# #6: Find a substring “change” in a previous string.\n",
    "# #7: Print all letters on even positions in a string.\n",
    "\n",
    "# String: “The only constant in the technology industry is change.”\n",
    "    \n",
    "# #1: Write a function that will print the number of digits in an string and their sum.\n",
    "# #2: Write a function that will return the number of digits in an integer.\n",
    "# #3: Write a function that removes all occurrences off a given letter from a string.\n",
    "# #4: Write a function that prints all letters from word1 that also appear in word2.\n",
    "# #5: Write a function that mirrors its string argument,\n",
    "# generating a string containing the original\n",
    "# string and the string backwards. Example: GOOD -> GOODDOOG\n",
    "# #6: Write a function that removes the first occurrence of a\n",
    "# string from another string.\n",
    "# #7: Write a function called “remove_duplicates” that takes a\n",
    "# string and creates a new string\n",
    "# by only adding those characters that are not already present.\n",
    "# In other words, there will never be\n",
    "# a duplicate element added to the new string.\n",
    "# #8: Write a function that will change specified letter1 into letter2.\n",
    "# Function definition should look similar to this: \n",
    "# def changeLetter(oldstringstring,letter1,letter2)\n",
    "# #9: Write a function to check if a word is a palindrome or not"
   ]
  },
  {
   "cell_type": "code",
   "execution_count": null,
   "id": "1bd638fd",
   "metadata": {},
   "outputs": [],
   "source": [
    "# #3: Create a new string from the original one, with the following text: \n",
    "# “The only constant in the technology industry is not change.”"
   ]
  },
  {
   "cell_type": "code",
   "execution_count": 160,
   "id": "e1eea4b2",
   "metadata": {},
   "outputs": [
    {
     "ename": "TypeError",
     "evalue": "'word' is an invalid keyword argument for int()",
     "output_type": "error",
     "traceback": [
      "\u001b[1;31m---------------------------------------------------------------------------\u001b[0m",
      "\u001b[1;31mTypeError\u001b[0m                                 Traceback (most recent call last)",
      "Input \u001b[1;32mIn [160]\u001b[0m, in \u001b[0;36m<cell line: 1>\u001b[1;34m()\u001b[0m\n\u001b[1;32m----> 1\u001b[0m \u001b[38;5;28;43mint\u001b[39;49m\u001b[43m(\u001b[49m\u001b[43mword\u001b[49m\u001b[38;5;241;43m=\u001b[39;49m\u001b[38;5;124;43m\"\"\"\u001b[39;49m\u001b[38;5;124;43m“The only constant in the technology industry is not change.”\u001b[39;49m\u001b[38;5;124;43m\"\"\"\u001b[39;49m\u001b[43m)\u001b[49m\n\u001b[0;32m      2\u001b[0m \u001b[38;5;28;01mdef\u001b[39;00m \u001b[38;5;21mcopy\u001b[39m(word):\n\u001b[0;32m      3\u001b[0m     cop\u001b[38;5;241m=\u001b[39m\u001b[38;5;124m\"\"\"\u001b[39m\u001b[38;5;124m\"\"\"\u001b[39m\n",
      "\u001b[1;31mTypeError\u001b[0m: 'word' is an invalid keyword argument for int()"
     ]
    }
   ],
   "source": [
    "word=\"\"\"“The only constant in the technology industry is not change.”\"\"\"\n",
    "def copy(word):\n",
    "    cop=\"\"\"\"\"\"\n",
    "    cop+=word\n",
    "    return cop\n",
    "print(copy(word))"
   ]
  },
  {
   "cell_type": "code",
   "execution_count": 171,
   "id": "9b0908b9",
   "metadata": {},
   "outputs": [
    {
     "name": "stdout",
     "output_type": "stream",
     "text": [
      "['“The onl', ' constant in the technolog', ' industr', ' is not change.”']\n"
     ]
    }
   ],
   "source": [
    "wo=12648\n",
    "g=word.split(\"y\")\n",
    "print(g)"
   ]
  },
  {
   "cell_type": "code",
   "execution_count": 174,
   "id": "162f0d3d",
   "metadata": {},
   "outputs": [
    {
     "name": "stdout",
     "output_type": "stream",
     "text": [
      "Enter the number a:0\n",
      "Enter the number b:900\n",
      "0\n"
     ]
    }
   ],
   "source": [
    "def power(a,b):\n",
    "    if a==0:\n",
    "        return a\n",
    "    elif b==0:\n",
    "        return 1\n",
    "#     elif b==1:\n",
    "#         return a\n",
    "    else :\n",
    "        return a*power(a,b-1)\n",
    "a=int(input(\"Enter the number a:\"))\n",
    "b=int(input(\"Enter the number b:\"))\n",
    "print(power(a,b))"
   ]
  },
  {
   "cell_type": "code",
   "execution_count": 175,
   "id": "326b7d3b",
   "metadata": {},
   "outputs": [
    {
     "data": {
      "text/plain": [
       "24"
      ]
     },
     "execution_count": 175,
     "metadata": {},
     "output_type": "execute_result"
    }
   ],
   "source": [
    "4*3*2*1"
   ]
  },
  {
   "cell_type": "code",
   "execution_count": 187,
   "id": "a99f7457",
   "metadata": {},
   "outputs": [
    {
     "name": "stdout",
     "output_type": "stream",
     "text": [
      "9.5\n"
     ]
    }
   ],
   "source": [
    "def sumDigits(n):\n",
    "    if n<1:\n",
    "        return 0\n",
    "    else :\n",
    "        return n%10 + sumDigits(n/10)\n",
    "print(sumDigits(45))"
   ]
  },
  {
   "cell_type": "code",
   "execution_count": 184,
   "id": "6dc9711f",
   "metadata": {},
   "outputs": [
    {
     "data": {
      "text/plain": [
       "8.5"
      ]
     },
     "execution_count": 184,
     "metadata": {},
     "output_type": "execute_result"
    }
   ],
   "source": [
    "5+3.5"
   ]
  },
  {
   "cell_type": "code",
   "execution_count": 183,
   "id": "a5858988",
   "metadata": {},
   "outputs": [
    {
     "data": {
      "text/plain": [
       "5"
      ]
     },
     "execution_count": 183,
     "metadata": {},
     "output_type": "execute_result"
    }
   ],
   "source": [
    "35%10"
   ]
  },
  {
   "cell_type": "code",
   "execution_count": 186,
   "id": "45ff9da7",
   "metadata": {},
   "outputs": [
    {
     "data": {
      "text/plain": [
       "12.95"
      ]
     },
     "execution_count": 186,
     "metadata": {},
     "output_type": "execute_result"
    }
   ],
   "source": [
    "5+"
   ]
  },
  {
   "cell_type": "code",
   "execution_count": 1,
   "id": "8f2933d8",
   "metadata": {},
   "outputs": [
    {
     "name": "stdout",
     "output_type": "stream",
     "text": [
      "inter the nuber2\n",
      "2\n",
      "1\n",
      "0\n"
     ]
    }
   ],
   "source": [
    "def countdown(n):\n",
    "    print(n)\n",
    "    if n == 0:\n",
    "        return\n",
    "    else:\n",
    "        return countdown(n-1)\n",
    "\n",
    "\n",
    "x = countdown(int(input(\"inter the nuber\")))"
   ]
  },
  {
   "cell_type": "code",
   "execution_count": 6,
   "id": "250b73f9",
   "metadata": {},
   "outputs": [
    {
     "name": "stdout",
     "output_type": "stream",
     "text": [
      "9\n",
      "8\n",
      "7\n",
      "6\n",
      "5\n",
      "4\n",
      "3\n",
      "2\n",
      "1\n",
      "0\n"
     ]
    }
   ],
   "source": [
    "def countdown(n):\n",
    "    print(n)\n",
    "    if n == 0:\n",
    "        return 1\n",
    "    else:\n",
    "         countdown(n-1)\n",
    "    \n",
    "\n",
    "countdown(9)"
   ]
  },
  {
   "cell_type": "code",
   "execution_count": 25,
   "id": "eabd4622",
   "metadata": {},
   "outputs": [
    {
     "name": "stdout",
     "output_type": "stream",
     "text": [
      "9\n",
      "masr 9\n",
      "8\n",
      "masr 8\n",
      "7\n",
      "masr 7\n",
      "6\n",
      "masr 6\n",
      "5\n",
      "masr 5\n",
      "4\n",
      "masr 4\n",
      "3\n",
      "masr 3\n",
      "2\n",
      "masr 2\n",
      "1\n",
      "masr 1\n",
      "0\n"
     ]
    },
    {
     "ename": "NameError",
     "evalue": "name 'stop' is not defined",
     "output_type": "error",
     "traceback": [
      "\u001b[1;31m---------------------------------------------------------------------------\u001b[0m",
      "\u001b[1;31mNameError\u001b[0m                                 Traceback (most recent call last)",
      "Input \u001b[1;32mIn [25]\u001b[0m, in \u001b[0;36m<cell line: 9>\u001b[1;34m()\u001b[0m\n\u001b[0;32m      6\u001b[0m          \u001b[38;5;28mprint\u001b[39m(\u001b[38;5;124m'\u001b[39m\u001b[38;5;124mmasr\u001b[39m\u001b[38;5;124m'\u001b[39m, n)\n\u001b[0;32m      7\u001b[0m          countdown(n \u001b[38;5;241m-\u001b[39m \u001b[38;5;241m1\u001b[39m)   \u001b[38;5;66;03m# Recursive call\u001b[39;00m\n\u001b[1;32m----> 9\u001b[0m \u001b[43mcountdown\u001b[49m\u001b[43m(\u001b[49m\u001b[38;5;241;43m9\u001b[39;49m\u001b[43m)\u001b[49m\n",
      "Input \u001b[1;32mIn [25]\u001b[0m, in \u001b[0;36mcountdown\u001b[1;34m(n)\u001b[0m\n\u001b[0;32m      5\u001b[0m \u001b[38;5;28;01melse\u001b[39;00m:\n\u001b[0;32m      6\u001b[0m      \u001b[38;5;28mprint\u001b[39m(\u001b[38;5;124m'\u001b[39m\u001b[38;5;124mmasr\u001b[39m\u001b[38;5;124m'\u001b[39m, n)\n\u001b[1;32m----> 7\u001b[0m      \u001b[43mcountdown\u001b[49m\u001b[43m(\u001b[49m\u001b[43mn\u001b[49m\u001b[43m \u001b[49m\u001b[38;5;241;43m-\u001b[39;49m\u001b[43m \u001b[49m\u001b[38;5;241;43m1\u001b[39;49m\u001b[43m)\u001b[49m\n",
      "Input \u001b[1;32mIn [25]\u001b[0m, in \u001b[0;36mcountdown\u001b[1;34m(n)\u001b[0m\n\u001b[0;32m      5\u001b[0m \u001b[38;5;28;01melse\u001b[39;00m:\n\u001b[0;32m      6\u001b[0m      \u001b[38;5;28mprint\u001b[39m(\u001b[38;5;124m'\u001b[39m\u001b[38;5;124mmasr\u001b[39m\u001b[38;5;124m'\u001b[39m, n)\n\u001b[1;32m----> 7\u001b[0m      \u001b[43mcountdown\u001b[49m\u001b[43m(\u001b[49m\u001b[43mn\u001b[49m\u001b[43m \u001b[49m\u001b[38;5;241;43m-\u001b[39;49m\u001b[43m \u001b[49m\u001b[38;5;241;43m1\u001b[39;49m\u001b[43m)\u001b[49m\n",
      "    \u001b[1;31m[... skipping similar frames: countdown at line 7 (6 times)]\u001b[0m\n",
      "Input \u001b[1;32mIn [25]\u001b[0m, in \u001b[0;36mcountdown\u001b[1;34m(n)\u001b[0m\n\u001b[0;32m      5\u001b[0m \u001b[38;5;28;01melse\u001b[39;00m:\n\u001b[0;32m      6\u001b[0m      \u001b[38;5;28mprint\u001b[39m(\u001b[38;5;124m'\u001b[39m\u001b[38;5;124mmasr\u001b[39m\u001b[38;5;124m'\u001b[39m, n)\n\u001b[1;32m----> 7\u001b[0m      \u001b[43mcountdown\u001b[49m\u001b[43m(\u001b[49m\u001b[43mn\u001b[49m\u001b[43m \u001b[49m\u001b[38;5;241;43m-\u001b[39;49m\u001b[43m \u001b[49m\u001b[38;5;241;43m1\u001b[39;49m\u001b[43m)\u001b[49m\n",
      "Input \u001b[1;32mIn [25]\u001b[0m, in \u001b[0;36mcountdown\u001b[1;34m(n)\u001b[0m\n\u001b[0;32m      2\u001b[0m \u001b[38;5;28mprint\u001b[39m(n)\n\u001b[0;32m      3\u001b[0m \u001b[38;5;28;01mif\u001b[39;00m n \u001b[38;5;241m==\u001b[39m \u001b[38;5;241m0\u001b[39m:\n\u001b[1;32m----> 4\u001b[0m     \u001b[43mstop\u001b[49m\n\u001b[0;32m      5\u001b[0m \u001b[38;5;28;01melse\u001b[39;00m:\n\u001b[0;32m      6\u001b[0m      \u001b[38;5;28mprint\u001b[39m(\u001b[38;5;124m'\u001b[39m\u001b[38;5;124mmasr\u001b[39m\u001b[38;5;124m'\u001b[39m, n)\n",
      "\u001b[1;31mNameError\u001b[0m: name 'stop' is not defined"
     ]
    }
   ],
   "source": [
    "def countdown(n):\n",
    "    print(n)\n",
    "    if n == 0:\n",
    "        stop\n",
    "    else:\n",
    "         print('masr', n)\n",
    "         countdown(n - 1)   # Recursive call\n",
    "\n",
    "countdown(9)\n"
   ]
  },
  {
   "cell_type": "markdown",
   "id": "8f36ff16",
   "metadata": {},
   "source": []
  },
  {
   "cell_type": "code",
   "execution_count": null,
   "id": "f2998149",
   "metadata": {},
   "outputs": [],
   "source": [
    "def bad_power(n, p):\n",
    "    if p == 0:\n",
    "        return 1\n",
    "    else:\n",
    "        return n * bad_power(n, p-1)\n",
    "\n",
    "\n",
    "print(bad_power(3, 9))\n",
    "print(3**9)\n"
   ]
  },
  {
   "cell_type": "code",
   "execution_count": null,
   "id": "b52e00bf",
   "metadata": {},
   "outputs": [],
   "source": [
    "def ya3m(n):\n",
    "    if n <=0:\n",
    "        return 1\n",
    "    else:\n",
    "        return n * ya3m(n-1)\n",
    "\n",
    "\n",
    "print(ya3m(10))\n",
    "\n",
    "print(10*9*8*7*6*5*4*3*2*1)\n"
   ]
  },
  {
   "cell_type": "code",
   "execution_count": null,
   "id": "9a253217",
   "metadata": {},
   "outputs": [],
   "source": [
    "def reverse(n):\n",
    "    # print(n)\n",
    "    if len(n) == 0:\n",
    "        return n\n",
    "    else:\n",
    "        return reverse(n[1:]) + n[0]\n",
    "\n",
    "\n",
    "a = 'maladafsd'\n",
    "print(reverse(a))"
   ]
  },
  {
   "cell_type": "code",
   "execution_count": null,
   "id": "fdee0060",
   "metadata": {},
   "outputs": [],
   "source": [
    "r = 5\n",
    "v = 3.14\n",
    "b = 4/3\n",
    "d = b*v*r**3\n",
    "print(d)\n",
    "\n",
    "bp = 24.95*0.6*60\n",
    "fin = 3+(0.75*59)+bp\n",
    "print(fin)\n",
    "\n",
    "\n",
    "easy_pace_min = 8*2\n",
    "easy_pace_sec = 15*2\n",
    "between_easy_pace_min = 7*3\n",
    "between_easy_pace_sec = 12*3\n",
    "total_sec = between_easy_pace_sec + easy_pace_sec\n",
    "total_min = between_easy_pace_min + easy_pace_min\n",
    "print(\"you will arrive after\", total_min, \"minutes and\", total_sec, \"second\")\n",
    "\n",
    "\n",
    "b = 3\n",
    "s = 20\n",
    "e = b*s\n",
    "print(e)\n",
    "\n",
    "\n",
    "Day_Name = (input(\"write the day number\"))\n",
    "if Day_Name == 0:\n",
    "    print(\"sunday\")\n",
    "elif Day_Name == 1:\n",
    "    print(\"monday\")\n",
    "elif Day_Name == 2:\n",
    "    print(\"Tuesday\")\n",
    "elif Day_Name == 3:\n",
    "    print(\"Wednesday\")\n",
    "elif Day_Name == 4:\n",
    "    print(\"Thursday\")\n",
    "elif Day_Name == 5:\n",
    "    print(\"Friday\")\n",
    "else:\n",
    "    Day_Name == 6\n",
    "    print(\"Saturday\")\n",
    "\n",
    "\n",
    "mark = float(input(\"Inter your grades \"))\n",
    "\n",
    "if mark >= 75:\n",
    "    print(\"Your are the first\")\n",
    "elif mark >= 70:  # and mark < 75:\n",
    "    print(\"Upper Second\")\n",
    "elif mark >= 60:  # and mark <= 70:\n",
    "    print(\"Second\")\n",
    "elif mark >= 50:  # and mark < 60:\n",
    "    print(\"Third\")\n",
    "elif mark >= 45:  # and mark < 50:\n",
    "    print(\"F1 Supp\")\n",
    "elif mark >= 40:  # and mark < 45:\n",
    "    print(\"F2\")\n",
    "else:\n",
    "    print(\"F3\")\n",
    "\n",
    "help(\"keywords\")\n",
    "import math\n",
    "import time\n",
    "t0 = time.process_time()\n",
    "\n",
    "number1 = int(input(\"Enter number 1: \"))\n",
    "number2 = int(input(\"Enter number 2: \"))\n",
    "\n",
    "t1 = time.process_time()\n",
    "\n",
    "timee = t0-t1\n",
    "print(t1)\n",
    "import math\n",
    "print(math.pi)\n",
    "import math\n",
    "\n",
    "import random\n",
    "print(dir(random))\n",
    "import math\n",
    "from random import randint\n",
    "# for i in range(1, 100):\n",
    "print(f\"{randint(1, 100)}\")\n",
    "print(dir(math))\n",
    "x1 = int(input(\"Enter x1\"))\n",
    "x2 = int(input(\"Enter x2\"))\n",
    "y1 = int(input(\"Enter y1\"))\n",
    "y2 = int(input(\"Enter y2\"))\n",
    "to = math.sqrt(math.pow(abs(y2-y1), 2)+pow(abs(x2-x1), 2))\n",
    "print(to)\n",
    "import random\n",
    "print(dir(random))"
   ]
  },
  {
   "cell_type": "code",
   "execution_count": 6,
   "id": "2258f791",
   "metadata": {},
   "outputs": [
    {
     "name": "stdout",
     "output_type": "stream",
     "text": [
      "14\n"
     ]
    }
   ],
   "source": [
    "def gcd(a, b):\n",
    "    a, b = b % a, a\n",
    "    if a == 0:\n",
    "        return b\n",
    "    else:\n",
    "        return gcd(a, b)\n",
    "\n",
    "print(gcd(42, 28))\n"
   ]
  },
  {
   "cell_type": "code",
   "execution_count": 3,
   "id": "f1df3584",
   "metadata": {},
   "outputs": [
    {
     "ename": "ZeroDivisionError",
     "evalue": "integer division or modulo by zero",
     "output_type": "error",
     "traceback": [
      "\u001b[1;31m---------------------------------------------------------------------------\u001b[0m",
      "\u001b[1;31mZeroDivisionError\u001b[0m                         Traceback (most recent call last)",
      "Input \u001b[1;32mIn [3]\u001b[0m, in \u001b[0;36m<cell line: 9>\u001b[1;34m()\u001b[0m\n\u001b[0;32m      5\u001b[0m     \u001b[38;5;28;01melse\u001b[39;00m:\n\u001b[0;32m      6\u001b[0m         \u001b[38;5;28;01mreturn\u001b[39;00m magalishm5besababo(a,b)\n\u001b[1;32m----> 9\u001b[0m \u001b[38;5;28mprint\u001b[39m(\u001b[43mmagalishm5besababo\u001b[49m\u001b[43m(\u001b[49m\u001b[38;5;241;43m150\u001b[39;49m\u001b[43m,\u001b[49m\u001b[43m \u001b[49m\u001b[38;5;241;43m50\u001b[39;49m\u001b[43m)\u001b[49m)\n",
      "Input \u001b[1;32mIn [3]\u001b[0m, in \u001b[0;36mmagalishm5besababo\u001b[1;34m(a, b)\u001b[0m\n\u001b[0;32m      4\u001b[0m     \u001b[38;5;28;01mreturn\u001b[39;00m a\n\u001b[0;32m      5\u001b[0m \u001b[38;5;28;01melse\u001b[39;00m:\n\u001b[1;32m----> 6\u001b[0m     \u001b[38;5;28;01mreturn\u001b[39;00m \u001b[43mmagalishm5besababo\u001b[49m\u001b[43m(\u001b[49m\u001b[43ma\u001b[49m\u001b[43m,\u001b[49m\u001b[43mb\u001b[49m\u001b[43m)\u001b[49m\n",
      "Input \u001b[1;32mIn [3]\u001b[0m, in \u001b[0;36mmagalishm5besababo\u001b[1;34m(a, b)\u001b[0m\n\u001b[0;32m      1\u001b[0m \u001b[38;5;28;01mdef\u001b[39;00m \u001b[38;5;21mmagalishm5besababo\u001b[39m(a, b):\n\u001b[1;32m----> 2\u001b[0m     b, a \u001b[38;5;241m=\u001b[39m \u001b[43ma\u001b[49m\u001b[43m \u001b[49m\u001b[38;5;241;43m%\u001b[39;49m\u001b[43m \u001b[49m\u001b[43mb\u001b[49m, a\n\u001b[0;32m      3\u001b[0m     \u001b[38;5;28;01mif\u001b[39;00m a \u001b[38;5;241m==\u001b[39m \u001b[38;5;241m0\u001b[39m:\n\u001b[0;32m      4\u001b[0m         \u001b[38;5;28;01mreturn\u001b[39;00m a\n",
      "\u001b[1;31mZeroDivisionError\u001b[0m: integer division or modulo by zero"
     ]
    }
   ],
   "source": [
    "def magalishm5besababo(a, b):\n",
    "    b, a = a % b, a\n",
    "    if a == 0:\n",
    "        return a\n",
    "    else:\n",
    "        return magalishm5besababo(a,b)\n",
    "    \n",
    "    \n",
    "print(magalishm5besababo(150, 50))"
   ]
  },
  {
   "cell_type": "code",
   "execution_count": 4,
   "id": "9198cb17",
   "metadata": {},
   "outputs": [
    {
     "name": "stdout",
     "output_type": "stream",
     "text": [
      "1\n"
     ]
    }
   ],
   "source": [
    "def yaman(a, b):\n",
    "    a, b = b % a, a\n",
    "    if a == 0:\n",
    "        return b\n",
    "    else: \n",
    "        return yaman(a,b)\n",
    "    \n",
    "    \n",
    "print(yaman(10, 3))"
   ]
  },
  {
   "cell_type": "code",
   "execution_count": 5,
   "id": "164e79b1",
   "metadata": {},
   "outputs": [
    {
     "name": "stdout",
     "output_type": "stream",
     "text": [
      "Fibonacci sequence:\n",
      "0\n",
      "1\n",
      "1\n",
      "2\n",
      "3\n",
      "5\n",
      "8\n",
      "13\n",
      "21\n",
      "34\n",
      "55\n",
      "89\n",
      "144\n",
      "233\n"
     ]
    }
   ],
   "source": [
    "def fibonacci(n):\n",
    "    if n <= 1:\n",
    "        return n\n",
    "    else:\n",
    "        return fibonacci(n - 1) + fibonacci(n - 2)\n",
    "number = 14\n",
    "\n",
    "print('Fibonacci sequence:')\n",
    "for i in range(number):\n",
    "    print(fibonacci(i))\n"
   ]
  },
  {
   "cell_type": "code",
   "execution_count": 9,
   "id": "147d424a",
   "metadata": {},
   "outputs": [
    {
     "name": "stdout",
     "output_type": "stream",
     "text": [
      "9\n",
      "7\n",
      "5\n",
      "3\n",
      "1\n"
     ]
    },
    {
     "data": {
      "text/plain": [
       "1"
      ]
     },
     "execution_count": 9,
     "metadata": {},
     "output_type": "execute_result"
    }
   ],
   "source": [
    "def countdown(n):\n",
    "    if n>0:\n",
    "        print(n)\n",
    "    if n <= 0:\n",
    "        return 1\n",
    "    else:\n",
    "        return countdown(n-2)\n",
    "    \n",
    "    \n",
    "countdown(9)"
   ]
  },
  {
   "cell_type": "code",
   "execution_count": null,
   "id": "1d35c63f",
   "metadata": {},
   "outputs": [],
   "source": [
    "def fibo(n):\n",
    "    if n <= 1:\n",
    "        return n\n",
    "    else:\n",
    "        return fibo(n - 1) + fibo(n - 2)\n",
    "\n",
    "\n",
    "m = 14\n",
    "for i in range(m):\n",
    "    print(fibo(i))"
   ]
  },
  {
   "cell_type": "code",
   "execution_count": 11,
   "id": "d29d1590",
   "metadata": {},
   "outputs": [
    {
     "name": "stdout",
     "output_type": "stream",
     "text": [
      "9\n",
      "7\n",
      "5\n",
      "3\n",
      "1\n"
     ]
    },
    {
     "data": {
      "text/plain": [
       "1"
      ]
     },
     "execution_count": 11,
     "metadata": {},
     "output_type": "execute_result"
    }
   ],
   "source": [
    "def count(n):\n",
    "    if n > 0:\n",
    "        print(n)\n",
    "    if n <= 0:\n",
    "        return 1\n",
    "    else:\n",
    "        return count(n-2)\n",
    "    \n",
    "    \n",
    "count(9)"
   ]
  },
  {
   "cell_type": "code",
   "execution_count": 21,
   "id": "fb50b61a",
   "metadata": {},
   "outputs": [
    {
     "name": "stdout",
     "output_type": "stream",
     "text": [
      "27\n"
     ]
    }
   ],
   "source": [
    "def badpower(n, p):\n",
    "    if p == 0:\n",
    "        return 1\n",
    "    else:\n",
    "        return n * badpower(n, p - 1)\n",
    "    \n",
    "    \n",
    "print(badpower(3, 3))"
   ]
  },
  {
   "cell_type": "code",
   "execution_count": 27,
   "id": "c1ee9b91",
   "metadata": {},
   "outputs": [
    {
     "name": "stdout",
     "output_type": "stream",
     "text": [
      "0\n",
      "1\n",
      "1\n",
      "2\n",
      "3\n",
      "5\n",
      "8\n",
      "13\n",
      "21\n",
      "34\n",
      "55\n",
      "89\n",
      "144\n",
      "233\n"
     ]
    }
   ],
   "source": [
    "def al5ra(n):\n",
    "    if n<=1:\n",
    "        return n\n",
    "    else:\n",
    "        return al5ra(n-1) + al5ra(n-2)\n",
    "        \n",
    "        \n",
    "number = 14\n",
    "for i in range(0, number):\n",
    "    print(al5ra(i))"
   ]
  },
  {
   "cell_type": "code",
   "execution_count": 37,
   "id": "511ccf07",
   "metadata": {},
   "outputs": [
    {
     "name": "stdout",
     "output_type": "stream",
     "text": [
      "Enter the word:hallo\n",
      "hallo\n"
     ]
    }
   ],
   "source": [
    "word = input(\"Enter the word:\")\n",
    "z = \"\"\n",
    "for q in word:\n",
    "    z = z + q\n",
    "print(z)"
   ]
  },
  {
   "cell_type": "code",
   "execution_count": 4,
   "id": "2480ee05",
   "metadata": {},
   "outputs": [
    {
     "name": "stdout",
     "output_type": "stream",
     "text": [
      "Input a word to reverse: hallo\n",
      "ollah\n",
      "\n"
     ]
    }
   ],
   "source": [
    "word = input(\"Input a word to reverse: \")\n",
    "\n",
    "for char in range(len(word)-1, -1, -1):\n",
    "  print(word[char], end=\"\")\n",
    "print(\"\\n\")\n"
   ]
  },
  {
   "cell_type": "code",
   "execution_count": 5,
   "id": "f1347fba",
   "metadata": {},
   "outputs": [
    {
     "name": "stdout",
     "output_type": "stream",
     "text": [
      "The original string is: PythonGuides\n",
      "The reverse string is: sediuGnohtyP \n"
     ]
    }
   ],
   "source": [
    "def reverse(str):\n",
    "    string = \" \"\n",
    "    for i in str:\n",
    "        string = i + string\n",
    "    return string\n",
    "str = \"PythonGuides\"\n",
    "print(\"The original string is:\",str)\n",
    "print(\"The reverse string is:\", reverse(str)) "
   ]
  },
  {
   "cell_type": "code",
   "execution_count": 8,
   "id": "714c6d5f",
   "metadata": {},
   "outputs": [
    {
     "name": "stdout",
     "output_type": "stream",
     "text": [
      "ENTER THE WORD : 36987\n",
      "78963ENTER THE WORD : nkl;njnk\n",
      "knjn;lkn\n"
     ]
    }
   ],
   "source": [
    "a=int(input(\"ENTER THE WORD : \"))\n",
    "\n",
    "while(a>=1):\n",
    "\n",
    "    b=a%10\n",
    "\n",
    "    print(int(b),end=\"\")\n",
    "\n",
    "    a=a/10\n",
    "\n",
    "s=input(\"ENTER THE WORD : \")   \n",
    "\n",
    "print(s[::-1])"
   ]
  },
  {
   "cell_type": "code",
   "execution_count": 10,
   "id": "edb20cd4",
   "metadata": {},
   "outputs": [
    {
     "name": "stdout",
     "output_type": "stream",
     "text": [
      "Input number of rows: 5\n",
      "Input number of columns: 6\n",
      "[[0, 0, 0, 0, 0, 0], [0, 1, 2, 3, 4, 5], [0, 2, 4, 6, 8, 10], [0, 3, 6, 9, 12, 15], [0, 4, 8, 12, 16, 20]]\n"
     ]
    }
   ],
   "source": [
    "row_num = int(input(\"Input number of rows: \"))\n",
    "col_num = int(input(\"Input number of columns: \"))\n",
    "multi_list = [[0 for col in range(col_num)] for row in range(row_num)]\n",
    "\n",
    "for row in range(row_num):\n",
    "    for col in range(col_num):\n",
    "        multi_list[row][col]= row*col\n",
    "\n",
    "print(multi_list)"
   ]
  },
  {
   "cell_type": "code",
   "execution_count": 11,
   "id": "f335ebe3",
   "metadata": {
    "scrolled": false
   },
   "outputs": [
    {
     "name": "stdout",
     "output_type": "stream",
     "text": [
      "Input number of rows: 3\n",
      "Input number of columns: 5\n",
      "[[0, 0, 0, 0, 0], [0, 1, 2, 3, 4], [0, 2, 4, 6, 8]]\n"
     ]
    }
   ],
   "source": [
    "row_num = int(input(\"Input number of rows: \"))\n",
    "col_num = int(input(\"Input number of columns: \"))\n",
    "multi_list = [[0 for col in range(col_num)] for row in range(row_num)]\n",
    "\n",
    "for row in range(row_num):\n",
    "    for col in range(col_num):\n",
    "        multi_list[row][col]= row*col\n",
    "\n",
    "print(multi_list)"
   ]
  },
  {
   "cell_type": "code",
   "execution_count": 12,
   "id": "e3b2c60c",
   "metadata": {},
   "outputs": [
    {
     "name": "stdout",
     "output_type": "stream",
     "text": [
      "Row:4\n",
      "Column:5\n",
      "[[0, 0, 0, 0, 0], [0, 1, 2, 3, 4], [0, 2, 4, 6, 8], [0, 3, 6, 9, 12]]\n"
     ]
    }
   ],
   "source": [
    "m=int(input(\"Row:\"))\n",
    "n=int(input(\"Column:\"))\n",
    "matrix=[[0 for col in range(n)] for row in range(m)]\n",
    "for row in range(m):\n",
    "    for col in range(n):\n",
    "        matrix[row][col]=row*col\n",
    "print(matrix)"
   ]
  },
  {
   "cell_type": "code",
   "execution_count": null,
   "id": "72af2900",
   "metadata": {},
   "outputs": [],
   "source": [
    "rows, cols = (5, 5)\n",
    "arr = [[0]*cols]*rows\n",
    "\n",
    "arr[0][0] = 1\n",
    " \n",
    "for row in arr:\n",
    "    print(row)\n",
    "\n",
    "arr = [[0 for i in range(cols)] for j in range(rows)]\n",
    "\n",
    "for row in arr:\n",
    "    print(row)"
   ]
  },
  {
   "cell_type": "code",
   "execution_count": null,
   "id": "82c7a4bb",
   "metadata": {},
   "outputs": [],
   "source": [
    "m=int(input(\"ENTER THE ROWS : \"))\n",
    "\n",
    "n=int(input(\"ENTER THE COLUMNS : \"))\n",
    "\n",
    "for i in range(1,m+1):\n",
    "\n",
    "     for j in range(1,n+1):\n",
    "\n",
    "         print(i*j,end=\"  \")\n",
    "\n",
    "     print(\"\\n\")"
   ]
  },
  {
   "cell_type": "code",
   "execution_count": 17,
   "id": "2ceef4ee",
   "metadata": {},
   "outputs": [
    {
     "data": {
      "text/plain": [
       "0.0"
      ]
     },
     "execution_count": 17,
     "metadata": {},
     "output_type": "execute_result"
    }
   ],
   "source": [
    "0*0.5/2"
   ]
  },
  {
   "cell_type": "code",
   "execution_count": 20,
   "id": "d62c389e",
   "metadata": {},
   "outputs": [
    {
     "name": "stdout",
     "output_type": "stream",
     "text": [
      "Input number of rows: 20\n",
      "Input number of columns: 4\n",
      "[[0, 0, 0, 0], [0, 1, 2, 3], [0, 2, 4, 6], [0, 3, 6, 9], [0, 4, 8, 12], [0, 5, 10, 15], [0, 6, 12, 18], [0, 7, 14, 21], [0, 8, 16, 24], [0, 9, 18, 27], [0, 10, 20, 30], [0, 11, 22, 33], [0, 12, 24, 36], [0, 13, 26, 39], [0, 14, 28, 42], [0, 15, 30, 45], [0, 16, 32, 48], [0, 17, 34, 51], [0, 18, 36, 54], [0, 19, 38, 57]]\n"
     ]
    }
   ],
   "source": [
    "row_num = int(input(\"Input number of rows: \"))  \n",
    "col_num = int(input(\"Input number of columns: \"))  \n",
    "multi_list = [[0 for col in range(col_num)] for row in range(row_num)]  \n",
    "for row in range(row_num):  \n",
    "    for col in range(col_num):  \n",
    "        multi_list[row][col]= row*col  \n",
    "print(multi_list)"
   ]
  },
  {
   "cell_type": "code",
   "execution_count": 22,
   "id": "0c84be13",
   "metadata": {},
   "outputs": [
    {
     "name": "stdout",
     "output_type": "stream",
     "text": [
      "Input number of rows: 5\n",
      "Input number of columns: 5\n",
      "[[0, 0, 0, 0, 0], [0, 0, 0, 0, 0], [0, 0, 0, 0, 0], [0, 0, 0, 0, 0], [0, 0, 0, 0, 0]]\n"
     ]
    }
   ],
   "source": [
    "row_num = int(input(\"Input number of rows: \"))  \n",
    "col_num = int(input(\"Input number of columns: \"))  \n",
    "multi_list = [[0 for col in range(col_num)] for row in range(row_num)]\n",
    "print(multi_list)"
   ]
  },
  {
   "cell_type": "code",
   "execution_count": 14,
   "id": "af9d9eca",
   "metadata": {},
   "outputs": [
    {
     "data": {
      "text/plain": [
       "True"
      ]
     },
     "execution_count": 14,
     "metadata": {},
     "output_type": "execute_result"
    }
   ],
   "source": [
    "5 > 2"
   ]
  },
  {
   "cell_type": "code",
   "execution_count": 61,
   "id": "1a8784b5",
   "metadata": {},
   "outputs": [
    {
     "name": "stdout",
     "output_type": "stream",
     "text": [
      "Enter the number of rows:3\n",
      "Enter the number of cowms:4\n",
      "0 0 0 0 0 \n",
      "0 1 2 3 4 \n",
      "0 2 4 6 8 \n",
      "0 3 6 9 12 \n"
     ]
    }
   ],
   "source": [
    "m = int(input(\"Enter the number of rows:\"))\n",
    "n = int(input(\"Enter the number of cowms:\"))\n",
    "for i in range(0, m+1):\n",
    "    for j in range(0, n+1):\n",
    "        print(j*i, end=\" \")\n",
    "    print()"
   ]
  },
  {
   "cell_type": "code",
   "execution_count": 20,
   "id": "af0d136b",
   "metadata": {},
   "outputs": [
    {
     "name": "stdout",
     "output_type": "stream",
     "text": [
      "enter the string829482H\n",
      "The number of capital letters found in the string is: 1\n"
     ]
    }
   ],
   "source": [
    "name=input(\"enter the string\")\n",
    "count=0\n",
    "for i in name:\n",
    "    if i.isupper():\n",
    "        count=count+1\n",
    "print(\"The number of capital letters found in the string is:\",count)"
   ]
  },
  {
   "cell_type": "code",
   "execution_count": 33,
   "id": "e5bd25d1",
   "metadata": {},
   "outputs": [
    {
     "name": "stdout",
     "output_type": "stream",
     "text": [
      "enter the string54678dfghjkvbnfgd@\n",
      "5 0 12 1\n"
     ]
    }
   ],
   "source": [
    "\n",
    "    \n",
    "print(countdi, countup, countlw, countsp)"
   ]
  },
  {
   "cell_type": "code",
   "execution_count": null,
   "id": "f29265d2",
   "metadata": {},
   "outputs": [],
   "source": [
    "\n",
    "x = input(\"Enter the password here:\")\n",
    "sp = \"$#@\"\n",
    "countdi = 0\n",
    "countup = 0\n",
    "countsp = 0\n",
    "countlw = 0\n",
    "for i in x:\n",
    "    if i.isdigit:\n",
    "        countdi += 1\n",
    "    elif i.isupper():\n",
    "        countup += 1\n",
    "    elif i.islower():\n",
    "        countlw += 1\n",
    "    elif i in sp:\n",
    "        countsp += 1\n",
    "    else:\n",
    "        pass\n",
    "if countdi > 0:\n",
    "    if countup > 0:\n",
    "        if countlw > 0:\n",
    "            if countsp > 0:\n",
    "                if len(x) => 6:\n",
    "                    if len(x) <= 16:\n",
    "                        print(\"your password is correct\")\n",
    "                    else:\n",
    "                        print(\"length of password must be less than 17\")\n",
    "                else:\n",
    "                    print(\"length of password must be grader than 5\")\n",
    "            else:\n",
    "                print(\"you must add one special character in your password\")\n",
    "        else:\n",
    "            print(\"you must add one small letter in your password\")\n",
    "    else:\n",
    "        print(\"you must add one capital letter in your password\")\n",
    "else:\n",
    "    print(\"you must add one digit in your password\")\n"
   ]
  },
  {
   "cell_type": "code",
   "execution_count": 47,
   "id": "4563ce35",
   "metadata": {},
   "outputs": [
    {
     "name": "stdout",
     "output_type": "stream",
     "text": [
      "200,202,204,206,208,220,222,224,226,228,240,242,244,246,248,260,262,264,266,268,280,282,284,286,288,400\n"
     ]
    }
   ],
   "source": [
    "item = []\n",
    "for i in range(100, 401):\n",
    "    k = str(i)\n",
    "    if int(k[0]) % 2 == 0 and int(k[1]) % 2 == 0 and int(k[2]) % 2 == 0:\n",
    "        item.append(k)\n",
    "    else:\n",
    "        continue\n",
    "\n",
    "print(\",\".join(item))"
   ]
  },
  {
   "cell_type": "code",
   "execution_count": 39,
   "id": "d50fe02f",
   "metadata": {},
   "outputs": [
    {
     "name": "stdout",
     "output_type": "stream",
     "text": [
      "200,202,204,206,208,220,222,224,226,228,240,242,244,246,248,260,262,264,266,268,280,282,284,286,288,400\n"
     ]
    }
   ],
   "source": [
    "items = []\n",
    "for i in range(100, 401):\n",
    "    s = str(i)\n",
    "    if (int(s[0])%2==0) and (int(s[1])%2==0) and (int(s[2])%2==0):\n",
    "        items.append(s)\n",
    "print( \",\".join(items))"
   ]
  },
  {
   "cell_type": "code",
   "execution_count": null,
   "id": "89a010b3",
   "metadata": {},
   "outputs": [],
   "source": []
  },
  {
   "cell_type": "code",
   "execution_count": 49,
   "id": "5c4109ee",
   "metadata": {},
   "outputs": [
    {
     "name": "stdout",
     "output_type": "stream",
     "text": [
      "200,202,204,206,208,220,222,224,226,228,240,242,244,246,248,260,262,264,266,268,280,282,284,286,288,400\n"
     ]
    }
   ],
   "source": [
    "item = []\n",
    "for i in range(100, 401):\n",
    "    k = str(i)\n",
    "    if int(k[0]) % 2 == 0 and int(k[1]) % 2 == 0 and int(k[2]) % 2 == 0:\n",
    "        item.append(k)\n",
    "    else:\n",
    "        pass\n",
    "print(\",\".join(item))"
   ]
  },
  {
   "cell_type": "code",
   "execution_count": 52,
   "id": "cefec7ac",
   "metadata": {},
   "outputs": [],
   "source": [
    "for i in range(4, 23):\n",
    "    if i%5==0:\n",
    "        continue\n",
    "    elif i==20:\n",
    "        break\n",
    "        print(i)"
   ]
  },
  {
   "cell_type": "code",
   "execution_count": 53,
   "id": "19691804",
   "metadata": {},
   "outputs": [
    {
     "name": "stdout",
     "output_type": "stream",
     "text": [
      "Enter the number of days:3\n",
      "Enter the number of prince:3\n",
      "Enter the number of persons:3\n",
      "27\n"
     ]
    }
   ],
   "source": [
    "days = int(input(\"Enter the number of days:\"))\n",
    "prince = int(input(\"Enter the number of prince:\"))\n",
    "persons = int(input(\"Enter the number of persons:\"))\n",
    "\n",
    "cost = (days*prince)*persons\n",
    "\n",
    "print(cost)"
   ]
  },
  {
   "cell_type": "code",
   "execution_count": 56,
   "id": "eee34a9c",
   "metadata": {},
   "outputs": [
    {
     "name": "stdout",
     "output_type": "stream",
     "text": [
      "5\n",
      "10\n"
     ]
    }
   ],
   "source": [
    "import random\n",
    "\n",
    "i = random.randrange(1, 50)\n",
    "\n",
    "print(i)\n",
    "print(i + 5)\n",
    "    "
   ]
  },
  {
   "cell_type": "code",
   "execution_count": 57,
   "id": "0a14b877",
   "metadata": {},
   "outputs": [
    {
     "name": "stdout",
     "output_type": "stream",
     "text": [
      "9\n",
      "11\n",
      "13\n",
      "15\n",
      "17\n",
      "19\n",
      "21\n",
      "23\n",
      "25\n",
      "27\n",
      "29\n",
      "31\n",
      "33\n",
      "35\n",
      "37\n",
      "39\n",
      "41\n",
      "43\n",
      "45\n",
      "47\n",
      "49\n",
      "51\n",
      "53\n",
      "55\n",
      "57\n",
      "59\n",
      "61\n",
      "63\n"
     ]
    }
   ],
   "source": [
    "i = 8\n",
    "while i < 64:\n",
    "    if i % 2 == 1:\n",
    "        print(i)\n",
    "        i += 1\n",
    "    else:\n",
    "        i += 1"
   ]
  },
  {
   "cell_type": "code",
   "execution_count": 65,
   "id": "deed49b2",
   "metadata": {},
   "outputs": [
    {
     "name": "stdout",
     "output_type": "stream",
     "text": [
      "Enter your born year1950\n",
      "Tiger\t虎 (hǔ)\n"
     ]
    }
   ],
   "source": [
    "m = int(input(\"Enter the number of rows:\"))\n",
    "n = int(input(\"Enter the number of column:\"))\n",
    "for i in range(0, m+1):\n",
    "    for j in range(0, n+1):\n",
    "        print(j*i, end=\" \")\n",
    "    print()"
   ]
  },
  {
   "cell_type": "code",
   "execution_count": null,
   "id": "4895cecb",
   "metadata": {},
   "outputs": [],
   "source": [
    "m = int(input(\"Enter the number of rows:\"))\n",
    "n = int(input(\"Enter the number of column:\"))\n",
    "for i in range(0, m+1):\n",
    "    for j in range(0, n+1):\n",
    "        print(j*i, end=\" \")\n",
    "    print()"
   ]
  },
  {
   "cell_type": "code",
   "execution_count": null,
   "id": "1ef96782",
   "metadata": {},
   "outputs": [],
   "source": [
    "x = input(\"Enter your born year\")\n",
    "\n",
    "if x in (\"1924, 1936, 1948, 1960, 1972, 1984, 1996, 2008, 2020, 2032\"):\n",
    "    print(\"Rat\t鼠 (shǔ)\")\n",
    "elif x in (\"1925, 1937, 1949, 1961, 1973, 1985, 1997, 2009, 2021, 2033\"):\n",
    "    print(\"Ox\t牛 (niú)\")\n",
    "elif x in (\"1926, 1938, 1950, 1962, 1974, 1986, 1998, 2010, 2022, 2034\"):\n",
    "    print(\"Tiger\t虎 (hǔ)\")\n",
    "elif x in (\"1927, 1939, 1951, 1963, 1975, 1987, 1999, 2011, 2023, 2035\"):\n",
    "    print(\"Rabbit\t兔 (tù)\")\n",
    "elif x in (\"1928, 1940, 1952, 1964, 1976, 1988, 2000, 2012, 2024, 2036\"):\n",
    "    print(\"Dragon\t龙 (lóng)\")\n",
    "elif x in (\"1929, 1941, 1953, 1965, 1977, 1989, 2001, 2013, 2025, 2037\"):\n",
    "    print(\"Snake\t蛇 (shé)\")\n",
    "elif x in (\"1930, 1942, 1954, 1966, 1978, 1990, 2002, 2014, 2026, 2038\"):\n",
    "    print(\"Horse\t马 (mǎ) \")\n",
    "elif x in (\"1931, 1943, 1955, 1967, 1979, 1991, 2003, 2015, 2027, 2039\"):\n",
    "    print(\"Sheep\t羊 (yáng)\")\n",
    "elif x in (\"1932, 1944, 1956, 1968, 1980, 1992, 2004, 2016, 2028, 2040\"):\n",
    "    print(\"Monkey\t猴 (hóu)\")\n",
    "elif x in (\"1933, 1945, 1957, 1969, 1981, 1993, 2005, 2017, 2029, 2041\"):\n",
    "    print(\"Rooster\t鸡 (jī)\")\n",
    "elif x in (\"1934, 1946, 1958, 1970, 1982, 1994, 2006, 2018, 2030, 2042\"):\n",
    "    print(\"Dog\t狗 (gǒu)\")\n",
    "elif x in (\"1935, 1947, 1959, 1971, 1983, 1995, 2007, 2019, 2031, 2043\"):\n",
    "    print(\"Pig\t猪 (zhū)\")"
   ]
  },
  {
   "cell_type": "code",
   "execution_count": 69,
   "id": "cd0a36a4",
   "metadata": {},
   "outputs": [
    {
     "name": "stdout",
     "output_type": "stream",
     "text": [
      "Enter the opposite:2\n",
      "Enter the hypotenuse:3\n",
      "Enter the adjacent:4\n",
      "The triangle is the isosceles triangle\n"
     ]
    }
   ],
   "source": [
    "o = int(input(\"Enter the opposite:\"))\n",
    "h = int(input(\"Enter the hypotenuse:\"))\n",
    "a = int(input(\"Enter the adjacent:\"))\n",
    "if o == h == a:\n",
    "    print(\"The triangle is the equilateral triangle\")\n",
    "elif o == h or h == a or o == a:\n",
    "    print(\"The triangle is the scalene triangle\")\n",
    "elif o != h and h != a and o != a:\n",
    "    print(\"The triangle is the isosceles triangle\")"
   ]
  },
  {
   "cell_type": "code",
   "execution_count": 72,
   "id": "ff3ae96a",
   "metadata": {},
   "outputs": [
    {
     "name": "stdout",
     "output_type": "stream",
     "text": [
      "987654321\n",
      "n is 0\n"
     ]
    }
   ],
   "source": [
    "n = 123456789\n",
    "m = 0\n",
    "while n != 0:\n",
    "    m = (10 * m) + (n % 10)\n",
    "    n //= 10\n",
    "\n",
    "print(m)\n",
    "print(\"n is\", n)"
   ]
  },
  {
   "cell_type": "code",
   "execution_count": 73,
   "id": "bbc62a51",
   "metadata": {},
   "outputs": [
    {
     "name": "stdout",
     "output_type": "stream",
     "text": [
      "hiHellohi\n",
      "hiHellohi\n",
      "baaab\n"
     ]
    }
   ],
   "source": [
    "def combo_sting(st1, st2):\n",
    "    if len(st1)>len(st2):\n",
    "        return st2 + st1 + st2\n",
    "    elif len(st2)>len(st1):\n",
    "        return st1 + st2 + st1\n",
    "    else:\n",
    "        return st1 + st2 + st1\n",
    "print(combo_sting(\"Hello\" ,\"hi\"))\n",
    "print(combo_sting(\"hi\" ,\"Hello\"))\n",
    "print(combo_sting(\"aaa\" ,\"b\"))"
   ]
  },
  {
   "cell_type": "code",
   "execution_count": 75,
   "id": "2a129e64",
   "metadata": {},
   "outputs": [
    {
     "name": "stdout",
     "output_type": "stream",
     "text": [
      "n is 0 m is 987654321\n"
     ]
    }
   ],
   "source": [
    "\n",
    "n = 123456789\n",
    "m = 0\n",
    "while n != 0:\n",
    "    m = (10 * m) + (n % 10)\n",
    "    n //= 10\n",
    "print(\"n is\",n,\"m is\",m)\n"
   ]
  },
  {
   "cell_type": "code",
   "execution_count": 77,
   "id": "997d812c",
   "metadata": {},
   "outputs": [
    {
     "name": "stdout",
     "output_type": "stream",
     "text": [
      "0\n"
     ]
    }
   ],
   "source": [
    "n == 200\n",
    "print(n // 3)"
   ]
  },
  {
   "cell_type": "code",
   "execution_count": null,
   "id": "2b6a7c2f",
   "metadata": {},
   "outputs": [],
   "source": [
    "\"\"\"\"Task #1\"\"\"\n",
    "for i in range(6, 0, -1):\n",
    "    for j in range(i, 6):\n",
    "        print(\" \", end=\"\")\n",
    "    for k in range(0, i):\n",
    "        print(\"* \", end=\"\")\n",
    "    print()\n",
    "# -----------------------------------------------------------------------\n",
    "\"\"\"Task #1 second solution\"\"\"\n",
    "print(\"-\"*15)\n",
    "for i in range(6, 0, -1):\n",
    "    x = \"* \"*i\n",
    "    print(x.center(12))\n",
    "# -----------------------------------------------------------------------\n",
    "\"\"\"Task #2\"\"\"\n",
    "print(\"-\"*15)\n",
    "for i in range(0, 1):\n",
    "    for m in range(0, 6):\n",
    "        print(\"* \"*m)\n",
    "    for k in range(4, 0, -1):\n",
    "        print(\"* \"*k)\n",
    "# -----------------------------------------------------------------------\n",
    "\"\"\"Task #3\"\"\"\n",
    "print(\"-\"*15)\n",
    "z = \"\"\n",
    "word = input(\"Enter the word:\")\n",
    "for q in word:\n",
    "    z = q + z\n",
    "print(z)\n",
    "# -----------------------------------------------------------------------\n",
    "\"\"\"Task #3 second solution\"\"\"\n",
    "print(\"-\"*15)\n",
    "x = input(\"Enter the word:\")\n",
    "\n",
    "\n",
    "def reverse(word):\n",
    "    if len(word) == 1:\n",
    "        return word[0]\n",
    "    else:\n",
    "        return reverse(word[1:]) + word[0]\n",
    "\n",
    "\n",
    "print(reverse(x))\n",
    "# -----------------------------------------------------------------------\n",
    "\"\"\"Task #4\"\"\"\n",
    "print(\"-\"*15)\n",
    "m = int(input(\"Enter the number of rows:\"))\n",
    "n = int(input(\"Enter the number of column:\"))\n",
    "for i in range(0, m+1):\n",
    "    for j in range(0, n+1):\n",
    "        print(j*i, end=\" \")\n",
    "    print()\n",
    "# -----------------------------------------------------------------------\n",
    "\"\"\"Task #5\"\"\"\n",
    "print(\"-\"*15)\n",
    "x = input(\"Enter the string:\")\n",
    "l = \"qwertyuioplkjhgfdsazxcvbnm\"\n",
    "Int = \"1234567890\"\n",
    "count_int = 0\n",
    "count_str = 0\n",
    "for i in x:\n",
    "    if i in Int:\n",
    "        count_int += 1\n",
    "    elif i.upper() in l.upper():\n",
    "        count_str += 1\n",
    "    else:\n",
    "        continue\n",
    "\n",
    "print(\"number of letter is:\", count_str, \"number of digits is:\", count_int)\n",
    "# -----------------------------------------------------------------------\n",
    "\"\"\"Task #6\"\"\"\n",
    "print(\"-\"*15)\n",
    "x = input(\"Enter the password here:\")\n",
    "sp = \"$#@\"\n",
    "countdi = 0\n",
    "countup = 0\n",
    "countsp = 0\n",
    "countlw = 0\n",
    "for i in x:\n",
    "    if i.isupper():\n",
    "        countup += 1\n",
    "    elif i.isdigit():\n",
    "        countdi += 1\n",
    "    elif i.islower():\n",
    "        countlw += 1\n",
    "    elif i in sp:\n",
    "        countsp += 1\n",
    "    else:\n",
    "        pass\n",
    "\n",
    "if countdi > 0:\n",
    "    if countup > 0:\n",
    "        if countlw > 0:\n",
    "            if countsp > 0:\n",
    "                if len(x) >= 6:\n",
    "                    if len(x) <= 16:\n",
    "                        print(\"your password is correct\")\n",
    "                    else:\n",
    "                        print(\"length of password must be less than 17\")\n",
    "                else:\n",
    "                    print(\"length of password must be grader than 5\")\n",
    "            else:\n",
    "                print(\"you must add one special character in your password\")\n",
    "        else:\n",
    "            print(\"you must add one small letter in your password\")\n",
    "    else:\n",
    "        print(\"you must add one capital letter in your password\")\n",
    "else:\n",
    "    print(\"you must add one digit in your password\")\n",
    "# -----------------------------------------------------------------------\n",
    "\"\"\"Task #7\"\"\"\n",
    "print(\"-\"*15)\n",
    "item = []\n",
    "for i in range(100, 401):\n",
    "    k = str(i)\n",
    "    if int(k[0]) % 2 == 0 and int(k[1]) % 2 == 0 and int(k[2]) % 2 == 0:\n",
    "        item.append(k)\n",
    "    else:\n",
    "        pass\n",
    "print(\",\".join(item))\n",
    "# -----------------------------------------------------------------------\n",
    "\"\"\"Task #8\"\"\"\n",
    "print(\"-\"*15)\n",
    "x = input(\"Enter your born year\")\n",
    "\n",
    "if x in (\"1924, 1936, 1948, 1960, 1972, 1984, 1996, 2008, 2020, 2032\"):\n",
    "    print(\"Rat\t鼠 (shǔ)\")\n",
    "elif x in (\"1925, 1937, 1949, 1961, 1973, 1985, 1997, 2009, 2021, 2033\"):\n",
    "    print(\"Ox\t牛 (niú)\")\n",
    "elif x in (\"1926, 1938, 1950, 1962, 1974, 1986, 1998, 2010, 2022, 2034\"):\n",
    "    print(\"Tiger\t虎 (hǔ)\")\n",
    "elif x in (\"1927, 1939, 1951, 1963, 1975, 1987, 1999, 2011, 2023, 2035\"):\n",
    "    print(\"Rabbit\t兔 (tù)\")\n",
    "elif x in (\"1928, 1940, 1952, 1964, 1976, 1988, 2000, 2012, 2024, 2036\"):\n",
    "    print(\"Dragon\t龙 (lóng)\")\n",
    "elif x in (\"1929, 1941, 1953, 1965, 1977, 1989, 2001, 2013, 2025, 2037\"):\n",
    "    print(\"Snake\t蛇 (shé)\")\n",
    "elif x in (\"1930, 1942, 1954, 1966, 1978, 1990, 2002, 2014, 2026, 2038\"):\n",
    "    print(\"Horse\t马 (mǎ) \")\n",
    "elif x in (\"1931, 1943, 1955, 1967, 1979, 1991, 2003, 2015, 2027, 2039\"):\n",
    "    print(\"Sheep\t羊 (yáng)\")\n",
    "elif x in (\"1932, 1944, 1956, 1968, 1980, 1992, 2004, 2016, 2028, 2040\"):\n",
    "    print(\"Monkey\t猴 (hóu)\")\n",
    "elif x in (\"1933, 1945, 1957, 1969, 1981, 1993, 2005, 2017, 2029, 2041\"):\n",
    "    print(\"Rooster\t鸡 (jī)\")\n",
    "elif x in (\"1934, 1946, 1958, 1970, 1982, 1994, 2006, 2018, 2030, 2042\"):\n",
    "    print(\"Dog\t狗 (gǒu)\")\n",
    "elif x in (\"1935, 1947, 1959, 1971, 1983, 1995, 2007, 2019, 2031, 2043\"):\n",
    "    print(\"Pig\t猪 (zhū)\")\n",
    "# -----------------------------------------------------------------------\n",
    "\"\"\"Task #9\"\"\"\n",
    "print(\"-\"*15)\n",
    "o = int(input(\"Enter the opposite:\"))\n",
    "h = int(input(\"Enter the hypotenuse:\"))\n",
    "a = int(input(\"Enter the adjacent:\"))\n",
    "if o == h == a:\n",
    "    print(\"The triangle is the equilateral triangle\")\n",
    "elif o == h or h == a or o == a:\n",
    "    print(\"The triangle is the scalene triangle\")\n",
    "elif o != h or h != a or o != a:\n",
    "    print(\"The triangle is the isosceles triangle\")\n",
    "# -----------------------------------------------------------------------\n",
    "\"\"\"Task #10\"\"\"\n",
    "print(\"-\"*15)\n",
    "\n",
    "\n",
    "\n",
    "\n",
    "\n",
    "\n",
    "# -----------------------------------------------------------------------\n",
    "\"\"\"Task #17 string\"\"\"\n",
    "print(\"-\"*15)\n",
    "def combo_sting(st1, st2):\n",
    "    if len(st1)>len(st2):\n",
    "        return st2 + st1 + st2\n",
    "    elif len(st2)>len(st1):\n",
    "        return st1 + st2 + st1\n",
    "    else:\n",
    "        return st1 + st2 + st1\n",
    "print(combo_sting(\"Hello\", \"hi\"))\n",
    "print(combo_sting(\"hi\", \"Hello\"))\n",
    "print(combo_sting(\"aaa\", \"b\"))\n"
   ]
  },
  {
   "cell_type": "code",
   "execution_count": 5,
   "id": "7b828102",
   "metadata": {},
   "outputs": [
    {
     "name": "stdout",
     "output_type": "stream",
     "text": [
      "945.4499999999999\n"
     ]
    }
   ],
   "source": [
    "book = 24.95 * 60 *0.6\n",
    "chipping = 3 + 0.75*59\n",
    "\n",
    "print(book + chipping)"
   ]
  },
  {
   "cell_type": "code",
   "execution_count": 3,
   "id": "44969880",
   "metadata": {},
   "outputs": [
    {
     "name": "stdout",
     "output_type": "stream",
     "text": [
      "Your total cost is:  945.4499999999999\n"
     ]
    }
   ],
   "source": [
    "shipping = 1*3 + 59*0.75\n",
    "book_cost = 60 * 24.95 * 0.6\n",
    "total_cost = shipping + book_cost\n",
    "print(\"Your total cost is: \", total_cost)\n"
   ]
  },
  {
   "cell_type": "code",
   "execution_count": 8,
   "id": "fd0cde2b",
   "metadata": {},
   "outputs": [
    {
     "name": "stdout",
     "output_type": "stream",
     "text": [
      "8.049999999999999\n"
     ]
    }
   ],
   "source": [
    "height = 3.5\n",
    "width = 2.3\n",
    "\n",
    "print(height * width)"
   ]
  },
  {
   "cell_type": "code",
   "execution_count": 23,
   "id": "1dee1a9b",
   "metadata": {},
   "outputs": [
    {
     "name": "stdout",
     "output_type": "stream",
     "text": [
      "<class 'complex'>\n",
      "(8+2j)\n"
     ]
    }
   ],
   "source": [
    "# p = \n",
    "x = 8+2j\n",
    "print(type(x))\n",
    "print(x)"
   ]
  },
  {
   "cell_type": "code",
   "execution_count": 25,
   "id": "8dc0ab1d",
   "metadata": {},
   "outputs": [
    {
     "data": {
      "text/plain": [
       "13.666666666666666"
      ]
     },
     "execution_count": 25,
     "metadata": {},
     "output_type": "execute_result"
    }
   ],
   "source": [
    "16 - 2 * 5 / 3 + 1"
   ]
  },
  {
   "cell_type": "code",
   "execution_count": 27,
   "id": "44013d7c",
   "metadata": {},
   "outputs": [
    {
     "name": "stdout",
     "output_type": "stream",
     "text": [
      "I love bread and butter\n"
     ]
    }
   ],
   "source": [
    "print('I love {0} and {1}'.format('bread','butter'))"
   ]
  },
  {
   "cell_type": "code",
   "execution_count": 32,
   "id": "22d686fb",
   "metadata": {},
   "outputs": [
    {
     "name": "stdout",
     "output_type": "stream",
     "text": [
      "The nigative number -9  is not valid here.\n",
      "I've decided to use the number 42 instead.\n",
      "The square root of  42 is 6.48074069840786\n"
     ]
    }
   ],
   "source": [
    "x = -9\n",
    "\n",
    "if x<0:\n",
    "    print(\"The nigative number\", x,\" is not valid here.\")\n",
    "    x = 42\n",
    "    print(\"I've decided to use the number 42 instead.\")\n",
    "print(\"The square root of \", x,\"is\", x**0.5)"
   ]
  },
  {
   "cell_type": "code",
   "execution_count": null,
   "id": "7ac7af9c",
   "metadata": {},
   "outputs": [],
   "source": []
  },
  {
   "cell_type": "code",
   "execution_count": 44,
   "id": "771132a3",
   "metadata": {},
   "outputs": [
    {
     "name": "stdout",
     "output_type": "stream",
     "text": [
      "x and y must be equal\n"
     ]
    }
   ],
   "source": [
    "if x < y:\n",
    "    print(\"x is less than y\")\n",
    "else:\n",
    "    if x > y:\n",
    "        print(\"x is greater than y\")\n",
    "    else:\n",
    "        print(\"x and y must be equal\")\n"
   ]
  },
  {
   "cell_type": "code",
   "execution_count": 45,
   "id": "5ec628ef",
   "metadata": {},
   "outputs": [
    {
     "name": "stdout",
     "output_type": "stream",
     "text": [
      "1\n",
      "2\n",
      "4\n",
      "5\n"
     ]
    }
   ],
   "source": [
    "i = 0\n",
    "while i < 6:\n",
    "    i += 1\n",
    "    if i%3 == 0:\n",
    "        continue\n",
    "    print(i)\n",
    "\n",
    "    "
   ]
  },
  {
   "cell_type": "code",
   "execution_count": 50,
   "id": "721c92aa",
   "metadata": {},
   "outputs": [
    {
     "name": "stdout",
     "output_type": "stream",
     "text": [
      "Enter the radui4\n",
      "25.132741228718345\n"
     ]
    }
   ],
   "source": [
    "import math\n",
    "i = int(input(\"Enter the radui\"))\n",
    "a = i**2 * math.pi *0.5\n",
    "print(a)"
   ]
  },
  {
   "cell_type": "code",
   "execution_count": 52,
   "id": "60d9460f",
   "metadata": {},
   "outputs": [
    {
     "name": "stdout",
     "output_type": "stream",
     "text": [
      "780\n"
     ]
    }
   ],
   "source": [
    "import random\n",
    "i = random.randrange(1, 100)\n",
    "print(i*10)"
   ]
  },
  {
   "cell_type": "code",
   "execution_count": 68,
   "id": "5293cf01",
   "metadata": {},
   "outputs": [
    {
     "name": "stdout",
     "output_type": "stream",
     "text": [
      "Enter position of x1: 4\n",
      "Enter position of x2: 9\n",
      "Enter position of y1: 1\n",
      "Enter position of y2: 2\n",
      "5.0990195135927845\n"
     ]
    }
   ],
   "source": [
    "import math\n",
    "x1 = int(input(\"Enter position of x1: \"))\n",
    "x2 = int(input(\"Enter position of x2: \"))\n",
    "y1 = int(input(\"Enter position of y1: \"))\n",
    "y2 = int(input(\"Enter position of y2: \"))\n",
    "distance=math.sqrt(math.pow((y2-y1),2)+math.pow((x2-x1),2))\n",
    "print(distans)"
   ]
  },
  {
   "cell_type": "code",
   "execution_count": 69,
   "id": "9037aa50",
   "metadata": {},
   "outputs": [
    {
     "name": "stdout",
     "output_type": "stream",
     "text": [
      "Enter x coordinate of first point: 4\n",
      "Enter x coordinate of second point: 9\n",
      "Enter y coordinate of first point: 1\n",
      "Enter y coordinate of second point: 2\n",
      "5.0990195135927845\n"
     ]
    }
   ],
   "source": [
    "import math\n",
    "\n",
    "x1=int(input(\"Enter x coordinate of first point: \"))\n",
    "x2=int(input(\"Enter x coordinate of second point: \"))\n",
    "y1=int(input(\"Enter y coordinate of first point: \"))\n",
    "y2=int(input(\"Enter y coordinate of second point: \"))\n",
    "\n",
    "distance=math.sqrt(math.pow((y2-y1),2) + math.pow((x2-x1),2))\n",
    "print(distance)\n",
    "\n"
   ]
  },
  {
   "cell_type": "code",
   "execution_count": 84,
   "id": "69e4b8ed",
   "metadata": {},
   "outputs": [
    {
     "name": "stdout",
     "output_type": "stream",
     "text": [
      "0\n"
     ]
    }
   ],
   "source": [
    "import random\n",
    "x=0\n",
    "for i in range(100):\n",
    "    n = random.randrange(1,100000)\n",
    "    if n == 10:\n",
    "        x+=1\n",
    "print(x)"
   ]
  },
  {
   "cell_type": "code",
   "execution_count": null,
   "id": "3e38a21b",
   "metadata": {},
   "outputs": [],
   "source": [
    "\"\"\"\"Task #1\"\"\"\n",
    "for i in range(6, 0, -1):\n",
    "    for j in range(i, 6):\n",
    "        print(\" \", end=\"\")\n",
    "    for k in range(0, i):\n",
    "        print(\"* \", end=\"\")\n",
    "    print()\n",
    "#-----------------------------------------------------------------------\n",
    "\"\"\"Task #1 second solution\"\"\"\n",
    "print(\"-\"*15)\n",
    "# Can I use those things we took after the midterm in the midterm??\n",
    "for i in range(6, 0, -1):\n",
    "    x = \"* \"*i\n",
    "    print(x.center(12))\n",
    "# -----------------------------------------------------------------------\n",
    "\"\"\"Task #2\"\"\"\n",
    "# Can I use those things we took after the midterm in the midterm??\n",
    "# Is this solution enough.\n",
    "print(\"-\"*15)\n",
    "for i in range(0, 1):\n",
    "    for m in range(0, 6):\n",
    "        print(\"* \"*m)\n",
    "    for k in range(4, 0, -1):\n",
    "        print(\"* \"*k)\n",
    "#-----------------------------------------------------------------------\n",
    "\"\"\"Task #3\"\"\"\n",
    "print(\"-\"*15)\n",
    "z = \"\"\n",
    "word = input(\"Enter the word:\")\n",
    "for q in word:\n",
    "    z = q + z\n",
    "print(z)\n",
    "#-----------------------------------------------------------------------\n",
    "\"\"\"Task #3 second solution\"\"\"\n",
    "# Can I use those things we took after the midterm in the midterm??\n",
    "print(\"-\"*15)\n",
    "x = input(\"Enter the word:\")\n",
    "def reverse(word):\n",
    "    if len(word) == 1:\n",
    "        return word[0]\n",
    "    else:\n",
    "        return reverse(word[1:]) + word[0]\n",
    "print(reverse(x))\n",
    "#------------------"
   ]
  },
  {
   "cell_type": "code",
   "execution_count": 85,
   "id": "0ba84436",
   "metadata": {},
   "outputs": [
    {
     "name": "stdout",
     "output_type": "stream",
     "text": [
      "Number 10 has been repeated  0 times\n"
     ]
    }
   ],
   "source": [
    "import random\n",
    "\n",
    "count=0\n",
    "for i in range(100):\n",
    "    rand_number=random.randint(1,100000)\n",
    "    if rand_number==10:\n",
    "        count+=1\n",
    "        \n",
    "print(\"Number 10 has been repeated \", count, \"times\")\n"
   ]
  },
  {
   "cell_type": "code",
   "execution_count": 97,
   "id": "a649a0fa",
   "metadata": {},
   "outputs": [
    {
     "name": "stdout",
     "output_type": "stream",
     "text": [
      "1 1 1 1 1 \n",
      "2 2 2 2 \n",
      "3 3 3 \n",
      "4 4 \n",
      "5 \n"
     ]
    }
   ],
   "source": [
    "k=0\n",
    "for i in range(5, 0, -1):\n",
    "    k+=1\n",
    "    for g in range(1,i+1):\n",
    "            print(k,\"\" , end=\"\")\n",
    "    print()"
   ]
  },
  {
   "cell_type": "code",
   "execution_count": 96,
   "id": "c43213d9",
   "metadata": {},
   "outputs": [
    {
     "name": "stdout",
     "output_type": "stream",
     "text": [
      "\n",
      "1 \n",
      "2 2 \n",
      "3 3 3 \n",
      "4 4 4 4 \n",
      "5 5 5 5 5 \n"
     ]
    }
   ],
   "source": [
    "rows = 6\n",
    "# if you want user to enter a number, you would add the following line\n",
    "# rows = int(input('Enter the number of rows'))\n",
    "\n",
    "for i in range(rows):\n",
    "    for j in range(i):\n",
    "        for in\n",
    "            print(i, end=' ')\n",
    "    print('')"
   ]
  },
  {
   "cell_type": "code",
   "execution_count": 122,
   "id": "4b472d7d",
   "metadata": {},
   "outputs": [
    {
     "name": "stdout",
     "output_type": "stream",
     "text": [
      "0 1 2 3 4 5 \n",
      "1 2 3 4 5 5 \n",
      "2 3 4 5 5 5 \n",
      "3 4 5 5 5 5 \n",
      "4 5 5 5 5 5 \n",
      "5 5 5 5 5 5 \n"
     ]
    }
   ],
   "source": [
    "for i in range(6):\n",
    "    q = i\n",
    "    z = 0\n",
    "    for l in range(i,6):\n",
    "        while z<=5:\n",
    "            print(q, end=\" \")\n",
    "            z+=1\n",
    "            if q < 5:\n",
    "                q +=1 \n",
    "    print()\n",
    "       \n",
    "   "
   ]
  },
  {
   "cell_type": "code",
   "execution_count": 126,
   "id": "71c73355",
   "metadata": {},
   "outputs": [
    {
     "name": "stdout",
     "output_type": "stream",
     "text": [
      "45\n",
      "45\n"
     ]
    }
   ],
   "source": [
    "j = 0\n",
    "for i in range(0, 10):\n",
    "    j += i\n",
    "print(j)\n",
    "print(1+2+3+4+5+6+7+8+9)"
   ]
  },
  {
   "cell_type": "code",
   "execution_count": 134,
   "id": "6b6ee584",
   "metadata": {},
   "outputs": [
    {
     "name": "stdout",
     "output_type": "stream",
     "text": [
      "1024\n",
      "1024\n"
     ]
    }
   ],
   "source": [
    "j = 1\n",
    "for i in range(0, 10):\n",
    "    j += j\n",
    "print(j)\n",
    "print(512+512)"
   ]
  },
  {
   "cell_type": "code",
   "execution_count": 135,
   "id": "83f4cffc",
   "metadata": {},
   "outputs": [
    {
     "name": "stdout",
     "output_type": "stream",
     "text": [
      "18\n"
     ]
    }
   ],
   "source": [
    "for j in range(0, 10):\n",
    "    j += j\n",
    "print(j)"
   ]
  },
  {
   "cell_type": "code",
   "execution_count": 5,
   "id": "58375b35",
   "metadata": {},
   "outputs": [
    {
     "name": "stdout",
     "output_type": "stream",
     "text": [
      "hallo ahmed\n",
      "hi\n"
     ]
    }
   ],
   "source": [
    "def hallo(name):\n",
    "    y= \"hallo \"+ name\n",
    "    return y\n",
    "    \n",
    "print(hallo(\"ahmed\"))\n",
    "print(\"hi\")"
   ]
  },
  {
   "cell_type": "code",
   "execution_count": 10,
   "id": "453dfbb2",
   "metadata": {},
   "outputs": [
    {
     "name": "stdout",
     "output_type": "stream",
     "text": [
      "555555\n",
      "man hi"
     ]
    }
   ],
   "source": [
    "hi=\"man hi\"\n",
    "\n",
    "for letter in enumerate(hi):\n",
    "    print(index,end=\"\")\n",
    "print()\n",
    "for index,letter in enumerate(hi):\n",
    "    print(letter, end=\"\")"
   ]
  },
  {
   "cell_type": "code",
   "execution_count": 17,
   "id": "3f63fbf1",
   "metadata": {},
   "outputs": [
    {
     "data": {
      "text/plain": [
       "2"
      ]
     },
     "execution_count": 17,
     "metadata": {},
     "output_type": "execute_result"
    }
   ],
   "source": [
    "def fint(i,e,a=0):\n",
    "    for index,letter in enumerate(i[a:]):\n",
    "        if letter==e:\n",
    "            return index\n",
    "     \n",
    "    \n",
    "man=\"jsadhg\"\n",
    "fint(man,\"a\")"
   ]
  },
  {
   "cell_type": "code",
   "execution_count": null,
   "id": "7ce84363",
   "metadata": {},
   "outputs": [],
   "source": [
    "\"\"\"\"Task #1\"\"\"\n",
    "for i in range(6, 0, -1):\n",
    "    for j in range(i, 6):\n",
    "        print(\" \", end=\"\")\n",
    "    for k in range(0, i):\n",
    "        print(\"* \", end=\"\")\n",
    "    print()\n",
    "# -----------------------------------------------------------------------\n",
    "\"\"\"Task #1 second solution\"\"\"\n",
    "print(\"-\" * 15)\n",
    "for i in range(6, 0, -1):\n",
    "    x = \"* \" * i\n",
    "    print(x.center(12))\n",
    "# -----------------------------------------------------------------------\n",
    "\"\"\"Task #2\"\"\"\n",
    "print(\"-\" * 15)\n",
    "for i in range(0, 1):\n",
    "    for m in range(0, 6):\n",
    "        print(\"* \" * m)\n",
    "    for k in range(4, 0, -1):\n",
    "        print(\"* \" * k)\n",
    "# -----------------------------------------------------------------------\n",
    "\"\"\"Task #3\"\"\"\n",
    "print(\"-\" * 15)\n",
    "z = \"\"\n",
    "word = input(\"Enter the word:\")\n",
    "for q in word:\n",
    "    z = q + z\n",
    "print(z)\n",
    "# -----------------------------------------------------------------------\n",
    "\"\"\"Task #3 second solution\"\"\"\n",
    "print(\"-\" * 15)\n",
    "x = input(\"Enter the word:\")\n",
    "\n",
    "\n",
    "def reverse(word):\n",
    "    if len(word) == 1:\n",
    "        return word[0]\n",
    "    else:\n",
    "        return reverse(word[1:]) + word[0]\n",
    "\n",
    "\n",
    "print(reverse(x))\n",
    "# -----------------------------------------------------------------------\n",
    "\"\"\"Task #4\"\"\"\n",
    "print(\"-\" * 15)\n",
    "m = int(input(\"Enter the number of rows:\"))\n",
    "n = int(input(\"Enter the number of column:\"))\n",
    "for i in range(0, m + 1):\n",
    "    for j in range(0, n + 1):\n",
    "        print(j * i, end=\" \")\n",
    "    print()\n",
    "# -----------------------------------------------------------------------\n",
    "\"\"\"Task #5\"\"\"\n",
    "print(\"-\" * 15)\n",
    "x = input(\"Enter the string:\")\n",
    "l = \"qwertyuioplkjhgfdsazxcvbnm\"\n",
    "Int = \"1234567890\"\n",
    "count_int = 0\n",
    "count_str = 0\n",
    "for i in x:\n",
    "    if i in Int:\n",
    "        count_int += 1\n",
    "    elif i.upper() in l.upper():\n",
    "        count_str += 1\n",
    "    else:\n",
    "        continue\n",
    "\n",
    "print(\"number of letter is:\", count_str, \"number of digits is:\", count_int)\n",
    "# -----------------------------------------------------------------------\n",
    "\"\"\"Task #6\"\"\"\n",
    "print(\"-\" * 15)\n",
    "x = input(\"Enter the password here:\")\n",
    "sp = \"$#@\"\n",
    "countdi = 0\n",
    "countup = 0\n",
    "countsp = 0\n",
    "countlw = 0\n",
    "for i in x:\n",
    "    if i.isupper():\n",
    "        countup += 1\n",
    "    elif i.isdigit():\n",
    "        countdi += 1\n",
    "    elif i.islower():\n",
    "        countlw += 1\n",
    "    elif i in sp:\n",
    "        countsp += 1\n",
    "    else:\n",
    "        pass\n",
    "\n",
    "if countdi > 0:\n",
    "    if countup > 0:\n",
    "        if countlw > 0:\n",
    "            if countsp > 0:\n",
    "                if len(x) >= 6:\n",
    "                    if len(x) <= 16:\n",
    "                        print(\"your password is correct\")\n",
    "                    else:\n",
    "                        print(\"length of password must be less than 17\")\n",
    "                else:\n",
    "                    print(\"length of password must be grader than 5\")\n",
    "            else:\n",
    "                print(\"you must add one special character in your password\")\n",
    "        else:\n",
    "            print(\"you must add one small letter in your password\")\n",
    "    else:\n",
    "        print(\"you must add one capital letter in your password\")\n",
    "else:\n",
    "    print(\"you must add one digit in your password\")\n",
    "# -----------------------------------------------------------------------\n",
    "\"\"\"Task #7\"\"\"\n",
    "print(\"-\" * 15)\n",
    "item = []\n",
    "for i in range(100, 401):\n",
    "    k = str(i)\n",
    "    if int(k[0]) % 2 == 0 and int(k[1]) % 2 == 0 and int(k[2]) % 2 == 0:\n",
    "        item.append(k)\n",
    "    else:\n",
    "        pass\n",
    "print(\",\".join(item))\n",
    "# -----------------------------------------------------------------------\n",
    "\"\"\"Task #8\"\"\"\n",
    "print(\"-\" * 15)\n",
    "x = input(\"Enter your born year\")\n",
    "\n",
    "if x in \"1924, 1936, 1948, 1960, 1972, 1984, 1996, 2008, 2020, 2032\":\n",
    "    print(\"Rat\t鼠 (shǔ)\")\n",
    "elif x in \"1925, 1937, 1949, 1961, 1973, 1985, 1997, 2009, 2021, 2033\":\n",
    "    print(\"Ox\t牛 (niú)\")\n",
    "elif x in \"1926, 1938, 1950, 1962, 1974, 1986, 1998, 2010, 2022, 2034\":\n",
    "    print(\"Tiger\t虎 (hǔ)\")\n",
    "elif x in \"1927, 1939, 1951, 1963, 1975, 1987, 1999, 2011, 2023, 2035\":\n",
    "    print(\"Rabbit\t兔 (tù)\")\n",
    "elif x in \"1928, 1940, 1952, 1964, 1976, 1988, 2000, 2012, 2024, 2036\":\n",
    "    print(\"Dragon\t龙 (lóng)\")\n",
    "elif x in \"1929, 1941, 1953, 1965, 1977, 1989, 2001, 2013, 2025, 2037\":\n",
    "    print(\"Snake\t蛇 (shé)\")\n",
    "elif x in \"1930, 1942, 1954, 1966, 1978, 1990, 2002, 2014, 2026, 2038\":\n",
    "    print(\"Horse\t马 (mǎ) \")\n",
    "elif x in \"1931, 1943, 1955, 1967, 1979, 1991, 2003, 2015, 2027, 2039\":\n",
    "    print(\"Sheep\t羊 (yáng)\")\n",
    "elif x in \"1932, 1944, 1956, 1968, 1980, 1992, 2004, 2016, 2028, 2040\":\n",
    "    print(\"Monkey\t猴 (hóu)\")\n",
    "elif x in \"1933, 1945, 1957, 1969, 1981, 1993, 2005, 2017, 2029, 2041\":\n",
    "    print(\"Rooster\t鸡 (jī)\")\n",
    "elif x in \"1934, 1946, 1958, 1970, 1982, 1994, 2006, 2018, 2030, 2042\":\n",
    "    print(\"Dog\t狗 (gǒu)\")\n",
    "elif x in \"1935, 1947, 1959, 1971, 1983, 1995, 2007, 2019, 2031, 2043\":\n",
    "    print(\"Pig\t猪 (zhū)\")\n",
    "# -----------------------------------------------------------------------\n",
    "\"\"\"Task #9\"\"\"\n",
    "print(\"-\" * 15)\n",
    "o = int(input(\"Enter the opposite:\"))\n",
    "h = int(input(\"Enter the hypotenuse:\"))\n",
    "a = int(input(\"Enter the adjacent:\"))\n",
    "if o == h == a:\n",
    "    print(\"The triangle is the equilateral triangle\")\n",
    "elif o == h or h == a or o == a:\n",
    "    print(\"The triangle is the scalene triangle\")\n",
    "elif o != h or h != a or o != a:\n",
    "    print(\"The triangle is the isosceles triangle\")\n",
    "# -----------------------------------------------------------------------\n",
    "\"\"\"Task #10\"\"\"\n",
    "print(\"-\" * 15)\n",
    "\n",
    "# -----------------------------------------------------------------------\n",
    "\"\"\"Task #17 'string' \"\"\"\n",
    "print(\"-\" * 15)\n",
    "\n",
    "\n",
    "def combo_sting(st1, st2):\n",
    "    if len(st1) > len(st2):\n",
    "        return st2 + st1 + st2\n",
    "    elif len(st2) > len(st1):\n",
    "        return st1 + st2 + st1\n",
    "    else:\n",
    "        return st1 + st2 + st1\n",
    "\n",
    "\n",
    "print(combo_sting(\"Hello\", \"hi\"))\n",
    "print(combo_sting(\"hi\", \"Hello\"))\n",
    "print(combo_sting(\"aaa\", \"b\"))\n"
   ]
  },
  {
   "cell_type": "code",
   "execution_count": 130,
   "id": "156a166b",
   "metadata": {},
   "outputs": [
    {
     "name": "stdout",
     "output_type": "stream",
     "text": [
      "* * * * * * \n",
      " * * * * *  \n",
      "  * * * *   \n",
      "   * * *    \n",
      "    * *     \n",
      "     *      \n"
     ]
    }
   ],
   "source": [
    "# for i in range(6,1,-1):#6,5,4,3,2,1\n",
    "def triangle(n):\n",
    "    for k in range(n,0,-1):\n",
    "        print((\"* \"*k).center(n*2))\n",
    "\n",
    "triangle(6)\n",
    "#     print()"
   ]
  },
  {
   "cell_type": "code",
   "execution_count": 132,
   "id": "ce7a8146",
   "metadata": {},
   "outputs": [
    {
     "name": "stdout",
     "output_type": "stream",
     "text": [
      "* \n",
      "* * \n",
      "* * * \n",
      "* * * * \n",
      "* * * * * \n",
      "* * * * * * \n",
      "* * * * * * * \n",
      "* * * * * * * * \n",
      "* * * * * * * * * \n",
      "* * * * * * * * * * \n",
      "* * * * * * * * * \n",
      "* * * * * * * * \n",
      "* * * * * * * \n",
      "* * * * * * \n",
      "* * * * * \n",
      "* * * * \n",
      "* * * \n",
      "* * \n",
      "* \n"
     ]
    }
   ],
   "source": [
    "def hi(n):\n",
    "    for i in range(1, 2):\n",
    "        for k in range(1, n+1):\n",
    "            print(\"* \" *k)\n",
    "        for l in range(k-1, 0, -1):\n",
    "            print(\"* \"*l)\n",
    "hi(10)"
   ]
  },
  {
   "cell_type": "code",
   "execution_count": 43,
   "id": "29eda65a",
   "metadata": {},
   "outputs": [
    {
     "name": "stdout",
     "output_type": "stream",
     "text": [
      "* * * * * * * * \n",
      " * * * * * * *  \n",
      "  * * * * * *   \n",
      "   * * * * *    \n",
      "    * * * *     \n",
      "     * * *      \n",
      "      * *       \n",
      "       *        \n"
     ]
    }
   ],
   "source": [
    "for i in range(8,0,-1):\n",
    "    print((\"* \"*i).center(16))"
   ]
  },
  {
   "cell_type": "code",
   "execution_count": null,
   "id": "32a76dc4",
   "metadata": {},
   "outputs": [],
   "source": [
    "def reverse(m):\n",
    "    if len(m)==0:\n",
    "        reverse(m)\n",
    "    return m[-1]+reverse(m)\n",
    "    \n",
    "    \n",
    "reverse(\"hallo world\")"
   ]
  },
  {
   "cell_type": "code",
   "execution_count": 133,
   "id": "670dec8c",
   "metadata": {},
   "outputs": [
    {
     "name": "stdout",
     "output_type": "stream",
     "text": [
      "Enter the word here:khsalg21\n",
      "12glashk"
     ]
    }
   ],
   "source": [
    "word = input(\"Enter the word here:\")\n",
    "def reverse(word):\n",
    "    for i in range (len(word)-1,-1,-1):\n",
    "        print(word[i], end=\"\")\n",
    "reverse(word)"
   ]
  },
  {
   "cell_type": "code",
   "execution_count": 12,
   "id": "23ae1322",
   "metadata": {},
   "outputs": [
    {
     "name": "stdout",
     "output_type": "stream",
     "text": [
      "Enter the number of rows4\n",
      "Enter the number of column4\n",
      "1 2 3 4 \n",
      "2 4 6 8 \n",
      "3 6 9 12 \n",
      "4 8 12 16 "
     ]
    }
   ],
   "source": [
    "m=int(input(\"Enter the number of rows\"))\n",
    "n=int(input(\"Enter the number of column\"))\n",
    "for i in range(1, m+1):\n",
    "    if i > 1:\n",
    "        print()\n",
    "    for j in range(1, n+1):\n",
    "        print(j*i,end=\" \")"
   ]
  },
  {
   "cell_type": "code",
   "execution_count": 16,
   "id": "bb3b74d2",
   "metadata": {},
   "outputs": [
    {
     "name": "stdout",
     "output_type": "stream",
     "text": [
      "Enter any sentanceasdgasdfg123\n",
      "9 3\n"
     ]
    }
   ],
   "source": [
    "word = input(\"Enter any sentance\")\n",
    "number_digits = 0\n",
    "number_string = 0\n",
    "for i in word:\n",
    "    if i.isalpha():\n",
    "        number_string +=1\n",
    "    elif i.isdigit():\n",
    "        number_digits +=1\n",
    "    else:\n",
    "        pass\n",
    "    \n",
    "print(number_string, number_digits)"
   ]
  },
  {
   "cell_type": "code",
   "execution_count": 23,
   "id": "ad8d46ef",
   "metadata": {},
   "outputs": [
    {
     "name": "stdout",
     "output_type": "stream",
     "text": [
      "Enter the password: 1qA@safd\n",
      "dobro\n"
     ]
    }
   ],
   "source": [
    "pas = input(\"Enter the password: \")\n",
    "count_small = 0\n",
    "count_capital = 0\n",
    "count_spetial_character = 0\n",
    "count_digit = 0\n",
    "for i in pas:\n",
    "    if i.isupper():\n",
    "        count_capital += 1\n",
    "    elif i.islower():\n",
    "        count_small += 1\n",
    "    elif i.isdigit():\n",
    "        count_digit += 1\n",
    "    elif i in (\"$#@\"):\n",
    "        count_spetial_character += 1\n",
    "    else:\n",
    "        continue\n",
    "\n",
    "        \n",
    "if count_digit > 0 and count_spetial_character > 0 and count_capital > 0 and count_small > 0 and len(pas) > 7 and len(pas) < 17:\n",
    "    print(\"dobro\")\n",
    "else:\n",
    "    print(\"nije dobro\")"
   ]
  },
  {
   "cell_type": "code",
   "execution_count": 32,
   "id": "9ee034f8",
   "metadata": {},
   "outputs": [
    {
     "name": "stdout",
     "output_type": "stream",
     "text": [
      "Enter the first side from the triangle: 3\n",
      "Enter the second side from the triangle: 3\n",
      "Enter the third side from the triangle: 3\n",
      "This is an equilateral triangle\n"
     ]
    }
   ],
   "source": [
    "a = int(input(\"Enter the first side from the triangle: \"))\n",
    "b = int(input(\"Enter the second side from the triangle: \"))\n",
    "c = int(input(\"Enter the third side from the triangle: \"))\n",
    "if a == b and a==c:#we shouldn't write b == c because both are equal And therefore equal\n",
    "    print(\"This is an equilateral triangle\")\n",
    "elif a != b and a != c and b != c:\n",
    "    print(\"This is a scalene triangle\")\n",
    "elif a == b:\n",
    "    print(\"This is an isosceles triangle\")\n",
    "else:\n",
    "    print(\"out of the range\")"
   ]
  },
  {
   "cell_type": "code",
   "execution_count": 38,
   "id": "db4dfea0",
   "metadata": {},
   "outputs": [
    {
     "name": "stdout",
     "output_type": "stream",
     "text": [
      "12345\n"
     ]
    }
   ],
   "source": [
    "n = 123456789\n",
    "print(n // 10000)\n"
   ]
  },
  {
   "cell_type": "code",
   "execution_count": 53,
   "id": "8dff6980",
   "metadata": {
    "scrolled": true
   },
   "outputs": [
    {
     "name": "stdout",
     "output_type": "stream",
     "text": [
      "Enter the first number: 6\n",
      "Enter the second number: 3\n",
      "6 X 0 = 0\n",
      "6 X 1 = 6\n",
      "6 X 2 = 12\n"
     ]
    }
   ],
   "source": [
    "first = int(input(\"Enter the first number: \"))\n",
    "second = int(input(\"Enter the second number: \"))\n",
    "for i in range (0,second):\n",
    "    x = i * first\n",
    "    print(first,\"X\",i ,\"=\", x)"
   ]
  },
  {
   "cell_type": "code",
   "execution_count": 52,
   "id": "cbffdd26",
   "metadata": {},
   "outputs": [
    {
     "name": "stdout",
     "output_type": "stream",
     "text": [
      "000\n",
      "001\n",
      "002\n",
      "003\n",
      "004\n",
      "005\n",
      "006\n",
      "007\n",
      "008\n",
      "009\n",
      "010\n",
      "011\n",
      "012\n",
      "013\n",
      "014\n",
      "015\n",
      "016\n",
      "017\n",
      "018\n",
      "019\n",
      "020\n",
      "021\n",
      "022\n",
      "023\n",
      "024\n",
      "025\n",
      "026\n",
      "027\n",
      "028\n",
      "029\n",
      "030\n",
      "031\n",
      "032\n",
      "033\n",
      "034\n",
      "035\n",
      "036\n",
      "037\n",
      "038\n",
      "039\n",
      "040\n",
      "041\n",
      "042\n",
      "043\n",
      "044\n",
      "045\n",
      "046\n",
      "047\n",
      "048\n",
      "049\n",
      "050\n",
      "051\n",
      "052\n",
      "053\n",
      "054\n",
      "055\n",
      "056\n",
      "057\n",
      "058\n",
      "059\n",
      "060\n",
      "061\n",
      "062\n",
      "063\n",
      "064\n",
      "065\n",
      "066\n",
      "067\n",
      "068\n",
      "069\n",
      "070\n",
      "071\n",
      "072\n",
      "073\n",
      "074\n",
      "075\n",
      "076\n",
      "077\n",
      "078\n",
      "079\n",
      "080\n",
      "081\n",
      "082\n",
      "083\n",
      "084\n",
      "085\n",
      "086\n",
      "087\n",
      "088\n",
      "089\n",
      "090\n",
      "091\n",
      "092\n",
      "093\n",
      "094\n",
      "095\n",
      "096\n",
      "097\n",
      "098\n",
      "099\n",
      "100\n",
      "101\n",
      "102\n",
      "103\n",
      "104\n",
      "105\n",
      "106\n",
      "107\n",
      "108\n",
      "109\n",
      "110\n",
      "111\n",
      "112\n",
      "113\n",
      "114\n",
      "115\n",
      "116\n",
      "117\n",
      "118\n",
      "119\n",
      "120\n",
      "121\n",
      "122\n",
      "123\n",
      "124\n",
      "125\n",
      "126\n",
      "127\n",
      "128\n",
      "129\n",
      "130\n",
      "131\n",
      "132\n",
      "133\n",
      "134\n",
      "135\n",
      "136\n",
      "137\n",
      "138\n",
      "139\n",
      "140\n",
      "141\n",
      "142\n",
      "143\n",
      "144\n",
      "145\n",
      "146\n",
      "147\n",
      "148\n",
      "149\n",
      "150\n",
      "151\n",
      "152\n",
      "153\n",
      "154\n",
      "155\n",
      "156\n",
      "157\n",
      "158\n",
      "159\n",
      "160\n",
      "161\n",
      "162\n",
      "163\n",
      "164\n",
      "165\n",
      "166\n",
      "167\n",
      "168\n",
      "169\n",
      "170\n",
      "171\n",
      "172\n",
      "173\n",
      "174\n",
      "175\n",
      "176\n",
      "177\n",
      "178\n",
      "179\n",
      "180\n",
      "181\n",
      "182\n",
      "183\n",
      "184\n",
      "185\n",
      "186\n",
      "187\n",
      "188\n",
      "189\n",
      "190\n",
      "191\n",
      "192\n",
      "193\n",
      "194\n",
      "195\n",
      "196\n",
      "197\n",
      "198\n",
      "199\n",
      "200\n",
      "201\n",
      "202\n",
      "203\n",
      "204\n",
      "205\n",
      "206\n",
      "207\n",
      "208\n",
      "209\n",
      "210\n",
      "211\n",
      "212\n",
      "213\n",
      "214\n",
      "215\n",
      "216\n",
      "217\n",
      "218\n",
      "219\n",
      "220\n",
      "221\n",
      "222\n",
      "223\n",
      "224\n",
      "225\n",
      "226\n",
      "227\n",
      "228\n",
      "229\n",
      "230\n",
      "231\n",
      "232\n",
      "233\n",
      "234\n",
      "235\n",
      "236\n",
      "237\n",
      "238\n",
      "239\n",
      "240\n",
      "241\n",
      "242\n",
      "243\n",
      "244\n",
      "245\n",
      "246\n",
      "247\n",
      "248\n",
      "249\n",
      "250\n",
      "251\n",
      "252\n",
      "253\n",
      "254\n",
      "255\n",
      "256\n",
      "257\n",
      "258\n",
      "259\n",
      "260\n",
      "261\n",
      "262\n",
      "263\n",
      "264\n",
      "265\n",
      "266\n",
      "267\n",
      "268\n",
      "269\n",
      "270\n",
      "271\n",
      "272\n",
      "273\n",
      "274\n",
      "275\n",
      "276\n",
      "277\n",
      "278\n",
      "279\n",
      "280\n",
      "281\n",
      "282\n",
      "283\n",
      "284\n",
      "285\n",
      "286\n",
      "287\n",
      "288\n",
      "289\n",
      "290\n",
      "291\n",
      "292\n",
      "293\n",
      "294\n",
      "295\n",
      "296\n",
      "297\n",
      "298\n",
      "299\n",
      "300\n",
      "301\n",
      "302\n",
      "303\n",
      "304\n",
      "305\n",
      "306\n",
      "307\n",
      "308\n",
      "309\n",
      "310\n",
      "311\n",
      "312\n",
      "313\n",
      "314\n",
      "315\n",
      "316\n",
      "317\n",
      "318\n",
      "319\n",
      "320\n",
      "321\n",
      "322\n",
      "323\n",
      "324\n",
      "325\n",
      "326\n",
      "327\n",
      "328\n",
      "329\n",
      "330\n",
      "331\n",
      "332\n",
      "333\n",
      "334\n",
      "335\n",
      "336\n",
      "337\n",
      "338\n",
      "339\n",
      "340\n",
      "341\n",
      "342\n",
      "343\n",
      "344\n",
      "345\n",
      "346\n",
      "347\n",
      "348\n",
      "349\n",
      "350\n",
      "351\n",
      "352\n",
      "353\n",
      "354\n",
      "355\n",
      "356\n",
      "357\n",
      "358\n",
      "359\n",
      "360\n",
      "361\n",
      "362\n",
      "363\n",
      "364\n",
      "365\n",
      "366\n",
      "367\n",
      "368\n",
      "369\n",
      "370\n",
      "371\n",
      "372\n",
      "373\n",
      "374\n",
      "375\n",
      "376\n",
      "377\n",
      "378\n",
      "379\n",
      "380\n",
      "381\n",
      "382\n",
      "383\n",
      "384\n",
      "385\n",
      "386\n",
      "387\n",
      "388\n",
      "389\n",
      "390\n",
      "391\n",
      "392\n",
      "393\n",
      "394\n",
      "395\n",
      "396\n",
      "397\n",
      "398\n",
      "399\n",
      "400\n",
      "401\n",
      "402\n",
      "403\n",
      "404\n",
      "405\n",
      "406\n",
      "407\n",
      "408\n",
      "409\n",
      "410\n",
      "411\n",
      "412\n",
      "413\n",
      "414\n",
      "415\n",
      "416\n",
      "417\n",
      "418\n",
      "419\n",
      "420\n",
      "421\n",
      "422\n",
      "423\n",
      "424\n",
      "425\n",
      "426\n",
      "427\n",
      "428\n",
      "429\n",
      "430\n",
      "431\n",
      "432\n",
      "433\n",
      "434\n",
      "435\n",
      "436\n",
      "437\n",
      "438\n",
      "439\n",
      "440\n",
      "441\n",
      "442\n",
      "443\n",
      "444\n",
      "445\n",
      "446\n",
      "447\n",
      "448\n",
      "449\n",
      "450\n",
      "451\n",
      "452\n",
      "453\n",
      "454\n",
      "455\n",
      "456\n",
      "457\n",
      "458\n",
      "459\n",
      "460\n",
      "461\n",
      "462\n",
      "463\n",
      "464\n",
      "465\n",
      "466\n",
      "467\n",
      "468\n",
      "469\n",
      "470\n",
      "471\n",
      "472\n",
      "473\n",
      "474\n",
      "475\n",
      "476\n",
      "477\n",
      "478\n",
      "479\n",
      "480\n",
      "481\n",
      "482\n",
      "483\n",
      "484\n",
      "485\n",
      "486\n",
      "487\n",
      "488\n",
      "489\n",
      "490\n",
      "491\n",
      "492\n",
      "493\n",
      "494\n",
      "495\n",
      "496\n",
      "497\n",
      "498\n",
      "499\n",
      "500\n",
      "501\n",
      "502\n",
      "503\n",
      "504\n",
      "505\n",
      "506\n",
      "507\n",
      "508\n",
      "509\n",
      "510\n",
      "511\n",
      "512\n",
      "513\n",
      "514\n",
      "515\n",
      "516\n",
      "517\n",
      "518\n",
      "519\n",
      "520\n",
      "521\n",
      "522\n",
      "523\n",
      "524\n",
      "525\n",
      "526\n",
      "527\n",
      "528\n",
      "529\n",
      "530\n",
      "531\n",
      "532\n",
      "533\n",
      "534\n",
      "535\n",
      "536\n",
      "537\n",
      "538\n",
      "539\n",
      "540\n",
      "541\n",
      "542\n",
      "543\n",
      "544\n",
      "545\n",
      "546\n",
      "547\n",
      "548\n",
      "549\n",
      "550\n",
      "551\n",
      "552\n",
      "553\n",
      "554\n",
      "555\n",
      "556\n",
      "557\n",
      "558\n",
      "559\n",
      "560\n",
      "561\n",
      "562\n",
      "563\n",
      "564\n",
      "565\n",
      "566\n",
      "567\n",
      "568\n",
      "569\n",
      "570\n",
      "571\n",
      "572\n",
      "573\n",
      "574\n",
      "575\n",
      "576\n",
      "577\n",
      "578\n",
      "579\n",
      "580\n",
      "581\n",
      "582\n",
      "583\n",
      "584\n",
      "585\n",
      "586\n",
      "587\n",
      "588\n",
      "589\n",
      "590\n",
      "591\n",
      "592\n",
      "593\n",
      "594\n",
      "595\n",
      "596\n",
      "597\n",
      "598\n",
      "599\n",
      "600\n",
      "601\n",
      "602\n",
      "603\n",
      "604\n",
      "605\n",
      "606\n",
      "607\n",
      "608\n",
      "609\n",
      "610\n",
      "611\n",
      "612\n",
      "613\n",
      "614\n",
      "615\n",
      "616\n",
      "617\n",
      "618\n",
      "619\n",
      "620\n",
      "621\n",
      "622\n",
      "623\n",
      "624\n",
      "625\n",
      "626\n",
      "627\n",
      "628\n",
      "629\n",
      "630\n",
      "631\n",
      "632\n",
      "633\n",
      "634\n",
      "635\n",
      "636\n",
      "637\n",
      "638\n",
      "639\n",
      "640\n",
      "641\n",
      "642\n",
      "643\n",
      "644\n",
      "645\n",
      "646\n",
      "647\n",
      "648\n",
      "649\n",
      "650\n",
      "651\n",
      "652\n",
      "653\n",
      "654\n",
      "655\n",
      "656\n",
      "657\n",
      "658\n",
      "659\n",
      "660\n",
      "661\n",
      "662\n",
      "663\n",
      "664\n",
      "665\n",
      "666\n",
      "667\n",
      "668\n",
      "669\n",
      "670\n",
      "671\n",
      "672\n",
      "673\n",
      "674\n",
      "675\n",
      "676\n",
      "677\n",
      "678\n",
      "679\n",
      "680\n",
      "681\n",
      "682\n",
      "683\n",
      "684\n",
      "685\n",
      "686\n",
      "687\n",
      "688\n",
      "689\n",
      "690\n",
      "691\n",
      "692\n",
      "693\n",
      "694\n",
      "695\n",
      "696\n",
      "697\n",
      "698\n",
      "699\n",
      "700\n",
      "701\n",
      "702\n",
      "703\n",
      "704\n",
      "705\n",
      "706\n",
      "707\n",
      "708\n",
      "709\n",
      "710\n",
      "711\n",
      "712\n",
      "713\n",
      "714\n",
      "715\n",
      "716\n",
      "717\n",
      "718\n",
      "719\n",
      "720\n",
      "721\n",
      "722\n",
      "723\n",
      "724\n",
      "725\n",
      "726\n",
      "727\n",
      "728\n",
      "729\n",
      "730\n",
      "731\n",
      "732\n",
      "733\n",
      "734\n",
      "735\n",
      "736\n",
      "737\n",
      "738\n",
      "739\n",
      "740\n",
      "741\n",
      "742\n",
      "743\n",
      "744\n",
      "745\n",
      "746\n",
      "747\n",
      "748\n",
      "749\n",
      "750\n",
      "751\n",
      "752\n",
      "753\n",
      "754\n",
      "755\n",
      "756\n",
      "757\n",
      "758\n",
      "759\n",
      "760\n",
      "761\n",
      "762\n",
      "763\n",
      "764\n",
      "765\n",
      "766\n",
      "767\n",
      "768\n",
      "769\n",
      "770\n",
      "771\n",
      "772\n",
      "773\n",
      "774\n",
      "775\n",
      "776\n",
      "777\n",
      "778\n",
      "779\n",
      "780\n",
      "781\n",
      "782\n",
      "783\n",
      "784\n",
      "785\n",
      "786\n",
      "787\n",
      "788\n",
      "789\n",
      "790\n",
      "791\n",
      "792\n",
      "793\n",
      "794\n",
      "795\n",
      "796\n",
      "797\n",
      "798\n",
      "799\n",
      "800\n",
      "801\n",
      "802\n",
      "803\n",
      "804\n",
      "805\n",
      "806\n",
      "807\n",
      "808\n",
      "809\n",
      "810\n",
      "811\n",
      "812\n",
      "813\n",
      "814\n",
      "815\n",
      "816\n",
      "817\n",
      "818\n",
      "819\n",
      "820\n",
      "821\n",
      "822\n",
      "823\n",
      "824\n",
      "825\n",
      "826\n",
      "827\n",
      "828\n",
      "829\n",
      "830\n",
      "831\n",
      "832\n",
      "833\n",
      "834\n",
      "835\n",
      "836\n",
      "837\n",
      "838\n",
      "839\n",
      "840\n",
      "841\n",
      "842\n",
      "843\n",
      "844\n",
      "845\n",
      "846\n",
      "847\n",
      "848\n",
      "849\n",
      "850\n",
      "851\n",
      "852\n",
      "853\n",
      "854\n",
      "855\n",
      "856\n",
      "857\n",
      "858\n",
      "859\n",
      "860\n",
      "861\n",
      "862\n",
      "863\n",
      "864\n",
      "865\n",
      "866\n",
      "867\n",
      "868\n",
      "869\n",
      "870\n",
      "871\n",
      "872\n",
      "873\n",
      "874\n",
      "875\n",
      "876\n",
      "877\n",
      "878\n",
      "879\n",
      "880\n",
      "881\n",
      "882\n",
      "883\n",
      "884\n",
      "885\n",
      "886\n",
      "887\n",
      "888\n",
      "889\n",
      "890\n",
      "891\n",
      "892\n",
      "893\n",
      "894\n",
      "895\n",
      "896\n",
      "897\n",
      "898\n",
      "899\n",
      "900\n",
      "901\n",
      "902\n",
      "903\n",
      "904\n",
      "905\n",
      "906\n",
      "907\n",
      "908\n",
      "909\n",
      "910\n",
      "911\n",
      "912\n",
      "913\n",
      "914\n",
      "915\n",
      "916\n",
      "917\n",
      "918\n",
      "919\n",
      "920\n",
      "921\n",
      "922\n",
      "923\n",
      "924\n",
      "925\n",
      "926\n",
      "927\n",
      "928\n",
      "929\n",
      "930\n",
      "931\n",
      "932\n",
      "933\n",
      "934\n",
      "935\n",
      "936\n",
      "937\n",
      "938\n",
      "939\n",
      "940\n",
      "941\n",
      "942\n",
      "943\n",
      "944\n",
      "945\n",
      "946\n",
      "947\n",
      "948\n",
      "949\n",
      "950\n",
      "951\n",
      "952\n",
      "953\n",
      "954\n",
      "955\n",
      "956\n",
      "957\n",
      "958\n",
      "959\n",
      "960\n",
      "961\n",
      "962\n",
      "963\n",
      "964\n",
      "965\n",
      "966\n",
      "967\n",
      "968\n",
      "969\n",
      "970\n",
      "971\n",
      "972\n",
      "973\n",
      "974\n",
      "975\n",
      "976\n",
      "977\n",
      "978\n",
      "979\n",
      "980\n",
      "981\n",
      "982\n",
      "983\n",
      "984\n",
      "985\n",
      "986\n",
      "987\n",
      "988\n",
      "989\n",
      "990\n",
      "991\n",
      "992\n",
      "993\n",
      "994\n",
      "995\n",
      "996\n",
      "997\n",
      "998\n",
      "999\n"
     ]
    }
   ],
   "source": [
    "a, b, c = 0, 0, 0\n",
    "for a in range(0,10):\n",
    "        for b in range(0,10):\n",
    "            for c in range(0,10):\n",
    "                print(a, b, c,sep=\"\")"
   ]
  },
  {
   "cell_type": "code",
   "execution_count": 69,
   "id": "1b96e9d1",
   "metadata": {},
   "outputs": [
    {
     "name": "stdout",
     "output_type": "stream",
     "text": [
      "Enter numbers: 9\n",
      "Enter numbers: 6\n",
      "Enter numbers: 3\n",
      "Enter numbers: done\n",
      "18\n"
     ]
    }
   ],
   "source": [
    "i = \"done\"\n",
    "y = 0\n",
    "x = 0\n",
    "while x != i:\n",
    "    x = input(\"Enter numbers: \")\n",
    "    if x != i:\n",
    "        y += int(x)\n",
    "    elif x == i:\n",
    "        break\n",
    "    \n",
    "print(y)"
   ]
  },
  {
   "cell_type": "code",
   "execution_count": 70,
   "id": "3f7f2d39",
   "metadata": {},
   "outputs": [
    {
     "name": "stdout",
     "output_type": "stream",
     "text": [
      "Enter the numbers: 5\n",
      "Enter the numbers: 3\n",
      "Enter the numbers: 1\n",
      "Enter the numbers: 1\n",
      "Enter the numbers: 1\n",
      "Enter the numbers: done\n",
      "11\n"
     ]
    }
   ],
   "source": [
    "x = 0\n",
    "y = 0\n",
    "i = \"done\"\n",
    "while x != i:\n",
    "    x = input(\"Enter the numbers: \")\n",
    "    if x != i:\n",
    "        y += int(x)\n",
    "    elif x == i:\n",
    "        break\n",
    "    else:\n",
    "        continue\n",
    "        \n",
    "        \n",
    "print(y)"
   ]
  },
  {
   "cell_type": "code",
   "execution_count": 73,
   "id": "cd784361",
   "metadata": {},
   "outputs": [
    {
     "name": "stdout",
     "output_type": "stream",
     "text": [
      "Enter the number: 4\n",
      "24\n"
     ]
    }
   ],
   "source": [
    "x = int(input(\"Enter the number: \"))\n",
    "y = 1\n",
    "for i in range(1, x+1):\n",
    "    y *=i\n",
    "\n",
    "print(y)"
   ]
  },
  {
   "cell_type": "code",
   "execution_count": 74,
   "id": "2c31d715",
   "metadata": {},
   "outputs": [
    {
     "name": "stdout",
     "output_type": "stream",
     "text": [
      "Enter the number: 10\n",
      "Enter the number: 20\n",
      "Enter the number: 30\n",
      "Enter the number: 1\n",
      "Enter the number: 2\n",
      "Enter the number: 3\n",
      "Enter the number: 1\n",
      "Enter the number: 2\n",
      "Enter the number: 3\n",
      "Enter the number: 1\n",
      "The avarage is 7.3 and the sum of numbers is 73\n"
     ]
    }
   ],
   "source": [
    "j = 0\n",
    "for i in range(1, 11):\n",
    "    x = input(\"Enter the number: \")\n",
    "    j += int(x)\n",
    "    \n",
    "print(\"The avarage is\", j/10, \"and the sum of numbers is\", j)\n",
    "    "
   ]
  },
  {
   "cell_type": "code",
   "execution_count": null,
   "id": "14d453f3",
   "metadata": {},
   "outputs": [],
   "source": []
  },
  {
   "cell_type": "code",
   "execution_count": 76,
   "id": "6f333f67",
   "metadata": {},
   "outputs": [
    {
     "name": "stdout",
     "output_type": "stream",
     "text": [
      "Enter the number6\n",
      "1.3333333333333333\n"
     ]
    }
   ],
   "source": [
    "odd = 0\n",
    "even = 0 \n",
    "x = int(input(\"Enter the number\"))\n",
    "for i in range(0, x+1):\n",
    "    if i % 2 == 0:\n",
    "        even += i\n",
    "    else:\n",
    "        odd += i\n",
    "        \n",
    "print(even/odd)"
   ]
  },
  {
   "cell_type": "code",
   "execution_count": 84,
   "id": "0a5c866c",
   "metadata": {},
   "outputs": [
    {
     "name": "stdout",
     "output_type": "stream",
     "text": [
      "1\n",
      "1111\n",
      "111111111\n",
      "1111111111111111\n",
      "1111111111111111111111111\n"
     ]
    }
   ],
   "source": [
    "r = 5\n",
    "k = \"1\"\n",
    "m = \"0\"\n",
    "for i in range(1, r+1):\n",
    "    for j in range(1, i+1):\n",
    "        print(k*i, sep=m,end=\"\")\n",
    "    print()"
   ]
  },
  {
   "cell_type": "code",
   "execution_count": 99,
   "id": "b7a0f6eb",
   "metadata": {},
   "outputs": [
    {
     "name": "stdout",
     "output_type": "stream",
     "text": [
      "1\n",
      "01\n",
      "101\n",
      "0101\n",
      "10101\n"
     ]
    }
   ],
   "source": [
    "for i in range(1, 6):\n",
    "    for k in range(i):\n",
    "        print((i+k)%2, end=\"\")\n",
    "    print()"
   ]
  },
  {
   "cell_type": "code",
   "execution_count": 100,
   "id": "2b11a6fc",
   "metadata": {},
   "outputs": [
    {
     "ename": "SyntaxError",
     "evalue": "invalid syntax (2029409535.py, line 7)",
     "output_type": "error",
     "traceback": [
      "\u001b[1;36m  File \u001b[1;32m\"C:\\Users\\User\\AppData\\Local\\Temp\\ipykernel_2028\\2029409535.py\"\u001b[1;36m, line \u001b[1;32m7\u001b[0m\n\u001b[1;33m    elif:\u001b[0m\n\u001b[1;37m        ^\u001b[0m\n\u001b[1;31mSyntaxError\u001b[0m\u001b[1;31m:\u001b[0m invalid syntax\n"
     ]
    }
   ],
   "source": [
    "x = int(input(\"Enter the number\"))\n",
    "o = 0\n",
    "for i in range(1,x):\n",
    "    for j in range(1,i):\n",
    "        if i%j == 0:\n",
    "            x+=1\n",
    "        elif:\n",
    "            pass\n",
    "        for k in range()"
   ]
  },
  {
   "cell_type": "code",
   "execution_count": 102,
   "id": "842c01f6",
   "metadata": {},
   "outputs": [
    {
     "name": "stdout",
     "output_type": "stream",
     "text": [
      "Enter a number100\n",
      "4\n",
      "16\n",
      "36\n",
      "64\n",
      "100\n"
     ]
    }
   ],
   "source": [
    "n=int(input(\"Enter a number\"))\n",
    "\n",
    "for i in range (1,n+1,):\n",
    "\n",
    "    if(i**0.5%2==0):\n",
    "\n",
    "        print(i)"
   ]
  },
  {
   "cell_type": "code",
   "execution_count": 126,
   "id": "e9454a63",
   "metadata": {},
   "outputs": [
    {
     "name": "stdout",
     "output_type": "stream",
     "text": [
      "None\n",
      "1\n",
      "None\n",
      "None\n",
      "None\n",
      "None\n",
      "None\n",
      "6\n",
      "None\n",
      "None\n",
      "None\n",
      "None\n",
      "None\n",
      "None\n",
      "None\n",
      "None\n",
      "None\n",
      "None\n",
      "None\n",
      "None\n",
      "None\n",
      "None\n",
      "None\n",
      "None\n",
      "None\n",
      "None\n",
      "None\n",
      "None\n",
      "None\n",
      "None\n",
      "28\n",
      "None\n",
      "None\n",
      "None\n",
      "None\n",
      "None\n",
      "None\n",
      "None\n",
      "None\n",
      "None\n",
      "None\n",
      "None\n",
      "None\n",
      "None\n",
      "None\n",
      "None\n",
      "None\n",
      "None\n",
      "None\n",
      "None\n",
      "None\n",
      "None\n",
      "None\n",
      "None\n",
      "None\n",
      "None\n",
      "None\n",
      "None\n",
      "None\n",
      "None\n",
      "None\n",
      "None\n",
      "None\n",
      "None\n",
      "None\n",
      "None\n",
      "None\n",
      "None\n",
      "None\n",
      "None\n",
      "None\n",
      "None\n",
      "None\n",
      "None\n",
      "None\n",
      "None\n",
      "None\n",
      "None\n",
      "None\n",
      "None\n",
      "None\n",
      "None\n",
      "None\n",
      "None\n",
      "None\n",
      "None\n",
      "None\n",
      "None\n",
      "None\n",
      "None\n",
      "None\n",
      "None\n",
      "None\n",
      "None\n",
      "None\n",
      "None\n",
      "None\n",
      "None\n",
      "None\n",
      "None\n",
      "None\n",
      "None\n",
      "None\n"
     ]
    }
   ],
   "source": [
    "def isPerfect(N):\n",
    "    sumOfDivisors = 1;\n",
    "    for i in range(2, int(N / 2) + 1):\n",
    "        if (N % i == 0):\n",
    "            sumOfDivisors += i;\n",
    "    if (sumOfDivisors == N):\n",
    "#         return N\n",
    "        print(N)\n",
    "\n",
    "    else:\n",
    "        return\n",
    "#         return print(\"hi\",end=\"\")\n",
    "\n",
    "for i in range(100):\n",
    "    print(isPerfect(i))"
   ]
  },
  {
   "cell_type": "code",
   "execution_count": 146,
   "id": "4f88984c",
   "metadata": {},
   "outputs": [
    {
     "data": {
      "text/plain": [
       "'w3reOURCE.COM'"
      ]
     },
     "execution_count": 146,
     "metadata": {},
     "output_type": "execute_result"
    }
   ],
   "source": [
    "def lower_n_letters(q, n):\n",
    "    y= q[0:int(n)]\n",
    "    return y.lower()+q[n+1:]\n",
    "lower_n_letters('W3RESOURCE.COM', 4) #-> w3reSOURCE.COM"
   ]
  },
  {
   "cell_type": "code",
   "execution_count": 139,
   "id": "040b3399",
   "metadata": {},
   "outputs": [
    {
     "name": "stdout",
     "output_type": "stream",
     "text": [
      "jghdfij\n"
     ]
    }
   ],
   "source": [
    "q=\"jghdfijhgjkf\"\n",
    "print(q[0:7])"
   ]
  },
  {
   "cell_type": "code",
   "execution_count": 156,
   "id": "7efa242b",
   "metadata": {},
   "outputs": [
    {
     "name": "stdout",
     "output_type": "stream",
     "text": [
      "* * * * * * \n",
      " * * * * *  \n",
      "  * * * *   \n",
      "   * * *    \n",
      "    * *     \n",
      "     *      \n"
     ]
    }
   ],
   "source": [
    "def rectangle(n):\n",
    "    for k in range(n, 0, -1):\n",
    "        print((\"* \"*k).center(n*2))\n",
    "rectangle(6)"
   ]
  },
  {
   "cell_type": "code",
   "execution_count": 171,
   "id": "4c765fc3",
   "metadata": {},
   "outputs": [
    {
     "name": "stdout",
     "output_type": "stream",
     "text": [
      "* \n",
      "* * \n",
      "* * * \n",
      "* * * * \n",
      "* * * * * \n",
      "* * * * * * \n",
      "* * * * * \n",
      "* * * * \n",
      "* * * \n",
      "* * \n",
      "* \n"
     ]
    }
   ],
   "source": [
    "def rectangle(n):\n",
    "     for k in range(0, 1):#does not make any thing only nested\n",
    "        for i in range(1, n+1):\n",
    "            print((\"* \"*i))\n",
    "        for j in range(n-1, 0, -1):\n",
    "            print(\"* \"*j)\n",
    "            \n",
    "rectangle(6)"
   ]
  },
  {
   "cell_type": "code",
   "execution_count": 175,
   "id": "9a224a97",
   "metadata": {},
   "outputs": [
    {
     "name": "stdout",
     "output_type": "stream",
     "text": [
      "dlrow ollah"
     ]
    }
   ],
   "source": [
    "def reverse(word):\n",
    "    for i in range(len(word)-1, -1, -1):\n",
    "        print(word[i], end=\"\")\n",
    "        \n",
    "reverse('hallo world')"
   ]
  },
  {
   "cell_type": "code",
   "execution_count": 177,
   "id": "04675b19",
   "metadata": {},
   "outputs": [
    {
     "name": "stdout",
     "output_type": "stream",
     "text": [
      "1 2 3 \n",
      "2 4 6 \n",
      "3 6 9 \n",
      "4 8 12 \n",
      "5 10 15 \n",
      "6 12 18 \n"
     ]
    }
   ],
   "source": [
    "def schedule(m, n):\n",
    "    for i in range(1, m+1):\n",
    "        for j in range(1, n+1):\n",
    "            print(i*j, end=\" \")\n",
    "        print()\n",
    "        \n",
    "schedule(6, 3)"
   ]
  },
  {
   "cell_type": "code",
   "execution_count": null,
   "id": "44225fee",
   "metadata": {},
   "outputs": [],
   "source": [
    "\"\"\"Task #5\"\"\"\n",
    "print(\"-\" * 15)\n",
    "\n",
    "word = input(\"Enter any sentence\")\n",
    "number_digits = 0\n",
    "number_string = 0\n",
    "for i in word:\n",
    "    if i.isalpha():\n",
    "        number_string += 1\n",
    "    elif i.isdigit():\n",
    "        number_digits += 1\n",
    "    else:\n",
    "        pass\n",
    "\n",
    "print(number_string, number_digits)\n",
    "# -----------------------------------------------------------------------\n",
    "\"\"\"Task #6\"\"\"\n",
    "print(\"-\" * 15)\n",
    "\n",
    "pas = input(\"Enter the password: \")\n",
    "count_small = 0\n",
    "count_capital = 0\n",
    "count_spetial_character = 0\n",
    "count_digit = 0\n",
    "for i in pas:\n",
    "    if i.isupper():\n",
    "        count_capital += 1\n",
    "    elif i.islower():\n",
    "        count_small += 1\n",
    "    elif i.isdigit():\n",
    "        count_digit += 1\n",
    "    elif i in \"$#@\":\n",
    "        count_spetial_character += 1\n",
    "    else:\n",
    "        continue\n",
    "\n",
    "if count_digit > 0 and count_spetial_character > 0 and count_capital > 0 and count_small > 0 and len(pas) > 7 and len(\n",
    "        pas) < 17:\n",
    "    print(\"dobro\")\n",
    "else:\n",
    "    print(\"nije dobro\")\n",
    "# -----------------------------------------------------------------------\n",
    "\"\"\"Task #7\"\"\"\n",
    "print(\"-\" * 15)\n",
    "\n",
    "for i in range(100, 401):\n",
    "    s = str(i)\n",
    "    if int(s[0]) % 2 == 0 and int(s[1]) % 2 == 0 and int(s[2]) % 2 == 0:\n",
    "        print(s, end=\",\")\n",
    "# -----------------------------------------------------------------------\n",
    "\"\"\"Task #8\"\"\"\n",
    "print(\"-\" * 15)\n",
    "\n",
    "for i in range(100, 401):\n",
    "    k = str(i)\n",
    "    if int(k[0]) % 2 == 0 and int(k[1]) % 2 == 0 and int(k[2]) % 2 == 0:\n",
    "        item.append(k)\n",
    "    else:\n",
    "        pass\n",
    "print(\",\".join(item))\n",
    "# -----------------------------------------------------------------------\n",
    "\"\"\"Task #8\"\"\"\n",
    "print(\"-\" * 15)\n",
    "x = input(\"Enter your born year\")\n",
    "\n",
    "if x in \"1924, 1936, 1948, 1960, 1972, 1984, 1996, 2008, 2020, 2032\":\n",
    "    print(\"Rat\t鼠 (shǔ)\")\n",
    "elif x in \"1925, 1937, 1949, 1961, 1973, 1985, 1997, 2009, 2021, 2033\":\n",
    "    print(\"Ox\t牛 (niú)\")\n",
    "elif x in \"1926, 1938, 1950, 1962, 1974, 1986, 1998, 2010, 2022, 2034\":\n",
    "    print(\"Tiger\t虎 (hǔ)\")\n",
    "elif x in \"1927, 1939, 1951, 1963, 1975, 1987, 1999, 2011, 2023, 2035\":\n",
    "    print(\"Rabbit\t兔 (tù)\")\n",
    "elif x in \"1928, 1940, 1952, 1964, 1976, 1988, 2000, 2012, 2024, 2036\":\n",
    "    print(\"Dragon\t龙 (lóng)\")\n",
    "elif x in \"1929, 1941, 1953, 1965, 1977, 1989, 2001, 2013, 2025, 2037\":\n",
    "    print(\"Snake\t蛇 (shé)\")\n",
    "elif x in \"1930, 1942, 1954, 1966, 1978, 1990, 2002, 2014, 2026, 2038\":\n",
    "    print(\"Horse\t马 (mǎ) \")\n",
    "elif x in \"1931, 1943, 1955, 1967, 1979, 1991, 2003, 2015, 2027, 2039\":\n",
    "    print(\"Sheep\t羊 (yáng)\")\n",
    "elif x in \"1932, 1944, 1956, 1968, 1980, 1992, 2004, 2016, 2028, 2040\":\n",
    "    print(\"Monkey\t猴 (hóu)\")\n",
    "elif x in \"1933, 1945, 1957, 1969, 1981, 1993, 2005, 2017, 2029, 2041\":\n",
    "    print(\"Rooster\t鸡 (jī)\")\n",
    "elif x in \"1934, 1946, 1958, 1970, 1982, 1994, 2006, 2018, 2030, 2042\":\n",
    "    print(\"Dog\t狗 (gǒu)\")\n",
    "elif x in \"1935, 1947, 1959, 1971, 1983, 1995, 2007, 2019, 2031, 2043\":\n",
    "    print(\"Pig\t猪 (zhū)\")\n",
    "else:\n",
    "    print(\"out of the range\")\n",
    "# -----------------------------------------------------------------------\n",
    "\"\"\"Task #9\"\"\"\n",
    "print(\"-\" * 15)\n",
    "\n",
    "a = int(input(\"Enter the first side from the triangle: \"))\n",
    "b = int(input(\"Enter the second side from the triangle: \"))\n",
    "c = int(input(\"Enter the third side from the triangle: \"))\n",
    "if a == b and a == c:  # we shouldn't write b == c because both are equal And therefore equal\n",
    "    print(\"This is an equilateral triangle\")\n",
    "elif a != b and a != c and b != c:\n",
    "    print(\"This is a scalene triangle\")\n",
    "elif a == b:\n",
    "    print(\"This is an isosceles triangle\")\n",
    "else:\n",
    "    print(\"out of the range\")\n",
    "# -----------------------------------------------------------------------\n",
    "\"\"\"Task #10\"\"\"\n",
    "print(\"-\" * 15)\n",
    "\n",
    "# paper\n",
    "\n",
    "# -----------------------------------------------------------------------\n",
    "\"\"\"Task #11\"\"\"\n",
    "print(\"-\" * 15)\n",
    "\n",
    "a, b, c = 0, 0, 0\n",
    "for a in range(0, 10):\n",
    "    for b in range(0, 10):\n",
    "        for c in range(0, 10):\n",
    "            print(a, b, c, sep=\"\")\n",
    "# -----------------------------------------------------------------------\n",
    "\"\"\"Task #12\"\"\"\n",
    "print(\"-\" * 15)\n",
    "\n",
    "first = int(input(\"Enter the first number: \"))\n",
    "second = int(input(\"Enter the second number: \"))\n",
    "for i in range(0, second):\n",
    "    x = i * first\n",
    "    print(first, \"X\", i, \"=\", x)\n",
    "# -----------------------------------------------------------------------\n",
    "\"\"\"Task #13\"\"\"\n",
    "print(\"-\" * 15)\n",
    "\n",
    "x = 0\n",
    "y = 0\n",
    "i = \"done\"\n",
    "while x != i:\n",
    "    x = input(\"Enter the numbers: \")\n",
    "    if x != i:\n",
    "        y += int(x)\n",
    "    elif x == i:\n",
    "        break\n",
    "    else:\n",
    "        continue\n",
    "\n",
    "print(y)\n",
    "# -----------------------------------------------------------------------\n",
    "\"\"\"Task #14\"\"\"\n",
    "print(\"-\" * 15)\n",
    "\n",
    "x = int(input(\"Enter the number: \"))\n",
    "y = 1\n",
    "for i in range(1, x + 1):\n",
    "    y *= i\n",
    "\n",
    "print(y)\n",
    "# -----------------------------------------------------------------------\n",
    "\"\"\"Task #15\"\"\"\n",
    "print(\"-\" * 15)\n",
    "\n",
    "j = 0\n",
    "for i in range(1, 11):\n",
    "    x = input(\"Enter the number: \")\n",
    "    j += int(x)\n",
    "\n",
    "print(\"The avarage is\", j / 10, \"and the sum of numbers is\", j)\n",
    "# -----------------------------------------------------------------------\n",
    "\"\"\"Task #16\"\"\"\n",
    "print(\"-\" * 15)\n",
    "\n",
    "# -----------------------------------------------------------------------\n",
    "\"\"\"Task #17\"\"\"\n",
    "print(\"-\" * 15)\n",
    "\n",
    "odd = 0\n",
    "even = 0\n",
    "x = int(input(\"Enter the number\"))\n",
    "for i in range(0, x + 1):\n",
    "    if i % 2 == 0:\n",
    "        even += i\n",
    "    else:\n",
    "        odd += i\n",
    "\n",
    "print(even / odd)\n",
    "# -----------------------------------------------------------------------\n",
    "\"\"\"Task #18\"\"\"\n",
    "print(\"-\" * 15)\n",
    "\n",
    "for i in range(1, 6):\n",
    "    for k in range(i):\n",
    "        print((i + k) % 2, end=\"\")\n",
    "    print()\n"
   ]
  },
  {
   "cell_type": "code",
   "execution_count": 190,
   "id": "687e8f21",
   "metadata": {},
   "outputs": [
    {
     "name": "stdout",
     "output_type": "stream",
     "text": [
      "and number of letters is 4 number of digits is 2\n"
     ]
    }
   ],
   "source": [
    "def calculate(word):\n",
    "    x = 0\n",
    "    y = 0\n",
    "    for i in word:\n",
    "        if i.isalpha():\n",
    "            x += 1\n",
    "        elif i.isdigit():\n",
    "            y += 1\n",
    "#         else:\n",
    "#             pass\n",
    "    return print(\"and number of letters is\", x,\"number of digits is\", y)\n",
    "\n",
    "\n",
    "calculate('s=f@ga21')"
   ]
  },
  {
   "cell_type": "code",
   "execution_count": 197,
   "id": "b849f46b",
   "metadata": {},
   "outputs": [
    {
     "ename": "SyntaxError",
     "evalue": "EOL while scanning string literal (235371053.py, line 23)",
     "output_type": "error",
     "traceback": [
      "\u001b[1;36m  File \u001b[1;32m\"C:\\Users\\User\\AppData\\Local\\Temp\\ipykernel_2028\\235371053.py\"\u001b[1;36m, line \u001b[1;32m23\u001b[0m\n\u001b[1;33m    pas(\"worl2141\u001b[0m\n\u001b[1;37m                 ^\u001b[0m\n\u001b[1;31mSyntaxError\u001b[0m\u001b[1;31m:\u001b[0m EOL while scanning string literal\n"
     ]
    }
   ],
   "source": []
  },
  {
   "cell_type": "code",
   "execution_count": 192,
   "id": "21aeacb4",
   "metadata": {},
   "outputs": [
    {
     "name": "stdout",
     "output_type": "stream",
     "text": [
      "<function hi at 0x00000284820B63A0>\n"
     ]
    }
   ],
   "source": [
    "u = 0\n",
    "l = 0\n",
    "d = 0\n",
    "s = 0\n",
    "if u>=0:\n",
    "    print(hi)"
   ]
  },
  {
   "cell_type": "code",
   "execution_count": 201,
   "id": "ed98a37b",
   "metadata": {},
   "outputs": [
    {
     "name": "stdout",
     "output_type": "stream",
     "text": [
      "your password is correct\n"
     ]
    }
   ],
   "source": [
    "def pas(wo):\n",
    "    u = 0\n",
    "    l = 0\n",
    "    d = 0\n",
    "    s = 0\n",
    "    for i in wo:\n",
    "        if i.isupper():\n",
    "            u += 1\n",
    "        elif i.islower():\n",
    "            l += 1\n",
    "        elif i.isdigit():\n",
    "            d += 1\n",
    "        elif i in \"$#@\":\n",
    "            s += 1\n",
    "        else:\n",
    "            pass\n",
    "    if u >= 1 and l >= 1 and d >= 1 and s >= 1 and len(wo)  >= 6 and len(wo) <= 16:\n",
    "        print(\"your password is correct\")\n",
    "    else:\n",
    "        print(\"your password is not correct\")\n",
    "        \n",
    "        \n",
    "pas(\"worl2@1441A\")"
   ]
  },
  {
   "cell_type": "code",
   "execution_count": 225,
   "id": "91e4a0b2",
   "metadata": {},
   "outputs": [
    {
     "name": "stdout",
     "output_type": "stream",
     "text": [
      "200, 202, 204, 206, 208, 220, 222, 224, 226, 228, 240, 242, 244, 246, 248, 260, 262, 264, 266, 268, 280, 282, 284, 286, 288, 400, "
     ]
    }
   ],
   "source": [
    "def even(s, e):\n",
    "    for i in range(s,e+1):\n",
    "        b = str(i)\n",
    "        if int(b[0])%2 == 0 and  int(b[1])%2 == 0 and  int(b[2])%2 == 0:\n",
    "            print(b, end=\", \")\n",
    "        else:\n",
    "            pass\n",
    "        \n",
    "        \n",
    "even(100,401)"
   ]
  },
  {
   "cell_type": "code",
   "execution_count": 223,
   "id": "743bc36d",
   "metadata": {},
   "outputs": [
    {
     "ename": "SyntaxError",
     "evalue": "cannot assign to function call (3271089426.py, line 2)",
     "output_type": "error",
     "traceback": [
      "\u001b[1;36m  File \u001b[1;32m\"C:\\Users\\User\\AppData\\Local\\Temp\\ipykernel_2028\\3271089426.py\"\u001b[1;36m, line \u001b[1;32m2\u001b[0m\n\u001b[1;33m    str(b) = i\u001b[0m\n\u001b[1;37m    ^\u001b[0m\n\u001b[1;31mSyntaxError\u001b[0m\u001b[1;31m:\u001b[0m cannot assign to function call\n"
     ]
    }
   ],
   "source": [
    "for i in range(100, 401):\n",
    "    str(b) = i\n",
    "    if int(b[0]) % 2 == 0 and int(b[1]) % 2 == 0 and int(b[2]) % 2 == 0:\n",
    "        print(s, sep=\", \")\n",
    "    else:\n",
    "        pass\n"
   ]
  },
  {
   "cell_type": "code",
   "execution_count": 227,
   "id": "704ed337",
   "metadata": {},
   "outputs": [
    {
     "name": "stdout",
     "output_type": "stream",
     "text": [
      "200, 202, 204, 206, 208, 220, 222, 224, 226, 228, 240, 242, 244, 246, 248, 260, 262, 264, 266, 268, 280, 282, 284, 286, 288, 400, "
     ]
    }
   ],
   "source": [
    "def even(s, e):\n",
    "    for i in range(s, e+1):\n",
    "        t = str(i)\n",
    "        if int(t[0]) % 2 == 0 and int(t[1]) % 2 == 0 and int(t[2]) % 2 == 0:\n",
    "            print(t, end = \", \")\n",
    "        else:\n",
    "            pass\n",
    "    \n",
    "even(100, 400)"
   ]
  },
  {
   "cell_type": "code",
   "execution_count": 233,
   "id": "d99fd192",
   "metadata": {},
   "outputs": [
    {
     "name": "stdout",
     "output_type": "stream",
     "text": [
      "Tiger\t虎 (hǔ)\n"
     ]
    }
   ],
   "source": [
    "def Chinese(x):\n",
    "    x = str(x)\n",
    "    if x in \"1924, 1936, 1948, 1960, 1972, 1984, 1996, 2008, 2020, 2032\":\n",
    "        return(\"Rat\t鼠 (shǔ)\")\n",
    "    elif x in \"1925, 1937, 1949, 1961, 1973, 1985, 1997, 2009, 2021, 2033\":\n",
    "        return(\"Ox\t牛 (niú)\")\n",
    "    elif x in \"1926, 1938, 1950, 1962, 1974, 1986, 1998, 2010, 2022, 2034\":\n",
    "        return(\"Tiger\t虎 (hǔ)\")\n",
    "    elif x in \"1927, 1939, 1951, 1963, 1975, 1987, 1999, 2011, 2023, 2035\":\n",
    "        return(\"Rabbit\t兔 (tù)\")\n",
    "    elif x in \"1928, 1940, 1952, 1964, 1976, 1988, 2000, 2012, 2024, 2036\":\n",
    "        return(\"Dragon\t龙 (lóng)\")\n",
    "    elif x in \"1929, 1941, 1953, 1965, 1977, 1989, 2001, 2013, 2025, 2037\":\n",
    "        return(\"Snake\t蛇 (shé)\")\n",
    "    elif x in \"1930, 1942, 1954, 1966, 1978, 1990, 2002, 2014, 2026, 2038\":\n",
    "        return(\"Horse\t马 (mǎ) \")\n",
    "    elif x in \"1931, 1943, 1955, 1967, 1979, 1991, 2003, 2015, 2027, 2039\":\n",
    "        return(\"Sheep\t羊 (yáng)\")\n",
    "    elif x in \"1932, 1944, 1956, 1968, 1980, 1992, 2004, 2016, 2028, 2040\":\n",
    "        return(\"Monkey\t猴 (hóu)\")\n",
    "    elif x in \"1933, 1945, 1957, 1969, 1981, 1993, 2005, 2017, 2029, 2041\":\n",
    "        return(\"Rooster\t鸡 (jī)\")\n",
    "    elif x in \"1934, 1946, 1958, 1970, 1982, 1994, 2006, 2018, 2030, 2042\":\n",
    "        return(\"Dog\t狗 (gǒu)\")\n",
    "    elif x in \"1935, 1947, 1959, 1971, 1983, 1995, 2007, 2019, 2031, 2043\":\n",
    "        return(\"Pig\t猪 (zhū)\")\n",
    "    else:\n",
    "        print(\"out of the range\")\n",
    "        \n",
    "    \n",
    "print(Chinese(1950))"
   ]
  },
  {
   "cell_type": "code",
   "execution_count": 235,
   "id": "f46525e8",
   "metadata": {},
   "outputs": [
    {
     "name": "stdout",
     "output_type": "stream",
     "text": [
      "Enter the side:3\n",
      "Enter the side:3\n",
      "Enter the side:1\n"
     ]
    },
    {
     "data": {
      "text/plain": [
       "'This is an isosceles triangle.'"
      ]
     },
     "execution_count": 235,
     "metadata": {},
     "output_type": "execute_result"
    }
   ],
   "source": [
    "def findTraingleKind(a, b, c):\n",
    "    if a == b and a == c:\n",
    "        return\"This is an equilateral triangle.\"\n",
    "    elif a != b and a != c and b != c:\n",
    "        return\"This is a scalene triangle.\"\n",
    "    elif a == b or c == b or c == a:\n",
    "        return\"This is an isosceles triangle.\"\n",
    "    else:\n",
    "        pass\n",
    "    \n",
    "a = int(input(\"Enter the side:\"))\n",
    "b = int(input(\"Enter the side:\"))\n",
    "c = int(input(\"Enter the side:\"))\n",
    "\n",
    "findTraingleKind(a, b, c)"
   ]
  },
  {
   "cell_type": "code",
   "execution_count": 255,
   "id": "e0cb4b05",
   "metadata": {},
   "outputs": [
    {
     "name": "stdout",
     "output_type": "stream",
     "text": [
      "000,001,002,003,004,005,006,007,008,009,010,011,012,013,014,015,016,017,018,019,020,021,022,023,024,025,026,027,028,029,030,031,032,033,034,035,036,037,038,039,040,041,042,043,044,045,046,047,048,049,050,051,052,053,054,055,056,057,058,059,060,061,062,063,064,065,066,067,068,069,070,071,072,073,074,075,076,077,078,079,080,081,082,083,084,085,086,087,088,089,090,091,092,093,094,095,096,097,098,099,100,101,102,103,104,105,106,107,108,109,110,111,112,113,114,115,116,117,118,119,120,121,122,123,124,125,126,127,128,129,130,131,132,133,134,135,136,137,138,139,140,141,142,143,144,145,146,147,148,149,150,151,152,153,154,155,156,157,158,159,160,161,162,163,164,165,166,167,168,169,170,171,172,173,174,175,176,177,178,179,180,181,182,183,184,185,186,187,188,189,190,191,192,193,194,195,196,197,198,199,200,201,202,203,204,205,206,207,208,209,210,211,212,213,214,215,216,217,218,219,220,221,222,223,224,225,226,227,228,229,230,231,232,233,234,235,236,237,238,239,240,241,242,243,244,245,246,247,248,249,250,251,252,253,254,255,256,257,258,259,260,261,262,263,264,265,266,267,268,269,270,271,272,273,274,275,276,277,278,279,280,281,282,283,284,285,286,287,288,289,290,291,292,293,294,295,296,297,298,299,300,301,302,303,304,305,306,307,308,309,310,311,312,313,314,315,316,317,318,319,320,321,322,323,324,325,326,327,328,329,330,331,332,333,334,335,336,337,338,339,340,341,342,343,344,345,346,347,348,349,350,351,352,353,354,355,356,357,358,359,360,361,362,363,364,365,366,367,368,369,370,371,372,373,374,375,376,377,378,379,380,381,382,383,384,385,386,387,388,389,390,391,392,393,394,395,396,397,398,399,400,401,402,403,404,405,406,407,408,409,410,411,412,413,414,415,416,417,418,419,420,421,422,423,424,425,426,427,428,429,430,431,432,433,434,435,436,437,438,439,440,441,442,443,444,445,446,447,448,449,450,451,452,453,454,455,456,457,458,459,460,461,462,463,464,465,466,467,468,469,470,471,472,473,474,475,476,477,478,479,480,481,482,483,484,485,486,487,488,489,490,491,492,493,494,495,496,497,498,499,500,501,502,503,504,505,506,507,508,509,510,511,512,513,514,515,516,517,518,519,520,521,522,523,524,525,526,527,528,529,530,531,532,533,534,535,536,537,538,539,540,541,542,543,544,545,546,547,548,549,550,551,552,553,554,555,556,557,558,559,560,561,562,563,564,565,566,567,568,569,570,571,572,573,574,575,576,577,578,579,580,581,582,583,584,585,586,587,588,589,590,591,592,593,594,595,596,597,598,599,600,601,602,603,604,605,606,607,608,609,610,611,612,613,614,615,616,617,618,619,620,621,622,623,624,625,626,627,628,629,630,631,632,633,634,635,636,637,638,639,640,641,642,643,644,645,646,647,648,649,650,651,652,653,654,655,656,657,658,659,660,661,662,663,664,665,666,667,668,669,670,671,672,673,674,675,676,677,678,679,680,681,682,683,684,685,686,687,688,689,690,691,692,693,694,695,696,697,698,699,700,701,702,703,704,705,706,707,708,709,710,711,712,713,714,715,716,717,718,719,720,721,722,723,724,725,726,727,728,729,730,731,732,733,734,735,736,737,738,739,740,741,742,743,744,745,746,747,748,749,750,751,752,753,754,755,756,757,758,759,760,761,762,763,764,765,766,767,768,769,770,771,772,773,774,775,776,777,778,779,780,781,782,783,784,785,786,787,788,789,790,791,792,793,794,795,796,797,798,799,800,801,802,803,804,805,806,807,808,809,810,811,812,813,814,815,816,817,818,819,820,821,822,823,824,825,826,827,828,829,830,831,832,833,834,835,836,837,838,839,840,841,842,843,844,845,846,847,848,849,850,851,852,853,854,855,856,857,858,859,860,861,862,863,864,865,866,867,868,869,870,871,872,873,874,875,876,877,878,879,880,881,882,883,884,885,886,887,888,889,890,891,892,893,894,895,896,897,898,899,900,901,902,903,904,905,906,907,908,909,910,911,912,913,914,915,916,917,918,919,920,921,922,923,924,925,926,927,928,929,930,931,932,933,934,935,936,937,938,939,940,941,942,943,944,945,946,947,948,949,950,951,952,953,954,955,956,957,958,959,960,961,962,963,964,965,966,967,968,969,970,971,972,973,974,975,976,977,978,979,980,981,982,983,984,985,986,987,988,989,990,991,992,993,994,995,996,997,998,999,"
     ]
    }
   ],
   "source": [
    "def out(a, b, c):\n",
    "    for a in range(10):\n",
    "        for b in range(10):\n",
    "            for c in range(10):\n",
    "                print(a,b,c,sep=\"\",end=\",\")\n",
    "            \n",
    "\n",
    "out(0, 0, 0)"
   ]
  },
  {
   "cell_type": "code",
   "execution_count": 250,
   "id": "f206092a",
   "metadata": {},
   "outputs": [
    {
     "name": "stdout",
     "output_type": "stream",
     "text": [
      "15  X  1  =  15\n",
      "15  X  2  =  30\n",
      "15  X  3  =  45\n",
      "15  X  4  =  60\n",
      "15  X  5  =  75\n",
      "15  X  6  =  90\n",
      "15  X  7  =  105\n",
      "15  X  8  =  120\n",
      "15  X  9  =  135\n",
      "\n"
     ]
    }
   ],
   "source": [
    "def multiply(x,no_numbers):\n",
    "    for i in range (1,no_numbers+1):\n",
    "        print(x , ' X ' , i , ' = ' , x*i )\n",
    "    return ''\n",
    "\n",
    "print(multiply(15,10))"
   ]
  },
  {
   "cell_type": "code",
   "execution_count": 257,
   "id": "b3909d02",
   "metadata": {},
   "outputs": [
    {
     "name": "stdout",
     "output_type": "stream",
     "text": [
      "15 X 1 = 15\n",
      "15 X 2 = 30\n",
      "15 X 3 = 45\n",
      "15 X 4 = 60\n",
      "15 X 5 = 75\n",
      "15 X 6 = 90\n",
      "15 X 7 = 105\n",
      "15 X 8 = 120\n",
      "15 X 9 = 135\n",
      "15 X 10 = 150\n"
     ]
    }
   ],
   "source": [
    "def multiplication(X,no_numbers):\n",
    "    for i in range(1,no_numbers+1):\n",
    "        print(X, \"X\", i, \"=\", X*i)\n",
    "        \n",
    "        \n",
    "multiplication(15, 10)"
   ]
  },
  {
   "cell_type": "code",
   "execution_count": 258,
   "id": "0eb3c523",
   "metadata": {},
   "outputs": [
    {
     "name": "stdout",
     "output_type": "stream",
     "text": [
      "Enter the number15\n",
      "Enter the number10\n",
      "15 X 1 = 15\n",
      "15 X 2 = 30\n",
      "15 X 3 = 45\n",
      "15 X 4 = 60\n",
      "15 X 5 = 75\n",
      "15 X 6 = 90\n",
      "15 X 7 = 105\n",
      "15 X 8 = 120\n",
      "15 X 9 = 135\n",
      "15 X 10 = 150\n"
     ]
    }
   ],
   "source": [
    "def multiplication(X, no_numbers):\n",
    "    for i in range(1, no_numbers + 1):\n",
    "        print(X, \"X\", i, \"=\", X * i)\n",
    "\n",
    "e = int(input(\"Enter the number\"))\n",
    "c = int(input(\"Enter the number\"))\n",
    "multiplication(e, c)"
   ]
  },
  {
   "cell_type": "code",
   "execution_count": 5,
   "id": "f5216b95",
   "metadata": {},
   "outputs": [
    {
     "name": "stdout",
     "output_type": "stream",
     "text": [
      "Enter the number: 3\n",
      "Enter the number: 3\n",
      "Enter the number: 3\n",
      "Enter the number: 3\n",
      "Enter the number: done\n"
     ]
    },
    {
     "data": {
      "text/plain": [
       "12"
      ]
     },
     "execution_count": 5,
     "metadata": {},
     "output_type": "execute_result"
    }
   ],
   "source": [
    "def sum(x):\n",
    "    p = 0\n",
    "    while x.lower() not in \"done\":\n",
    "        x = input(\"Enter the number: \")\n",
    "        if x.lower() in \"done\":\n",
    "            return p\n",
    "        else:\n",
    "            p = int(x) + int(p)\n",
    "\n",
    "sum(\"start\")"
   ]
  },
  {
   "cell_type": "code",
   "execution_count": 280,
   "id": "2742afb7",
   "metadata": {},
   "outputs": [
    {
     "data": {
      "text/plain": [
       "0"
      ]
     },
     "execution_count": 280,
     "metadata": {},
     "output_type": "execute_result"
    }
   ],
   "source": [
    "123456789%1"
   ]
  },
  {
   "cell_type": "code",
   "execution_count": 273,
   "id": "c071e3e6",
   "metadata": {},
   "outputs": [
    {
     "data": {
      "text/plain": [
       "4"
      ]
     },
     "execution_count": 273,
     "metadata": {},
     "output_type": "execute_result"
    }
   ],
   "source": [
    "36%8"
   ]
  },
  {
   "cell_type": "code",
   "execution_count": 275,
   "id": "84705b58",
   "metadata": {},
   "outputs": [
    {
     "name": "stdout",
     "output_type": "stream",
     "text": [
      "12345678\n"
     ]
    }
   ],
   "source": [
    "n= 123456789\n",
    "print(n // 10)"
   ]
  },
  {
   "cell_type": "code",
   "execution_count": 277,
   "id": "0c702d0f",
   "metadata": {},
   "outputs": [
    {
     "name": "stdout",
     "output_type": "stream",
     "text": [
      "Enter the number: 5\n",
      "120\n"
     ]
    }
   ],
   "source": [
    "x = int(input(\"Enter the number: \"))\n",
    "y = 1\n",
    "for i in range(1, x + 1):\n",
    "    y *= i\n",
    "\n",
    "print(y)"
   ]
  },
  {
   "cell_type": "code",
   "execution_count": 276,
   "id": "7070d3e1",
   "metadata": {},
   "outputs": [
    {
     "data": {
      "text/plain": [
       "120"
      ]
     },
     "execution_count": 276,
     "metadata": {},
     "output_type": "execute_result"
    }
   ],
   "source": [
    "def factorial(n):\n",
    "    y=1\n",
    "    for i in range(1,n+1):\n",
    "        y *= i\n",
    "    return y\n",
    "\n",
    "factorial(5)"
   ]
  },
  {
   "cell_type": "code",
   "execution_count": null,
   "id": "38af96e0",
   "metadata": {},
   "outputs": [],
   "source": [
    "def calculate(word):\n",
    "    f = len(word)\n",
    "    "
   ]
  },
  {
   "cell_type": "code",
   "execution_count": 8,
   "id": "db8cdb06",
   "metadata": {},
   "outputs": [
    {
     "data": {
      "text/plain": [
       "5040"
      ]
     },
     "execution_count": 8,
     "metadata": {},
     "output_type": "execute_result"
    }
   ],
   "source": [
    "def factorial(n):\n",
    "    t = 1\n",
    "    f = 1\n",
    "    for i in range(1,n+1):\n",
    "        f = i\n",
    "        t *= f \n",
    "    return t\n",
    "\n",
    "\n",
    "factorial(7)"
   ]
  },
  {
   "cell_type": "code",
   "execution_count": 9,
   "id": "3b0d05ae",
   "metadata": {},
   "outputs": [
    {
     "data": {
      "text/plain": [
       "5040"
      ]
     },
     "execution_count": 9,
     "metadata": {},
     "output_type": "execute_result"
    }
   ],
   "source": [
    "2*1*3*4*5*6*7"
   ]
  },
  {
   "cell_type": "code",
   "execution_count": 11,
   "id": "0191d8cb",
   "metadata": {},
   "outputs": [
    {
     "name": "stdout",
     "output_type": "stream",
     "text": [
      "Enter the number here: 10\n",
      "Enter the number here: 10\n",
      "Enter the number here: 10\n",
      "Enter the number here: 10\n",
      "Enter the number here: 10\n",
      "Enter the number here: 140\n",
      "Enter the number here: 10\n",
      "Enter the number here: 10\n",
      "Enter the number here: 10\n",
      "Enter the number here: 10\n"
     ]
    },
    {
     "data": {
      "text/plain": [
       "('sum of numbers is', 230, 'average of numbers is', 23.0)"
      ]
     },
     "execution_count": 11,
     "metadata": {},
     "output_type": "execute_result"
    }
   ],
   "source": [
    "def sum(n):\n",
    "    y = 0\n",
    "    for i in range(n):\n",
    "        x = int(input(\"Enter the number here: \" ))\n",
    "        y += x\n",
    "    return \"sum of numbers is\", y,\"average of numbers is\", y/10\n",
    "sum(10)"
   ]
  },
  {
   "cell_type": "code",
   "execution_count": 26,
   "id": "20e45e00",
   "metadata": {},
   "outputs": [
    {
     "name": "stdout",
     "output_type": "stream",
     "text": [
      "1\n",
      "01\n",
      "101\n",
      "0101\n",
      "10101\n"
     ]
    }
   ],
   "source": [
    "def Number_of_rows(n):\n",
    "    for i in range(1,n+1):\n",
    "        for g in range(0, i):\n",
    "            print((g+i) % 2,end=\"\")\n",
    "        print()\n",
    "        \n",
    "            \n",
    "Number_of_rows(5)"
   ]
  },
  {
   "cell_type": "code",
   "execution_count": 30,
   "id": "c3c9eb4c",
   "metadata": {},
   "outputs": [
    {
     "data": {
      "text/plain": [
       "('The sum of numbers is', 1045, 'and the number of numbers is ', 19)"
      ]
     },
     "execution_count": 30,
     "metadata": {},
     "output_type": "execute_result"
    }
   ],
   "source": [
    "def perfect(x, y, z):\n",
    "    a = 0\n",
    "    k = 0\n",
    "    for i in range(x,y+1):\n",
    "        if i % z == 0:\n",
    "            a += i\n",
    "            k += 1\n",
    "        else:\n",
    "            continue\n",
    "    return \"The sum of numbers is\",a ,\"and the number of numbers is \", k\n",
    "    \n",
    "perfect(10,100,5)"
   ]
  },
  {
   "cell_type": "code",
   "execution_count": 34,
   "id": "fdd5ce15",
   "metadata": {},
   "outputs": [
    {
     "data": {
      "text/plain": [
       "'This is a right angled triangle'"
      ]
     },
     "execution_count": 34,
     "metadata": {},
     "output_type": "execute_result"
    }
   ],
   "source": [
    "def triangle(a,b,c):\n",
    "    if a <= 0 or b <= 0 or c <= 0:\n",
    "        return \"This is not a triangle\"\n",
    "    elif (a**2 + b**2)**0.5 == c:\n",
    "        return \"This is a right angled triangle\"\n",
    "\n",
    "    else:\n",
    "        return \"This is not a right angled triangle\"\n",
    "\n",
    "    \n",
    "triangle(4,3,5)"
   ]
  },
  {
   "cell_type": "code",
   "execution_count": 37,
   "id": "68ea2227",
   "metadata": {},
   "outputs": [
    {
     "name": "stdout",
     "output_type": "stream",
     "text": [
      "Hello World\n",
      "Hello World\n",
      "Hello World\n",
      "Hello World\n",
      "Hello World\n",
      "Hello student\n",
      "Hello World\n",
      "Hello World\n",
      "Hello World\n",
      "Hello World\n",
      "Hello World\n",
      "Hello student\n",
      "Hello World\n",
      "Hello World\n",
      "Hello World\n",
      "Hello World\n",
      "Hello World\n",
      "Hello student\n",
      "Hello World\n",
      "Hello World\n",
      "Hello World\n",
      "Hello World\n",
      "Hello World\n",
      "Hello student\n",
      "Hello everyone\n"
     ]
    }
   ],
   "source": [
    "for x in range(4):\n",
    "    for y in range (5):\n",
    "        print('Hello World')\n",
    "    print('Hello student')\n",
    "print('Hello everyone')\n"
   ]
  },
  {
   "cell_type": "code",
   "execution_count": 38,
   "id": "8f00729f",
   "metadata": {},
   "outputs": [
    {
     "data": {
      "text/plain": [
       "36"
      ]
     },
     "execution_count": 38,
     "metadata": {},
     "output_type": "execute_result"
    }
   ],
   "source": [
    "10+2+10+14"
   ]
  },
  {
   "cell_type": "code",
   "execution_count": 40,
   "id": "6e3f64d5",
   "metadata": {},
   "outputs": [
    {
     "name": "stdout",
     "output_type": "stream",
     "text": [
      "Enter the number:5\n",
      "Enter any number: 5\n",
      "Enter any number: 3\n",
      "Enter any number: 2\n",
      "Enter any number: 1\n",
      "Enter any number: 2\n",
      "Enter any number: 0\n"
     ]
    },
    {
     "data": {
      "text/plain": [
       "('The product of all even numbers is',\n",
       " 4,\n",
       " 'and the sum of all odd numbers is',\n",
       " 14)"
      ]
     },
     "execution_count": 40,
     "metadata": {},
     "output_type": "execute_result"
    }
   ],
   "source": [
    "def sumproduct(m):\n",
    "    odd = 0\n",
    "    even = 1\n",
    "    while m != 0:\n",
    "        if m % 2 == 0:\n",
    "            even *= m\n",
    "        elif m % 2 == 1:\n",
    "            odd += m\n",
    "        else:\n",
    "            pass\n",
    "        m = int(input(\"Enter any number: \"))\n",
    "    return \"The product of all even numbers is\",even,\"and the sum of all odd numbers is\",odd\n",
    "\n",
    "\n",
    "sumproduct(int(input(\"Enter the number:\")))"
   ]
  },
  {
   "cell_type": "code",
   "execution_count": 42,
   "id": "a3b54c56",
   "metadata": {},
   "outputs": [
    {
     "name": "stdout",
     "output_type": "stream",
     "text": [
      "l\n",
      "g\n",
      "o\n",
      " \n",
      "o\n"
     ]
    }
   ],
   "source": [
    "s = \"long long story\"\n",
    "for i in range(len(s)):\n",
    "    if i % 3 == 0:\n",
    "        print(s[i])"
   ]
  },
  {
   "cell_type": "code",
   "execution_count": 43,
   "id": "093b8b1b",
   "metadata": {},
   "outputs": [
    {
     "name": "stdout",
     "output_type": "stream",
     "text": [
      " \n",
      "o\n",
      "b\n",
      " \n",
      "o\n",
      "o\n"
     ]
    }
   ],
   "source": [
    "t = \" bonobo\"\n",
    "s = t[:-3] + t[1:3]+t[:5]\n",
    "for i in range(len(s)):\n",
    "    if i % 2 == 0:\n",
    "        print(s[i])\n"
   ]
  },
  {
   "cell_type": "code",
   "execution_count": 45,
   "id": "9a830b11",
   "metadata": {},
   "outputs": [
    {
     "name": "stdout",
     "output_type": "stream",
     "text": [
      " bonbo bono\n"
     ]
    }
   ],
   "source": [
    "t = \" bonobo\"\n",
    "s = t[:-3] + t[1:3]+t[:5]\n",
    "print(s)"
   ]
  },
  {
   "cell_type": "code",
   "execution_count": 46,
   "id": "411d79ef",
   "metadata": {},
   "outputs": [
    {
     "name": "stdout",
     "output_type": "stream",
     "text": [
      "l\n",
      "d\n",
      "a\n",
      "i\n",
      "d\n",
      "a\n",
      "i\n"
     ]
    }
   ],
   "source": [
    "t = \"landinafrica\"\n",
    "s = t[:-2] + t[1:]\n",
    "for i in range(len(s)):\n",
    "    if i % 3 == 0:\n",
    "        print(s[i])"
   ]
  },
  {
   "cell_type": "code",
   "execution_count": null,
   "id": "9fd32ac4",
   "metadata": {},
   "outputs": [],
   "source": [
    "landinafriandinafrica"
   ]
  },
  {
   "cell_type": "code",
   "execution_count": null,
   "id": "db643f79",
   "metadata": {},
   "outputs": [],
   "source": [
    "12"
   ]
  },
  {
   "cell_type": "code",
   "execution_count": null,
   "id": "b9209f76",
   "metadata": {},
   "outputs": [],
   "source": [
    "def "
   ]
  },
  {
   "cell_type": "code",
   "execution_count": 50,
   "id": "e1b1243b",
   "metadata": {},
   "outputs": [
    {
     "name": "stdout",
     "output_type": "stream",
     "text": [
      "No. of words : 5\n"
     ]
    }
   ],
   "source": [
    "OUT = 0\n",
    "IN = 1\n",
    "\n",
    "def countWords(string):\n",
    "\tstate = OUT\n",
    "\twc = 0\n",
    "\n",
    "\tfor i in range(len(string)):\n",
    "\n",
    "\t\t# If next character is a separator,\n",
    "\t\t# set the state as OUT\n",
    "\t\tif (string[i] == ' ' or string[i] == '\\n' or\n",
    "\t\t\tstring[i] == '\\t'):\n",
    "\t\t\tstate = OUT\n",
    "\n",
    "\t\t# If next character is not a word\n",
    "\t\t# separator and state is OUT, then\n",
    "\t\t# set the state as IN and increment\n",
    "\t\t# word count\n",
    "\t\telif state == OUT:\n",
    "\t\t\tstate = IN\n",
    "\t\t\twc += 1\n",
    "\n",
    "\t# Return the number of words\n",
    "\treturn wc\n",
    "\n",
    "# Driver Code\n",
    "string = \"One two three\\n four\\tfive \"\n",
    "print(\"No. of words : \" + str(countWords(string)))\n",
    "\n",
    "# This code is contributed by BHAVYA JAIN\n"
   ]
  },
  {
   "cell_type": "code",
   "execution_count": 48,
   "id": "dd743bb3",
   "metadata": {},
   "outputs": [
    {
     "name": "stdout",
     "output_type": "stream",
     "text": [
      "1\n",
      "01\n",
      "101\n",
      "0101\n",
      "10101\n"
     ]
    }
   ],
   "source": [
    "def triangle(m):\n",
    "    for i in range(1, m+1):\n",
    "        for j in range(0, i):\n",
    "            print((i+j)%2, end=\"\")\n",
    "        print()\n",
    "    \n",
    "    \n",
    "triangle(5)"
   ]
  },
  {
   "cell_type": "code",
   "execution_count": 14,
   "id": "5a654b79",
   "metadata": {},
   "outputs": [
    {
     "name": "stdout",
     "output_type": "stream",
     "text": [
      "4\n",
      "3\n",
      "2\n"
     ]
    }
   ],
   "source": [
    "def countYZ(m):\n",
    "    s = 0\n",
    "    for i in range(len(m)):\n",
    "        if m[i] == \" \":\n",
    "            if m[i-1] in \"zy\":\n",
    "                s += 1\n",
    "            else:\n",
    "                pass\n",
    "        else:\n",
    "            pass\n",
    "    if m[len(m)-1] in \"zy\":\n",
    "        s += 1\n",
    "    return s\n",
    "\n",
    "\n",
    "print(countYZ(\"gray day thiz Monday\"))\n",
    "print(countYZ(\"gray day this Tuesday\"))\n",
    "print(countYZ(\"day fyyyz\"))"
   ]
  },
  {
   "cell_type": "code",
   "execution_count": 18,
   "id": "884a1953",
   "metadata": {},
   "outputs": [
    {
     "name": "stdout",
     "output_type": "stream",
     "text": [
      "hi\n",
      "i\n"
     ]
    }
   ],
   "source": [
    "def appearTwice(str1, str2):\n",
    "    lettersInFirst = \"\"\n",
    "    res = \"\"\n",
    "    for i in str1:\n",
    "        if i not in lettersInFirst and i.isalpha():\n",
    "            lettersInFirst += i\n",
    "    print(lettersInFirst)\n",
    "    for i in lettersInFirst:\n",
    "        sameLetterCount = 0\n",
    "        for j in str2:\n",
    "            if j == i:\n",
    "                sameLetterCount += 1\n",
    "        if sameLetterCount >= 2:\n",
    "            res += i\n",
    "    print(res)\n",
    "    \n",
    "    \n",
    "appearTwice(\"hi\",\"miian\")"
   ]
  },
  {
   "cell_type": "code",
   "execution_count": 35,
   "id": "1499c117",
   "metadata": {},
   "outputs": [
    {
     "data": {
      "text/plain": [
       "'fs'"
      ]
     },
     "execution_count": 35,
     "metadata": {},
     "output_type": "execute_result"
    }
   ],
   "source": [
    "def check(str1, str2):\n",
    "    x = \"\"\n",
    "    p = \"\"\n",
    "    m = 0\n",
    "    for i in str1:\n",
    "        if i.isalpha and i not in x:\n",
    "            x += i\n",
    "    for k in range(len(x)):\n",
    "        o = 0\n",
    "        for j in range(len(word2)):\n",
    "            if word2[j] == x[k]:\n",
    "                o += 1\n",
    "            if o >= 2 and word2[j] not in p and word2[j] == x[k]:\n",
    "                p += word2 [j]\n",
    "    return p\n",
    "    \n",
    "word1=\"fasdcsaddasddddd\"\n",
    "word2=\"123548795ffffssdf\"\n",
    "\n",
    "check(word1, word2)"
   ]
  },
  {
   "cell_type": "code",
   "execution_count": 21,
   "id": "a115e73f",
   "metadata": {},
   "outputs": [
    {
     "name": "stdout",
     "output_type": "stream",
     "text": [
      "hi\n"
     ]
    }
   ],
   "source": [
    "word=\"fasdcsaddasddddd\"\n",
    "if \"d\" in word:\n",
    "    print(\"hi\")"
   ]
  },
  {
   "cell_type": "code",
   "execution_count": 52,
   "id": "1e31a0cf",
   "metadata": {},
   "outputs": [
    {
     "ename": "TypeError",
     "evalue": "unsupported operand type(s) for +: 'NoneType' and 'str'",
     "output_type": "error",
     "traceback": [
      "\u001b[1;31m---------------------------------------------------------------------------\u001b[0m",
      "\u001b[1;31mTypeError\u001b[0m                                 Traceback (most recent call last)",
      "\u001b[1;32m~\\AppData\\Local\\Temp\\ipykernel_14836\\1506612153.py\u001b[0m in \u001b[0;36m<module>\u001b[1;34m\u001b[0m\n\u001b[0;32m     13\u001b[0m \u001b[1;33m\u001b[0m\u001b[0m\n\u001b[0;32m     14\u001b[0m \u001b[1;33m\u001b[0m\u001b[0m\n\u001b[1;32m---> 15\u001b[1;33m \u001b[0mhardTask\u001b[0m\u001b[1;33m(\u001b[0m\u001b[1;34m\" I SLEPT MOST OF THE NIGHT \"\u001b[0m\u001b[1;33m)\u001b[0m\u001b[1;33m\u001b[0m\u001b[1;33m\u001b[0m\u001b[0m\n\u001b[0m",
      "\u001b[1;32m~\\AppData\\Local\\Temp\\ipykernel_14836\\1506612153.py\u001b[0m in \u001b[0;36mhardTask\u001b[1;34m(s)\u001b[0m\n\u001b[0;32m     10\u001b[0m             \u001b[1;32melif\u001b[0m \u001b[0mx\u001b[0m \u001b[1;33m==\u001b[0m \u001b[1;36m2\u001b[0m\u001b[1;33m:\u001b[0m\u001b[1;33m\u001b[0m\u001b[1;33m\u001b[0m\u001b[0m\n\u001b[0;32m     11\u001b[0m                 \u001b[0mj\u001b[0m \u001b[1;33m=\u001b[0m \u001b[0mi\u001b[0m\u001b[1;33m\u001b[0m\u001b[1;33m\u001b[0m\u001b[0m\n\u001b[1;32m---> 12\u001b[1;33m                 \u001b[1;32mreturn\u001b[0m \u001b[0mhardTask\u001b[0m\u001b[1;33m(\u001b[0m\u001b[0ms\u001b[0m\u001b[1;33m[\u001b[0m\u001b[0mj\u001b[0m\u001b[1;33m:\u001b[0m\u001b[1;33m]\u001b[0m\u001b[1;33m)\u001b[0m\u001b[1;33m+\u001b[0m\u001b[0ms\u001b[0m\u001b[1;33m[\u001b[0m\u001b[0mp\u001b[0m\u001b[1;33m+\u001b[0m\u001b[1;36m2\u001b[0m\u001b[1;33m:\u001b[0m\u001b[0mj\u001b[0m\u001b[1;33m]\u001b[0m\u001b[1;33m+\u001b[0m\u001b[0ms\u001b[0m\u001b[1;33m[\u001b[0m\u001b[0mp\u001b[0m\u001b[1;33m+\u001b[0m\u001b[1;36m1\u001b[0m\u001b[1;33m]\u001b[0m\u001b[1;33m+\u001b[0m\u001b[1;34m\"AY\"\u001b[0m\u001b[1;33m+\u001b[0m\u001b[1;34m\" \"\u001b[0m\u001b[1;31m#hardTask(s[j:])\u001b[0m\u001b[1;33m\u001b[0m\u001b[1;33m\u001b[0m\u001b[0m\n\u001b[0m\u001b[0;32m     13\u001b[0m \u001b[1;33m\u001b[0m\u001b[0m\n\u001b[0;32m     14\u001b[0m \u001b[1;33m\u001b[0m\u001b[0m\n",
      "\u001b[1;32m~\\AppData\\Local\\Temp\\ipykernel_14836\\1506612153.py\u001b[0m in \u001b[0;36mhardTask\u001b[1;34m(s)\u001b[0m\n\u001b[0;32m     10\u001b[0m             \u001b[1;32melif\u001b[0m \u001b[0mx\u001b[0m \u001b[1;33m==\u001b[0m \u001b[1;36m2\u001b[0m\u001b[1;33m:\u001b[0m\u001b[1;33m\u001b[0m\u001b[1;33m\u001b[0m\u001b[0m\n\u001b[0;32m     11\u001b[0m                 \u001b[0mj\u001b[0m \u001b[1;33m=\u001b[0m \u001b[0mi\u001b[0m\u001b[1;33m\u001b[0m\u001b[1;33m\u001b[0m\u001b[0m\n\u001b[1;32m---> 12\u001b[1;33m                 \u001b[1;32mreturn\u001b[0m \u001b[0mhardTask\u001b[0m\u001b[1;33m(\u001b[0m\u001b[0ms\u001b[0m\u001b[1;33m[\u001b[0m\u001b[0mj\u001b[0m\u001b[1;33m:\u001b[0m\u001b[1;33m]\u001b[0m\u001b[1;33m)\u001b[0m\u001b[1;33m+\u001b[0m\u001b[0ms\u001b[0m\u001b[1;33m[\u001b[0m\u001b[0mp\u001b[0m\u001b[1;33m+\u001b[0m\u001b[1;36m2\u001b[0m\u001b[1;33m:\u001b[0m\u001b[0mj\u001b[0m\u001b[1;33m]\u001b[0m\u001b[1;33m+\u001b[0m\u001b[0ms\u001b[0m\u001b[1;33m[\u001b[0m\u001b[0mp\u001b[0m\u001b[1;33m+\u001b[0m\u001b[1;36m1\u001b[0m\u001b[1;33m]\u001b[0m\u001b[1;33m+\u001b[0m\u001b[1;34m\"AY\"\u001b[0m\u001b[1;33m+\u001b[0m\u001b[1;34m\" \"\u001b[0m\u001b[1;31m#hardTask(s[j:])\u001b[0m\u001b[1;33m\u001b[0m\u001b[1;33m\u001b[0m\u001b[0m\n\u001b[0m\u001b[0;32m     13\u001b[0m \u001b[1;33m\u001b[0m\u001b[0m\n\u001b[0;32m     14\u001b[0m \u001b[1;33m\u001b[0m\u001b[0m\n",
      "\u001b[1;32m~\\AppData\\Local\\Temp\\ipykernel_14836\\1506612153.py\u001b[0m in \u001b[0;36mhardTask\u001b[1;34m(s)\u001b[0m\n\u001b[0;32m     10\u001b[0m             \u001b[1;32melif\u001b[0m \u001b[0mx\u001b[0m \u001b[1;33m==\u001b[0m \u001b[1;36m2\u001b[0m\u001b[1;33m:\u001b[0m\u001b[1;33m\u001b[0m\u001b[1;33m\u001b[0m\u001b[0m\n\u001b[0;32m     11\u001b[0m                 \u001b[0mj\u001b[0m \u001b[1;33m=\u001b[0m \u001b[0mi\u001b[0m\u001b[1;33m\u001b[0m\u001b[1;33m\u001b[0m\u001b[0m\n\u001b[1;32m---> 12\u001b[1;33m                 \u001b[1;32mreturn\u001b[0m \u001b[0mhardTask\u001b[0m\u001b[1;33m(\u001b[0m\u001b[0ms\u001b[0m\u001b[1;33m[\u001b[0m\u001b[0mj\u001b[0m\u001b[1;33m:\u001b[0m\u001b[1;33m]\u001b[0m\u001b[1;33m)\u001b[0m\u001b[1;33m+\u001b[0m\u001b[0ms\u001b[0m\u001b[1;33m[\u001b[0m\u001b[0mp\u001b[0m\u001b[1;33m+\u001b[0m\u001b[1;36m2\u001b[0m\u001b[1;33m:\u001b[0m\u001b[0mj\u001b[0m\u001b[1;33m]\u001b[0m\u001b[1;33m+\u001b[0m\u001b[0ms\u001b[0m\u001b[1;33m[\u001b[0m\u001b[0mp\u001b[0m\u001b[1;33m+\u001b[0m\u001b[1;36m1\u001b[0m\u001b[1;33m]\u001b[0m\u001b[1;33m+\u001b[0m\u001b[1;34m\"AY\"\u001b[0m\u001b[1;33m+\u001b[0m\u001b[1;34m\" \"\u001b[0m\u001b[1;31m#hardTask(s[j:])\u001b[0m\u001b[1;33m\u001b[0m\u001b[1;33m\u001b[0m\u001b[0m\n\u001b[0m\u001b[0;32m     13\u001b[0m \u001b[1;33m\u001b[0m\u001b[0m\n\u001b[0;32m     14\u001b[0m \u001b[1;33m\u001b[0m\u001b[0m\n",
      "\u001b[1;32m~\\AppData\\Local\\Temp\\ipykernel_14836\\1506612153.py\u001b[0m in \u001b[0;36mhardTask\u001b[1;34m(s)\u001b[0m\n\u001b[0;32m     10\u001b[0m             \u001b[1;32melif\u001b[0m \u001b[0mx\u001b[0m \u001b[1;33m==\u001b[0m \u001b[1;36m2\u001b[0m\u001b[1;33m:\u001b[0m\u001b[1;33m\u001b[0m\u001b[1;33m\u001b[0m\u001b[0m\n\u001b[0;32m     11\u001b[0m                 \u001b[0mj\u001b[0m \u001b[1;33m=\u001b[0m \u001b[0mi\u001b[0m\u001b[1;33m\u001b[0m\u001b[1;33m\u001b[0m\u001b[0m\n\u001b[1;32m---> 12\u001b[1;33m                 \u001b[1;32mreturn\u001b[0m \u001b[0mhardTask\u001b[0m\u001b[1;33m(\u001b[0m\u001b[0ms\u001b[0m\u001b[1;33m[\u001b[0m\u001b[0mj\u001b[0m\u001b[1;33m:\u001b[0m\u001b[1;33m]\u001b[0m\u001b[1;33m)\u001b[0m\u001b[1;33m+\u001b[0m\u001b[0ms\u001b[0m\u001b[1;33m[\u001b[0m\u001b[0mp\u001b[0m\u001b[1;33m+\u001b[0m\u001b[1;36m2\u001b[0m\u001b[1;33m:\u001b[0m\u001b[0mj\u001b[0m\u001b[1;33m]\u001b[0m\u001b[1;33m+\u001b[0m\u001b[0ms\u001b[0m\u001b[1;33m[\u001b[0m\u001b[0mp\u001b[0m\u001b[1;33m+\u001b[0m\u001b[1;36m1\u001b[0m\u001b[1;33m]\u001b[0m\u001b[1;33m+\u001b[0m\u001b[1;34m\"AY\"\u001b[0m\u001b[1;33m+\u001b[0m\u001b[1;34m\" \"\u001b[0m\u001b[1;31m#hardTask(s[j:])\u001b[0m\u001b[1;33m\u001b[0m\u001b[1;33m\u001b[0m\u001b[0m\n\u001b[0m\u001b[0;32m     13\u001b[0m \u001b[1;33m\u001b[0m\u001b[0m\n\u001b[0;32m     14\u001b[0m \u001b[1;33m\u001b[0m\u001b[0m\n",
      "\u001b[1;32m~\\AppData\\Local\\Temp\\ipykernel_14836\\1506612153.py\u001b[0m in \u001b[0;36mhardTask\u001b[1;34m(s)\u001b[0m\n\u001b[0;32m     10\u001b[0m             \u001b[1;32melif\u001b[0m \u001b[0mx\u001b[0m \u001b[1;33m==\u001b[0m \u001b[1;36m2\u001b[0m\u001b[1;33m:\u001b[0m\u001b[1;33m\u001b[0m\u001b[1;33m\u001b[0m\u001b[0m\n\u001b[0;32m     11\u001b[0m                 \u001b[0mj\u001b[0m \u001b[1;33m=\u001b[0m \u001b[0mi\u001b[0m\u001b[1;33m\u001b[0m\u001b[1;33m\u001b[0m\u001b[0m\n\u001b[1;32m---> 12\u001b[1;33m                 \u001b[1;32mreturn\u001b[0m \u001b[0mhardTask\u001b[0m\u001b[1;33m(\u001b[0m\u001b[0ms\u001b[0m\u001b[1;33m[\u001b[0m\u001b[0mj\u001b[0m\u001b[1;33m:\u001b[0m\u001b[1;33m]\u001b[0m\u001b[1;33m)\u001b[0m\u001b[1;33m+\u001b[0m\u001b[0ms\u001b[0m\u001b[1;33m[\u001b[0m\u001b[0mp\u001b[0m\u001b[1;33m+\u001b[0m\u001b[1;36m2\u001b[0m\u001b[1;33m:\u001b[0m\u001b[0mj\u001b[0m\u001b[1;33m]\u001b[0m\u001b[1;33m+\u001b[0m\u001b[0ms\u001b[0m\u001b[1;33m[\u001b[0m\u001b[0mp\u001b[0m\u001b[1;33m+\u001b[0m\u001b[1;36m1\u001b[0m\u001b[1;33m]\u001b[0m\u001b[1;33m+\u001b[0m\u001b[1;34m\"AY\"\u001b[0m\u001b[1;33m+\u001b[0m\u001b[1;34m\" \"\u001b[0m\u001b[1;31m#hardTask(s[j:])\u001b[0m\u001b[1;33m\u001b[0m\u001b[1;33m\u001b[0m\u001b[0m\n\u001b[0m\u001b[0;32m     13\u001b[0m \u001b[1;33m\u001b[0m\u001b[0m\n\u001b[0;32m     14\u001b[0m \u001b[1;33m\u001b[0m\u001b[0m\n",
      "\u001b[1;32m~\\AppData\\Local\\Temp\\ipykernel_14836\\1506612153.py\u001b[0m in \u001b[0;36mhardTask\u001b[1;34m(s)\u001b[0m\n\u001b[0;32m     10\u001b[0m             \u001b[1;32melif\u001b[0m \u001b[0mx\u001b[0m \u001b[1;33m==\u001b[0m \u001b[1;36m2\u001b[0m\u001b[1;33m:\u001b[0m\u001b[1;33m\u001b[0m\u001b[1;33m\u001b[0m\u001b[0m\n\u001b[0;32m     11\u001b[0m                 \u001b[0mj\u001b[0m \u001b[1;33m=\u001b[0m \u001b[0mi\u001b[0m\u001b[1;33m\u001b[0m\u001b[1;33m\u001b[0m\u001b[0m\n\u001b[1;32m---> 12\u001b[1;33m                 \u001b[1;32mreturn\u001b[0m \u001b[0mhardTask\u001b[0m\u001b[1;33m(\u001b[0m\u001b[0ms\u001b[0m\u001b[1;33m[\u001b[0m\u001b[0mj\u001b[0m\u001b[1;33m:\u001b[0m\u001b[1;33m]\u001b[0m\u001b[1;33m)\u001b[0m\u001b[1;33m+\u001b[0m\u001b[0ms\u001b[0m\u001b[1;33m[\u001b[0m\u001b[0mp\u001b[0m\u001b[1;33m+\u001b[0m\u001b[1;36m2\u001b[0m\u001b[1;33m:\u001b[0m\u001b[0mj\u001b[0m\u001b[1;33m]\u001b[0m\u001b[1;33m+\u001b[0m\u001b[0ms\u001b[0m\u001b[1;33m[\u001b[0m\u001b[0mp\u001b[0m\u001b[1;33m+\u001b[0m\u001b[1;36m1\u001b[0m\u001b[1;33m]\u001b[0m\u001b[1;33m+\u001b[0m\u001b[1;34m\"AY\"\u001b[0m\u001b[1;33m+\u001b[0m\u001b[1;34m\" \"\u001b[0m\u001b[1;31m#hardTask(s[j:])\u001b[0m\u001b[1;33m\u001b[0m\u001b[1;33m\u001b[0m\u001b[0m\n\u001b[0m\u001b[0;32m     13\u001b[0m \u001b[1;33m\u001b[0m\u001b[0m\n\u001b[0;32m     14\u001b[0m \u001b[1;33m\u001b[0m\u001b[0m\n",
      "\u001b[1;31mTypeError\u001b[0m: unsupported operand type(s) for +: 'NoneType' and 'str'"
     ]
    }
   ],
   "source": [
    "def hardTask(s):\n",
    "    x = 0\n",
    "    p = 0\n",
    "    j = 0\n",
    "    for i in range(len(s)):\n",
    "        if s[i] == \" \":\n",
    "            x += 1\n",
    "            if x == 1:\n",
    "                p = i\n",
    "            elif x == 2:\n",
    "                j = i\n",
    "                return hardTask(s[j:])+s[p+2:j]+s[p+1]+\"AY\"+\" \"#hardTask(s[j:])\n",
    "            \n",
    "\n",
    "hardTask(\" I SLEPT MOST OF THE NIGHT \")"
   ]
  },
  {
   "cell_type": "code",
   "execution_count": 54,
   "id": "20acdc59",
   "metadata": {},
   "outputs": [
    {
     "name": "stdout",
     "output_type": "stream",
     "text": [
      "4\n",
      "3\n",
      "2\n"
     ]
    }
   ],
   "source": [
    "def hi(s):\n",
    "    x =0\n",
    "    for i in range(len(s)):\n",
    "        if s[i] == \" \":\n",
    "            if s[i-1].lower() in \"yz\":\n",
    "                x += 1\n",
    "    if s[len(s)-1].lower() in \"yz\":\n",
    "        x += 1\n",
    "    return x\n",
    "\n",
    "\n",
    "print(countYZ(\"gray day thiz Monday\"))\n",
    "print(countYZ(\"gray day this Tuesday\"))\n",
    "print(countYZ(\"day fyyyz\"))"
   ]
  },
  {
   "cell_type": "code",
   "execution_count": 3,
   "id": "bba85e4f",
   "metadata": {},
   "outputs": [
    {
     "name": "stdout",
     "output_type": "stream",
     "text": [
      "Enter any word: fasd\n",
      "Enter any word: asdf\n",
      "Enter any word: \n"
     ]
    },
    {
     "data": {
      "text/plain": [
       "4"
      ]
     },
     "execution_count": 3,
     "metadata": {},
     "output_type": "execute_result"
    }
   ],
   "source": [
    "def word(n):\n",
    "    y = 0\n",
    "    i = 0\n",
    "    while n != \"\":\n",
    "        n = input(\"Enter any word: \")\n",
    "        if n != \"\":\n",
    "            y += len(n)\n",
    "            i += 1\n",
    "    return y//i\n",
    "\n",
    "\n",
    "word(\"f\")"
   ]
  },
  {
   "cell_type": "code",
   "execution_count": null,
   "id": "9af48dc4",
   "metadata": {},
   "outputs": [],
   "source": [
    "def cigsss(m)"
   ]
  },
  {
   "cell_type": "code",
   "execution_count": 6,
   "id": "2d54e411",
   "metadata": {},
   "outputs": [
    {
     "name": "stdout",
     "output_type": "stream",
     "text": [
      "False\n",
      "True\n",
      "True\n"
     ]
    }
   ],
   "source": [
    "def cigar_party(m, n):\n",
    "    if n == True:\n",
    "        return True\n",
    "    else:\n",
    "        pass\n",
    "    if m > 40 and m < 60:\n",
    "        return True\n",
    "    else:\n",
    "        return False\n",
    "    \n",
    "    \n",
    "print(cigar_party(30, False))\n",
    "print(cigar_party(50, False))\n",
    "print(cigar_party(70, True))\n",
    "  "
   ]
  },
  {
   "cell_type": "code",
   "execution_count": 7,
   "id": "0b43b0a8",
   "metadata": {},
   "outputs": [
    {
     "name": "stdout",
     "output_type": "stream",
     "text": [
      "True\n",
      "False\n",
      "True\n"
     ]
    }
   ],
   "source": [
    "def squirrel_play(m, n):\n",
    "    if n == True:\n",
    "        if m < 101 and m > 60:\n",
    "            return True\n",
    "        else:\n",
    "            return False\n",
    "    if n != True:\n",
    "        if m < 91 and m > 60:\n",
    "            return True\n",
    "        else:\n",
    "            return False\n",
    "    \n",
    "print(squirrel_play(70, False))\n",
    "print(squirrel_play(95, False))\n",
    "print(squirrel_play(95, True))"
   ]
  },
  {
   "cell_type": "code",
   "execution_count": 9,
   "id": "5e244c99",
   "metadata": {},
   "outputs": [
    {
     "name": "stdout",
     "output_type": "stream",
     "text": [
      "0\n",
      "1\n",
      "0\n"
     ]
    }
   ],
   "source": [
    "def caught_speeding(m, n):\n",
    "    \n",
    "    if n == False:\n",
    "        if m <= 60:\n",
    "            return 0\n",
    "        elif m >= 61 and m <= 80:\n",
    "            return 1\n",
    "        elif m >= 81 :\n",
    "            return 2\n",
    "        else:\n",
    "            pass\n",
    "    else:\n",
    "        if m <= 60+5:\n",
    "            return 0\n",
    "        elif m >= 61+5 and m <= 80+5:\n",
    "            return 1\n",
    "        elif m >= 81+5:\n",
    "            return 2\n",
    "    \n",
    "print(caught_speeding(60, False))\n",
    "print(caught_speeding(65, False))\n",
    "print(caught_speeding(65, True))"
   ]
  },
  {
   "cell_type": "code",
   "execution_count": 10,
   "id": "a6ed87c5",
   "metadata": {},
   "outputs": [
    {
     "name": "stdout",
     "output_type": "stream",
     "text": [
      "7\n",
      "20\n",
      "21\n"
     ]
    }
   ],
   "source": [
    "def sorta_sum(m, n):\n",
    "    y = m + n\n",
    "    if y >= 10 and y <= 19:\n",
    "        return 20\n",
    "    else:\n",
    "        return y\n",
    "    \n",
    "    \n",
    "print(sorta_sum(3, 4))\n",
    "print(sorta_sum(9, 4))\n",
    "print(sorta_sum(10, 11))"
   ]
  },
  {
   "cell_type": "code",
   "execution_count": 15,
   "id": "bcc0abef",
   "metadata": {},
   "outputs": [
    {
     "name": "stdout",
     "output_type": "stream",
     "text": [
      "7:00\n",
      "7:00\n",
      "10:00\n"
     ]
    }
   ],
   "source": [
    "Sun, Mon, Tue, Wed, Thr, Fri, sat = 0, 1, 2, 3, 4, 5, 6\n",
    "def alarm_clock(day, vacation):\n",
    "    Sun, Mon, Tue, Wed, Thr, Fri, sat = 0, 1, 2, 3, 4, 5, 6\n",
    "    if vacation:\n",
    "        return '10:00'\n",
    "    elif day == 0 or day == 6:\n",
    "        return '10:00'\n",
    "    else:\n",
    "        return '7:00'\n",
    "    \n",
    "    \n",
    "print(alarm_clock(1, False))\n",
    "print(alarm_clock(5, False))\n",
    "print(alarm_clock(0, False))"
   ]
  },
  {
   "cell_type": "code",
   "execution_count": 17,
   "id": "b38fa78d",
   "metadata": {},
   "outputs": [
    {
     "name": "stdout",
     "output_type": "stream",
     "text": [
      "True\n",
      "False\n",
      "True\n"
     ]
    }
   ],
   "source": [
    "def love6(num1, num2):\n",
    "    if num1 == 6 or num2 ==6:\n",
    "        return True\n",
    "    elif (num1-num2)==6:\n",
    "        return True\n",
    "    elif (num1+num2)==6:\n",
    "        return True\n",
    "    else:\n",
    "        return False\n",
    "    \n",
    "    \n",
    "print(love6(6, 4))\n",
    "print(love6(4, 5))\n",
    "print(love6(1, 5))"
   ]
  },
  {
   "cell_type": "code",
   "execution_count": 19,
   "id": "fb276406",
   "metadata": {},
   "outputs": [
    {
     "name": "stdout",
     "output_type": "stream",
     "text": [
      "True\n",
      "False\n",
      "True\n"
     ]
    }
   ],
   "source": [
    "def in1to10(n, outside_mode):\n",
    "    if outside_mode:\n",
    "        return True\n",
    "    elif 1 <= n <= 10:\n",
    "        return True\n",
    "    else:\n",
    "        return False\n",
    "    \n",
    "print(in1to10(5, False))\n",
    "print(in1to10(11, False))\n",
    "print(in1to10(11, True))"
   ]
  },
  {
   "cell_type": "code",
   "execution_count": 38,
   "id": "dff739d5",
   "metadata": {},
   "outputs": [
    {
     "name": "stdout",
     "output_type": "stream",
     "text": [
      "True\n",
      "False\n",
      "True\n"
     ]
    }
   ],
   "source": [
    "def near_ten(num):\n",
    "    number = num % 10\n",
    "    if number >= 8 or number <= 2:\n",
    "        return True\n",
    "    else:\n",
    "        return False\n",
    "        \n",
    "        \n",
    "\n",
    "        \n",
    "print(near_ten(12))\n",
    "print(near_ten(17))\n",
    "print(near_ten(19))"
   ]
  },
  {
   "cell_type": "code",
   "execution_count": 27,
   "id": "6049eaa5",
   "metadata": {},
   "outputs": [
    {
     "name": "stdout",
     "output_type": "stream",
     "text": [
      "1\n",
      "1\n",
      "3\n",
      "4\n",
      "1\n",
      "5\n",
      "3\n",
      "1\n",
      "9\n"
     ]
    }
   ],
   "source": [
    "for i in range(2,11):\n",
    "    print(19%i)"
   ]
  },
  {
   "cell_type": "code",
   "execution_count": 44,
   "id": "e498a664",
   "metadata": {},
   "outputs": [
    {
     "name": "stdout",
     "output_type": "stream",
     "text": [
      "6\n",
      "3\n",
      "1\n"
     ]
    }
   ],
   "source": [
    "def lucky_sum(a, b, c):\n",
    "    if b == 13:\n",
    "        return a\n",
    "    elif c == 13:\n",
    "        return a + b\n",
    "    else:\n",
    "        return (a + b + c)\n",
    "    \n",
    "    \n",
    "print(lucky_sum(1, 2, 3))5\n",
    "print(lucky_sum(1, 2, 13))\n",
    "print(lucky_sum(1, 13, 3))"
   ]
  },
  {
   "cell_type": "code",
   "execution_count": 3,
   "id": "75708fda",
   "metadata": {},
   "outputs": [
    {
     "name": "stdout",
     "output_type": "stream",
     "text": [
      "1\n",
      "01\n",
      "101\n",
      "0101\n",
      "10101\n"
     ]
    }
   ],
   "source": [
    "def triangle(n):\n",
    "    for i in range(1, n+1):\n",
    "        for j in range(i):\n",
    "            print((i+j)%2,end=\"\")\n",
    "        print()\n",
    "        \n",
    "        \n",
    "triangle(5)"
   ]
  },
  {
   "cell_type": "code",
   "execution_count": 4,
   "id": "bb113011",
   "metadata": {},
   "outputs": [
    {
     "name": "stdout",
     "output_type": "stream",
     "text": [
      " \n",
      "o\n",
      "b\n",
      " \n",
      "o\n",
      "o\n"
     ]
    }
   ],
   "source": [
    "t = \" bonobo\"\n",
    "s = t[:-3] + t[1:3]+t[:5]\n",
    "for i in range(len(s)):\n",
    "    if i % 2 == 0:\n",
    "        print(s[i])\n"
   ]
  },
  {
   "cell_type": "code",
   "execution_count": 27,
   "id": "c03a06b8",
   "metadata": {},
   "outputs": [
    {
     "name": "stdout",
     "output_type": "stream",
     "text": [
      " ******  *****  ****  ***  **  ******  *****  ****  ***  **   ******   *****   ****   ***   **  ******  *****  ****  ***  **   ******   *****   ****   ***   **    ******    *****    ****    ***    **  ******  *****  ****  ***  **   ******   *****   ****   ***   **    ******    *****    ****    ***    **     ******     *****     ****     ***     **  ******  *****  ****  ***  **   ******   *****   ****   ***   **    ******    *****    ****    ***    **     ******     *****     ****     ***     **      ******      *****      ****      ***      **  ******  *****  ****  ***  **   ******   *****   ****   ***   **    ******    *****    ****    ***    **     ******     *****     ****     ***     **      ******      *****      ****      ***      **       ******       *****       ****       ***       ** "
     ]
    }
   ],
   "source": [
    "a = 0\n",
    "for j in range(0,6):\n",
    "    for k in range(j+1):\n",
    "        for i in range(6,1,-1):\n",
    "            print((\" \")*k,\"*\"*i,end=\" \")\n",
    "    "
   ]
  },
  {
   "cell_type": "code",
   "execution_count": 17,
   "id": "b04b9a54",
   "metadata": {},
   "outputs": [
    {
     "name": "stdout",
     "output_type": "stream",
     "text": [
      "k\n"
     ]
    }
   ],
   "source": [
    "def j(g):\n",
    "    print(g)\n",
    "j(\"k\")"
   ]
  },
  {
   "cell_type": "code",
   "execution_count": 69,
   "id": "d3b5ee30",
   "metadata": {},
   "outputs": [
    {
     "name": "stdout",
     "output_type": "stream",
     "text": [
      "khaled  khaled  khaled  khaled  khaled  \n",
      "\n",
      "\n",
      "\n",
      "\n",
      "\n",
      "\n",
      "\n",
      "khaled@ahmed@ibrahim@\n",
      "khaled@ahmed@ibrahim      dgdfgdgdgd\n",
      "khaled@ahmed@ibrahim@\n",
      "khaled@ahmed@ibrahim      dgdfgdgdgd\n"
     ]
    }
   ],
   "source": [
    "for i in range(5):\n",
    "    print(\"khaled\",end=\"  \")\n",
    "    \n",
    "print()\n",
    "print()\n",
    "print()\n",
    "print()\n",
    "print()\n",
    "print()\n",
    "print()\n",
    "print()\n",
    "\n",
    "for j in range(2):\n",
    "    print(\"khaled@\",\"ahmed@\",\"ibrahim@\",sep=\"\")\n",
    "    print(\"khaled\",\"ahmed\",\"ibrahim\",sep=\"@\",end=\"      dgdfgdgdgd\\n\")"
   ]
  },
  {
   "cell_type": "markdown",
   "id": "3a0762b9",
   "metadata": {},
   "source": [
    "    "
   ]
  },
  {
   "cell_type": "code",
   "execution_count": 2,
   "id": "b1c5e649",
   "metadata": {},
   "outputs": [
    {
     "data": {
      "text/plain": [
       "'60+5p'"
      ]
     },
     "execution_count": 2,
     "metadata": {},
     "output_type": "execute_result"
    }
   ],
   "source": [
    "def lill(n):\n",
    "    e = 0\n",
    "    o = 0\n",
    "    t = 0\n",
    "    for i in range(1, n+1):\n",
    "        if (i % 2) == 0:\n",
    "            e += 1\n",
    "        elif (i % 2) == 1:\n",
    "            o += 1\n",
    "    for j in range(1, e+1):\n",
    "        if (j % 2) == 0:\n",
    "            t += (10*j)\n",
    "    return str(t)+\"+\" + str(o)+\"p\"\n",
    "\n",
    "\n",
    "lill(10)"
   ]
  },
  {
   "cell_type": "code",
   "execution_count": 5,
   "id": "0d93e112",
   "metadata": {},
   "outputs": [
    {
     "name": "stdout",
     "output_type": "stream",
     "text": [
      "Hello World\n",
      "Hello World\n",
      "Hello World\n",
      "Hello World\n",
      "Hello World\n",
      "Hello student\n",
      "Hello World\n",
      "Hello World\n",
      "Hello World\n",
      "Hello World\n",
      "Hello World\n",
      "Hello student\n",
      "Hello World\n",
      "Hello World\n",
      "Hello World\n",
      "Hello World\n",
      "Hello World\n",
      "Hello student\n",
      "Hello World\n",
      "Hello World\n",
      "Hello World\n",
      "Hello World\n",
      "Hello World\n",
      "Hello student\n",
      "Hello everyone\n"
     ]
    }
   ],
   "source": [
    "for x in range(4):\n",
    "\tfor y in range (5):\n",
    "\t\tprint(\"Hello World\")\n",
    "\tprint(\"Hello student\")\n",
    "print(\"Hello everyone\")\n"
   ]
  },
  {
   "cell_type": "code",
   "execution_count": 19,
   "id": "7978b982",
   "metadata": {},
   "outputs": [
    {
     "name": "stdout",
     "output_type": "stream",
     "text": [
      "6\n",
      "3\n",
      "1\n"
     ]
    }
   ],
   "source": [
    "def lucky_sum(a, b, c):\n",
    "    if a<13 and b< 13 and c<13:\n",
    "        return a+b+c\n",
    "    elif b == 13:\n",
    "        return a\n",
    "    elif c == 13:\n",
    "        return a + b\n",
    "print(lucky_sum(1, 2, 3))\n",
    "print(lucky_sum(1, 2, 13))\n",
    "print(lucky_sum(1, 13, 3))"
   ]
  },
  {
   "cell_type": "code",
   "execution_count": 15,
   "id": "2605ab60",
   "metadata": {},
   "outputs": [
    {
     "data": {
      "text/plain": [
       "2"
      ]
     },
     "execution_count": 15,
     "metadata": {},
     "output_type": "execute_result"
    }
   ],
   "source": [
    "(3+3+3+3+3+3+3)//8"
   ]
  },
  {
   "cell_type": "code",
   "execution_count": 21,
   "id": "de65a51e",
   "metadata": {},
   "outputs": [
    {
     "name": "stdout",
     "output_type": "stream",
     "text": [
      "<class 'int'>\n",
      "<class 'str'>\n",
      "<class 'bool'>\n"
     ]
    }
   ],
   "source": [
    "list2 = [1, 3, \"hi\", True]\n",
    "print(type(list2[1]))\n",
    "print(type(list2[2]))\n",
    "print(type(list2[3]))"
   ]
  },
  {
   "cell_type": "code",
   "execution_count": 22,
   "id": "19d50c2d",
   "metadata": {},
   "outputs": [
    {
     "name": "stdout",
     "output_type": "stream",
     "text": [
      "[5, 2, 3, 4]\n"
     ]
    }
   ],
   "source": [
    "a = [1, 2, 3, 4]\n",
    "b = a\n",
    "b[0] = 5\n",
    "print(a)"
   ]
  },
  {
   "cell_type": "code",
   "execution_count": 23,
   "id": "de6a737b",
   "metadata": {},
   "outputs": [
    {
     "data": {
      "text/plain": [
       "[10, 8, 6, 4, 2]"
      ]
     },
     "execution_count": 23,
     "metadata": {},
     "output_type": "execute_result"
    }
   ],
   "source": [
    "list(range(10, 0, -2))"
   ]
  },
  {
   "cell_type": "code",
   "execution_count": 24,
   "id": "d7ae9bc0",
   "metadata": {},
   "outputs": [
    {
     "name": "stdout",
     "output_type": "stream",
     "text": [
      "5\n"
     ]
    }
   ],
   "source": [
    "g = [1, 2, 3, 4, 5, \"A\", \"B\"]\n",
    "print(g.pop(-3))"
   ]
  },
  {
   "cell_type": "code",
   "execution_count": 11,
   "id": "a86e5c6e",
   "metadata": {},
   "outputs": [
    {
     "ename": "IndexError",
     "evalue": "pop index out of range",
     "output_type": "error",
     "traceback": [
      "\u001b[1;31m---------------------------------------------------------------------------\u001b[0m",
      "\u001b[1;31mIndexError\u001b[0m                                Traceback (most recent call last)",
      "\u001b[1;32m~\\AppData\\Local\\Temp\\ipykernel_14188\\4206830626.py\u001b[0m in \u001b[0;36m<module>\u001b[1;34m\u001b[0m\n\u001b[0;32m     10\u001b[0m \u001b[0ma\u001b[0m \u001b[1;33m=\u001b[0m \u001b[1;33m[\u001b[0m\u001b[1;36m1\u001b[0m\u001b[1;33m,\u001b[0m \u001b[1;36m2\u001b[0m\u001b[1;33m,\u001b[0m \u001b[1;36m3\u001b[0m\u001b[1;33m,\u001b[0m \u001b[1;36m4\u001b[0m\u001b[1;33m]\u001b[0m\u001b[1;33m\u001b[0m\u001b[1;33m\u001b[0m\u001b[0m\n\u001b[0;32m     11\u001b[0m \u001b[0mb\u001b[0m \u001b[1;33m=\u001b[0m \u001b[1;33m[\u001b[0m\u001b[1;36m1\u001b[0m\u001b[1;33m,\u001b[0m \u001b[1;36m3\u001b[0m\u001b[1;33m,\u001b[0m \u001b[1;36m4\u001b[0m\u001b[1;33m,\u001b[0m \u001b[1;36m6\u001b[0m\u001b[1;33m]\u001b[0m\u001b[1;33m\u001b[0m\u001b[1;33m\u001b[0m\u001b[0m\n\u001b[1;32m---> 12\u001b[1;33m \u001b[0mcount\u001b[0m\u001b[1;33m(\u001b[0m\u001b[0ma\u001b[0m\u001b[1;33m,\u001b[0m \u001b[0mb\u001b[0m\u001b[1;33m)\u001b[0m\u001b[1;33m\u001b[0m\u001b[1;33m\u001b[0m\u001b[0m\n\u001b[0m",
      "\u001b[1;32m~\\AppData\\Local\\Temp\\ipykernel_14188\\4206830626.py\u001b[0m in \u001b[0;36mcount\u001b[1;34m(list1, list2)\u001b[0m\n\u001b[0;32m      3\u001b[0m     \u001b[1;32mif\u001b[0m \u001b[0mlen\u001b[0m\u001b[1;33m(\u001b[0m\u001b[0mlist1\u001b[0m\u001b[1;33m)\u001b[0m \u001b[1;33m==\u001b[0m \u001b[0mlen\u001b[0m\u001b[1;33m(\u001b[0m\u001b[0mlist2\u001b[0m\u001b[1;33m)\u001b[0m\u001b[1;33m:\u001b[0m\u001b[1;33m\u001b[0m\u001b[1;33m\u001b[0m\u001b[0m\n\u001b[0;32m      4\u001b[0m         \u001b[1;32mfor\u001b[0m \u001b[0mi\u001b[0m \u001b[1;32min\u001b[0m \u001b[0mrange\u001b[0m\u001b[1;33m(\u001b[0m\u001b[0mlen\u001b[0m\u001b[1;33m(\u001b[0m\u001b[0mlist1\u001b[0m\u001b[1;33m)\u001b[0m\u001b[1;33m)\u001b[0m\u001b[1;33m:\u001b[0m\u001b[1;33m\u001b[0m\u001b[1;33m\u001b[0m\u001b[0m\n\u001b[1;32m----> 5\u001b[1;33m             \u001b[0mx\u001b[0m \u001b[1;33m=\u001b[0m \u001b[0mlist1\u001b[0m\u001b[1;33m.\u001b[0m\u001b[0mpop\u001b[0m\u001b[1;33m(\u001b[0m\u001b[0mi\u001b[0m\u001b[1;33m)\u001b[0m\u001b[1;33m+\u001b[0m\u001b[0mlist2\u001b[0m\u001b[1;33m.\u001b[0m\u001b[0mpop\u001b[0m\u001b[1;33m(\u001b[0m\u001b[0mi\u001b[0m\u001b[1;33m)\u001b[0m\u001b[1;33m\u001b[0m\u001b[1;33m\u001b[0m\u001b[0m\n\u001b[0m\u001b[0;32m      6\u001b[0m             \u001b[0mlist3\u001b[0m\u001b[1;33m.\u001b[0m\u001b[0mappend\u001b[0m\u001b[1;33m(\u001b[0m\u001b[0mx\u001b[0m\u001b[1;33m)\u001b[0m\u001b[1;33m\u001b[0m\u001b[1;33m\u001b[0m\u001b[0m\n\u001b[0;32m      7\u001b[0m \u001b[1;31m#     return \"The lists is not the same in length\"\u001b[0m\u001b[1;33m\u001b[0m\u001b[1;33m\u001b[0m\u001b[0m\n",
      "\u001b[1;31mIndexError\u001b[0m: pop index out of range"
     ]
    }
   ],
   "source": [
    "def count(list1, list2):\n",
    "    list3 = []\n",
    "    if len(list1) == len(list2):\n",
    "        for i in range(len(list1)):\n",
    "            x = list1.pop(i)+list2.pop(i)\n",
    "            list3.append(x)\n",
    "#     return \"The lists is not the same in length\"\n",
    "    \n",
    "\n",
    "a = [1, 2, 3, 4]\n",
    "b = [1, 3, 4, 6]\n",
    "count(a, b)"
   ]
  },
  {
   "cell_type": "code",
   "execution_count": null,
   "id": "abf94937",
   "metadata": {},
   "outputs": [],
   "source": []
  },
  {
   "cell_type": "code",
   "execution_count": 12,
   "id": "b9c37dfa",
   "metadata": {},
   "outputs": [
    {
     "name": "stdout",
     "output_type": "stream",
     "text": [
      "MIssIssIppI\n",
      "I love spam! spam is my favorite food. spam, spam, yum!\n",
      "I lave spam! spam is my favarite faad. spam, spam, yum!\n"
     ]
    }
   ],
   "source": [
    "def replace(s, old, new):\n",
    "    x = s.split(old)\n",
    "    z = new.join(x)\n",
    "    return z\n",
    "\n",
    "print(replace(\"Mississippi\", \"i\",\"I\"))\n",
    "print(replace(\"\"\"I love spom! spom is my favorite food. spom, spom, yum!\"\"\", \"om\", \"am\"))\n",
    "print(replace(\"\"\"I love spom! spom is my favorite food. spom, spom, yum!\"\"\", \"o\", \"a\"))"
   ]
  },
  {
   "cell_type": "code",
   "execution_count": 25,
   "id": "d839c7b8",
   "metadata": {},
   "outputs": [
    {
     "name": "stdout",
     "output_type": "stream",
     "text": [
      "[2, 2]\n",
      "[2, 6]\n",
      "[2, 6, 4]\n"
     ]
    }
   ],
   "source": [
    "def add_vectors(vector1,vector2):\n",
    "    x = []\n",
    "    if len(vector1) == len(vector2):\n",
    "        for i in range(len(vector1)):\n",
    "            v = vector1[i] + vector2[i]\n",
    "            x.append(v)\n",
    "        return x\n",
    "    else:\n",
    "        return \"Those are not equal in length\"\n",
    "    \n",
    "print(add_vectors([1, 1], [1, 1]))\n",
    "print(add_vectors([1, 2], [1, 4]))\n",
    "print(add_vectors([1, 2, 1], [1, 4, 3]))"
   ]
  },
  {
   "cell_type": "code",
   "execution_count": 28,
   "id": "d8ead6bf",
   "metadata": {},
   "outputs": [
    {
     "name": "stdout",
     "output_type": "stream",
     "text": [
      "[5, 10]\n",
      "[3, 0, -3]\n",
      "[21, 0, 35, 77, 14]\n"
     ]
    }
   ],
   "source": [
    "def scalar_mult(scalar, vector):\n",
    "    x = []\n",
    "    for i in range(len(vector)):\n",
    "        j = vector[i]*scalar\n",
    "        x.append(j)\n",
    "    return x\n",
    "\n",
    "\n",
    "print(scalar_mult(5, [1, 2]))\n",
    "print(scalar_mult(3, [1, 0, -1]))\n",
    "print(scalar_mult(7, [3, 0, 5, 11, 2]))"
   ]
  },
  {
   "cell_type": "code",
   "execution_count": 29,
   "id": "4ed82378",
   "metadata": {},
   "outputs": [
    {
     "name": "stdout",
     "output_type": "stream",
     "text": [
      "2\n",
      "9\n",
      "12\n"
     ]
    }
   ],
   "source": [
    "def dot_product(vec1,vec2):\n",
    "    x = []\n",
    "    j = 0\n",
    "    if len(vec1) == len(vec2):\n",
    "        for i in range(len(vec2)):\n",
    "            p = vec2[i] * vec1[i]\n",
    "            x.append(p)\n",
    "        for k in range(len(x)):\n",
    "            j += x[k]\n",
    "        return j\n",
    "    else:\n",
    "        return \"Those are not same in the length\"\n",
    "    \n",
    "    \n",
    "print(dot_product([1, 1], [1, 1]))\n",
    "print(dot_product([1, 2], [1, 4]))\n",
    "print(dot_product([1, 2, 1], [1, 4, 3]))"
   ]
  },
  {
   "cell_type": "code",
   "execution_count": null,
   "id": "b568fd8a",
   "metadata": {},
   "outputs": [],
   "source": []
  },
  {
   "cell_type": "code",
   "execution_count": 21,
   "id": "5a43f52a",
   "metadata": {},
   "outputs": [
    {
     "name": "stdout",
     "output_type": "stream",
     "text": [
      "<class 'bool'>\n"
     ]
    }
   ],
   "source": [
    "print(type(True))"
   ]
  },
  {
   "cell_type": "code",
   "execution_count": 24,
   "id": "d5b50afd",
   "metadata": {},
   "outputs": [
    {
     "name": "stdout",
     "output_type": "stream",
     "text": [
      "5\n"
     ]
    }
   ],
   "source": [
    "x = 0\n",
    "x = 9\n",
    "x = 5\n",
    "print(x)"
   ]
  },
  {
   "cell_type": "code",
   "execution_count": 52,
   "id": "92b833b5",
   "metadata": {},
   "outputs": [
    {
     "data": {
      "text/plain": [
       "'(9) i + (0) j - (3) k'"
      ]
     },
     "execution_count": 52,
     "metadata": {},
     "output_type": "execute_result"
    }
   ],
   "source": [
    "def cross_product(vec1, vec2):\n",
    "    ax = vec1[0]\n",
    "    ay = vec1[1]\n",
    "    az = vec1[2]\n",
    "    bx = vec2[0]\n",
    "    by = vec2[1]\n",
    "    bz = vec2[2]\n",
    "    i = ((ay*bz)-(by*az))\n",
    "    j = ((az*bx)-(bz*ax))\n",
    "    k = ((ax*by)-(bx*ay))\n",
    "    \n",
    "    if i >= 0:\n",
    "        i = \"(\"+str(i)+\")\"\n",
    "    else:\n",
    "        i = \"- (\"+str(abs(i))+\")\"\n",
    "        \n",
    "        \n",
    "    if j >= 0:\n",
    "        j = \"+ (\"+str(j)+\")\"\n",
    "    else:\n",
    "        j = \"- (\"+str(abs(j))+\")\"\n",
    "        \n",
    "        \n",
    "    if k >= 0:\n",
    "        k = \"+ (\"+str(k)+\")\"\n",
    "    else:\n",
    "        k = \"- (\"+str(abs(k))+\")\"\n",
    "        \n",
    "    return i+\" i \"+j+\" j \"+k+\" k\"\n",
    "\n",
    "\n",
    "cross_product([1,5,3], [1,2,3])"
   ]
  },
  {
   "cell_type": "code",
   "execution_count": 53,
   "id": "c5f9d99a",
   "metadata": {},
   "outputs": [
    {
     "data": {
      "text/plain": [
       "[10, 8, 6, 4, 2]"
      ]
     },
     "execution_count": 53,
     "metadata": {},
     "output_type": "execute_result"
    }
   ],
   "source": [
    "list(range(10, 0, -2))"
   ]
  },
  {
   "cell_type": "code",
   "execution_count": null,
   "id": "c6eb7d50",
   "metadata": {},
   "outputs": [],
   "source": [
    "[10, 8, 6, 4, 2]"
   ]
  },
  {
   "cell_type": "code",
   "execution_count": 57,
   "id": "22a6f971",
   "metadata": {},
   "outputs": [
    {
     "name": "stdout",
     "output_type": "stream",
     "text": [
      "2591935840128\n",
      "2591935852928\n",
      "2591935852928\n"
     ]
    }
   ],
   "source": [
    "a = [1, 2, 3]\n",
    "b = a[:]\n",
    "print(id(a))\n",
    "print(id(b))\n",
    "b[0] = 5\n",
    "print(id(b))"
   ]
  },
  {
   "cell_type": "code",
   "execution_count": null,
   "id": "28e550c5",
   "metadata": {},
   "outputs": [],
   "source": []
  },
  {
   "cell_type": "code",
   "execution_count": 62,
   "id": "906ff366",
   "metadata": {},
   "outputs": [
    {
     "name": "stdout",
     "output_type": "stream",
     "text": [
      "2591935872704\n",
      "2591935831040\n",
      "Test 1: False\n",
      "Test 2: True\n",
      "2591935831040\n"
     ]
    }
   ],
   "source": [
    "this = [\"I\", \"am\", \"not\", \"a\", \"crook\"]\n",
    "that = [\"I\", \"am\", \"not\", \"a\", \"crook\"]\n",
    "print(id(this))\n",
    "print(id(that))\n",
    "print(\"Test 1: {0}\".format(this is that))\n",
    "this = that\n",
    "print(\"Test 2: {0}\".format(this is that))\n",
    "print(id(this))"
   ]
  },
  {
   "cell_type": "code",
   "execution_count": null,
   "id": "cd28f006",
   "metadata": {},
   "outputs": [],
   "source": [
    "def replace(s, old, new):\n",
    "    x = s.split(old)\n",
    "    z = new.join(x)\n",
    "    return z\n",
    "\n",
    "print(replace(\"Mississippi\", \"i\",\"I\"))\n",
    "print(replace(\"\"\"I love spom! spom is my favorite food. spom, spom, yum!\"\"\", \"om\", \"am\"))\n",
    "print(replace(\"\"\"I love spom! spom is my favorite food. spom, spom, yum!\"\"\", \"o\", \"a\"))"
   ]
  },
  {
   "cell_type": "code",
   "execution_count": 64,
   "id": "002a9705",
   "metadata": {},
   "outputs": [
    {
     "name": "stdout",
     "output_type": "stream",
     "text": [
      "1\n",
      "01\n",
      "101\n",
      "0101\n",
      "10101\n"
     ]
    }
   ],
   "source": [
    "def number(n):\n",
    "    for i in range(1,n+1):\n",
    "        for g in range(i):\n",
    "            print((g+i)%2, end=\"\")\n",
    "        print()\n",
    "        \n",
    "number(5)"
   ]
  },
  {
   "cell_type": "code",
   "execution_count": 8,
   "id": "d3c030fb",
   "metadata": {},
   "outputs": [
    {
     "data": {
      "text/plain": [
       "'This is not perfect number'"
      ]
     },
     "execution_count": 8,
     "metadata": {},
     "output_type": "execute_result"
    }
   ],
   "source": [
    "def perfect(n):\n",
    "    k = []\n",
    "    l = 0\n",
    "    for i in range(1,n):\n",
    "        if n%i==0:\n",
    "            x = i\n",
    "            k.append(x)\n",
    "    for j in range(len(k)):\n",
    "        l += k[j]\n",
    "    if l == n:\n",
    "        return \"This is perfect number\"\n",
    "    else:\n",
    "        return \"This is not perfect number\"\n",
    "\n",
    "perfect(27)\n",
    "            "
   ]
  },
  {
   "cell_type": "code",
   "execution_count": 28,
   "id": "6004fed8",
   "metadata": {},
   "outputs": [
    {
     "name": "stdout",
     "output_type": "stream",
     "text": [
      "Enter the start range: 3\n",
      "Enter the end range: 4\n",
      "Enter your guess number: 4\n"
     ]
    },
    {
     "data": {
      "text/plain": [
       "'Warm'"
      ]
     },
     "execution_count": 28,
     "metadata": {},
     "output_type": "execute_result"
    }
   ],
   "source": [
    "import random\n",
    "\n",
    "\n",
    "def rand(s, e, g):\n",
    "    x = random.randrange(s, e)\n",
    "    if x == g:\n",
    "        return \"ongratulations, your guess was right\"\n",
    "    elif g <= x + 3:\n",
    "        return \"Warm\"\n",
    "    else:\n",
    "        return \"Cold\"\n",
    "\n",
    "\n",
    "s = int(input(\"Enter the start range: \"))\n",
    "e = int(input(\"Enter the end range: \"))\n",
    "g = int(input(\"Enter your guess number: \"))\n",
    "rand(s, e, g)"
   ]
  },
  {
   "cell_type": "code",
   "execution_count": 23,
   "id": "a58620f4",
   "metadata": {},
   "outputs": [
    {
     "name": "stdout",
     "output_type": "stream",
     "text": [
      "6\n"
     ]
    }
   ],
   "source": [
    "x = random.randrange(5, 6+1)\n",
    "print(x)"
   ]
  },
  {
   "cell_type": "code",
   "execution_count": 40,
   "id": "90907f45",
   "metadata": {
    "collapsed": true
   },
   "outputs": [
    {
     "name": "stdout",
     "output_type": "stream",
     "text": [
      "Enter the start range: 5\n",
      "Enter the end range: 9\n",
      "Enter your guess number: 5\n",
      "The guess number is: 6\n",
      "Warm\n",
      "\n"
     ]
    },
    {
     "data": {
      "text/plain": [
       "(None, None, None)"
      ]
     },
     "execution_count": 40,
     "metadata": {},
     "output_type": "execute_result"
    }
   ],
   "source": [
    "import random\n",
    "\n",
    "\n",
    "def rand(s, e, g):\n",
    "    x = random.randrange(s, e)\n",
    "    if x == g:\n",
    "        return \"congratulations, your guess was right\"\n",
    "    elif g <= x + 3:\n",
    "        return \"Warm\"\n",
    "    else:\n",
    "        return \"Cold\"\n",
    "\n",
    "\n",
    "s = int(input(\"Enter the start range: \"))\n",
    "e = int(input(\"Enter the end range: \"))\n",
    "g = int(input(\"Enter your guess number: \"))\n",
    "rand(s, e, g)"
   ]
  },
  {
   "cell_type": "code",
   "execution_count": 47,
   "id": "1e50b710",
   "metadata": {},
   "outputs": [
    {
     "name": "stdout",
     "output_type": "stream",
     "text": [
      "True\n",
      "False\n",
      "True\n"
     ]
    }
   ],
   "source": [
    "def near_ten(n):\n",
    "    if n > 0:\n",
    "        x = n % 10\n",
    "        if x >= 8 or x <= 2:\n",
    "            return True\n",
    "        else:\n",
    "            return False\n",
    "    else:\n",
    "        return False\n",
    "print(near_ten(12))\n",
    "print(near_ten(17))\n",
    "print(near_ten(19))\n"
   ]
  },
  {
   "cell_type": "code",
   "execution_count": 44,
   "id": "07bf40fa",
   "metadata": {},
   "outputs": [
    {
     "name": "stdout",
     "output_type": "stream",
     "text": [
      "8\n"
     ]
    }
   ],
   "source": []
  },
  {
   "cell_type": "code",
   "execution_count": 62,
   "id": "5d030629",
   "metadata": {},
   "outputs": [
    {
     "name": "stdout",
     "output_type": "stream",
     "text": [
      "True\n",
      "False\n",
      "True\n"
     ]
    }
   ],
   "source": [
    "def make_bricks(s, b, l):\n",
    "    if type(l) == float:\n",
    "        return False\n",
    "    if l > 5 and b > 0:\n",
    "        while b != 0 and l >= 5:\n",
    "            l -= 5\n",
    "            b -= 1\n",
    "    l -= s\n",
    "    if l > 0:\n",
    "        return False\n",
    "    else:\n",
    "        return True\n",
    "    \n",
    "    \n",
    "print(make_bricks(3, 1, 8))\n",
    "print(make_bricks(3, 1, 9))\n",
    "print(make_bricks(3, 2, 10))"
   ]
  },
  {
   "cell_type": "code",
   "execution_count": 65,
   "id": "1c6f270f",
   "metadata": {},
   "outputs": [
    {
     "name": "stdout",
     "output_type": "stream",
     "text": [
      "6\n",
      "3\n",
      "1\n"
     ]
    }
   ],
   "source": [
    "def lucky_sum(a, b, c):\n",
    "    if a == 13:\n",
    "        return 0\n",
    "    elif b == 13:\n",
    "        return a\n",
    "    elif c == 13:\n",
    "        return a + b\n",
    "    else:\n",
    "        return a + b + c\n",
    "    \n",
    "    \n",
    "print(lucky_sum(1, 2, 3))\n",
    "print(lucky_sum(1, 2, 13))\n",
    "print(lucky_sum(1, 13, 3))"
   ]
  },
  {
   "cell_type": "code",
   "execution_count": 73,
   "id": "f84ecc1d",
   "metadata": {},
   "outputs": [
    {
     "name": "stdout",
     "output_type": "stream",
     "text": [
      "60\n",
      "30\n",
      "10\n"
     ]
    }
   ],
   "source": [
    "def round_sum(a, b, c):\n",
    "    a1 = a % 10\n",
    "    b1 = b % 10\n",
    "    c1 = c % 10\n",
    "    if 10 > a1 > 4:\n",
    "        a = ((a // 10)+1)*10\n",
    "    else:\n",
    "        a = (a // 10)*10\n",
    "    if 10 > b1 > 4:\n",
    "        b = ((b // 10)+1)*10\n",
    "    else:\n",
    "        b = (b // 10)*10\n",
    "    if 10 > c1 > 4:\n",
    "        c = ((c // 10)+1)*10\n",
    "    else:\n",
    "        c = (c // 10)*10\n",
    "    return a + b + c\n",
    "\n",
    "\n",
    "print(round_sum(16, 17, 18))\n",
    "print(round_sum(12, 13, 14))\n",
    "print(round_sum(6, 4, 4))"
   ]
  },
  {
   "cell_type": "code",
   "execution_count": 85,
   "id": "a122808e",
   "metadata": {},
   "outputs": [
    {
     "data": {
      "text/plain": [
       "9"
      ]
     },
     "execution_count": 85,
     "metadata": {},
     "output_type": "execute_result"
    }
   ],
   "source": [
    "def even(n):\n",
    "    x = 0\n",
    "    if n % 2 != 0:\n",
    "        n -= 1\n",
    "    while n != 0:\n",
    "        n = str(n)\n",
    "        if len(n) > 1:\n",
    "            if n[1] in \"246\":\n",
    "                x += 1\n",
    "        else:\n",
    "            if n in \"246\":\n",
    "                x += 1\n",
    "        n = int(n) - 2\n",
    "    return x\n",
    "\n",
    "even(30)"
   ]
  },
  {
   "cell_type": "code",
   "execution_count": 97,
   "id": "f7334fab",
   "metadata": {},
   "outputs": [
    {
     "name": "stdout",
     "output_type": "stream",
     "text": [
      "21\n",
      "21\n",
      "19\n",
      "17\n"
     ]
    }
   ],
   "source": [
    "def blackjack(a, b):\n",
    "    if a > 0 and b > 0:\n",
    "        if a == 21:\n",
    "            return a\n",
    "        elif b == 21:\n",
    "            return b\n",
    "        if a > 21 and b > 21:\n",
    "            return 0\n",
    "        elif a > 21 and b < 21:\n",
    "            return b\n",
    "        elif b > 21 and a < 21:\n",
    "            return a\n",
    "        elif b < 21 and a < 21:\n",
    "            b2, a2 = b, a\n",
    "            while a2 < 21 and b2 < 21:\n",
    "                a2 += 1\n",
    "                b2 += 1\n",
    "            if a2 > b2:\n",
    "                return b\n",
    "            else:\n",
    "                return a\n",
    "    else:\n",
    "        return \"Out of range\"\n",
    "    \n",
    "    \n",
    "print(blackjack(19, 21))\n",
    "print(blackjack(21, 19))\n",
    "print(blackjack(19, 22))\n",
    "print(blackjack(19, 17))"
   ]
  },
  {
   "cell_type": "code",
   "execution_count": null,
   "id": "c45022b7",
   "metadata": {},
   "outputs": [],
   "source": []
  },
  {
   "cell_type": "code",
   "execution_count": 93,
   "id": "36c9ae79",
   "metadata": {},
   "outputs": [
    {
     "name": "stdout",
     "output_type": "stream",
     "text": [
      "6\n",
      "2\n",
      "0\n"
     ]
    }
   ],
   "source": [
    "def loneSum(a, b, c):\n",
    "    if a == b != c:\n",
    "        return c\n",
    "    elif a == b == c:\n",
    "        return 0\n",
    "    elif a == c != b:\n",
    "        return b\n",
    "    elif b == c != a:\n",
    "        return a\n",
    "    elif a != b != c:\n",
    "        return a + b + c\n",
    "    \n",
    "    \n",
    "print(loneSum(1, 2, 3))\n",
    "print(loneSum(3, 2, 3))\n",
    "print(loneSum(3, 3, 3))"
   ]
  },
  {
   "cell_type": "code",
   "execution_count": 98,
   "id": "e04e03b9",
   "metadata": {},
   "outputs": [
    {
     "name": "stdout",
     "output_type": "stream",
     "text": [
      "True\n",
      "True\n",
      "False\n"
     ]
    }
   ],
   "source": [
    "def twoAsOne(a, b, c):\n",
    "    if (a + b) == c:\n",
    "        return True\n",
    "    elif (b + c) == a:\n",
    "        return True\n",
    "    elif (a + c) == b:\n",
    "        return True\n",
    "    else:\n",
    "        return False\n",
    "    \n",
    "    \n",
    "print(twoAsOne(1, 2, 3))\n",
    "print(twoAsOne(3, 1, 2))\n",
    "print(twoAsOne(3, 2, 2))"
   ]
  },
  {
   "cell_type": "code",
   "execution_count": 103,
   "id": "4d109675",
   "metadata": {},
   "outputs": [
    {
     "name": "stdout",
     "output_type": "stream",
     "text": [
      "True\n",
      "True\n",
      "True\n",
      "True\n",
      "False\n",
      "False\n",
      "False\n",
      "False\n",
      "False\n",
      "False\n"
     ]
    }
   ],
   "source": [
    "def leap_year(year):\n",
    "    if year % 400 == 0:\n",
    "        return True\n",
    "    elif year % 100 == 0:\n",
    "        return False\n",
    "    elif year % 4 == 0:\n",
    "        return True\n",
    "    else:\n",
    "        return False\n",
    "    \n",
    "    \n",
    "print(leap_year(2020))\n",
    "print(leap_year(2024))\n",
    "print(leap_year(2000))\n",
    "print(leap_year(2400))\n",
    "print(leap_year(1800))\n",
    "print(leap_year(1900))\n",
    "print(leap_year(2100))\n",
    "print(leap_year(2200))\n",
    "print(leap_year(2300))\n",
    "print(leap_year(2500))"
   ]
  },
  {
   "cell_type": "code",
   "execution_count": 105,
   "id": "e59f0f85",
   "metadata": {},
   "outputs": [
    {
     "name": "stdout",
     "output_type": "stream",
     "text": [
      "4\n",
      "-1\n",
      "2\n"
     ]
    }
   ],
   "source": [
    "def make_chocolate(s, b, t):\n",
    "    x = 0\n",
    "    if b > 0:\n",
    "        while b != 0 and t != 0:\n",
    "            t -= 5\n",
    "            b -= 1\n",
    "    if t == 0:\n",
    "        return 0\n",
    "    else:\n",
    "        while t != 0:\n",
    "            x += 1\n",
    "            t -= 1\n",
    "            s -= 1\n",
    "    if s < 0:\n",
    "        return -1\n",
    "    elif s >= 0:\n",
    "        return x\n",
    "    \n",
    "    \n",
    "print(make_chocolate(4, 1, 9))\n",
    "print(make_chocolate(4, 1, 10))\n",
    "print(make_chocolate(4, 1, 7))"
   ]
  },
  {
   "cell_type": "code",
   "execution_count": 107,
   "id": "f2105b29",
   "metadata": {},
   "outputs": [
    {
     "data": {
      "text/plain": [
       "[7, 14, 21, 28]"
      ]
     },
     "execution_count": 107,
     "metadata": {},
     "output_type": "execute_result"
    }
   ],
   "source": [
    "def function(a, b):\n",
    "    x = []\n",
    "    for i in range(a, b+1):\n",
    "        if i % 7 == 0:\n",
    "            if i % 5 != 0:\n",
    "                x.append(i)\n",
    "    return x\n",
    "\n",
    "\n",
    "function(1, 36)"
   ]
  },
  {
   "cell_type": "code",
   "execution_count": null,
   "id": "04c2ca6e",
   "metadata": {},
   "outputs": [],
   "source": []
  },
  {
   "cell_type": "code",
   "execution_count": 109,
   "id": "ecc5bf46",
   "metadata": {
    "collapsed": true
   },
   "outputs": [
    {
     "data": {
      "text/plain": [
       "[3,\n",
       " 4,\n",
       " 5,\n",
       " 5,\n",
       " 5,\n",
       " 6,\n",
       " 6,\n",
       " 7,\n",
       " 7,\n",
       " 7,\n",
       " 7,\n",
       " 7,\n",
       " 8,\n",
       " 8,\n",
       " 8,\n",
       " 8,\n",
       " 9,\n",
       " 9,\n",
       " 9,\n",
       " 9,\n",
       " 9,\n",
       " 9,\n",
       " 10,\n",
       " 10,\n",
       " 10,\n",
       " 10,\n",
       " 10,\n",
       " 10,\n",
       " 11,\n",
       " 11,\n",
       " 11,\n",
       " 11,\n",
       " 11,\n",
       " 11,\n",
       " 11,\n",
       " 11,\n",
       " 11,\n",
       " 12,\n",
       " 12,\n",
       " 12,\n",
       " 12,\n",
       " 12,\n",
       " 12,\n",
       " 13,\n",
       " 13,\n",
       " 13,\n",
       " 13,\n",
       " 13,\n",
       " 13,\n",
       " 13,\n",
       " 13,\n",
       " 13,\n",
       " 13,\n",
       " 13,\n",
       " 14,\n",
       " 14,\n",
       " 14,\n",
       " 14,\n",
       " 14,\n",
       " 14,\n",
       " 14,\n",
       " 14,\n",
       " 14,\n",
       " 14,\n",
       " 15,\n",
       " 15,\n",
       " 15,\n",
       " 15,\n",
       " 15,\n",
       " 15,\n",
       " 15,\n",
       " 15,\n",
       " 15,\n",
       " 15,\n",
       " 15,\n",
       " 16,\n",
       " 16,\n",
       " 16,\n",
       " 16,\n",
       " 16,\n",
       " 16,\n",
       " 16,\n",
       " 16,\n",
       " 16,\n",
       " 16,\n",
       " 16,\n",
       " 17,\n",
       " 17,\n",
       " 17,\n",
       " 17,\n",
       " 17,\n",
       " 17,\n",
       " 17,\n",
       " 17,\n",
       " 17,\n",
       " 17,\n",
       " 17,\n",
       " 17,\n",
       " 17,\n",
       " 17,\n",
       " 17,\n",
       " 18,\n",
       " 18,\n",
       " 18,\n",
       " 18,\n",
       " 18,\n",
       " 18,\n",
       " 18,\n",
       " 18,\n",
       " 18,\n",
       " 18,\n",
       " 18,\n",
       " 18,\n",
       " 19,\n",
       " 19,\n",
       " 19,\n",
       " 19,\n",
       " 19,\n",
       " 19,\n",
       " 19,\n",
       " 19,\n",
       " 19,\n",
       " 19,\n",
       " 19,\n",
       " 19,\n",
       " 19,\n",
       " 19,\n",
       " 19,\n",
       " 19,\n",
       " 19,\n",
       " 20,\n",
       " 20,\n",
       " 20,\n",
       " 20,\n",
       " 20,\n",
       " 20,\n",
       " 20,\n",
       " 20,\n",
       " 20,\n",
       " 20,\n",
       " 20,\n",
       " 20,\n",
       " 20,\n",
       " 20,\n",
       " 21,\n",
       " 21,\n",
       " 21,\n",
       " 21,\n",
       " 21,\n",
       " 21,\n",
       " 21,\n",
       " 21,\n",
       " 21,\n",
       " 21,\n",
       " 21,\n",
       " 21,\n",
       " 21,\n",
       " 21,\n",
       " 21,\n",
       " 21,\n",
       " 21,\n",
       " 22,\n",
       " 22,\n",
       " 22,\n",
       " 22,\n",
       " 22,\n",
       " 22,\n",
       " 22,\n",
       " 22,\n",
       " 22,\n",
       " 22,\n",
       " 22,\n",
       " 22,\n",
       " 22,\n",
       " 22,\n",
       " 22,\n",
       " 22,\n",
       " 22,\n",
       " 22,\n",
       " 23,\n",
       " 23,\n",
       " 23,\n",
       " 23,\n",
       " 23,\n",
       " 23,\n",
       " 23,\n",
       " 23,\n",
       " 23,\n",
       " 23,\n",
       " 23,\n",
       " 23,\n",
       " 23,\n",
       " 23,\n",
       " 23,\n",
       " 23,\n",
       " 23,\n",
       " 23,\n",
       " 23,\n",
       " 23,\n",
       " 23,\n",
       " 24,\n",
       " 24,\n",
       " 24,\n",
       " 24,\n",
       " 24,\n",
       " 24,\n",
       " 24,\n",
       " 24,\n",
       " 24,\n",
       " 24,\n",
       " 24,\n",
       " 24,\n",
       " 24,\n",
       " 24,\n",
       " 24,\n",
       " 24,\n",
       " 25,\n",
       " 25,\n",
       " 25,\n",
       " 25,\n",
       " 25,\n",
       " 25,\n",
       " 25,\n",
       " 25,\n",
       " 25,\n",
       " 25,\n",
       " 25,\n",
       " 25,\n",
       " 25,\n",
       " 25,\n",
       " 25,\n",
       " 25,\n",
       " 25,\n",
       " 25,\n",
       " 25,\n",
       " 25,\n",
       " 25,\n",
       " 25,\n",
       " 26,\n",
       " 26,\n",
       " 26,\n",
       " 26,\n",
       " 26,\n",
       " 26,\n",
       " 26,\n",
       " 26,\n",
       " 26,\n",
       " 26,\n",
       " 26,\n",
       " 26,\n",
       " 26,\n",
       " 26,\n",
       " 26,\n",
       " 26,\n",
       " 26,\n",
       " 26,\n",
       " 26,\n",
       " 26,\n",
       " 26,\n",
       " 26,\n",
       " 27,\n",
       " 27,\n",
       " 27,\n",
       " 27,\n",
       " 27,\n",
       " 27,\n",
       " 27,\n",
       " 27,\n",
       " 27,\n",
       " 27,\n",
       " 27,\n",
       " 27,\n",
       " 27,\n",
       " 27,\n",
       " 27,\n",
       " 27,\n",
       " 27,\n",
       " 27,\n",
       " 27,\n",
       " 27,\n",
       " 27,\n",
       " 27,\n",
       " 27,\n",
       " 28,\n",
       " 28,\n",
       " 28,\n",
       " 28,\n",
       " 28,\n",
       " 28,\n",
       " 28,\n",
       " 28,\n",
       " 28,\n",
       " 28,\n",
       " 28,\n",
       " 28,\n",
       " 28,\n",
       " 28,\n",
       " 28,\n",
       " 28,\n",
       " 28,\n",
       " 28,\n",
       " 28,\n",
       " 28,\n",
       " 28,\n",
       " 28,\n",
       " 29,\n",
       " 29,\n",
       " 29,\n",
       " 29,\n",
       " 29,\n",
       " 29,\n",
       " 29,\n",
       " 29,\n",
       " 29,\n",
       " 29,\n",
       " 29,\n",
       " 29,\n",
       " 29,\n",
       " 29,\n",
       " 29,\n",
       " 29,\n",
       " 29,\n",
       " 29,\n",
       " 29,\n",
       " 29,\n",
       " 29,\n",
       " 29,\n",
       " 29,\n",
       " 29,\n",
       " 29,\n",
       " 29,\n",
       " 29,\n",
       " 30,\n",
       " 30,\n",
       " 30,\n",
       " 30,\n",
       " 30,\n",
       " 30,\n",
       " 30,\n",
       " 30,\n",
       " 30,\n",
       " 30,\n",
       " 30,\n",
       " 30,\n",
       " 30,\n",
       " 30,\n",
       " 30,\n",
       " 30,\n",
       " 30,\n",
       " 30,\n",
       " 30,\n",
       " 30,\n",
       " 30,\n",
       " 30,\n",
       " 31,\n",
       " 31,\n",
       " 31,\n",
       " 31,\n",
       " 31,\n",
       " 31,\n",
       " 31,\n",
       " 31,\n",
       " 31,\n",
       " 31,\n",
       " 31,\n",
       " 31,\n",
       " 31,\n",
       " 31,\n",
       " 31,\n",
       " 31,\n",
       " 31,\n",
       " 31,\n",
       " 31,\n",
       " 31,\n",
       " 31,\n",
       " 31,\n",
       " 31,\n",
       " 31,\n",
       " 31,\n",
       " 31,\n",
       " 31,\n",
       " 31,\n",
       " 31,\n",
       " 32,\n",
       " 32,\n",
       " 32,\n",
       " 32,\n",
       " 32,\n",
       " 32,\n",
       " 32,\n",
       " 32,\n",
       " 32,\n",
       " 32,\n",
       " 32,\n",
       " 32,\n",
       " 32,\n",
       " 32,\n",
       " 32,\n",
       " 32,\n",
       " 32,\n",
       " 32,\n",
       " 32,\n",
       " 32,\n",
       " 32,\n",
       " 32,\n",
       " 32,\n",
       " 32,\n",
       " 32,\n",
       " 32,\n",
       " 33,\n",
       " 33,\n",
       " 33,\n",
       " 33,\n",
       " 33,\n",
       " 33,\n",
       " 33,\n",
       " 33,\n",
       " 33,\n",
       " 33,\n",
       " 33,\n",
       " 33,\n",
       " 33,\n",
       " 33,\n",
       " 33,\n",
       " 33,\n",
       " 33,\n",
       " 33,\n",
       " 33,\n",
       " 33,\n",
       " 33,\n",
       " 33,\n",
       " 33,\n",
       " 33,\n",
       " 33,\n",
       " 33,\n",
       " 33,\n",
       " 33,\n",
       " 33,\n",
       " 34,\n",
       " 34,\n",
       " 34,\n",
       " 34,\n",
       " 34,\n",
       " 34,\n",
       " 34,\n",
       " 34,\n",
       " 34,\n",
       " 34,\n",
       " 34,\n",
       " 34,\n",
       " 34,\n",
       " 34,\n",
       " 34,\n",
       " 34,\n",
       " 34,\n",
       " 34,\n",
       " 34,\n",
       " 34,\n",
       " 34,\n",
       " 34,\n",
       " 34,\n",
       " 34,\n",
       " 34,\n",
       " 34,\n",
       " 34,\n",
       " 34,\n",
       " 34,\n",
       " 34,\n",
       " 35,\n",
       " 35,\n",
       " 35,\n",
       " 35,\n",
       " 35,\n",
       " 35,\n",
       " 35,\n",
       " 35,\n",
       " 35,\n",
       " 35,\n",
       " 35,\n",
       " 35,\n",
       " 35,\n",
       " 35,\n",
       " 35,\n",
       " 35,\n",
       " 35,\n",
       " 35,\n",
       " 35,\n",
       " 35,\n",
       " 35,\n",
       " 35,\n",
       " 35,\n",
       " 35,\n",
       " 35,\n",
       " 35,\n",
       " 35,\n",
       " 35,\n",
       " 35,\n",
       " 35,\n",
       " 35,\n",
       " 36,\n",
       " 36,\n",
       " 36,\n",
       " 36,\n",
       " 36,\n",
       " 36,\n",
       " 36,\n",
       " 36,\n",
       " 36,\n",
       " 36,\n",
       " 36,\n",
       " 36,\n",
       " 36,\n",
       " 36,\n",
       " 36,\n",
       " 36,\n",
       " 36,\n",
       " 36,\n",
       " 36,\n",
       " 36,\n",
       " 36,\n",
       " 36,\n",
       " 36,\n",
       " 36,\n",
       " 36,\n",
       " 36,\n",
       " 36,\n",
       " 37,\n",
       " 37,\n",
       " 37,\n",
       " 37,\n",
       " 37,\n",
       " 37,\n",
       " 37,\n",
       " 37,\n",
       " 37,\n",
       " 37,\n",
       " 37,\n",
       " 37,\n",
       " 37,\n",
       " 37,\n",
       " 37,\n",
       " 37,\n",
       " 37,\n",
       " 37,\n",
       " 37,\n",
       " 37,\n",
       " 37,\n",
       " 37,\n",
       " 37,\n",
       " 37,\n",
       " 37,\n",
       " 37,\n",
       " 37,\n",
       " 37,\n",
       " 37,\n",
       " 37,\n",
       " 37,\n",
       " 37,\n",
       " 37,\n",
       " 37,\n",
       " 37,\n",
       " 38,\n",
       " 38,\n",
       " 38,\n",
       " 38,\n",
       " 38,\n",
       " 38,\n",
       " 38,\n",
       " 38,\n",
       " 38,\n",
       " 38,\n",
       " 38,\n",
       " 38,\n",
       " 38,\n",
       " 38,\n",
       " 38,\n",
       " 38,\n",
       " 38,\n",
       " 38,\n",
       " 38,\n",
       " 38,\n",
       " 38,\n",
       " 38,\n",
       " 38,\n",
       " 38,\n",
       " 38,\n",
       " 38,\n",
       " 38,\n",
       " 38,\n",
       " 38,\n",
       " 38,\n",
       " 38,\n",
       " 38,\n",
       " 38,\n",
       " 38,\n",
       " 39,\n",
       " 39,\n",
       " 39,\n",
       " 39,\n",
       " 39,\n",
       " 39,\n",
       " 39,\n",
       " 39,\n",
       " 39,\n",
       " 39,\n",
       " 39,\n",
       " 39,\n",
       " 39,\n",
       " 39,\n",
       " 39,\n",
       " 39,\n",
       " 39,\n",
       " 39,\n",
       " 39,\n",
       " 39,\n",
       " 39,\n",
       " 39,\n",
       " 39,\n",
       " 39,\n",
       " 39,\n",
       " 39,\n",
       " 39,\n",
       " 39,\n",
       " 39,\n",
       " 39,\n",
       " 39,\n",
       " 39,\n",
       " 39,\n",
       " 39,\n",
       " 39,\n",
       " 40,\n",
       " 40,\n",
       " 40,\n",
       " 40,\n",
       " 40,\n",
       " 40,\n",
       " 40,\n",
       " 40,\n",
       " 40,\n",
       " 40,\n",
       " 40,\n",
       " 40,\n",
       " 40,\n",
       " 40,\n",
       " 40,\n",
       " 40,\n",
       " 40,\n",
       " 40,\n",
       " 40,\n",
       " 40,\n",
       " 40,\n",
       " 40,\n",
       " 40,\n",
       " 40,\n",
       " 40,\n",
       " 40,\n",
       " 40,\n",
       " 40,\n",
       " 40,\n",
       " 40,\n",
       " 40,\n",
       " 40,\n",
       " 41,\n",
       " 41,\n",
       " 41,\n",
       " 41,\n",
       " 41,\n",
       " 41,\n",
       " 41,\n",
       " 41,\n",
       " 41,\n",
       " 41,\n",
       " 41,\n",
       " 41,\n",
       " 41,\n",
       " 41,\n",
       " 41,\n",
       " 41,\n",
       " 41,\n",
       " 41,\n",
       " 41,\n",
       " 41,\n",
       " 41,\n",
       " 41,\n",
       " 41,\n",
       " 41,\n",
       " 41,\n",
       " 41,\n",
       " 41,\n",
       " 41,\n",
       " 41,\n",
       " 41,\n",
       " 41,\n",
       " 41,\n",
       " 41,\n",
       " 41,\n",
       " 41,\n",
       " 41,\n",
       " 41,\n",
       " 41,\n",
       " 41,\n",
       " 42,\n",
       " 42,\n",
       " 42,\n",
       " 42,\n",
       " 42,\n",
       " 42,\n",
       " 42,\n",
       " 42,\n",
       " 42,\n",
       " 42,\n",
       " 42,\n",
       " 42,\n",
       " 42,\n",
       " 42,\n",
       " 42,\n",
       " 42,\n",
       " 42,\n",
       " 42,\n",
       " 42,\n",
       " 42,\n",
       " 42,\n",
       " 42,\n",
       " 42,\n",
       " 42,\n",
       " 42,\n",
       " 42,\n",
       " 42,\n",
       " 42,\n",
       " 42,\n",
       " 42,\n",
       " 42,\n",
       " 42,\n",
       " 42,\n",
       " 42,\n",
       " 43,\n",
       " 43,\n",
       " 43,\n",
       " 43,\n",
       " 43,\n",
       " 43,\n",
       " 43,\n",
       " 43,\n",
       " 43,\n",
       " 43,\n",
       " 43,\n",
       " 43,\n",
       " 43,\n",
       " 43,\n",
       " 43,\n",
       " 43,\n",
       " 43,\n",
       " 43,\n",
       " 43,\n",
       " 43,\n",
       " 43,\n",
       " 43,\n",
       " 43,\n",
       " 43,\n",
       " 43,\n",
       " 43,\n",
       " 43,\n",
       " 43,\n",
       " 43,\n",
       " 43,\n",
       " 43,\n",
       " 43,\n",
       " 43,\n",
       " 43,\n",
       " 43,\n",
       " 43,\n",
       " 43,\n",
       " 43,\n",
       " 43,\n",
       " 43,\n",
       " 43,\n",
       " 44,\n",
       " 44,\n",
       " 44,\n",
       " 44,\n",
       " 44,\n",
       " 44,\n",
       " 44,\n",
       " 44,\n",
       " 44,\n",
       " 44,\n",
       " 44,\n",
       " 44,\n",
       " 44,\n",
       " 44,\n",
       " 44,\n",
       " 44,\n",
       " 44,\n",
       " 44,\n",
       " 44,\n",
       " 44,\n",
       " 44,\n",
       " 44,\n",
       " 44,\n",
       " 44,\n",
       " 44,\n",
       " 44,\n",
       " 44,\n",
       " 44,\n",
       " 44,\n",
       " 44,\n",
       " 44,\n",
       " 44,\n",
       " 44,\n",
       " 44,\n",
       " 44,\n",
       " 44,\n",
       " 44,\n",
       " 44,\n",
       " 45,\n",
       " 45,\n",
       " 45,\n",
       " 45,\n",
       " 45,\n",
       " 45,\n",
       " 45,\n",
       " 45,\n",
       " 45,\n",
       " 45,\n",
       " 45,\n",
       " 45,\n",
       " 45,\n",
       " 45,\n",
       " 45,\n",
       " 45,\n",
       " 45,\n",
       " 45,\n",
       " 45,\n",
       " 45,\n",
       " 45,\n",
       " 45,\n",
       " 45,\n",
       " 45,\n",
       " 45,\n",
       " 45,\n",
       " 45,\n",
       " 45,\n",
       " 45,\n",
       " 45,\n",
       " 45,\n",
       " 45,\n",
       " 45,\n",
       " 45,\n",
       " 45,\n",
       " 45,\n",
       " 45,\n",
       " 45,\n",
       " 45,\n",
       " 46,\n",
       " 46,\n",
       " 46,\n",
       " 46,\n",
       " 46,\n",
       " 46,\n",
       " 46,\n",
       " 46,\n",
       " 46,\n",
       " 46,\n",
       " 46,\n",
       " 46,\n",
       " 46,\n",
       " 46,\n",
       " 46,\n",
       " 46,\n",
       " 46,\n",
       " 46,\n",
       " 46,\n",
       " 46,\n",
       " 46,\n",
       " 46,\n",
       " 46,\n",
       " 46,\n",
       " 46,\n",
       " 46,\n",
       " 46,\n",
       " 46,\n",
       " 46,\n",
       " 46,\n",
       " 46,\n",
       " 46,\n",
       " 46,\n",
       " 46,\n",
       " 46,\n",
       " 46,\n",
       " 46,\n",
       " 46,\n",
       " 46,\n",
       " 46,\n",
       " 46,\n",
       " 46,\n",
       " 47,\n",
       " 47,\n",
       " 47,\n",
       " 47,\n",
       " 47,\n",
       " 47,\n",
       " 47,\n",
       " 47,\n",
       " 47,\n",
       " 47,\n",
       " 47,\n",
       " 47,\n",
       " 47,\n",
       " 47,\n",
       " 47,\n",
       " 47,\n",
       " 47,\n",
       " 47,\n",
       " 47,\n",
       " 47,\n",
       " 47,\n",
       " 47,\n",
       " 47,\n",
       " 47,\n",
       " 47,\n",
       " 47,\n",
       " 47,\n",
       " 47,\n",
       " 47,\n",
       " 47,\n",
       " 47,\n",
       " 47,\n",
       " 47,\n",
       " 47,\n",
       " 47,\n",
       " 47,\n",
       " 47,\n",
       " 47,\n",
       " 47,\n",
       " 47,\n",
       " 47,\n",
       " 47,\n",
       " 47,\n",
       " 47,\n",
       " 47,\n",
       " 48,\n",
       " 48,\n",
       " 48,\n",
       " 48,\n",
       " 48,\n",
       " 48,\n",
       " 48,\n",
       " 48,\n",
       " 48,\n",
       " 48,\n",
       " 48,\n",
       " 48,\n",
       " 48,\n",
       " 48,\n",
       " 48,\n",
       " 48,\n",
       " 48,\n",
       " 48,\n",
       " 48,\n",
       " 48,\n",
       " 48,\n",
       " 48,\n",
       " 48,\n",
       " 48,\n",
       " 48,\n",
       " 48,\n",
       " 48,\n",
       " 48,\n",
       " 48,\n",
       " 48,\n",
       " 48,\n",
       " 48,\n",
       " 48,\n",
       " 48,\n",
       " 48,\n",
       " 48,\n",
       " 48,\n",
       " 48,\n",
       " 49,\n",
       " 49,\n",
       " 49,\n",
       " 49,\n",
       " 49,\n",
       " 49,\n",
       " 49,\n",
       " 49,\n",
       " 49,\n",
       " 49,\n",
       " 49,\n",
       " 49,\n",
       " 49,\n",
       " 49,\n",
       " 49,\n",
       " 49,\n",
       " 49,\n",
       " 49,\n",
       " 49,\n",
       " 49,\n",
       " 49,\n",
       " 49,\n",
       " ...]"
      ]
     },
     "execution_count": 109,
     "metadata": {},
     "output_type": "execute_result"
    }
   ],
   "source": [
    "def sum(n):\n",
    "    x = []\n",
    "    j = n+10000\n",
    "    for i in range(2,j):\n",
    "        for k in range(2, i):\n",
    "            if i % k != 0:\n",
    "                x.append(i)\n",
    "    return x\n",
    "\n",
    "\n",
    "\n",
    "sum(1)"
   ]
  },
  {
   "cell_type": "code",
   "execution_count": 108,
   "id": "afcdd7d4",
   "metadata": {},
   "outputs": [],
   "source": [
    "for k in range(2,2):\n",
    "    print(k)"
   ]
  },
  {
   "cell_type": "code",
   "execution_count": 1,
   "id": "c2353a6d",
   "metadata": {},
   "outputs": [
    {
     "name": "stdout",
     "output_type": "stream",
     "text": [
      "41\n"
     ]
    }
   ],
   "source": [
    "def prim(n):\n",
    "    b = [2,]\n",
    "    p = 0\n",
    "    for i in range(3, n*1000):\n",
    "        for k in range(2, i):\n",
    "            if (i % k) == 0:\n",
    "                break\n",
    "        else:\n",
    "            b.append(i)\n",
    "    b[:] = b[:n]\n",
    "    for i in range(len(b)):\n",
    "        p += b[i]\n",
    "    return p\n",
    "print(prim(6))"
   ]
  },
  {
   "cell_type": "markdown",
   "id": "9c1a4305",
   "metadata": {},
   "source": [
    "### def prim(b):\n",
    "    for i in range(2, b):\n",
    "        if (b % i) == 0:\n",
    "            return \"It is not prime\"\n",
    "    else:\n",
    "        return \"It is prime number\"\n",
    "    \n",
    "    \n",
    "prim(9973)"
   ]
  },
  {
   "cell_type": "code",
   "execution_count": null,
   "id": "d06973f2",
   "metadata": {},
   "outputs": [],
   "source": [
    "[3, 5, 7, 11, 13, 17, 19, 23, 29, 31, 37, 41, 43, 47, 53, 59, 61, 67, 71, 73, 79, 83, 89, 97, 101, 103, 107, 109, 113, 127, 131, 137, 139, 149, 151, 157, 163, 167, 173, 179, 181, 191, 193, 197, 199, 211, 223, 227, 229, 233, 239, 241, 251, 257, 263, 269, 271, 277, 281, 283, 293, 307, 311, 313, 317, 331, 337, 347, 349, 353, 359, 367, 373, 379, 383, 389, 397, 401, 409, 419, 421, 431, 433, 439, 443, 449, 457, 461, 463, 467, 479, 487, 491, 499, 503, 509, 521, 523, 541, 547, 557, 563, 569, 571, 577, 587, 593, 599, 601, 607, 613, 617, 619, 631, 641, 643, 647, 653, 659, 661, 673, 677, 683, 691, 701, 709, 719, 727, 733, 739, 743, 751, 757, 761, 769, 773, 787, 797, 809, 811, 821, 823, 827, 829, 839, 853, 857, 859, 863, 877, 881, 883, 887, 907, 911, 919, 929, 937, 941, 947, 953, 967, 971, 977, 983, 991, 997, 1009, 1013, 1019, 1021, 1031, 1033, 1039, 1049, 1051, 1061, 1063, 1069, 1087, 1091, 1093, 1097, 1103, 1109, 1117, 1123, 1129, 1151, 1153, 1163, 1171, 1181, 1187, 1193, 1201, 1213, 1217, 1223, 1229, 1231, 1237, 1249, 1259, 1277, 1279, 1283, 1289, 1291, 1297, 1301, 1303, 1307, 1319, 1321, 1327, 1361, 1367, 1373, 1381, 1399, 1409, 1423, 1427, 1429, 1433, 1439, 1447, 1451, 1453, 1459, 1471, 1481, 1483, 1487, 1489, 1493, 1499, 1511, 1523, 1531, 1543, 1549, 1553, 1559, 1567, 1571, 1579, 1583, 1597, 1601, 1607, 1609, 1613, 1619, 1621, 1627, 1637, 1657, 1663, 1667, 1669, 1693, 1697, 1699, 1709, 1721, 1723, 1733, 1741, 1747, 1753, 1759, 1777, 1783, 1787, 1789, 1801, 1811, 1823, 1831, 1847, 1861, 1867, 1871, 1873, 1877, 1879, 1889, 1901, 1907, 1913, 1931, 1933, 1949, 1951, 1973, 1979, 1987, 1993, 1997, 1999, 2003, 2011, 2017, 2027, 2029, 2039, 2053, 2063, 2069, 2081, 2083, 2087, 2089, 2099, 2111, 2113, 2129, 2131, 2137, 2141, 2143, 2153, 2161, 2179, 2203, 2207, 2213, 2221, 2237, 2239, 2243, 2251, 2267, 2269, 2273, 2281, 2287, 2293, 2297, 2309, 2311, 2333, 2339, 2341, 2347, 2351, 2357, 2371, 2377, 2381, 2383, 2389, 2393, 2399, 2411, 2417, 2423, 2437, 2441, 2447, 2459, 2467, 2473, 2477, 2503, 2521, 2531, 2539, 2543, 2549, 2551, 2557, 2579, 2591, 2593, 2609, 2617, 2621, 2633, 2647, 2657, 2659, 2663, 2671, 2677, 2683, 2687, 2689, 2693, 2699, 2707, 2711, 2713, 2719, 2729, 2731, 2741, 2749, 2753, 2767, 2777, 2789, 2791, 2797, 2801, 2803, 2819, 2833, 2837, 2843, 2851, 2857, 2861, 2879, 2887, 2897, 2903, 2909, 2917, 2927, 2939, 2953, 2957, 2963, 2969, 2971, 2999, 3001, 3011, 3019, 3023, 3037, 3041, 3049, 3061, 3067, 3079, 3083, 3089, 3109, 3119, 3121, 3137, 3163, 3167, 3169, 3181, 3187, 3191, 3203, 3209, 3217, 3221, 3229, 3251, 3253, 3257, 3259, 3271, 3299, 3301, 3307, 3313, 3319, 3323, 3329, 3331, 3343, 3347, 3359, 3361, 3371, 3373, 3389, 3391, 3407, 3413, 3433, 3449, 3457, 3461, 3463, 3467, 3469, 3491, 3499, 3511, 3517, 3527, 3529, 3533, 3539, 3541, 3547, 3557, 3559, 3571, 3581, 3583, 3593, 3607, 3613, 3617, 3623, 3631, 3637, 3643, 3659, 3671, 3673, 3677, 3691, 3697, 3701, 3709, 3719, 3727, 3733, 3739, 3761, 3767, 3769, 3779, 3793, 3797, 3803, 3821, 3823, 3833, 3847, 3851, 3853, 3863, 3877, 3881, 3889, 3907, 3911, 3917, 3919, 3923, 3929, 3931, 3943, 3947, 3967, 3989, 4001, 4003, 4007, 4013, 4019, 4021, 4027, 4049, 4051, 4057, 4073, 4079, 4091, 4093, 4099, 4111, 4127, 4129, 4133, 4139, 4153, 4157, 4159, 4177, 4201, 4211, 4217, 4219, 4229, 4231, 4241, 4243, 4253, 4259, 4261, 4271, 4273, 4283, 4289, 4297, 4327, 4337, 4339, 4349, 4357, 4363, 4373, 4391, 4397, 4409, 4421, 4423, 4441, 4447, 4451, 4457, 4463, 4481, 4483, 4493, 4507, 4513, 4517, 4519, 4523, 4547, 4549, 4561, 4567, 4583, 4591, 4597, 4603, 4621, 4637, 4639, 4643, 4649, 4651, 4657, 4663, 4673, 4679, 4691, 4703, 4721, 4723, 4729, 4733, 4751, 4759, 4783, 4787, 4789, 4793, 4799, 4801, 4813, 4817, 4831, 4861, 4871, 4877, 4889, 4903, 4909, 4919, 4931, 4933, 4937, 4943, 4951, 4957, 4967, 4969, 4973, 4987, 4993, 4999, 5003, 5009, 5011, 5021, 5023, 5039, 5051, 5059, 5077, 5081, 5087, 5099, 5101, 5107, 5113, 5119, 5147, 5153, 5167, 5171, 5179, 5189, 5197, 5209, 5227, 5231, 5233, 5237, 5261, 5273, 5279, 5281, 5297, 5303, 5309, 5323, 5333, 5347, 5351, 5381, 5387, 5393, 5399, 5407, 5413, 5417, 5419, 5431, 5437, 5441, 5443, 5449, 5471, 5477, 5479, 5483, 5501, 5503, 5507, 5519, 5521, 5527, 5531, 5557, 5563, 5569, 5573, 5581, 5591, 5623, 5639, 5641, 5647, 5651, 5653, 5657, 5659, 5669, 5683, 5689, 5693, 5701, 5711, 5717, 5737, 5741, 5743, 5749, 5779, 5783, 5791, 5801, 5807, 5813, 5821, 5827, 5839, 5843, 5849, 5851, 5857, 5861, 5867, 5869, 5879, 5881, 5897, 5903, 5923, 5927, 5939, 5953, 5981, 5987, 6007, 6011, 6029, 6037, 6043, 6047, 6053, 6067, 6073, 6079, 6089, 6091, 6101, 6113, 6121, 6131, 6133, 6143, 6151, 6163, 6173, 6197, 6199, 6203, 6211, 6217, 6221, 6229, 6247, 6257, 6263, 6269, 6271, 6277, 6287, 6299, 6301, 6311, 6317, 6323, 6329, 6337, 6343, 6353, 6359, 6361, 6367, 6373, 6379, 6389, 6397, 6421, 6427, 6449, 6451, 6469, 6473, 6481, 6491, 6521, 6529, 6547, 6551, 6553, 6563, 6569, 6571, 6577, 6581, 6599, 6607, 6619, 6637, 6653, 6659, 6661, 6673, 6679, 6689, 6691, 6701, 6703, 6709, 6719, 6733, 6737, 6761, 6763, 6779, 6781, 6791, 6793, 6803, 6823, 6827, 6829, 6833, 6841, 6857, 6863, 6869, 6871, 6883, 6899, 6907, 6911, 6917, 6947, 6949, 6959, 6961, 6967, 6971, 6977, 6983, 6991, 6997, 7001, 7013, 7019, 7027, 7039, 7043, 7057, 7069, 7079, 7103, 7109, 7121, 7127, 7129, 7151, 7159, 7177, 7187, 7193, 7207, 7211, 7213, 7219, 7229, 7237, 7243, 7247, 7253, 7283, 7297, 7307, 7309, 7321, 7331, 7333, 7349, 7351, 7369, 7393, 7411, 7417, 7433, 7451, 7457, 7459, 7477, 7481, 7487, 7489, 7499, 7507, 7517, 7523, 7529, 7537, 7541, 7547, 7549, 7559, 7561, 7573, 7577, 7583, 7589, 7591, 7603, 7607, 7621, 7639, 7643, 7649, 7669, 7673, 7681, 7687, 7691, 7699, 7703, 7717, 7723, 7727, 7741, 7753, 7757, 7759, 7789, 7793, 7817, 7823, 7829, 7841, 7853, 7867, 7873, 7877, 7879, 7883, 7901, 7907, 7919, 7927, 7933, 7937, 7949, 7951, 7963, 7993, 8009, 8011, 8017, 8039, 8053, 8059, 8069, 8081, 8087, 8089, 8093, 8101, 8111, 8117, 8123, 8147, 8161, 8167, 8171, 8179, 8191, 8209, 8219, 8221, 8231, 8233, 8237, 8243, 8263, 8269, 8273, 8287, 8291, 8293, 8297, 8311, 8317, 8329, 8353, 8363, 8369, 8377, 8387, 8389, 8419, 8423, 8429, 8431, 8443, 8447, 8461, 8467, 8501, 8513, 8521, 8527, 8537, 8539, 8543, 8563, 8573, 8581, 8597, 8599, 8609, 8623, 8627, 8629, 8641, 8647, 8663, 8669, 8677, 8681, 8689, 8693, 8699, 8707, 8713, 8719, 8731, 8737, 8741, 8747, 8753, 8761, 8779, 8783, 8803, 8807, 8819, 8821, 8831, 8837, 8839, 8849, 8861, 8863, 8867, 8887, 8893, 8923, 8929, 8933, 8941, 8951, 8963, 8969, 8971, 8999, 9001, 9007, 9011, 9013, 9029, 9041, 9043, 9049, 9059, 9067, 9091, 9103, 9109, 9127, 9133, 9137, 9151, 9157, 9161, 9173, 9181, 9187, 9199, 9203, 9209, 9221, 9227, 9239, 9241, 9257, 9277, 9281, 9283, 9293, 9311, 9319, 9323, 9337, 9341, 9343, 9349, 9371, 9377, 9391, 9397, 9403, 9413, 9419, 9421, 9431, 9433, 9437, 9439, 9461, 9463, 9467, 9473, 9479, 9491, 9497, 9511, 9521, 9533, 9539, 9547, 9551, 9587, 9601, 9613, 9619, 9623, 9629, 9631, 9643, 9649, 9661, 9677, 9679, 9689, 9697, 9719, 9721, 9733, 9739, 9743, 9749, 9767, 9769, 9781, 9787, 9791, 9803, 9811, 9817, 9829, 9833, 9839, 9851, 9857, 9859, 9871, 9883, 9887, 9901, 9907, 9923, 9929, 9931, 9941, 9949, 9967, 9973]\n"
   ]
  },
  {
   "cell_type": "code",
   "execution_count": 2,
   "id": "ab495535",
   "metadata": {},
   "outputs": [
    {
     "name": "stdout",
     "output_type": "stream",
     "text": [
      "Input a number (n≤10000) to compute the sum:(0 to exit)\n",
      "10\n",
      "Sum of first 10 prime numbers:\n",
      "129\n",
      "0\n"
     ]
    }
   ],
   "source": []
  },
  {
   "cell_type": "code",
   "execution_count": null,
   "id": "1ac37a5a",
   "metadata": {},
   "outputs": [],
   "source": [
    "def sumPrime(n):\n",
    "    sum = 0\n",
    "    count = 0\n",
    "    i = 2\n",
    "    while True:\n",
    "        notPrime = False\n",
    "        for j in range(2, i):\n",
    "            if i % j == 0:\n",
    "                notPrime = True\n",
    "        if notPrime == False:\n",
    "            sum += i\n",
    "            count += 1\n",
    "        if count == n:\n",
    "            break\n",
    "        i += 1\n",
    "    return sum\n",
    "print(sumPrime(400))"
   ]
  },
  {
   "cell_type": "code",
   "execution_count": 1,
   "id": "3817f7ad",
   "metadata": {},
   "outputs": [
    {
     "name": "stdout",
     "output_type": "stream",
     "text": [
      "[True, True, True, True, True, True, True, True, True, True, True, True, True, True, True, True, True, True, True, True, True, True, True, True, True, True, True, True, True, True, True, True, True, True, True, True, True, True, True, True, True, True, True, True, True, True, True, True, True, True, True, True, True, True, True, True, True, True, True, True, True, True, True, True, True, True, True, True, True, True, True, True, True, True, True, True, True, True, True, True, True, True, True, True, True, True, True, True, True, True, True, True, True, True, True, True, True, True, True, True]\n"
     ]
    }
   ],
   "source": [
    "is_prime = [True for _ in range(100)]\n",
    "print(is_prime)"
   ]
  },
  {
   "cell_type": "code",
   "execution_count": 1,
   "id": "61b30175",
   "metadata": {
    "collapsed": true
   },
   "outputs": [
    {
     "name": "stdout",
     "output_type": "stream",
     "text": [
      "The max number is 1230: 5000\n"
     ]
    },
    {
     "data": {
      "text/plain": [
       "114455259"
      ]
     },
     "execution_count": 1,
     "metadata": {},
     "output_type": "execute_result"
    }
   ],
   "source": [
    "def sum(n):\n",
    "    d = [2,]\n",
    "    z = 0\n",
    "    i = 3\n",
    "    flag = True\n",
    "    while flag:\n",
    "         for k in range(2, i):\n",
    "            if i % k == 0:\n",
    "                i += 1\n",
    "                break\n",
    "         else:\n",
    "             d.append(i)\n",
    "             i += 1\n",
    "         if len(d) == n:\n",
    "            flag = False\n",
    "    for l in range(len(d)):\n",
    "        z += d[l]\n",
    "    return z\n",
    "b = int(input(\"The max number is: \"))\n",
    "sum(b)"
   ]
  },
  {
   "cell_type": "code",
   "execution_count": null,
   "id": "009d1402",
   "metadata": {
    "collapsed": true
   },
   "outputs": [
    {
     "name": "stdout",
     "output_type": "stream",
     "text": [
      "Input a number (n≤10000) to compute the sum:(0 to exit)\n",
      "5000\n",
      "Sum of first 5000 prime numbers:\n",
      "114455259\n"
     ]
    }
   ],
   "source": [
    "MAX = 105000\n",
    "print(\"Input a number (n≤10000) to compute the sum:(0 to exit)\") \n",
    "is_prime = [True for _ in range(MAX)]\n",
    "is_prime[0] = is_prime[1] = False\n",
    "for i in range(2, int(MAX ** (1 / 2)) + 1):\n",
    "  if is_prime[i]:\n",
    "    for j in range(i ** 2, MAX, i):\n",
    "      is_prime[j] = False \n",
    "primes = [i for i in range(MAX) if is_prime[i]] \n",
    "while True:\n",
    "  n = int(input())\n",
    "  if not n:\n",
    "    break\n",
    "  print(\"Sum of first\",n,\"prime numbers:\")\n",
    "  print(sum(primes[:n]))"
   ]
  },
  {
   "cell_type": "code",
   "execution_count": null,
   "id": "23cff5d4",
   "metadata": {},
   "outputs": [],
   "source": [
    "def sum(n):\n",
    "    d = [2,]\n",
    "    z = 0\n",
    "    i = 3\n",
    "    flag = True\n",
    "    while flag:\n",
    "         for k in range(2, i):\n",
    "            if i % k == 0:\n",
    "                i += 1\n",
    "                break\n",
    "         else:\n",
    "             d.append(i)\n",
    "             i += 1\n",
    "         if len(d) == n:\n",
    "            flag = False\n",
    "    for l in range(len(d)):\n",
    "        z += d[l]\n",
    "    return z\n",
    "b = int(input(\"The max number is: \"))\n",
    "sum(b)"
   ]
  },
  {
   "cell_type": "code",
   "execution_count": 2,
   "id": "9a61421c",
   "metadata": {},
   "outputs": [
    {
     "name": "stdout",
     "output_type": "stream",
     "text": [
      "Enter the number: 1000\n"
     ]
    },
    {
     "data": {
      "text/plain": [
       "('Sum of first', 1000, 'prime numbers:', 3682913)"
      ]
     },
     "execution_count": 2,
     "metadata": {},
     "output_type": "execute_result"
    }
   ],
   "source": [
    "def sum(n):\n",
    "    b = [2,]\n",
    "    z = 0\n",
    "    i = 3\n",
    "    flag = True\n",
    "    while flag:\n",
    "        for j in range(2, i):\n",
    "            if i % j == 0:\n",
    "                i += 1\n",
    "                break\n",
    "        else:\n",
    "            b.append(i)\n",
    "            i += 1\n",
    "        if len(b) == n:\n",
    "            flag = False\n",
    "    for l in range(len(b)):\n",
    "        z += b[l]\n",
    "    return \"Sum of first\", n, \"prime numbers:\", z\n",
    "\n",
    "\n",
    "a = int(input(\"Enter the number: \"))\n",
    "sum(a)"
   ]
  },
  {
   "cell_type": "code",
   "execution_count": 1,
   "id": "478e9255",
   "metadata": {},
   "outputs": [
    {
     "name": "stdout",
     "output_type": "stream",
     "text": [
      "Input a number (n≤10000) to compute the sum:(0 to exit)\n",
      "1000\n",
      "Sum of first 1000 prime numbers:\n",
      "3682913\n",
      "0\n"
     ]
    }
   ],
   "source": [
    "MAX = 105000\n",
    "print(\"Input a number (n≤10000) to compute the sum:(0 to exit)\") \n",
    "is_prime = [True for _ in range(MAX)]\n",
    "is_prime[0] = is_prime[1] = False\n",
    "for i in range(2, int(MAX ** (1 / 2)) + 1):\n",
    "  if is_prime[i]:\n",
    "    for j in range(i ** 2, MAX, i):\n",
    "      is_prime[j] = False \n",
    "primes = [i for i in range(MAX) if is_prime[i]] \n",
    "while True:\n",
    "  n = int(input())\n",
    "  if not n:\n",
    "    break\n",
    "  print(\"Sum of first\",n,\"prime numbers:\")\n",
    "  print(sum(primes[:n]))"
   ]
  },
  {
   "cell_type": "code",
   "execution_count": 20,
   "id": "f9fc4ba4",
   "metadata": {
    "collapsed": true
   },
   "outputs": [
    {
     "name": "stdout",
     "output_type": "stream",
     "text": [
      "True\n",
      "True\n",
      "False\n"
     ]
    }
   ],
   "source": [
    "def is_happy2(n):\n",
    "    n = str(n)\n",
    "    l = 0\n",
    "    if len(n) == 1:\n",
    "        if int(n) == 1:\n",
    "            return True\n",
    "        else:\n",
    "            return False\n",
    "    else:\n",
    "        for i in range(len(n)):\n",
    "            l += int(n[i])**2\n",
    "    return is_happy2(l)\n",
    "            \n",
    "            \n",
    "def is_happy(n):\n",
    "    n = str(n)\n",
    "    z = 0\n",
    "    for i in range(len(n)):\n",
    "        z += int(n[i])**2\n",
    "    return is_happy2(z)\n",
    "print(is_happy(7))\n",
    "print(is_happy(932))\n",
    "print(is_happy(6)) "
   ]
  },
  {
   "cell_type": "code",
   "execution_count": 27,
   "id": "27eed259",
   "metadata": {
    "collapsed": true
   },
   "outputs": [
    {
     "name": "stdout",
     "output_type": "stream",
     "text": [
      "4\n",
      "25\n"
     ]
    }
   ],
   "source": [
    "def number_of_primes(n):\n",
    "    if n > -1:\n",
    "        b = []\n",
    "        for i in range(2,n+1):\n",
    "            for k in range(2, i):\n",
    "                if i % k == 0:\n",
    "                    break\n",
    "            else:\n",
    "                b.append(i)\n",
    "        return len(b)\n",
    "    else:\n",
    "        return \"Out of range\"\n",
    "    \n",
    "\n",
    "print(number_of_primes(10))\n",
    "print(number_of_primes(100))"
   ]
  },
  {
   "cell_type": "code",
   "execution_count": 29,
   "id": "947dd0f6",
   "metadata": {
    "collapsed": true
   },
   "outputs": [
    {
     "name": "stdout",
     "output_type": "stream",
     "text": [
      "False\n",
      "True\n",
      "False\n",
      "True\n"
     ]
    }
   ],
   "source": [
    "def is_palindrome(n):\n",
    "    z = \"\"\n",
    "    if n < 0:\n",
    "        return False\n",
    "    else:\n",
    "        n = str(n)\n",
    "        for i in range(len(n)-1, -1, -1):\n",
    "            z += n[i]\n",
    "        if z == n:\n",
    "            return True\n",
    "        else:\n",
    "            return False\n",
    "\n",
    "print(is_palindrome(100))\n",
    "print(is_palindrome(252))\n",
    "print(is_palindrome(-838))"
   ]
  },
  {
   "cell_type": "code",
   "execution_count": 38,
   "id": "98e93768",
   "metadata": {},
   "outputs": [
    {
     "name": "stdout",
     "output_type": "stream",
     "text": [
      "Largest: 9, Smallest: 2\n"
     ]
    }
   ],
   "source": [
    "def largest_smallest_digit(n):\n",
    "    n = str(n)\n",
    "    z = []\n",
    "    for i in range(len(n)):\n",
    "        z.append(int(n[i]))\n",
    "    s = z[0]\n",
    "    for s1 in z:\n",
    "        if s1 < s:\n",
    "            s = s1\n",
    "    l = z[0]\n",
    "    for l1 in z:\n",
    "        if l1 > l:\n",
    "            l = l1\n",
    "    print(\"Largest: \", l, \",\", \" Smallest: \", s, sep=\"\")\n",
    "largest_smallest_digit(9387422)"
   ]
  },
  {
   "cell_type": "code",
   "execution_count": 40,
   "id": "b9191c7e",
   "metadata": {},
   "outputs": [
    {
     "name": "stdout",
     "output_type": "stream",
     "text": [
      "True\n",
      "1\n",
      "False\n"
     ]
    }
   ],
   "source": [
    "def is_abundant(n):\n",
    "    z = 0\n",
    "    for i in range(1, n):\n",
    "        if n % i == 0:\n",
    "            z += i\n",
    "    if z > n:\n",
    "        return True\n",
    "    else:\n",
    "        return False\n",
    "\n",
    "\n",
    "print(is_abundant(12))\n",
    "print(is_abundant(13))"
   ]
  },
  {
   "cell_type": "code",
   "execution_count": null,
   "id": "f9c6fa55",
   "metadata": {},
   "outputs": [],
   "source": [
    "def next_smallest_palindrome(n):\n",
    "    d = []\n",
    "    z = str(n)\n",
    "    flag = True\n",
    "    while flag:\n",
    "        h = \"\"\n",
    "        for i in range(len(z)-1, -1, -1):\n",
    "            h += z[i]\n",
    "        z = int(z)\n",
    "        h = int(h)\n",
    "        if z == h:\n",
    "            flag = False\n",
    "        else:\n",
    "            z += 1\n",
    "    return h\n",
    "next_smallest_palindrome(99) "
   ]
  },
  {
   "cell_type": "code",
   "execution_count": 7,
   "id": "cf959817",
   "metadata": {},
   "outputs": [
    {
     "name": "stdout",
     "output_type": "stream",
     "text": [
      "101\n",
      "1331\n"
     ]
    }
   ],
   "source": [
    "def next_smallest_palindrome(n):\n",
    "    flag = True\n",
    "    while flag:\n",
    "        n = str(n+1)\n",
    "        h = \"\"\n",
    "        for i in range(len(n)-1, -1, -1):\n",
    "            h += n[i]\n",
    "        h = int(h)\n",
    "        n = int(n)\n",
    "        if n == h:\n",
    "            flag = False\n",
    "    return h\n",
    "print(next_smallest_palindrome(99))\n",
    "print(next_smallest_palindrome(1221))"
   ]
  },
  {
   "cell_type": "code",
   "execution_count": 12,
   "id": "f42ded8d",
   "metadata": {},
   "outputs": [
    {
     "data": {
      "text/plain": [
       "'True this is a Disarium number '"
      ]
     },
     "execution_count": 12,
     "metadata": {},
     "output_type": "execute_result"
    }
   ],
   "source": [
    "def disarium(n):\n",
    "    l = 1\n",
    "    s = 0\n",
    "    n = str(n)\n",
    "    for i in range(len(n)):\n",
    "        s += int(n[i])**l\n",
    "        l += 1\n",
    "    if s == int(n):\n",
    "        return \"True this is a Disarium number \"\n",
    "    else:\n",
    "        return \"False this is a Disarium number \"\n",
    "    \n",
    "\n",
    "disarium(135)"
   ]
  },
  {
   "cell_type": "code",
   "execution_count": 11,
   "id": "4435e5be",
   "metadata": {
    "collapsed": true
   },
   "outputs": [
    {
     "data": {
      "text/plain": [
       "135"
      ]
     },
     "execution_count": 11,
     "metadata": {},
     "output_type": "execute_result"
    }
   ],
   "source": [
    "1**1 +3**2 + 5**3"
   ]
  },
  {
   "cell_type": "code",
   "execution_count": 13,
   "id": "ed42435a",
   "metadata": {},
   "outputs": [
    {
     "data": {
      "text/plain": [
       "0"
      ]
     },
     "execution_count": 13,
     "metadata": {},
     "output_type": "execute_result"
    }
   ],
   "source": [
    "666 % 18"
   ]
  },
  {
   "cell_type": "code",
   "execution_count": 15,
   "id": "86cfec96",
   "metadata": {},
   "outputs": [
    {
     "name": "stdout",
     "output_type": "stream",
     "text": [
      "True\n",
      "False\n"
     ]
    }
   ],
   "source": [
    "def is_harsad(n):\n",
    "    n = str(n)\n",
    "    l = 0\n",
    "    for i in range(len(n)):\n",
    "        l += int(n[i])\n",
    "    if int(n) % l == 0:\n",
    "        return True\n",
    "    else:\n",
    "        return False\n",
    "        \n",
    "\n",
    "print(is_harsad(666))\n",
    "print(is_harsad(11))"
   ]
  },
  {
   "cell_type": "code",
   "execution_count": null,
   "id": "4388c16b",
   "metadata": {},
   "outputs": [],
   "source": [
    "def Pig_Latin(s):\n",
    "    "
   ]
  },
  {
   "cell_type": "code",
   "execution_count": null,
   "id": "7bf05e76",
   "metadata": {},
   "outputs": [],
   "source": [
    "s = \"I SLEPT MOST OF THE NIGHT\"\n",
    "f = []\n",
    "while True:\n",
    "    x = \"\"\n",
    "    for i in s:\n",
    "        x += i\n",
    "        if i ==\" \":\n",
    "            f +=i\n",
    "            break\n",
    "print(f)"
   ]
  },
  {
   "cell_type": "code",
   "execution_count": 4,
   "id": "db832d41",
   "metadata": {},
   "outputs": [
    {
     "name": "stdout",
     "output_type": "stream",
     "text": [
      "1\n",
      "3\n",
      "0\n"
     ]
    }
   ],
   "source": [
    "def countTriple(n):\n",
    "    m = 0\n",
    "    for i in n:\n",
    "        count = 0\n",
    "        k = \"\"\n",
    "        k += i\n",
    "        for i in n:\n",
    "            if i == k:\n",
    "                count += 1\n",
    "                if count >= 3:\n",
    "                    m += 1\n",
    "    return m // 3\n",
    "\n",
    "\n",
    "print(countTriple(\"abcXXXabc\"))\n",
    "print(countTriple(\"xxxabyyyycd\"))\n",
    "print(countTriple(\"a\")) "
   ]
  },
  {
   "cell_type": "code",
   "execution_count": 6,
   "id": "550010da",
   "metadata": {},
   "outputs": [
    {
     "name": "stdout",
     "output_type": "stream",
     "text": [
      "wili\n",
      "mzzwilili\n",
      "ilil\n",
      "ililimzwili\n",
      "False\n"
     ]
    }
   ],
   "source": [
    "animal = \"umzwilili\"\n",
    "print(animal[3:7])\n",
    "print(animal[1:3]+animal[2:])\n",
    "print(animal[-3:-1]*2)\n",
    "print(animal[4:99]+animal[1:-2])\n",
    "print(\"a\" in animal)\n"
   ]
  },
  {
   "cell_type": "code",
   "execution_count": 8,
   "id": "e4843d1c",
   "metadata": {},
   "outputs": [
    {
     "data": {
      "text/plain": [
       "'abyr'"
      ]
     },
     "execution_count": 8,
     "metadata": {},
     "output_type": "execute_result"
    }
   ],
   "source": [
    "def removedup(n):\n",
    "    s = \"\"\n",
    "    for i in n:\n",
    "        if i not in s:\n",
    "            s += i\n",
    "    return s\n",
    "                \n",
    "    \n",
    "removedup(\"aabbbbbbbbbbbyyyyyyyyyyyyyrr\")"
   ]
  },
  {
   "cell_type": "code",
   "execution_count": 11,
   "id": "9280e830",
   "metadata": {},
   "outputs": [
    {
     "data": {
      "text/plain": [
       "'abaabaabaabaa'"
      ]
     },
     "execution_count": 11,
     "metadata": {},
     "output_type": "execute_result"
    }
   ],
   "source": [
    "def remove(s, p):\n",
    "    z = \"\"\n",
    "    n = 0\n",
    "    for i in s:\n",
    "        if p != i:\n",
    "            z += i\n",
    "        else:\n",
    "            n += 1 \n",
    "    if n == 0:\n",
    "        return z[1:]\n",
    "    else:\n",
    "        return z\n",
    "    \n",
    "    \n",
    "remove(\"aabaabaabaabaa\", \"z\")"
   ]
  },
  {
   "cell_type": "code",
   "execution_count": 17,
   "id": "ca1fb56b",
   "metadata": {},
   "outputs": [
    {
     "name": "stdout",
     "output_type": "stream",
     "text": [
      "\n"
     ]
    }
   ],
   "source": [
    "animal = \"alpaca\"\n",
    "print(animal[7:99])"
   ]
  },
  {
   "cell_type": "code",
   "execution_count": 19,
   "id": "4108bc56",
   "metadata": {},
   "outputs": [
    {
     "name": "stdout",
     "output_type": "stream",
     "text": [
      "['ab', 'bc', 'ad', 'ad', 'ad']\n",
      "[['ab', 'bc', 'ad'], 'bd', ['ab', 'bc', 'ad'], 'bd']\n"
     ]
    }
   ],
   "source": [
    "aflist = [\"ba\", [\"ab\", \"bc\", \"ad\"],\"bd\"]\n",
    "print(aflist[-2]+ [\"ad\", \"ad\"])\n",
    "print(aflist[1:] * 2)\n",
    "# print([aflist[-1]+ [\"af\", \"ag\"]] * 2)"
   ]
  },
  {
   "cell_type": "code",
   "execution_count": null,
   "id": "24f00044",
   "metadata": {},
   "outputs": [],
   "source": [
    "def remove(s, p):\n",
    "    z = \"\"\n",
    "    n = 0\n",
    "    for i in s:\n",
    "        if p != i:\n",
    "            z += i\n",
    "        else:\n",
    "            n += 1\n",
    "    if n == 0:\n",
    "        return z[1:]\n",
    "    else:\n",
    "        return z\n",
    "\n",
    "\n",
    "remove(\"aabaabaabaabaa\", \"z\")"
   ]
  },
  {
   "cell_type": "code",
   "execution_count": 24,
   "id": "ff805898",
   "metadata": {},
   "outputs": [
    {
     "data": {
      "text/plain": [
       "'vbc'"
      ]
     },
     "execution_count": 24,
     "metadata": {},
     "output_type": "execute_result"
    }
   ],
   "source": [
    "def removes2(n, g):\n",
    "    a = \"\"\n",
    "    z = 0\n",
    "    for i in n:\n",
    "        if i != g:\n",
    "            a += i\n",
    "        else:\n",
    "            z += 1\n",
    "    if z == 0:\n",
    "        return n[1 : -1]\n",
    "    else:\n",
    "        return a\n",
    "    \n",
    "    \n",
    "removes2(\"aavbcaa\", \"a\")"
   ]
  },
  {
   "cell_type": "code",
   "execution_count": 1,
   "id": "d007ea4a",
   "metadata": {},
   "outputs": [
    {
     "name": "stdout",
     "output_type": "stream",
     "text": [
      "HiByeByeHi\n",
      "YoAliceAliceYo\n",
      "WhatUpUpWhat\n"
     ]
    }
   ],
   "source": [
    "def make_abba(a, b):\n",
    "    z = \"\"\n",
    "    n = 1\n",
    "    while n < 5:\n",
    "        if n == 1:\n",
    "            z += a\n",
    "            n += 1\n",
    "        elif n == 2:\n",
    "            z += b\n",
    "            n += 1\n",
    "        elif n == 3:\n",
    "            z += b\n",
    "            n += 1\n",
    "        else:\n",
    "            z += a\n",
    "            n += 1\n",
    "    return z\n",
    "\n",
    "\n",
    "print(make_abba('Hi', 'Bye'))\n",
    "print(make_abba('Yo', 'Alice'))\n",
    "print(make_abba('What', 'Up'))"
   ]
  },
  {
   "cell_type": "code",
   "execution_count": 7,
   "id": "7ff020e1",
   "metadata": {},
   "outputs": [
    {
     "name": "stdout",
     "output_type": "stream",
     "text": [
      "<<Yay>>\n",
      "<<WooHoo>>\n",
      "[[word]]\n"
     ]
    }
   ],
   "source": [
    "def make_out_word(a, b):\n",
    "    a1 = a[:2]\n",
    "    a2 = a[2:]\n",
    "    n = 1\n",
    "    z = \"\"\n",
    "    if len(a) == 4:\n",
    "        while n <= 3:\n",
    "            if n == 1:\n",
    "                z += a1\n",
    "                n += 1\n",
    "            elif n == 2:\n",
    "                n += 1\n",
    "                z += b\n",
    "            else:\n",
    "                n += 1\n",
    "                z += a2\n",
    "        return z\n",
    "    else: \n",
    "        return \"The first string should be 4 length\"\n",
    "    \n",
    "\n",
    "print(make_out_word('<<>>', 'Yay'))\n",
    "print(make_out_word('<<>>', 'WooHoo'))\n",
    "print(make_out_word('[[]]', 'word'))"
   ]
  },
  {
   "cell_type": "code",
   "execution_count": 8,
   "id": "a725e320",
   "metadata": {},
   "outputs": [
    {
     "name": "stdout",
     "output_type": "stream",
     "text": [
      "lololo\n",
      "ababab\n",
      "HiHiHi\n"
     ]
    }
   ],
   "source": [
    "def extra_end(n):\n",
    "    if len(n) >= 2:\n",
    "        n1 = n[-2:]\n",
    "        return n1*3\n",
    "    else:\n",
    "        return \"The length of the string less than 2\"\n",
    "    \n",
    "\n",
    "print(extra_end('Hello'))\n",
    "print(extra_end('ab'))\n",
    "print(extra_end('Hi'))"
   ]
  },
  {
   "cell_type": "code",
   "execution_count": 10,
   "id": "325c817f",
   "metadata": {},
   "outputs": [
    {
     "name": "stdout",
     "output_type": "stream",
     "text": [
      "He\n",
      "ab\n",
      "ab\n"
     ]
    }
   ],
   "source": [
    "def first_two(n):\n",
    "    l = len(n)\n",
    "    if l == 0:\n",
    "        return \" yields the empty string \"\n",
    "    elif l == 1:\n",
    "        return n\n",
    "    elif l > 1 :\n",
    "        return n[:2]\n",
    "\n",
    "\n",
    "print(first_two('Hello'))\n",
    "print(first_two('abcdefg'))\n",
    "print(first_two('ab'))"
   ]
  },
  {
   "cell_type": "code",
   "execution_count": 12,
   "id": "b803ec83",
   "metadata": {},
   "outputs": [
    {
     "name": "stdout",
     "output_type": "stream",
     "text": [
      "Woo\n",
      "Hello\n",
      "abc\n"
     ]
    }
   ],
   "source": [
    "def first_half(n):\n",
    "    l = len(n) // 2\n",
    "    return n[:l]\n",
    "    \n",
    "\n",
    "print(first_half('WooHoo'))\n",
    "print(first_half('HelloThere'))\n",
    "print(first_half('abcdef'))"
   ]
  },
  {
   "cell_type": "code",
   "execution_count": 13,
   "id": "c6838f3b",
   "metadata": {},
   "outputs": [
    {
     "name": "stdout",
     "output_type": "stream",
     "text": [
      "ell\n",
      "av\n",
      "odin\n"
     ]
    }
   ],
   "source": [
    "def without_end(n):\n",
    "    if len(n) < 2:\n",
    "        return False\n",
    "    else:\n",
    "        return n[1:-1]\n",
    "\n",
    "print(without_end('Hello'))\n",
    "print(without_end('java'))\n",
    "print(without_end('coding'))"
   ]
  },
  {
   "cell_type": "code",
   "execution_count": 15,
   "id": "329f1943",
   "metadata": {},
   "outputs": [
    {
     "name": "stdout",
     "output_type": "stream",
     "text": [
      "hiHellohi\n",
      "hiHellohi\n",
      "baaab\n"
     ]
    }
   ],
   "source": [
    "def combo_string(n, n1):\n",
    "    if len(n) > len(n1):\n",
    "        return n1 + n + n1\n",
    "    elif len(n1) > len(n):\n",
    "        return n + n1 + n\n",
    "    else:\n",
    "        return \"Those have same length\"\n",
    "\n",
    "\n",
    "print(combo_string('Hello', 'hi'))\n",
    "print(combo_string('hi', 'Hello'))\n",
    "print(combo_string('aaa', 'b'))"
   ]
  },
  {
   "cell_type": "code",
   "execution_count": 16,
   "id": "7c8ec695",
   "metadata": {},
   "outputs": [
    {
     "name": "stdout",
     "output_type": "stream",
     "text": [
      "ellohere\n",
      "avaode\n",
      "hotlava\n"
     ]
    }
   ],
   "source": [
    "def non_start(n, n1):\n",
    "    if len(n) >= 1 and len(n1) >= 1:\n",
    "        return n[1:] + n1[1:]\n",
    "    else:\n",
    "        return \"One from the strings is empty\"\n",
    "\n",
    "print(non_start('Hello', 'There'))\n",
    "print(non_start('java', 'code'))\n",
    "print(non_start('shotl', 'java'))"
   ]
  },
  {
   "cell_type": "code",
   "execution_count": 17,
   "id": "1333117b",
   "metadata": {},
   "outputs": [
    {
     "name": "stdout",
     "output_type": "stream",
     "text": [
      "lloHe\n",
      "vaja\n",
      "Hi\n"
     ]
    }
   ],
   "source": [
    "def left2(n):\n",
    "    if len(n) >= 2:\n",
    "        n = n[2:] + n[:2]\n",
    "        return n\n",
    "    else:\n",
    "        return \"The length of the code is less than 2\"\n",
    "\n",
    "print(left2('Hello'))\n",
    "print(left2('java'))\n",
    "print(left2('Hi'))"
   ]
  },
  {
   "cell_type": "code",
   "execution_count": 19,
   "id": "23086193",
   "metadata": {},
   "outputs": [
    {
     "name": "stdout",
     "output_type": "stream",
     "text": [
      "TThhee\n",
      "AAAAbbbb\n",
      "HHii--TThheerree\n"
     ]
    }
   ],
   "source": [
    "def double_char(n):\n",
    "    z = \"\"\n",
    "    for i in range(len(n)):\n",
    "        z += (n[i]*2)\n",
    "    return z\n",
    "                   \n",
    "\n",
    "print(double_char('The'))\n",
    "print(double_char('AAbb'))\n",
    "print(double_char('Hi-There'))"
   ]
  },
  {
   "cell_type": "code",
   "execution_count": 25,
   "id": "fe9cd1d5",
   "metadata": {
    "scrolled": true
   },
   "outputs": [
    {
     "name": "stdout",
     "output_type": "stream",
     "text": [
      "1\n",
      "2\n",
      "2\n"
     ]
    }
   ],
   "source": [
    "def count_hi(n):\n",
    "    count = 0\n",
    "    for i in range(2, len(n)+1):\n",
    "        z = n[(i-2):i]\n",
    "        if z == \"hi\":\n",
    "            count += 1\n",
    "    return count\n",
    "    \n",
    "\n",
    "print(count_hi('abc hi ho'))\n",
    "print(count_hi('ABChi hi'))\n",
    "print(count_hi('hihi'))"
   ]
  },
  {
   "cell_type": "code",
   "execution_count": 26,
   "id": "27e675cf",
   "metadata": {},
   "outputs": [
    {
     "name": "stdout",
     "output_type": "stream",
     "text": [
      "True\n",
      "False\n",
      "True\n"
     ]
    }
   ],
   "source": [
    "def cat_dog(n):\n",
    "    c = \"cat\"\n",
    "    d = \"dog\"\n",
    "    countd, countc = 0, 0\n",
    "    for i in range(len(c), len(n)+1):\n",
    "        z = n[(i-len(c)):i]\n",
    "        if z == c:\n",
    "            countc += 1\n",
    "    for i in range(len(d), len(n)+1):\n",
    "        a = n[(i-len(d)):i]\n",
    "        if a == d:\n",
    "            countd += 1\n",
    "    if countd == countc:\n",
    "        return True\n",
    "    else:\n",
    "        return False\n",
    "            \n",
    "            \n",
    "print(cat_dog('catdog'))\n",
    "print(cat_dog('catcat'))\n",
    "print(cat_dog('1cat1cadodog'))"
   ]
  },
  {
   "cell_type": "code",
   "execution_count": 28,
   "id": "3ff59097",
   "metadata": {},
   "outputs": [
    {
     "name": "stdout",
     "output_type": "stream",
     "text": [
      "1\n",
      "2\n",
      "2\n"
     ]
    }
   ],
   "source": [
    "def count_code(n):\n",
    "    z = 0\n",
    "    a = \"qwertyuiopasdfghjklzxcvbnm\"\n",
    "    c = \"code\"\n",
    "    for i in range(len(c), len(n)+1):\n",
    "        v = n[i-len(c):i]\n",
    "        for j in range(len(a)):\n",
    "            c1 = c[0:2] + a[j] +c[3]\n",
    "            if c1 == v:\n",
    "                z += 1\n",
    "    return z\n",
    "\n",
    "\n",
    "print(count_code('aaacodebbb'))\n",
    "print(count_code('codexxcode'))\n",
    "print(count_code('cozexxcope'))\n",
    "\"\"\"\n",
    "repeat\n",
    "repeat\n",
    "repeat\n",
    "repeat\n",
    "repeat\n",
    "\"\"\""
   ]
  },
  {
   "cell_type": "code",
   "execution_count": 45,
   "id": "5e3c7fb6",
   "metadata": {},
   "outputs": [
    {
     "data": {
      "text/plain": [
       "-864"
      ]
     },
     "execution_count": 45,
     "metadata": {},
     "output_type": "execute_result"
    }
   ],
   "source": [
    "\"\"\"tuples 1\"\"\"\n",
    "\n",
    "def mult(n):\n",
    "    x = 0\n",
    "    a = 1\n",
    "    for i in range(len(n)):\n",
    "            a *= n[i]\n",
    "            x += a\n",
    "    return a\n",
    "\n",
    "mult((4, 3, 2, 2, -1, 18))"
   ]
  },
  {
   "cell_type": "code",
   "execution_count": 52,
   "id": "92ff8c18",
   "metadata": {},
   "outputs": [
    {
     "name": "stdout",
     "output_type": "stream",
     "text": [
      "{'qw': 8, 'en': 13, 'fro': 77, 'klo': 4}\n"
     ]
    }
   ],
   "source": [
    "\"\"\"dectionary 29\"\"\"\n",
    "\n",
    "def doubled(n):\n",
    "    for i in n.keys():\n",
    "        if n[i] < 9:\n",
    "            n[i] = n[i] * 2\n",
    "    return n\n",
    "\n",
    "tvoc = {\"qw\": 4, \"en\":13, \"fro\": 77, \"klo\": 2}\n",
    "print(doubled(tvoc))"
   ]
  },
  {
   "cell_type": "code",
   "execution_count": null,
   "id": "d069d495",
   "metadata": {},
   "outputs": [],
   "source": [
    "\"\"\"Task #4 strings\"\"\"\n",
    "def countTriple(n):\n",
    "    m = 0\n",
    "    for i in n:\n",
    "        count = 0\n",
    "        k = \"\"\n",
    "        k += i\n",
    "        for i in n:\n",
    "            if i == k:\n",
    "                count += 1\n",
    "                if count >= 3:\n",
    "                    m += 1\n",
    "    return m // 3\n",
    "\n",
    "\n"
   ]
  },
  {
   "cell_type": "code",
   "execution_count": 35,
   "id": "df8c0f3f",
   "metadata": {},
   "outputs": [
    {
     "name": "stdout",
     "output_type": "stream",
     "text": [
      "1\n",
      "3\n"
     ]
    }
   ],
   "source": [
    "def countTriple(n):\n",
    "    x = []\n",
    "    m = \"\"\n",
    "    count = 0\n",
    "    for i in range(3, len(n)+1):\n",
    "        z = n[i-3:i]\n",
    "        x.append(z)\n",
    "    for k in range(len(n)):\n",
    "        p = n[k]*3\n",
    "        if n[k] not in m:\n",
    "            m += n[k]\n",
    "            if p in x:\n",
    "                count += x.count(p)\n",
    "    return count\n",
    "    \n",
    "    \n",
    "print(countTriple(\"abcXXXabc\"))\n",
    "print(countTriple(\"xxxabyyyycd\"))\n",
    "# print(countTriple(\"a\"))\n",
    "# print(countTriple(\"aaaaaaaaaaaaaaaaaa\"))"
   ]
  },
  {
   "cell_type": "code",
   "execution_count": 26,
   "id": "d2e83a36",
   "metadata": {},
   "outputs": [
    {
     "name": "stdout",
     "output_type": "stream",
     "text": [
      "3\n"
     ]
    }
   ],
   "source": [
    "x = [\"fas\", \"fadf\", \"fas\", \"fas\"]\n",
    "print(x.count('fas'))"
   ]
  },
  {
   "cell_type": "code",
   "execution_count": 56,
   "id": "caf78e21",
   "metadata": {},
   "outputs": [
    {
     "data": {
      "text/plain": [
       "'adfgh'"
      ]
     },
     "execution_count": 56,
     "metadata": {},
     "output_type": "execute_result"
    }
   ],
   "source": [
    "def check(str1, str2):\n",
    "    x = \"\"\n",
    "    p = \"\"\n",
    "    m = 0\n",
    "    for i in str1:\n",
    "        if i.isalpha and i not in x:\n",
    "            x += i\n",
    "    for k in range(len(x)):\n",
    "        o = 0\n",
    "        for j in range(len(word2)):\n",
    "            if str2[j] == x[k]:\n",
    "                o += 1\n",
    "            if o >= 2 and str2[j] not in p and str2[j] == x[k]:\n",
    "                p += str2[j]\n",
    "    return p\n",
    "\n",
    "\n",
    "word1 = \"aaddffgghhjjkkl\"\n",
    "word2 = \"asdfghjklz\"\n",
    "check(word2, word1)"
   ]
  },
  {
   "cell_type": "code",
   "execution_count": 54,
   "id": "267f4fb3",
   "metadata": {},
   "outputs": [
    {
     "data": {
      "text/plain": [
       "'adfghjk'"
      ]
     },
     "execution_count": 54,
     "metadata": {},
     "output_type": "execute_result"
    }
   ],
   "source": [
    "def check(str1, str2):\n",
    "    x = \"\"\n",
    "    z = \"\"\n",
    "    f = \"\"\n",
    "    for i in str1:\n",
    "        if i.isalpha and i not in x:\n",
    "            x += i\n",
    "    for j in str2:\n",
    "        c = 0\n",
    "        for k in x:\n",
    "            if k == j:\n",
    "                z += k\n",
    "    for _ in z:\n",
    "        if _ not in f:\n",
    "            c = list(z).count(_)\n",
    "            if c > 1:\n",
    "                f += _\n",
    "    return f\n",
    "\n",
    "\n",
    "word1 = \"aaddffgghhjjkkl\"\n",
    "word2 = \"asdfghjklz\"\n",
    "check(word2, word1)"
   ]
  },
  {
   "cell_type": "code",
   "execution_count": 58,
   "id": "a60c2753",
   "metadata": {},
   "outputs": [
    {
     "name": "stdout",
     "output_type": "stream",
     "text": [
      "True\n",
      "True\n",
      "True\n"
     ]
    }
   ],
   "source": [
    "def end_other(str1, str2):\n",
    "    str1 = str1.lower()\n",
    "    str2 = str2.lower()\n",
    "    if len(str1) > len(str2):\n",
    "        if str1[-len(str2):] == str2:\n",
    "            return True\n",
    "    elif len(str2) > len(str1):\n",
    "        if str2[-len(str1):] == str1:\n",
    "            return True\n",
    "    elif str2 == str1:\n",
    "        return True\n",
    "    else:\n",
    "        return False\n",
    "    \n",
    "\n",
    "print(end_other('Hiabc', 'abc'))\n",
    "print(end_other('AbC', 'HiaBc'))\n",
    "print(end_other('abc', 'abXabc'))"
   ]
  },
  {
   "cell_type": "code",
   "execution_count": 60,
   "id": "50d5c190",
   "metadata": {},
   "outputs": [
    {
     "name": "stdout",
     "output_type": "stream",
     "text": [
      "True\n",
      "False\n",
      "True\n"
     ]
    }
   ],
   "source": [
    "def xyz_there(str1):\n",
    "    if \"xyz\" in str1:\n",
    "        if \".xyz\" in str1:\n",
    "            return False\n",
    "        else:\n",
    "            return True\n",
    "    else:\n",
    "        return False\n",
    "    \n",
    "\n",
    "print(xyz_there('abcxyz'))\n",
    "print(xyz_there('abc.xyz'))\n",
    "print(xyz_there('xyz.abc'))"
   ]
  },
  {
   "cell_type": "code",
   "execution_count": 62,
   "id": "39cffacf",
   "metadata": {},
   "outputs": [
    {
     "data": {
      "text/plain": [
       "'resta$$t'"
      ]
     },
     "execution_count": 62,
     "metadata": {},
     "output_type": "execute_result"
    }
   ],
   "source": [
    "def change(str1):\n",
    "    n = str1[0]\n",
    "    n1 = str1[1:]\n",
    "    z = \"\" + n\n",
    "    for i in range(len(n1)):\n",
    "        if n == n1[i]:\n",
    "            z += \"$\"\n",
    "        else:\n",
    "            z += n1[i]\n",
    "    return z\n",
    "\n",
    "    \n",
    "change('restart')"
   ]
  },
  {
   "cell_type": "code",
   "execution_count": 65,
   "id": "2e8f340e",
   "metadata": {},
   "outputs": [
    {
     "data": {
      "text/plain": [
       "'xyc abz'"
      ]
     },
     "execution_count": 65,
     "metadata": {},
     "output_type": "execute_result"
    }
   ],
   "source": [
    "def swap(str1, str2):\n",
    "    x1 = str2[:2] + str1[2:]\n",
    "    x2 = str1[:2] + str2[2:]\n",
    "    x3 = x1 + \" \" +x2\n",
    "    return x3\n",
    "    \n",
    "    \n",
    "swap('abc', 'xyz')"
   ]
  },
  {
   "cell_type": "code",
   "execution_count": 66,
   "id": "ab96aefb",
   "metadata": {},
   "outputs": [
    {
     "name": "stdout",
     "output_type": "stream",
     "text": [
      "stringly\n",
      "abcing\n"
     ]
    }
   ],
   "source": [
    "def add(str1):\n",
    "    if len(str1) > 2:\n",
    "        if str1[-3:] == \"ing\":\n",
    "            return str1 + 'ly'\n",
    "        else:\n",
    "            return str1 + 'ing'\n",
    "    else:\n",
    "        return str1\n",
    "    \n",
    "print(add('string'))\n",
    "print(add('abc'))"
   ]
  },
  {
   "cell_type": "code",
   "execution_count": 86,
   "id": "62dcba34",
   "metadata": {
    "scrolled": true
   },
   "outputs": [
    {
     "name": "stdout",
     "output_type": "stream",
     "text": [
      "The lyrics is good!\n",
      "The lyrics is poor!\n"
     ]
    }
   ],
   "source": [
    "def replace(str1):\n",
    "    x1 = \"not\"\n",
    "    x2 = \"poor\"\n",
    "    x3 = \"poo\"\n",
    "    if x1 in str1 and x2 in str1:\n",
    "        for i in range(3, len(str1)):\n",
    "            str2 = str1[i-3:i]\n",
    "            if str2 == x1:\n",
    "                i1 = i\n",
    "            elif str2 == x3:\n",
    "                for j in range(4, len(str1)):\n",
    "                    str3 = str1[j-4:j]\n",
    "                    if str3 == x2:\n",
    "                        j1 = j\n",
    "        return str1[:i1-3] + \"good\" + str1[j1:]\n",
    "    else:\n",
    "        return str1\n",
    "    \n",
    "    \n",
    "print(replace(\"The lyrics is not that poor!\")) #'The lyrics is good!'\n",
    "print(replace('The lyrics is poor!')) #'The lyrics is poor!'"
   ]
  },
  {
   "cell_type": "code",
   "execution_count": 95,
   "id": "b3eacdfa",
   "metadata": {},
   "outputs": [
    {
     "name": "stdout",
     "output_type": "stream",
     "text": [
      "The lyrics is good!\n",
      "The lyrics is poor!\n"
     ]
    }
   ],
   "source": [
    "def replace(str1):\n",
    "    x1 = \"not\"\n",
    "    x2 = \"poor\"\n",
    "    x3 = \"poo\"\n",
    "    if x1 in str1 and x2 in str1:\n",
    "        for i in range(3, len(str1)+1):\n",
    "            str2 = str1[i-3:i]\n",
    "            if str2 == x1:\n",
    "                i1 = i\n",
    "            elif str2 == x3:\n",
    "                for j in range(4, len(str1)+1):\n",
    "                    str3 = str1[j-4:j]\n",
    "                    if str3 == x2:\n",
    "                        j1 = j\n",
    "        return str1[:i1-3] + \"good\" + str1[j1:]\n",
    "    else:\n",
    "        return str1\n",
    "\n",
    "\n",
    "print(replace(\"The lyrics is not that poor!\")) #'The lyrics is good!'\n",
    "print(replace('The lyrics is poor!')) #'The lyrics is poor!'"
   ]
  },
  {
   "cell_type": "code",
   "execution_count": 98,
   "id": "f95fff4a",
   "metadata": {},
   "outputs": [
    {
     "name": "stdout",
     "output_type": "stream",
     "text": [
      "The lyrics is good!\n"
     ]
    }
   ],
   "source": [
    "def replace(str1):\n",
    "    x1 = \"not\"\n",
    "    x2 = \"poor\"\n",
    "    if x1 in str1 and x2 in str1:#I want make sure those are in the string\n",
    "        for i in range(3, len(str1)+1):#because the last one does not include in range and index[:]\n",
    "            if str1[i-3:i] == x1:#now i make shore this is the position of not\n",
    "                i1 = i#because the i will change after it and i want memorize it\n",
    "        for j in range(4, len(str1)+1):#same the last\n",
    "            if str1[j-4:j] == x2:#same step\n",
    "                j1 = j#same step\n",
    "        return str1[:i1-3] + \"good\" + str1[j1:]\n",
    "        \"\"\"\n",
    "        Same calculus \n",
    "        I now the position of n's not has position (i1-3) and t has (i1-1)\n",
    "        the last one does not include if i put position's (n), n will not include\n",
    "        same thing in poor\n",
    "        \"\"\"\n",
    "    else:#those are not in the string because of that i return the string without any change\n",
    "        return str1\n",
    "\n",
    "\n",
    "print(replace(\"The lyrics is not that poor!\")) #'The lyrics is good!'\n",
    "print(replace('The lyrics is poor!')) #'The lyrics is poor!'"
   ]
  },
  {
   "cell_type": "code",
   "execution_count": 100,
   "id": "50f7d44d",
   "metadata": {},
   "outputs": [],
   "source": [
    "def replace(x):\n",
    "    x1 = \"poor\"\n",
    "    x3 = \"not\"\n",
    "    if x1 in x and x3 in x:\n",
    "        for i in range(4, len(x)+1):\n",
    "            x4 = x[i-4:i]\n",
    "            if x4 == x1:\n",
    "                i1 = i\n",
    "    "
   ]
  },
  {
   "cell_type": "code",
   "execution_count": 136,
   "id": "2f44d19d",
   "metadata": {},
   "outputs": [
    {
     "name": "stdout",
     "output_type": "stream",
     "text": [
      "h\n"
     ]
    }
   ],
   "source": [
    "def non_repeating(n):\n",
    "    j = list(n)\n",
    "    for i in n:\n",
    "        if j.count(i) > 1:\n",
    "            return i\n",
    "        \n",
    "            \n",
    "print(non_repeating(\"zhhhaaaaalloooowwwwwbb\"))"
   ]
  },
  {
   "cell_type": "code",
   "execution_count": 137,
   "id": "836984c6",
   "metadata": {},
   "outputs": [
    {
     "name": "stdout",
     "output_type": "stream",
     "text": [
      "fjasdfskalsjdfklfaf\n"
     ]
    }
   ],
   "source": [
    "def remove_spaces(n):\n",
    "    s = \" \"\n",
    "    n2 = ''\n",
    "    for i in n:\n",
    "        if s != i:\n",
    "            n2 += i\n",
    "    return n2\n",
    "\n",
    "print(remove_spaces(\"fjasdfs      kalsjdfkl f af \"))"
   ]
  },
  {
   "cell_type": "code",
   "execution_count": 172,
   "id": "10c1196c",
   "metadata": {},
   "outputs": [
    {
     "name": "stdout",
     "output_type": "stream",
     "text": [
      "4\n",
      "3\n"
     ]
    }
   ],
   "source": [
    "def max_consecutive_0(n):\n",
    "    x = 0\n",
    "    z = n.split(\"1\")\n",
    "    for i in z:\n",
    "        if len(i) > x:\n",
    "            x = len(i)\n",
    "    return x\n",
    "    \n",
    "\n",
    "print(max_consecutive_0('111000010000110')) # 4\n",
    "print(max_consecutive_0('111000111')) # 3"
   ]
  },
  {
   "cell_type": "code",
   "execution_count": null,
   "id": "7677e8f0",
   "metadata": {},
   "outputs": [],
   "source": [
    "def replace_words(n):\n",
    "    \n",
    "\n",
    "\n",
    "replace_words('Count the lowercase letters in the said list of words')\n",
    "\"\"\"\n",
    "##### the ######### ####### in the said list of ######\n",
    "\"\"\""
   ]
  },
  {
   "cell_type": "code",
   "execution_count": 185,
   "id": "c9e5357e",
   "metadata": {},
   "outputs": [
    {
     "data": {
      "text/plain": [
       "'##### the ######### ####### in the said list of #####'"
      ]
     },
     "execution_count": 185,
     "metadata": {},
     "output_type": "execute_result"
    }
   ],
   "source": [
    "def replace_words(n):\n",
    "    z = n.split(\" \")\n",
    "    q = z[-1]\n",
    "    p = \"\"\n",
    "    for i in z:\n",
    "        if len(i) >= 5 and i != q:\n",
    "            p += ((\"#\" * len(i))+\" \")\n",
    "        elif q == i:\n",
    "            if len(i) >= 5:\n",
    "                p += (\"#\" * len(i))\n",
    "            else:\n",
    "                p += i\n",
    "        else:\n",
    "            p += (i + \" \")  \n",
    "    return p\n",
    "\n",
    "replace_words('Count the lowercase letters in the said list of words')\n",
    "# \"\"\"\n",
    "# ##### the ######### ####### in the said list of ######\n",
    "# \"\"\""
   ]
  },
  {
   "cell_type": "code",
   "execution_count": 186,
   "id": "59bdc881",
   "metadata": {},
   "outputs": [
    {
     "data": {
      "text/plain": [
       "6"
      ]
     },
     "execution_count": 186,
     "metadata": {},
     "output_type": "execute_result"
    }
   ],
   "source": [
    "def digit_sum(n):\n",
    "    s = 0\n",
    "    for i in n:\n",
    "        s += int(i) \n",
    "    return s\n",
    "    \n",
    "digit_sum(\"123\") # 6"
   ]
  },
  {
   "cell_type": "code",
   "execution_count": 187,
   "id": "771958fd",
   "metadata": {},
   "outputs": [
    {
     "data": {
      "text/plain": [
       "'w3reSOURCE.COM'"
      ]
     },
     "execution_count": 187,
     "metadata": {},
     "output_type": "execute_result"
    }
   ],
   "source": [
    "def lower_n_letters(s,n):\n",
    "    s1 = s[:n]\n",
    "    s2 = s[n:]\n",
    "    s3 = s1.lower() + s2\n",
    "    return s3\n",
    "    \n",
    "    \n",
    "lower_n_letters('W3RESOURCE.COM', 4) # w3reSOURCE.COM "
   ]
  },
  {
   "cell_type": "code",
   "execution_count": 5,
   "id": "c559bd1b",
   "metadata": {},
   "outputs": [
    {
     "name": "stdout",
     "output_type": "stream",
     "text": [
      "IAY LEPTSAY OSTMAY FOAY HETAY IGHTNAY \n",
      "IAY LEPTSAY OSTMAY FOAY HETAY IGHTNAY\n"
     ]
    }
   ],
   "source": [
    "def Pig_Latin(n):\n",
    "    z = n.split(\" \")\n",
    "    z1 = \"\"\n",
    "    for i in z:\n",
    "        z1 += i[1:] + i[0] + \"AY\" + \" \"\n",
    "    return z1\n",
    "    \n",
    "    \n",
    "print(Pig_Latin(\"I SLEPT MOST OF THE NIGHT\")) #\"IAY LEPTSAY OSTMAY FOAY HETAY IGHTNAY\""
   ]
  },
  {
   "cell_type": "code",
   "execution_count": 9,
   "id": "46eae7f6",
   "metadata": {},
   "outputs": [
    {
     "name": "stdout",
     "output_type": "stream",
     "text": [
      "False\n"
     ]
    }
   ],
   "source": [
    "def prime(n):\n",
    "    x = 1000\n",
    "    list1 = [2,]\n",
    "    for i in range(3, x):\n",
    "        for g in range(2, i):\n",
    "            if (i % g) == 0:\n",
    "                break\n",
    "        else:\n",
    "            list1.append(i)\n",
    "    for j in range(len(list1)):\n",
    "        if j == len(list1)-1:\n",
    "            return False\n",
    "        else:\n",
    "            list2 = list1[j+1] + list1[j]\n",
    "            if list2 == n:\n",
    "                return True\n",
    "    return False\n",
    "print(prime(7))"
   ]
  },
  {
   "cell_type": "code",
   "execution_count": 24,
   "id": "f1d38814",
   "metadata": {},
   "outputs": [
    {
     "data": {
      "text/plain": [
       "31626"
      ]
     },
     "execution_count": 24,
     "metadata": {},
     "output_type": "execute_result"
    }
   ],
   "source": [
    "def amicable_numbers_sum(n):\n",
    "    list1 = 0\n",
    "    sum1 = 0\n",
    "    for i in range(1, n+1):\n",
    "        divisori = 0\n",
    "        divisori1 = 0\n",
    "        for j in range(1, i):\n",
    "            if i % j == 0:\n",
    "                divisori += j\n",
    "        if divisori != i:\n",
    "            for i1 in range(1, divisori):\n",
    "                if divisori % i1 == 0:\n",
    "                    divisori1 += i1\n",
    "            if divisori1 == i:\n",
    "                sum1 += i\n",
    "    return sum1\n",
    "\n",
    "\n",
    "amicable_numbers_sum(9999) "
   ]
  },
  {
   "cell_type": "code",
   "execution_count": 20,
   "id": "158251a0",
   "metadata": {},
   "outputs": [
    {
     "name": "stdout",
     "output_type": "stream",
     "text": [
      "[1, 2, 4, 7, 14]\n"
     ]
    }
   ],
   "source": [
    "x = []\n",
    "for i in range(1,28):\n",
    "    if 28 % i == 0:\n",
    "        x.append(i)\n",
    "print(x)"
   ]
  },
  {
   "cell_type": "code",
   "execution_count": 21,
   "id": "9f304f3e",
   "metadata": {},
   "outputs": [
    {
     "data": {
      "text/plain": [
       "28"
      ]
     },
     "execution_count": 21,
     "metadata": {},
     "output_type": "execute_result"
    }
   ],
   "source": [
    "1+2+4+7+14"
   ]
  },
  {
   "cell_type": "code",
   "execution_count": null,
   "id": "9c33fee3",
   "metadata": {},
   "outputs": [],
   "source": [
    "#6: Count how many words in a list have length 5."
   ]
  },
  {
   "cell_type": "code",
   "execution_count": 29,
   "id": "83e579cd",
   "metadata": {},
   "outputs": [
    {
     "name": "stdout",
     "output_type": "stream",
     "text": [
      "1000\n"
     ]
    }
   ],
   "source": [
    "import random\n",
    "def maximum(n):\n",
    "    x = n[0]\n",
    "    for i in n:\n",
    "        if i > x:\n",
    "            x = i\n",
    "    return x\n",
    "\n",
    "a = []\n",
    "for q in range(100):\n",
    "    a.append(random.randint(0,1001))\n",
    "\n",
    "print(maximum(a))"
   ]
  },
  {
   "cell_type": "code",
   "execution_count": 30,
   "id": "744a9a7c",
   "metadata": {},
   "outputs": [
    {
     "data": {
      "text/plain": [
       "6"
      ]
     },
     "execution_count": 30,
     "metadata": {},
     "output_type": "execute_result"
    }
   ],
   "source": [
    "def count(n):\n",
    "    cou = 0\n",
    "    for i in n:\n",
    "        if len(i) == 5:\n",
    "            cou += 1\n",
    "    return cou\n",
    "\n",
    "n = [\"fsadf\", \"fsadf\", \"fsadf\", \"fsadf\", \"fsadf\", \"fsadf\", 'fasd']\n",
    "count(n)"
   ]
  },
  {
   "cell_type": "code",
   "execution_count": null,
   "id": "79a606c9",
   "metadata": {},
   "outputs": [],
   "source": [
    "\"\"\"Task #1\"\"\"\n",
    "\n",
    "\n",
    "def check(n):\n",
    "    a = n[0]\n",
    "    for i in range(len(n)):\n",
    "        if a != n[i]:\n",
    "            return False\n",
    "    return True\n",
    "    \n",
    "\n",
    "x = (1, 2, 4, 66, 8, 9, 0)\n",
    "tuple1 = (45, 45, 45, 45)\n",
    "print(check(tuple1))\n",
    "print(check(x))"
   ]
  },
  {
   "cell_type": "code",
   "execution_count": 33,
   "id": "cb5395cb",
   "metadata": {},
   "outputs": [
    {
     "name": "stdout",
     "output_type": "stream",
     "text": [
      "18\n"
     ]
    }
   ],
   "source": [
    "mydict = {\"cat\":12, \"dog\":6, \"elephant\":23}\n",
    "mydict[\"mouse\"] = mydict[\"cat\"] + mydict[\"dog\"]\n",
    "print(mydict[\"mouse\"])"
   ]
  },
  {
   "cell_type": "code",
   "execution_count": 34,
   "id": "8476b5a9",
   "metadata": {},
   "outputs": [
    {
     "name": "stdout",
     "output_type": "stream",
     "text": [
      "apples  maps to  430\n",
      "bananas  maps to  312\n",
      "oranges  maps to  525\n",
      "pears  maps to  217\n",
      "['apples', 'bananas', 'oranges', 'pears']\n"
     ]
    }
   ],
   "source": [
    "inventory={\"apples\":430, \"bananas\":312, \"oranges\":525, \"pears\":217}\n",
    "\n",
    "for akey in inventory.keys():\n",
    "    print(akey, \" maps to \",  inventory[akey])\n",
    "    \n",
    "    \n",
    "ks=list(inventory.keys())\n",
    "print(ks)\n"
   ]
  },
  {
   "cell_type": "code",
   "execution_count": 35,
   "id": "88edaefd",
   "metadata": {},
   "outputs": [
    {
     "name": "stdout",
     "output_type": "stream",
     "text": [
      "apples\n",
      "430\n",
      "bananas\n",
      "312\n",
      "oranges\n",
      "525\n",
      "pears\n",
      "217\n"
     ]
    }
   ],
   "source": [
    "for k in inventory:\n",
    "    print (k) #accessing keys\n",
    "    print(inventory[k]) #accessing values\n"
   ]
  },
  {
   "cell_type": "code",
   "execution_count": 46,
   "id": "8f2d1c22",
   "metadata": {},
   "outputs": [
    {
     "name": "stdout",
     "output_type": "stream",
     "text": [
      "[430, 312, 525, 217]\n",
      "[('apples', 430), ('bananas', 312), ('oranges', 525), ('pears', 217)]\n",
      "dict_values([430, 312, 525, 217])\n",
      "dict_items([('apples', 430), ('bananas', 312), ('oranges', 525), ('pears', 217)])\n"
     ]
    }
   ],
   "source": [
    "inventory={\"apples\":430, \"bananas\":312, \"oranges\":525, \"pears\":217}\n",
    "\n",
    "print(list(inventory.values()))\n",
    "print(list(inventory.items()))\n",
    "\n",
    "print(inventory.values())\n",
    "print(inventory.items())"
   ]
  },
  {
   "cell_type": "code",
   "execution_count": 47,
   "id": "d5b0d777",
   "metadata": {},
   "outputs": [
    {
     "name": "stdout",
     "output_type": "stream",
     "text": [
      "apples 430\n",
      "bananas 312\n",
      "oranges 525\n",
      "pears 217\n"
     ]
    }
   ],
   "source": [
    "for (key,value) in inventory.items():\n",
    "    print (key, value)"
   ]
  },
  {
   "cell_type": "code",
   "execution_count": 56,
   "id": "d3dfb8f0",
   "metadata": {},
   "outputs": [
    {
     "name": "stdout",
     "output_type": "stream",
     "text": [
      "True\n",
      "False\n"
     ]
    }
   ],
   "source": [
    "inventory={\"apples\":430, \"bananas\":312, \"oranges\":525, \"pears\":217}\n",
    "print(\"apples\" in inventory)\n",
    "apples = inventory[\"apples\"]\n",
    "print(430 in inventory)"
   ]
  },
  {
   "cell_type": "code",
   "execution_count": 58,
   "id": "e0180c07",
   "metadata": {},
   "outputs": [
    {
     "name": "stdout",
     "output_type": "stream",
     "text": [
      "430\n",
      "0\n",
      "None\n"
     ]
    }
   ],
   "source": [
    "inventory={\"apples\":430, \"bananas\":312, \"oranges\":525, \"pears\":217}\n",
    "print(inventory.get(\"apples\"))\n",
    "print(inventory.get(\"cherries\",0))\n",
    "print(inventory.get(\"cherries\"))"
   ]
  },
  {
   "cell_type": "code",
   "execution_count": 59,
   "id": "31d9fdc8",
   "metadata": {},
   "outputs": [
    {
     "name": "stdout",
     "output_type": "stream",
     "text": [
      "elephant\n"
     ]
    }
   ],
   "source": [
    "mydict = {\"cat\":12, \"dog\":6, \"elephant\":23, \"bear\":20}\n",
    "keylist = list(mydict.keys())\n",
    "keylist.sort()\n",
    "print(keylist[3])"
   ]
  },
  {
   "cell_type": "code",
   "execution_count": 61,
   "id": "9c6a39cd",
   "metadata": {},
   "outputs": [
    {
     "name": "stdout",
     "output_type": "stream",
     "text": [
      "2\n"
     ]
    }
   ],
   "source": [
    "mydict = {\"cat\":12, \"dog\":6, \"elephant\":23, \"bear\":20}\n",
    "answer = mydict.get(\"cat\") // mydict.get(\"dog\")\n",
    "print(answer)"
   ]
  },
  {
   "cell_type": "code",
   "execution_count": 64,
   "id": "5a50abd8",
   "metadata": {
    "collapsed": true
   },
   "outputs": [
    {
     "name": "stdout",
     "output_type": "stream",
     "text": [
      "wrong\n"
     ]
    }
   ],
   "source": [
    "opposites={\"up\":\"down\", \"right\":\"wrong\", \"true\":\"false\"}\n",
    "acopy=opposites.copy()\n",
    "acopy[\"right\"]=\"left\"\n",
    "\n",
    "print(opposites[\"right\"])"
   ]
  },
  {
   "cell_type": "code",
   "execution_count": 84,
   "id": "348602e7",
   "metadata": {},
   "outputs": [
    {
     "name": "stdout",
     "output_type": "stream",
     "text": [
      "{'Name': 'John', 'Age': 6, 'Class': 'First'}\n",
      "{'Name': 'John', 'Age': 6, 'Class': 'First', 'school': 'DPS'}\n",
      "{'Name': 'John', 'Age': 6, 'school': 'DPS'}\n",
      "{'Name': 'John', 'Age': 8, 'school': 'DPS'}\n",
      "3\n",
      "['John', 8, 'DPS']\n",
      "['Name', 'Age', 'school']\n",
      "[('Name', 'John'), ('Age', 8), ('school', 'DPS')]\n",
      "John\n",
      "Name in this dictionary is related to the following value: John.\n",
      "Age in this dictionary is related to the following value: 8.\n",
      "school in this dictionary is related to the following value: DPS.\n"
     ]
    }
   ],
   "source": [
    "person = {\"Name\":\"John\", \"Age\":6, \"Class\":\"First\"}\n",
    "print(person)\n",
    "person[\"school\"] = \"DPS\"\n",
    "print(person)\n",
    "del person[\"Class\"]\n",
    "print(person)\n",
    "person[\"Age\"] = 8\n",
    "print(person)\n",
    "print(len(person))\n",
    "print(list(person.values()))\n",
    "print(list(person.keys()))\n",
    "print(list(person.items()))\n",
    "print(person.get(\"Name\", 0))\n",
    "for i in person:\n",
    "    print(i,\"in this dictionary is related to the following value:\", str(person[i]) + \".\")"
   ]
  },
  {
   "cell_type": "code",
   "execution_count": 93,
   "id": "848bffd4",
   "metadata": {},
   "outputs": [
    {
     "name": "stdout",
     "output_type": "stream",
     "text": [
      "True\n",
      "{'strawberries': 10}\n",
      "True\n"
     ]
    }
   ],
   "source": [
    "def add_fruit(inventory, fruit, quantity=0):\n",
    "     inventory[fruit] = quantity + inventory.get(fruit, 0)\n",
    "\n",
    "new_inventory = {}\n",
    "add_fruit(new_inventory, 'strawberries', 10)\n",
    "print('strawberries' in new_inventory)\n",
    "print(new_inventory)\n",
    "add_fruit(new_inventory, 'strawberries', 25)\n",
    "print(new_inventory['strawberries'] == 35)"
   ]
  },
  {
   "cell_type": "code",
   "execution_count": 96,
   "id": "1d0003e1",
   "metadata": {},
   "outputs": [
    {
     "name": "stdout",
     "output_type": "stream",
     "text": [
      "Enter a sentence: acdebf  \n",
      "a : 1\n",
      "b : 1\n",
      "c : 1\n",
      "d : 1\n",
      "e : 1\n",
      "f : 1\n"
     ]
    }
   ],
   "source": [
    "def schedule(n):\n",
    "    n = list(n.lower())\n",
    "    em1 = {}\n",
    "    n.sort()\n",
    "    for i in n:\n",
    "        if i.isalpha():\n",
    "            em1[i] = n.count(i)\n",
    "    for j in em1:\n",
    "        print(j, \":\", em1[j])\n",
    "    \n",
    "    \n",
    "x = input(\"Enter a sentence: \")\n",
    "schedule(x)"
   ]
  },
  {
   "cell_type": "code",
   "execution_count": 103,
   "id": "89807e35",
   "metadata": {},
   "outputs": [
    {
     "data": {
      "text/plain": [
       "362880"
      ]
     },
     "execution_count": 103,
     "metadata": {},
     "output_type": "execute_result"
    }
   ],
   "source": [
    "def multiply(n):\n",
    "    s = 1\n",
    "    for i in n:\n",
    "        s *= i\n",
    "    return s\n",
    "\n",
    "multiply([1, 2, 3, 4, 5, 6, 7, 8, 9])"
   ]
  },
  {
   "cell_type": "code",
   "execution_count": 100,
   "id": "ff79d3a0",
   "metadata": {},
   "outputs": [
    {
     "data": {
      "text/plain": [
       "362880"
      ]
     },
     "execution_count": 100,
     "metadata": {},
     "output_type": "execute_result"
    }
   ],
   "source": [
    "1*2*3*4*5*6*7*8*9"
   ]
  },
  {
   "cell_type": "code",
   "execution_count": 2,
   "id": "c58abe3b",
   "metadata": {},
   "outputs": [
    {
     "data": {
      "text/plain": [
       "1"
      ]
     },
     "execution_count": 2,
     "metadata": {},
     "output_type": "execute_result"
    }
   ],
   "source": [
    "def smallest(n):\n",
    "    n1 = n[0]\n",
    "    for i in n:\n",
    "        if n1 > i:\n",
    "            n1 = i\n",
    "    return n1\n",
    "\n",
    "smallest([1, 2, 3, 4, 5, 6, 7, 8, 9])"
   ]
  },
  {
   "cell_type": "code",
   "execution_count": 9,
   "id": "c82eaff2",
   "metadata": {},
   "outputs": [
    {
     "data": {
      "text/plain": [
       "2"
      ]
     },
     "execution_count": 9,
     "metadata": {},
     "output_type": "execute_result"
    }
   ],
   "source": [
    "def lenn(n):\n",
    "    count = 0\n",
    "    for i in n:\n",
    "        if type(i) == type(\"\"):\n",
    "            if len(i) >= 2:\n",
    "                if i[0] == i[-1]:\n",
    "                    count += 1\n",
    "    return count\n",
    "\n",
    "lenn(['abc', 'xyz', 'aba', '1221'])"
   ]
  },
  {
   "cell_type": "code",
   "execution_count": 1,
   "id": "9da7fe3d",
   "metadata": {},
   "outputs": [
    {
     "data": {
      "text/plain": [
       "[1, 2, 3, 4, 5, 6, 7, 8, 9]"
      ]
     },
     "execution_count": 1,
     "metadata": {},
     "output_type": "execute_result"
    }
   ],
   "source": [
    "def remove(n):\n",
    "    n1 = []\n",
    "    for i in n:\n",
    "        if i not in n1:\n",
    "            n1.append(i)\n",
    "    return n1\n",
    "\n",
    "\n",
    "remove([1, 2, 3, 4, 5, 6, 7, 8, 9, 9, 9])"
   ]
  },
  {
   "cell_type": "code",
   "execution_count": 5,
   "id": "a0cb3457",
   "metadata": {},
   "outputs": [
    {
     "name": "stdout",
     "output_type": "stream",
     "text": [
      "This is an empty list\n",
      "This is not an empty list\n"
     ]
    }
   ],
   "source": [
    "def check(n):\n",
    "    if len(n) == 0:\n",
    "        return \"This is an empty list\"\n",
    "    else:\n",
    "        return \"This is not an empty list\"\n",
    "\n",
    "print(check([]))\n",
    "print(check([1]))"
   ]
  },
  {
   "cell_type": "code",
   "execution_count": 9,
   "id": "a9636b87",
   "metadata": {},
   "outputs": [
    {
     "name": "stdout",
     "output_type": "stream",
     "text": [
      "([1, 2, 3, 4, 5, 6, 7, 8, 9, 9, 9], [1, 2, 3, 4, 5, 6, 7, 8, 9, 9, 9])\n"
     ]
    }
   ],
   "source": [
    "def lis(n):\n",
    "    n1 = []\n",
    "    for i in n:\n",
    "        n1.append(i)\n",
    "    return n1, n\n",
    "\n",
    "print(lis([1, 2, 3, 4, 5, 6, 7, 8, 9, 9, 9]))"
   ]
  },
  {
   "cell_type": "code",
   "execution_count": 10,
   "id": "bb5c583a",
   "metadata": {},
   "outputs": [
    {
     "data": {
      "text/plain": [
       "['1221']"
      ]
     },
     "execution_count": 10,
     "metadata": {},
     "output_type": "execute_result"
    }
   ],
   "source": [
    "def find(n1, n):\n",
    "    n3 = []\n",
    "    for i in n1:\n",
    "        if type(i) == type(\"\"):\n",
    "            if len(i) > n:\n",
    "                n3.append(i)\n",
    "    return n3\n",
    "\n",
    "find(['abc', 'xyz', 'aba', '1221'], 3)"
   ]
  },
  {
   "cell_type": "code",
   "execution_count": 11,
   "id": "6c4307c6",
   "metadata": {},
   "outputs": [
    {
     "name": "stdout",
     "output_type": "stream",
     "text": [
      "True\n",
      "False\n"
     ]
    }
   ],
   "source": [
    "def comm(n1, n2):\n",
    "    for i in n1:\n",
    "        if i in n2:\n",
    "            return True\n",
    "    else:\n",
    "        return False\n",
    "\n",
    "print(comm(['abc', 'xyz', 'aba', '1221'], ['abc', 'xyz', 'aba', '1221']))\n",
    "print(comm(['abc', 'xyz', 'aba', '1221'], ['aabc', 'xxyz', 'aaba', '11221']))"
   ]
  },
  {
   "cell_type": "code",
   "execution_count": 16,
   "id": "aae47833",
   "metadata": {},
   "outputs": [
    {
     "data": {
      "text/plain": [
       "['Green', 'White', 'Black']"
      ]
     },
     "execution_count": 16,
     "metadata": {},
     "output_type": "execute_result"
    }
   ],
   "source": [
    "def remove(n):\n",
    "    \n",
    "    n1 = n[1:4] + n[6:]\n",
    "    return n1\n",
    "    \n",
    "remove(['Red', 'Green', 'White', 'Black', 'Pink', 'Yellow'])#['Green', 'White', 'Black']"
   ]
  },
  {
   "cell_type": "code",
   "execution_count": 19,
   "id": "c6ced27e",
   "metadata": {},
   "outputs": [
    {
     "data": {
      "text/plain": [
       "[1, 3, 5, 7, 9, 9, 9, 13, 15, 15, 15]"
      ]
     },
     "execution_count": 19,
     "metadata": {},
     "output_type": "execute_result"
    }
   ],
   "source": [
    "def filterr(n):\n",
    "    eml = []\n",
    "    for i in n:\n",
    "        if type(i) != type(1):\n",
    "            return \"The list has other integers type\"\n",
    "    for j in n:\n",
    "        if j % 2 != 0:\n",
    "            eml.append(j)\n",
    "    return eml\n",
    "\n",
    "\n",
    "filterr([1, 2, 3, 4, 5, 6, 7, 8, 9, 9, 9, 10, 12, 13, 14, 15, 15, 15])"
   ]
  },
  {
   "cell_type": "code",
   "execution_count": 17,
   "id": "2e315e3d",
   "metadata": {},
   "outputs": [
    {
     "data": {
      "text/plain": [
       "True"
      ]
     },
     "execution_count": 17,
     "metadata": {},
     "output_type": "execute_result"
    }
   ],
   "source": [
    "\"\"\"   Task one  \"\"\"\n",
    "\n",
    "def same(n):\n",
    "    n1 = n[0]\n",
    "    for i in n:\n",
    "        if n1 != i:\n",
    "            return False\n",
    "    return True\n",
    "\n",
    "same((1, 1, 1,1))"
   ]
  },
  {
   "cell_type": "code",
   "execution_count": 36,
   "id": "509b5b21",
   "metadata": {},
   "outputs": [
    {
     "name": "stdout",
     "output_type": "stream",
     "text": [
      "['1', '2', '3', '4', '5', '6', '7', '8', '9', '9', '9', '10', '12', '13', '14', '15', '15', '15', 'hi']\n"
     ]
    }
   ],
   "source": [
    "def convert(n):\n",
    "    n1 = []\n",
    "    for i in n:\n",
    "        if type(i) != type(\"\"):\n",
    "            n1.append(str(i)) \n",
    "        else:\n",
    "            n1.append(i)\n",
    "    return n1\n",
    "\n",
    "print(convert([1, 2, 3, 4, 5, 6, 7, 8, 9, 9, 9, 10, 12, 13, 14, 15, 15, 15, \"hi\"]))"
   ]
  },
  {
   "cell_type": "code",
   "execution_count": 39,
   "id": "cf12acb0",
   "metadata": {},
   "outputs": [
    {
     "name": "stdout",
     "output_type": "stream",
     "text": [
      "18\n",
      "19\n"
     ]
    }
   ],
   "source": [
    "x = [1, 2, 3, 4, 5, 6, 7, 8, 9, 9, 9, 10, 12, 13, 14, 15, 15, 15, \"hi\"]\n",
    "def find_index(n1, n):\n",
    "    z = n1.index(n)\n",
    "    return z\n",
    "print(find_index([1, 2, 3, 4, 5, 6, 7, 8, 9, 9, 9, 10, 12, 13, 14, 15, 15, 15, \"hi\"], \"hi\"))\n",
    "print(len(x))"
   ]
  },
  {
   "cell_type": "code",
   "execution_count": 49,
   "id": "3187ed91",
   "metadata": {},
   "outputs": [
    {
     "name": "stdout",
     "output_type": "stream",
     "text": [
      "[1, 2, 3, 4, 5, 6, 7, 8, 9, 9, 9, 10, 12, 13, 14, 15, 15, 15, 'hi', 'abc', 'xyz', 'aba', '1221']\n"
     ]
    }
   ],
   "source": [
    "def appp(n1, n2):\n",
    "    for i in n2:\n",
    "        n1.append(i)\n",
    "    return n1\n",
    "\n",
    "x = [1, 2, 3, 4, 5, 6, 7, 8, 9, 9, 9, 10, 12, 13, 14, 15, 15, 15, \"hi\"]\n",
    "x1 = ['abc', 'xyz', 'aba', '1221']\n",
    "print(appp(x, x1))"
   ]
  },
  {
   "cell_type": "code",
   "execution_count": 55,
   "id": "01c3eca1",
   "metadata": {},
   "outputs": [
    {
     "data": {
      "text/plain": [
       "15"
      ]
     },
     "execution_count": 55,
     "metadata": {},
     "output_type": "execute_result"
    }
   ],
   "source": [
    "import random\n",
    "def randpic(n):\n",
    "    return n[random.randint(0,len(n)-1)]\n",
    "x = [1, 2, 3, 4, 5, 6, 7, 8, 9, 9, 9, 10, 12, 13, 14, 15, 15, 15, \"hi\"]\n",
    "randpic(x)"
   ]
  },
  {
   "cell_type": "code",
   "execution_count": 58,
   "id": "b9a2ab5d",
   "metadata": {},
   "outputs": [
    {
     "data": {
      "text/plain": [
       "1.5"
      ]
     },
     "execution_count": 58,
     "metadata": {},
     "output_type": "execute_result"
    }
   ],
   "source": [
    "def find(n):\n",
    "    n1 = []\n",
    "    n00 = n[0]\n",
    "    for i in n:\n",
    "        if i < n00:\n",
    "            n00 = i\n",
    "    for j in n:\n",
    "        if j != n00:\n",
    "            n1.append(j)\n",
    "    n01 = n1[0]\n",
    "    for k in n1:\n",
    "        if n01 > k:\n",
    "            n01 = k\n",
    "    return n01\n",
    "\n",
    "x = [1 ,2, 3, 4, 5, 6, 7, 8, 9, 9, 9, 10, 12, 13, 14, 15, 15, 15, 1.5]\n",
    "find(x)"
   ]
  },
  {
   "cell_type": "code",
   "execution_count": 21,
   "id": "0babc362",
   "metadata": {},
   "outputs": [
    {
     "name": "stdout",
     "output_type": "stream",
     "text": [
      "53.95\n"
     ]
    }
   ],
   "source": [
    "import random\n",
    "def average_of_list(n):\n",
    "    summ = 0\n",
    "    for i in n:\n",
    "        summ += i\n",
    "    return summ/len(n)\n",
    "x = []\n",
    "for i in range(100):\n",
    "    x.append(random.randint(0,100))\n",
    "    \n",
    "print(average_of_list(x))"
   ]
  },
  {
   "cell_type": "code",
   "execution_count": 25,
   "id": "177fbc0d",
   "metadata": {},
   "outputs": [
    {
     "name": "stdout",
     "output_type": "stream",
     "text": [
      "99\n"
     ]
    }
   ],
   "source": [
    "x = []\n",
    "for i in range(100):\n",
    "    x.append(random.randint(0,100))\n",
    "def maxx(n):\n",
    "    z = n[0]\n",
    "    for j in n:\n",
    "        if j > z:\n",
    "            z = j\n",
    "    return z\n",
    "\n",
    "print(maxx(x))"
   ]
  },
  {
   "cell_type": "code",
   "execution_count": 26,
   "id": "f6ce71a1",
   "metadata": {},
   "outputs": [
    {
     "name": "stdout",
     "output_type": "stream",
     "text": [
      "29\n"
     ]
    }
   ],
   "source": [
    "x = [2, 3, 4]\n",
    "def sums(n):\n",
    "    z = 0\n",
    "    for i in n:\n",
    "        z += (i**2)\n",
    "    return z\n",
    "\n",
    "print(sums(x))"
   ]
  },
  {
   "cell_type": "code",
   "execution_count": 27,
   "id": "96e2a573",
   "metadata": {},
   "outputs": [
    {
     "name": "stdout",
     "output_type": "stream",
     "text": [
      "1\n"
     ]
    }
   ],
   "source": [
    "x = [2, 3, 4]\n",
    "def count_odd(n):\n",
    "    count = 0\n",
    "    for i in n:\n",
    "        if i % 2 == 1:\n",
    "            count += 1\n",
    "    return count\n",
    "\n",
    "print(count_odd(x))"
   ]
  },
  {
   "cell_type": "code",
   "execution_count": 28,
   "id": "205826cc",
   "metadata": {},
   "outputs": [
    {
     "data": {
      "text/plain": [
       "6"
      ]
     },
     "execution_count": 28,
     "metadata": {},
     "output_type": "execute_result"
    }
   ],
   "source": [
    "x = [2, 3, 4]\n",
    "def sume(n):\n",
    "    ss = 0 \n",
    "    for i in n:\n",
    "        if i % 2 == 0:\n",
    "            ss += i\n",
    "    return ss\n",
    "\n",
    "sume(x)"
   ]
  },
  {
   "cell_type": "code",
   "execution_count": 30,
   "id": "0ee57338",
   "metadata": {},
   "outputs": [
    {
     "data": {
      "text/plain": [
       "['fasss']"
      ]
     },
     "execution_count": 30,
     "metadata": {},
     "output_type": "execute_result"
    }
   ],
   "source": [
    "x = [\"fasdffd\", \"fasss\", \"fasdffd\", \"fasdffd\", \"fasdffd\"]\n",
    "def countl(n):\n",
    "    z = []\n",
    "    for i in x:\n",
    "        if len(i) == 5:\n",
    "            z.append(i)\n",
    "    return z\n",
    "\n",
    "countl(x)"
   ]
  },
  {
   "cell_type": "code",
   "execution_count": 47,
   "id": "591bbb7b",
   "metadata": {},
   "outputs": [
    {
     "name": "stdout",
     "output_type": "stream",
     "text": [
      "{'name': 'john', 'age': 6, 'class': 'first', 'school': 'ADS'}\n",
      "{'name': 'john', 'age': 6, 'school': 'ADS'}\n",
      "3\n",
      "dict_values(['john', 8, 'ADS'])\n",
      "dict_items([('name', 'john'), ('age', 8), ('school', 'ADS')])\n",
      "dict_keys(['name', 'age', 'school'])\n",
      "0\n",
      "name in the this dictionary is related to the following value:  john\n",
      "age in the this dictionary is related to the following value:  8\n",
      "school in the this dictionary is related to the following value:  ADS\n"
     ]
    }
   ],
   "source": [
    "person = {\"name\" : \"john\",\"age\" : 6,\"class\" : \"first\"}\n",
    "person[\"school\"] = \"ADS\"\n",
    "print(person)\n",
    "del person[\"class\"]\n",
    "print(person)\n",
    "person[\"age\"] = 8\n",
    "print(len(person))\n",
    "print(person.values())\n",
    "print(person.items())\n",
    "print(person.keys())\n",
    "print(person.get(\"man\", 0))\n",
    "for i in person:\n",
    "    print(i,\"in the this dictionary is related to the following value: \", person[i])"
   ]
  },
  {
   "cell_type": "code",
   "execution_count": 61,
   "id": "8ffbd64b",
   "metadata": {},
   "outputs": [
    {
     "data": {
      "text/plain": [
       "14"
      ]
     },
     "execution_count": 61,
     "metadata": {},
     "output_type": "execute_result"
    }
   ],
   "source": [
    "def sclg(n):\n",
    "    n1 = []\n",
    "    n00 = n[0]\n",
    "    for i in n:\n",
    "        if n00 < i:\n",
    "            n00 = i\n",
    "    for j in n:\n",
    "        if j != n00:\n",
    "            n1.append(j)\n",
    "    n01 = n1[0]\n",
    "    for k in n1:\n",
    "        if n01 < k:\n",
    "            n01 = k\n",
    "    return n01\n",
    "\n",
    "x = [1 ,2, 3, 4, 5, 6, 7, 8, 9, 9, 9, 10, 12, 13, 14, 15, 15, 15, 1.5]\n",
    "sclg(x)"
   ]
  },
  {
   "cell_type": "code",
   "execution_count": 62,
   "id": "e86e2c9e",
   "metadata": {},
   "outputs": [
    {
     "data": {
      "text/plain": [
       "[1, 2, 3, 4, 5, 6, 7, 8, 10, 12, 13, 14, 1.5]"
      ]
     },
     "execution_count": 62,
     "metadata": {},
     "output_type": "execute_result"
    }
   ],
   "source": [
    "def uni(n):\n",
    "    p = []\n",
    "    for i in n:\n",
    "        if n.count(i) == 1:\n",
    "            p.append(i)\n",
    "    return p\n",
    "\n",
    "x = [1 ,2, 3, 4, 5, 6, 7, 8, 9, 9, 9, 10, 12, 13, 14, 15, 15, 15, 1.5]\n",
    "uni(x)"
   ]
  },
  {
   "cell_type": "code",
   "execution_count": 67,
   "id": "7f73dbb5",
   "metadata": {
    "scrolled": true
   },
   "outputs": [
    {
     "data": {
      "text/plain": [
       "2"
      ]
     },
     "execution_count": 67,
     "metadata": {},
     "output_type": "execute_result"
    }
   ],
   "source": [
    "def countel(n, min, max):\n",
    "    count = 0\n",
    "    for i in n:\n",
    "        if min < i < max:\n",
    "            count += 1\n",
    "    return count\n",
    "\n",
    "\n",
    "x = [1 ,2, 3, 4, 5, 6, 6, 7, 8, 9, 9, 9, 10, 12, 13, 14, 15, 15, 15, 1.5]\n",
    "countel(x, 5, 7)"
   ]
  },
  {
   "cell_type": "code",
   "execution_count": 80,
   "id": "5559dd09",
   "metadata": {},
   "outputs": [
    {
     "name": "stdout",
     "output_type": "stream",
     "text": [
      "[1, 2, 3, 4, 5, 6, 6, 7, 8, 9, 9, 9, 10, 12, 13, 14, 15, 15, 15, 1.5, ['hi', 'myname']]\n",
      "True\n",
      "False\n"
     ]
    }
   ],
   "source": [
    "x = [1 ,2, 3, 4, 5, 6, 6, 7, 8, 9, 9, 9, 10, 12, 13, 14, 15, 15, 15, 1.5,[\"hi\", \"myname\"]]\n",
    "x1 = [1 ,2, 3, 4, 5, 6, 6, 7, 8, 9, 9, 9, 10, 12, 13, 14, 15, 15, 15, 1.5]\n",
    "def checksub(n):\n",
    "    for i in range(len(n)):\n",
    "        if type(n[i]) == type([\"\"]):\n",
    "            return True\n",
    "    return False\n",
    "\n",
    "emp = x.copy()\n",
    "print(emp)\n",
    "print(checksub(x))\n",
    "print(checksub(x1))"
   ]
  },
  {
   "cell_type": "code",
   "execution_count": 74,
   "id": "9a9f58e1",
   "metadata": {},
   "outputs": [
    {
     "data": {
      "text/plain": [
       "['p1', 'q1', 'p2', 'q2', 'p3', 'q3', 'p4', 'q4', 'p5', 'q5', 'p6', 'q6']"
      ]
     },
     "execution_count": 74,
     "metadata": {},
     "output_type": "execute_result"
    }
   ],
   "source": [
    "def concatenating(l, n):\n",
    "    empli = []\n",
    "    for i in range(1, n+1):\n",
    "        for j in range(len(l)):\n",
    "            empli.append(str(l[j]) + str(i))\n",
    "    return empli\n",
    "    \n",
    "    \n",
    "concatenating(['p', 'q'], 6) #['p1', 'q1', 'p2', 'q2', 'p3', 'q3', 'p4', 'q4', 'p5', 'q5']"
   ]
  },
  {
   "cell_type": "code",
   "execution_count": 86,
   "id": "eb38e5b6",
   "metadata": {},
   "outputs": [
    {
     "data": {
      "text/plain": [
       "[1, 0, 3, 2, 5, 4]"
      ]
     },
     "execution_count": 86,
     "metadata": {},
     "output_type": "execute_result"
    }
   ],
   "source": [
    "def concatenating(l, n):\n",
    "    empli = []\n",
    "    for i in range(1, n+1):\n",
    "        for j in range(len(l)):\n",
    "            empli.append(str(l[j]) + str(i))\n",
    "    return empli\n",
    "    \n",
    "    \n",
    "concatenating(['p', 'q'], 6) #['p1', 'q1', 'p2', 'q2', 'p3', 'q3', 'p4', 'q4', 'p5', 'q5']"
   ]
  },
  {
   "cell_type": "code",
   "execution_count": 81,
   "id": "5da9844d",
   "metadata": {},
   "outputs": [
    {
     "name": "stdout",
     "output_type": "stream",
     "text": [
      "[1, 4, 1, 5, 9, 2, 6, 5]\n",
      "[1, 4, 1, 5, 9, 2]\n"
     ]
    }
   ],
   "source": [
    "# List of integers\n",
    "lis = [3, 1, 4, 1, 5, 9, 2, 6, 5]\n",
    " \n",
    "# Removing first and second element\n",
    "del lis[0]\n",
    " \n",
    "# Printing the list\n",
    "print(lis)\n",
    " \n",
    "# Removing last two elements\n",
    "del lis[-2:]\n",
    " \n",
    "# Printing the list\n",
    "print(lis)"
   ]
  },
  {
   "cell_type": "code",
   "execution_count": 90,
   "id": "77d59213",
   "metadata": {},
   "outputs": [
    {
     "data": {
      "text/plain": [
       "[1, 0, 3, 2, 5, 4]"
      ]
     },
     "execution_count": 90,
     "metadata": {},
     "output_type": "execute_result"
    }
   ],
   "source": [
    "def indexx(n):\n",
    "    n1 = n.copy()\n",
    "    for i in range(len(n)):\n",
    "        if n[i] % 2 == 0:\n",
    "            z = n[i]\n",
    "            del n1[i]\n",
    "            n1.insert(i+1, z)\n",
    "    return n1\n",
    "\n",
    "indexx([0,1,2,3,4,5]) #[1, 0, 3, 2, 5, 4]"
   ]
  },
  {
   "cell_type": "code",
   "execution_count": 3,
   "id": "ec9cf9f8",
   "metadata": {},
   "outputs": [
    {
     "data": {
      "text/plain": [
       "113350"
      ]
     },
     "execution_count": 3,
     "metadata": {},
     "output_type": "execute_result"
    }
   ],
   "source": [
    "def convert(n):\n",
    "    z = \"\"\n",
    "    for i in range(len(n)):\n",
    "        z1 = str(n[i])\n",
    "        z += z1\n",
    "    return int(z)\n",
    "        \n",
    "    \n",
    "# convert([\"fak;lsdjf\",\"fjkl;as\"])    \n",
    "convert([11, 33, 50])#[11, 33, 50]"
   ]
  },
  {
   "cell_type": "code",
   "execution_count": 1,
   "id": "3eb78710",
   "metadata": {},
   "outputs": [
    {
     "name": "stdout",
     "output_type": "stream",
     "text": [
      "3\n"
     ]
    }
   ],
   "source": [
    "x = str(3.5)\n",
    "print(len(x))"
   ]
  },
  {
   "cell_type": "code",
   "execution_count": 5,
   "id": "0a1294bc",
   "metadata": {},
   "outputs": [
    {
     "name": "stdout",
     "output_type": "stream",
     "text": [
      "['a', 'ask', 'b', 'be', 'c', 'call', 'come', 'd', 'do', 'f', 'feel', 'find', 'g', 'give', 'go', 'get', 'h', 'have', 'k', 'know', 'l', 'leave', 'look', 'm', 'make', 's', 'seem', 'see', 'say', 't', 'tell', 'think', 'take', 'u', 'use', 'w', 'work', 'want']\n"
     ]
    }
   ],
   "source": [
    "def split(n):\n",
    "    n2 = []\n",
    "    for i in n:\n",
    "        if i[0] not in n2:\n",
    "            n2.append(i[0])\n",
    "    n2.sort()\n",
    "    for j in n:\n",
    "        z = j[0]\n",
    "        z1 = n2.index(z)\n",
    "        n2.insert(z1+1, j)\n",
    "    return n2\n",
    "        \n",
    "\n",
    "\n",
    "\n",
    "word_list = ['be','have','do','say','get','make','go','know','take','see','come','think',\n",
    "'look','want','give','use','find','tell','ask','work','seem','feel','leave','call']\n",
    "print(split(word_list))"
   ]
  },
  {
   "cell_type": "code",
   "execution_count": 9,
   "id": "6b7d5018",
   "metadata": {},
   "outputs": [
    {
     "name": "stdout",
     "output_type": "stream",
     "text": [
      "{'b': ['be'], 'h': ['have'], 'd': ['do'], 's': ['say', 'see', 'seem'], 'g': ['get', 'go', 'give'], 'm': ['make'], 'k': ['know'], 't': ['take', 'think', 'tell'], 'c': ['come', 'call'], 'l': ['look', 'leave'], 'w': ['want', 'work'], 'u': ['use'], 'f': ['find', 'feel'], 'a': ['ask']}\n"
     ]
    }
   ],
   "source": [
    "def splitLst(x):\n",
    "    dictionary = {}\n",
    "    for word in x:\n",
    "        \n",
    "        f = word[0]\n",
    "        if f in dictionary.keys():\n",
    "             dictionary[f].append(word)\n",
    "        else:\n",
    "             dictionary[f] = [word]\n",
    "    return dictionary\n",
    "\n",
    "print(splitLst(word_list))"
   ]
  },
  {
   "cell_type": "code",
   "execution_count": 15,
   "id": "897024bb",
   "metadata": {},
   "outputs": [
    {
     "name": "stdout",
     "output_type": "stream",
     "text": [
      "['be', 'hi', 'have', 'hi', 'do', 'hi', 'say', 'hi', 'get', 'hi', 'make', 'hi', 'go', 'hi', 'know', 'hi', 'take', 'hi', 'see', 'hi', 'come', 'hi', 'think', 'hi', 'look', 'hi', 'want', 'hi', 'give', 'hi', 'use', 'hi', 'find', 'hi', 'tell', 'hi', 'ask', 'hi', 'work', 'hi', 'seem', 'hi', 'feel', 'hi', 'leave', 'hi', 'call']\n"
     ]
    }
   ],
   "source": [
    "def insert(n, n1):\n",
    "    n3 = \" \" + n1 + \" \"\n",
    "    n2 = n3.join(n)\n",
    "    n2 = n2.split()\n",
    "    return n2\n",
    "\n",
    "word_list = ['be','have','do','say','get','make','go','know','take','see','come','think',\n",
    "'look','want','give','use','find','tell','ask','work','seem','feel','leave','call']\n",
    "\n",
    "print(insert(word_list, \"hi\"))"
   ]
  },
  {
   "cell_type": "code",
   "execution_count": 18,
   "id": "230a89cf",
   "metadata": {},
   "outputs": [
    {
     "data": {
      "text/plain": [
       "[1, 3, 5, 7, 9, 2, 4, 6, 8]"
      ]
     },
     "execution_count": 18,
     "metadata": {},
     "output_type": "execute_result"
    }
   ],
   "source": [
    "def replace2(n1, n2):\n",
    "    n3 = n1[:-1] + n2\n",
    "    return n3\n",
    "    \n",
    "    \n",
    "replace2([1, 3, 5, 7, 9, 10], [2, 4, 6, 8])#[1, 3, 5, 7, 9, 2, 4, 6, 8]\n"
   ]
  },
  {
   "cell_type": "code",
   "execution_count": null,
   "id": "97302e5b",
   "metadata": {},
   "outputs": [],
   "source": [
    "def inserrt(n1, n2):\n",
    "    \n",
    "    \n",
    "    \n",
    "inserrt([1,2,3,4],emp)#['emp1', 'emp2', 'emp3', 'emp4']"
   ]
  },
  {
   "cell_type": "code",
   "execution_count": null,
   "id": "b941a306",
   "metadata": {},
   "outputs": [],
   "source": []
  },
  {
   "cell_type": "code",
   "execution_count": null,
   "id": "62ab27bf",
   "metadata": {},
   "outputs": [],
   "source": []
  },
  {
   "cell_type": "code",
   "execution_count": null,
   "id": "e993a2da",
   "metadata": {},
   "outputs": [],
   "source": []
  },
  {
   "cell_type": "code",
   "execution_count": 25,
   "id": "16f37527",
   "metadata": {},
   "outputs": [],
   "source": [
    "gewr = 9"
   ]
  },
  {
   "cell_type": "code",
   "execution_count": 20,
   "id": "f509f6cf",
   "metadata": {},
   "outputs": [
    {
     "name": "stdout",
     "output_type": "stream",
     "text": [
      "abc\n",
      "a\n",
      "abcde\n",
      "abcd\n"
     ]
    }
   ],
   "source": [
    "def longest_nonrepeating_substring(txt):\n",
    "\ttxt2 = list(txt)\n",
    "\ttxt3 = []\n",
    "\tfor i in txt2:\n",
    "\t\tif i not in txt3:\n",
    "\t\t\ttxt3.append(i)\n",
    "\ttxt4 = \"\".join(txt3)\n",
    "\treturn txt4\n",
    "\n",
    "print(longest_nonrepeating_substring(\"abcabcbb\"))\n",
    "\n",
    "print(longest_nonrepeating_substring(\"aaaaaa\"))\n",
    "\n",
    "print(longest_nonrepeating_substring(\"abcde\"))\n",
    "\n",
    "print(longest_nonrepeating_substring(\"abcda\"))"
   ]
  },
  {
   "cell_type": "code",
   "execution_count": null,
   "id": "87c11b71",
   "metadata": {},
   "outputs": [],
   "source": [
    "def longest_nonrepeating_substring(txt):\n",
    "\tempty_list = []\n",
    "\tempty_string1 = \"\"\n",
    "\tthe_end_str = \"\"\n",
    "\ttxt_list = list(txt)\n",
    "\tempty_string2 = \"\"\n",
    "\tfor i in txt:\n",
    "\t\tif i not in empty_string1:\n",
    "\t\t\tempty_string1 += i\n",
    "\t\telse:\n",
    "\t\t\tempty_list.append(empty_string1)\n",
    "\t\t\tempty_string = \"\"\n",
    "\tempty_list.append(empty_string1)\n",
    "\tfor k in range(2, len(txt_list)+1):\n",
    "\t\tx = str(txt_list[k-2]) + str(txt_list[k-1])\n",
    "\t\tif x[0] != x[1]:\n",
    "\t\t\tempty_string2 += x\n",
    "\t\telse:\n",
    "\t\t\tempty_list.append(empty_string2)\n",
    "\t\t\tempty_string2 = ''\n",
    "\t#empty_list.append(empty_string2)\n",
    "\tfor j in empty_list:\n",
    "\t\tif len(j) > len(the_end_str):\n",
    "\t\t\tthe_end_str = j\n",
    "\treturn the_end_str\n",
    "\t\t\n",
    "\t\t\t\n",
    "longest_nonrepeating_substring(\"abcabcbb\")\n",
    "longest_nonrepeating_substring(\"aaaaaa\")\n",
    "longest_nonrepeating_substring(\"abcde\")\n",
    "longest_nonrepeating_substring(\"abcda\")"
   ]
  },
  {
   "cell_type": "code",
   "execution_count": null,
   "id": "ec762967",
   "metadata": {},
   "outputs": [],
   "source": [
    "def longest_nonrepeating_substring(txt):\n",
    "\tempty_list = []\n",
    "\tempty_string1 = \"\"\n",
    "\tthe_end_str = \"\"\n",
    "\ttxt_list = list(txt)\n",
    "\tempty_string2 = \"\"\n",
    "\tempty_string3 = \"\"\n",
    "\tfor i in txt:\n",
    "\t\tif i not in empty_string1:\n",
    "\t\t\tempty_string1 += i\n",
    "\t\telse:\n",
    "\t\t\tempty_list.append(empty_string1)\n",
    "\t\t\tempty_string = \"\"\n",
    "\tempty_list.append(empty_string1)\n",
    "\tfor k in range(2, len(txt_list)+1):\n",
    "\t\tx = str(txt_list[k-2]) + str(txt_list[k-1])\n",
    "\t\tif x[0] != x[1]:\n",
    "\t\t\tempty_string2 += x\n",
    "\t\telse:\n",
    "\t\t\tfor p in empty_string2:\n",
    "\t\t\t\tif p not in empty_string3:\n",
    "\t\t\t\t\tempty_string3 += p\n",
    "\t\t\t\telse:\n",
    "\t\t\t\t\tempty_list.append(empty_string3)\n",
    "\t\t\t\t\tempty_string3 = ''\n",
    "\t\t\tempty_list.append(empty_string3)\n",
    "\t\t\tempty_string3 = ''\n",
    "\tfor j in empty_list:\n",
    "\t\tif len(j) > len(the_end_str):\n",
    "\t\t\tthe_end_str = j\n",
    "\treturn the_end_str\n",
    "\t\t\n",
    "\t\t\t\n",
    "longest_nonrepeating_substring(\"abcabcbb\")\n",
    "\n",
    "longest_nonrepeating_substring(\"aaaaaa\")\n",
    "\n",
    "longest_nonrepeating_substring(\"abcde\")\n",
    "\n",
    "longest_nonrepeating_substring(\"abcda\")"
   ]
  },
  {
   "cell_type": "code",
   "execution_count": 22,
   "id": "d7074c07",
   "metadata": {},
   "outputs": [
    {
     "data": {
      "text/plain": [
       "'cb'"
      ]
     },
     "execution_count": 22,
     "metadata": {},
     "output_type": "execute_result"
    }
   ],
   "source": [
    "def longest_nonrepeating_substring(txt):\n",
    "\tempty_str = ''\n",
    "\tempty_str2 = ''\n",
    "\ttxt_list = list(txt)\n",
    "\tx = 0\n",
    "\tempty_lst = []\n",
    "\tfor i in range(len(txt) * len(txt)):\n",
    "\t\tfor j in txt_list:\n",
    "\t\t\tif j not in empty_str:\n",
    "\t\t\t\tempty_str += j\n",
    "\t\t\telse:\n",
    "\t\t\t\tempty_lst.append(empty_str)\n",
    "\t\t\t\tempty_str = ''\n",
    "\t\t\t\tx += 1\n",
    "\t\t\t\ttxt_list = txt_list[x:]\n",
    "\t\t\t\tcontinue\n",
    "\tfor k in empty_lst:\n",
    "\t\tif len(k) > len(empty_str2):\n",
    "\t\t\tempty_str2 = k\n",
    "\treturn empty_str2\n",
    "\t\t\t\n",
    "longest_nonrepeating_substring(\"abcabcbb\")"
   ]
  },
  {
   "cell_type": "code",
   "execution_count": null,
   "id": "254dce86",
   "metadata": {},
   "outputs": [],
   "source": [
    "def longest_nonrepeating_substring(txt):\n",
    "\tempty_str = ''\n",
    "\tempty_str2 = ''\n",
    "\tempty_lst = []\n",
    "\tfor i in range(len(txt) * len(txt)):\n",
    "\t\tfor j in txt:\n",
    "\t\t\tif j not in empty_str:\n",
    "\t\t\t\tempty_str += j\n",
    "\t\t\telse:\n",
    "\t\t\t\tempty_lst.append(empty_str)\n",
    "\t\t\t\tempty_str = ''\n",
    "\t\t\t\ttxt = txt[1:]\n",
    "\t\t\t\tcontinue\n",
    "\tfor k in empty_lst:\n",
    "\t\tif len(k) > len(empty_str2):\n",
    "\t\t\tempty_str2 = k\n",
    "\treturn empty_str2\n",
    "\t\t\t\n",
    "longest_nonrepeating_substring(\"abcabcbb\")\n",
    "\n",
    "longest_nonrepeating_substring(\"aaaaaa\")\n",
    "\n",
    "longest_nonrepeating_substring(\"abcde\")\n",
    "\n",
    "longest_nonrepeating_substring(\"abcda\")"
   ]
  },
  {
   "cell_type": "code",
   "execution_count": null,
   "id": "9136cec2",
   "metadata": {},
   "outputs": [],
   "source": [
    "def longest_nonrepeating_substring(txt):\n",
    "\tempty_str = ''\n",
    "\tempty_str2 = ''\n",
    "\tempty_lst = []\n",
    "\tfor i in range(len(txt) * len(txt)):\n",
    "\t\tfor j in txt:\n",
    "\t\t\tif j not in empty_str:\n",
    "\t\t\t\tempty_str += j\n",
    "\t\t\telse:\n",
    "\t\t\t\tempty_lst.append(empty_str)\n",
    "\t\t\t\tempty_str = ''\n",
    "\t\t\t\ttxt = txt[1:]\n",
    "\t\t\t\tbreak\n",
    "\tfor k in empty_lst:\n",
    "\t\tif len(k) > len(empty_str2):\n",
    "\t\t\tempty_str2 = k\n",
    "\treturn empty_str2\n",
    "\t\t\t\n",
    "longest_nonrepeating_substring(\"abcabcbb\")\n",
    "\n",
    "longest_nonrepeating_substring(\"aaaaaa\")\n",
    "\n",
    "longest_nonrepeating_substring(\"abcde\")\n",
    "\n",
    "longest_nonrepeating_substring(\"abcda\")"
   ]
  },
  {
   "cell_type": "code",
   "execution_count": null,
   "id": "19524c71",
   "metadata": {},
   "outputs": [],
   "source": []
  },
  {
   "cell_type": "code",
   "execution_count": null,
   "id": "0bb74cf1",
   "metadata": {},
   "outputs": [],
   "source": []
  },
  {
   "cell_type": "code",
   "execution_count": null,
   "id": "aa1d07b6",
   "metadata": {},
   "outputs": [],
   "source": [
    "def longest_substring(digits):\n",
    "\tx, empty_list, empty_string, empty_string2 = int(digits[1]) % 2, [], \"\", \"\"\n",
    "\tfor i in range(len(digits)):\n",
    "\t\tfor i in digits:\n",
    "\t\t\tif int(i) % 2 != x:\n",
    "\t\t\t\tempty_string += str(i)\n",
    "\t\t\t\tif x == 1:\n",
    "\t\t\t\t\tx = 0\n",
    "\t\t\t\telse:\n",
    "\t\t\t\t\tx = 1\n",
    "\t\t\telse:\n",
    "\t\t\t\tif len(empty_string) >= 2:\n",
    "\t\t\t\t\tempty_list.append(empty_string)\n",
    "\t\t\t\t\tempty_string = ''\n",
    "\t\t\t\t\tdigits = digits[1:]\n",
    "\t\t\t\t\tif x == 1:\n",
    "\t\t\t\t\t\tx = 0\n",
    "\t\t\t\t\telse:\n",
    "\t\t\t\t\t\tx = 1\n",
    "\t\t\t\telse:\n",
    "\t\t\t\t\tempty_string = ''\n",
    "\t\t\t\t\tdigits = digits[1:]\n",
    "\t\t\t\t\tif x == 1:\n",
    "\t\t\t\t\t\tx = 0\n",
    "\t\t\t\t\telse:\n",
    "\t\t\t\t\t\tx = 1\n",
    "\tfor k in empty_list:\n",
    "\t\tif len(k) > len(empty_string2):\n",
    "\t\t\tempty_string2 = k\n",
    "\treturn empty_string2\n"
   ]
  },
  {
   "cell_type": "code",
   "execution_count": null,
   "id": "37d46ebb",
   "metadata": {},
   "outputs": [],
   "source": []
  },
  {
   "cell_type": "code",
   "execution_count": 23,
   "id": "392caa2a",
   "metadata": {},
   "outputs": [
    {
     "data": {
      "text/plain": [
       "['emp1', 'emp2', 'emp3', 'emp4']"
      ]
     },
     "execution_count": 23,
     "metadata": {},
     "output_type": "execute_result"
    }
   ],
   "source": [
    "def replacee(n1, n):\n",
    "    ls = []\n",
    "    for i in n1:\n",
    "        ls.append(n + str(i))\n",
    "    return ls\n",
    "\n",
    "\n",
    "replacee([1,2,3,4], \"emp\")#['emp1', 'emp2', 'emp3', 'emp4']"
   ]
  },
  {
   "cell_type": "code",
   "execution_count": 37,
   "id": "61b8c8ee",
   "metadata": {},
   "outputs": [
    {
     "name": "stdout",
     "output_type": "stream",
     "text": [
      "[3, 4, 6, 2, 6, 7, 6, 9, 10, 7, 4, 4, 5, 3, 2, 9, 7, 1, 0, 0, 0, 0, 0, 0, 0, 0, 0]\n",
      "[3, 4, 6, 2, 6, 7, 6, 9, 10, 7, 4, 4, 5, 3, 2, 9, 7, 1, 0, 0, 0, 0, 0, 0, 0, 0, 0]\n"
     ]
    }
   ],
   "source": [
    "def zero_move(n):\n",
    "    new_n, the_end_list = [], []\n",
    "    for i in n:\n",
    "        if i == 0:\n",
    "            new_n.append(i)\n",
    "        else:\n",
    "            the_end_list.append(i)\n",
    "    the_end_list += new_n\n",
    "    return the_end_list\n",
    "    \n",
    "    \n",
    "    \n",
    "print(zero_move([3, 4, 0, 0, 0, 6, 2, 0, 6, 7, 6, 0, 0, 0, 9, 10, 7, 4, 4, 5, 3, 0, 0, 2, 9, 7, 1]))\n",
    "print([3, 4, 6, 2, 6, 7, 6, 9, 10, 7, 4, 4, 5, 3, 2, 9, 7, 1, 0, 0, 0, 0, 0, 0, 0, 0, 0])"
   ]
  },
  {
   "cell_type": "code",
   "execution_count": 40,
   "id": "f4984b6f",
   "metadata": {},
   "outputs": [
    {
     "data": {
      "text/plain": [
       "[10, 11, 12]"
      ]
     },
     "execution_count": 40,
     "metadata": {},
     "output_type": "execute_result"
    }
   ],
   "source": [
    "def find_a_list(n):\n",
    "    sum1 = 0\n",
    "    highest = \"\"\n",
    "    for i in n:\n",
    "        sum2 = 0\n",
    "        for j in i:\n",
    "            sum2 += j\n",
    "        if sum2 > sum1:\n",
    "            sum1 = sum2\n",
    "            highest = i\n",
    "    return highest\n",
    "    \n",
    "    \n",
    "find_a_list([[1,2,3], [4,5,6], [10,11,12], [7,8,9]])#[10, 11, 12]"
   ]
  },
  {
   "cell_type": "code",
   "execution_count": 42,
   "id": "244e251f",
   "metadata": {},
   "outputs": [
    {
     "data": {
      "text/plain": [
       "[7, 8, 9]"
      ]
     },
     "execution_count": 42,
     "metadata": {},
     "output_type": "execute_result"
    }
   ],
   "source": [
    "def find_greader(n, n1):\n",
    "    n3 = []\n",
    "    for i in n:\n",
    "        if i > n1:\n",
    "            n3.append(i)\n",
    "    return n3\n",
    "    \n",
    "\n",
    "x = [0, 0, 1, 2, 3, 4, 4, 5, 6, 6, 6, 7, 8, 9, 4, 4]\n",
    "find_greader(x, 6)"
   ]
  },
  {
   "cell_type": "code",
   "execution_count": 50,
   "id": "2b75ad8b",
   "metadata": {},
   "outputs": [
    {
     "name": "stdout",
     "output_type": "stream",
     "text": [
      "[0, 1, 2, 3, 4, 5, 6, 7, 8, 9, 4]\n"
     ]
    }
   ],
   "source": [
    "def del_consecutive_duplicates(n):\n",
    "    n1 = n[0:2]\n",
    "    for i in n:\n",
    "        if i != n1[-1]:\n",
    "            n1.append(i)\n",
    "    if n1[0] == n1[1]:\n",
    "        n1 = n1[1:]\n",
    "    return n1\n",
    "    \n",
    "    \n",
    "    \n",
    "x = [0, 0, 1, 2, 3, 4, 4, 5, 6, 6, 6, 7, 8, 9, 4, 4]\n",
    "print(del_consecutive_duplicates(x))#[0, 1, 2, 3, 4, 5, 6, 7, 8, 9, 4]"
   ]
  },
  {
   "cell_type": "code",
   "execution_count": 68,
   "id": "993d14ec",
   "metadata": {},
   "outputs": [
    {
     "name": "stdout",
     "output_type": "stream",
     "text": [
      "[[0, 0], [1], [2], [3], [4, 4], [5], [6, 6, 6], [7], [8], [9], [4, 4]]\n"
     ]
    }
   ],
   "source": [
    "def make_list(n):\n",
    "    n2 = []\n",
    "    n3 = []\n",
    "    for i in n:\n",
    "        if i in n2:\n",
    "            n2 += [i]\n",
    "        else:\n",
    "            if len(n2) == 0:\n",
    "                n2 += [i]\n",
    "            else:\n",
    "                n3 += [n2]\n",
    "                n2 = \"\"\n",
    "                n2 = [i]\n",
    "    n3 += [n2]\n",
    "    return n3\n",
    "\n",
    "    \n",
    "x = [0, 0, 1, 2, 3, 4, 4, 5, 6, 6, 6, 7, 8, 9, 4, 4]\n",
    "print(make_list(x))#[[0, 0], [1], [2], [3], [4, 4], [5], [6, 6, 6], [7], [8], [9], [4, 4]]"
   ]
  },
  {
   "cell_type": "code",
   "execution_count": 69,
   "id": "d6ff8023",
   "metadata": {},
   "outputs": [
    {
     "name": "stdout",
     "output_type": "stream",
     "text": [
      "[[0, 0], [1], [2], [3], [4, 4], [5], [6, 6, 6], [7], [8], [9], [4, 4]]\n"
     ]
    }
   ],
   "source": [
    "def make_list(n):\n",
    "    n1, n2 = [], []\n",
    "    for j in n + [\"\"]:\n",
    "        if j in n1:\n",
    "            n1 += [j]\n",
    "        else:\n",
    "            if len(n1) == 0:\n",
    "                n1 += [j]\n",
    "            else:\n",
    "                n2 += [n1]\n",
    "                n1 = \"\"\n",
    "                n1 = [j]\n",
    "    return n2\n",
    "            \n",
    "    \n",
    "x = [0, 0, 1, 2, 3, 4, 4, 5, 6, 6, 6, 7, 8, 9, 4, 4]\n",
    "print(make_list(x))#[[0, 0], [1], [2], [3], [4, 4], [5], [6, 6, 6], [7], [8], [9], [4, 4]]"
   ]
  },
  {
   "cell_type": "code",
   "execution_count": 70,
   "id": "62bcb225",
   "metadata": {},
   "outputs": [
    {
     "data": {
      "text/plain": [
       "([1, 1, 2], [3, 4, 4, 5, 1])"
      ]
     },
     "execution_count": 70,
     "metadata": {},
     "output_type": "execute_result"
    }
   ],
   "source": [
    "def splitt(listt, n):\n",
    "    n1 = listt[:n]\n",
    "    n2 = listt[n:]\n",
    "    n3 = (n1, n2)\n",
    "    return n3\n",
    "    \n",
    "    \n",
    "splitt([1, 1, 2, 3, 4, 4, 5, 1], 3) #([1, 1, 2], [3, 4, 4, 5, 1])"
   ]
  },
  {
   "cell_type": "code",
   "execution_count": 73,
   "id": "7ba2d5ad",
   "metadata": {},
   "outputs": [
    {
     "data": {
      "text/plain": [
       "[1, 1, 3, 4, 4, 5, 1]"
      ]
     },
     "execution_count": 73,
     "metadata": {},
     "output_type": "execute_result"
    }
   ],
   "source": [
    "def remov_kth(listt, n):\n",
    "    del listt[n-1]\n",
    "    return listt\n",
    "\n",
    "remov_kth([1, 1, 2, 3, 4, 4, 5, 1], 3) # [1, 1, 3, 4, 4, 5, 1]"
   ]
  },
  {
   "cell_type": "code",
   "execution_count": 84,
   "id": "a0e190fc",
   "metadata": {},
   "outputs": [
    {
     "name": "stdout",
     "output_type": "stream",
     "text": [
      "[1, 1, 12, 2, 3, 4, 4, 5, 1]\n"
     ]
    }
   ],
   "source": [
    "def insert_kth(lst, kth, element):\n",
    "    lst.insert(kth-1, element)\n",
    "    return lst\n",
    "\n",
    "\n",
    "print(insert_kth([1, 1, 2, 3, 4, 4, 5, 1], 3, 12)) # [1, 1, 12, 2, 3, 4, 4, 5, 1]"
   ]
  },
  {
   "cell_type": "code",
   "execution_count": 89,
   "id": "3a860fcd",
   "metadata": {},
   "outputs": [
    {
     "data": {
      "text/plain": [
       "[4, 4, 4]"
      ]
     },
     "execution_count": 89,
     "metadata": {},
     "output_type": "execute_result"
    }
   ],
   "source": [
    "import random\n",
    "def random_select(n, n2):\n",
    "    n3 = []\n",
    "    for i in range(n2):\n",
    "        x = random.randint(0, len(n)-1)\n",
    "        n3.append(n[x])\n",
    "    return n3\n",
    "\n",
    "random_select([1, 1, 2, 3, 4, 4, 5, 1], 3)"
   ]
  },
  {
   "cell_type": "code",
   "execution_count": 91,
   "id": "e6a0d44a",
   "metadata": {},
   "outputs": [
    {
     "data": {
      "text/plain": [
       "[3, 2, 4]"
      ]
     },
     "execution_count": 91,
     "metadata": {},
     "output_type": "execute_result"
    }
   ],
   "source": [
    "import random\n",
    "def random_select(n, n2):\n",
    "    return random.sample(n, n2)\n",
    "\n",
    "random_select([1, 1, 2, 3, 4, 4, 5, 1], 3)"
   ]
  },
  {
   "cell_type": "code",
   "execution_count": 93,
   "id": "13121e4e",
   "metadata": {},
   "outputs": [
    {
     "data": {
      "text/plain": [
       "3"
      ]
     },
     "execution_count": 93,
     "metadata": {},
     "output_type": "execute_result"
    }
   ],
   "source": [
    "def count_list(n):\n",
    "    count = 0 \n",
    "    for i in range(len(n)):\n",
    "        if type(n[i]) == type([]):\n",
    "            count += 1\n",
    "    return count\n",
    "\n",
    "count_list([[1, 3], [5, 7], [9, 11], [13, 15, 17]])\n",
    "count_list([[2, 4], [[6, 8], [4, 5, 8]], [10, 12, 14]])"
   ]
  },
  {
   "cell_type": "code",
   "execution_count": 99,
   "id": "e4f24325",
   "metadata": {},
   "outputs": [
    {
     "name": "stdout",
     "output_type": "stream",
     "text": [
      "[[1, 1, 1], [1, 2, 3], [2, 4, 5]]\n",
      "[[-2, 4, -5], [1, -1, 1], [1, 2, 3]]\n"
     ]
    }
   ],
   "source": [
    "def sort(n):\n",
    "    n1, n2 = {}, []\n",
    "    for i in range(len(n)):\n",
    "        summ = 0\n",
    "        for j in n[i]:\n",
    "            summ += j\n",
    "        n1[summ] = n[i]\n",
    "    m = sorted(n1)\n",
    "    for k in m:\n",
    "        n2.append(n1[k])\n",
    "    return n2\n",
    "    \n",
    "    \n",
    "print(sort([[1, 2, 3], [2, 4, 5], [1, 1, 1]])) # [[1, 1, 1], [1, 2, 3], [2, 4, 5]]\n",
    "print(sort([[1, 2, 3], [-2, 4, -5], [1, -1, 1]])) # [[-2, 4, -5], [1, -1, 1], [1, 2, 3]]"
   ]
  },
  {
   "cell_type": "code",
   "execution_count": 100,
   "id": "a260741e",
   "metadata": {},
   "outputs": [
    {
     "name": "stdout",
     "output_type": "stream",
     "text": [
      "[[1, 1, 1], [1, 2, 3], [2, 4, 5]]\n",
      "[[-2, 4, -5], [1, -1, 1], [1, 2, 3]]\n"
     ]
    }
   ],
   "source": [
    "def sort(n):\n",
    "    qamos = {}\n",
    "    empty_list = []\n",
    "    for i in n:\n",
    "        summ = 0\n",
    "        for j in i:\n",
    "            summ += j\n",
    "        qamos[summ] = i\n",
    "    m = sorted(qamos)\n",
    "    for k in m:\n",
    "        empty_list.append(qamos[k])\n",
    "    return empty_list\n",
    "\n",
    "\n",
    "print(sort([[1, 2, 3], [2, 4, 5], [1, 1, 1]])) # [[1, 1, 1], [1, 2, 3], [2, 4, 5]]\n",
    "print(sort([[1, 2, 3], [-2, 4, -5], [1, -1, 1]])) # [[-2, 4, -5], [1, -1, 1], [1, 2, 3]]"
   ]
  },
  {
   "cell_type": "code",
   "execution_count": 104,
   "id": "f5e27b84",
   "metadata": {},
   "outputs": [
    {
     "data": {
      "text/plain": [
       "['practice', 'solution']"
      ]
     },
     "execution_count": 104,
     "metadata": {},
     "output_type": "execute_result"
    }
   ],
   "source": [
    "def extract(n, l):\n",
    "    n1 = []\n",
    "    for i in n:\n",
    "        if len(i) == l:\n",
    "            n1.append(i)\n",
    "    return n1\n",
    "\n",
    "\n",
    "extract(['Python', 'list', 'exercises', 'practice', 'solution'], 8)#['practice', 'solution']"
   ]
  },
  {
   "cell_type": "code",
   "execution_count": 107,
   "id": "a0ac42bb",
   "metadata": {},
   "outputs": [
    {
     "name": "stdout",
     "output_type": "stream",
     "text": [
      "[0, 2, 1, 0, 1, 1, 1]\n",
      "[1, 3, 1, -3, 4]\n"
     ]
    }
   ],
   "source": [
    "def difference(n):\n",
    "    n1 = []\n",
    "    for i in range(1, len(n)):\n",
    "        n1.append(n[i]-n[i-1])\n",
    "    return n1\n",
    "\n",
    "print(difference([1, 1, 3, 4, 4, 5, 6, 7])) #[0, 2, 1, 0, 1, 1, 1]\n",
    "print(difference([4, 5, 8, 9, 6, 10])) #[1, 3, 1, -3, 4]"
   ]
  },
  {
   "cell_type": "code",
   "execution_count": 108,
   "id": "4b1b58b4",
   "metadata": {},
   "outputs": [
    {
     "data": {
      "text/plain": [
       "3.823529411764706"
      ]
     },
     "execution_count": 108,
     "metadata": {},
     "output_type": "execute_result"
    }
   ],
   "source": [
    "def count_avg(n1, n2):\n",
    "    n, summ = n1 + n2, 0\n",
    "    for i in n:\n",
    "        summ += i\n",
    "    return summ/len(n)\n",
    "count_avg([1, 1, 3, 4, 4, 5, 6, 7], [0, 1, 2, 3, 4, 4, 5, 7, 8]) #3.823529411764706"
   ]
  },
  {
   "cell_type": "code",
   "execution_count": null,
   "id": "eccf960d",
   "metadata": {},
   "outputs": [],
   "source": [
    "def "
   ]
  },
  {
   "cell_type": "code",
   "execution_count": null,
   "id": "b8806d80",
   "metadata": {},
   "outputs": [],
   "source": []
  },
  {
   "cell_type": "code",
   "execution_count": null,
   "id": "88ee3ef9",
   "metadata": {},
   "outputs": [],
   "source": []
  },
  {
   "cell_type": "code",
   "execution_count": null,
   "id": "765cec9f",
   "metadata": {},
   "outputs": [],
   "source": []
  },
  {
   "cell_type": "code",
   "execution_count": null,
   "id": "bc1fb1b1",
   "metadata": {},
   "outputs": [],
   "source": []
  },
  {
   "cell_type": "code",
   "execution_count": null,
   "id": "39a91af5",
   "metadata": {},
   "outputs": [],
   "source": []
  },
  {
   "cell_type": "code",
   "execution_count": null,
   "id": "1183b575",
   "metadata": {},
   "outputs": [],
   "source": []
  },
  {
   "cell_type": "code",
   "execution_count": null,
   "id": "4712a499",
   "metadata": {},
   "outputs": [],
   "source": []
  },
  {
   "cell_type": "code",
   "execution_count": null,
   "id": "21e3e06a",
   "metadata": {},
   "outputs": [],
   "source": []
  },
  {
   "cell_type": "code",
   "execution_count": null,
   "id": "61e0ca13",
   "metadata": {},
   "outputs": [],
   "source": []
  },
  {
   "cell_type": "code",
   "execution_count": null,
   "id": "1f394f73",
   "metadata": {},
   "outputs": [],
   "source": []
  },
  {
   "cell_type": "code",
   "execution_count": null,
   "id": "b89d3709",
   "metadata": {},
   "outputs": [],
   "source": []
  },
  {
   "cell_type": "code",
   "execution_count": null,
   "id": "2bbb608b",
   "metadata": {},
   "outputs": [],
   "source": []
  },
  {
   "cell_type": "code",
   "execution_count": null,
   "id": "b23c46b3",
   "metadata": {},
   "outputs": [],
   "source": []
  },
  {
   "cell_type": "code",
   "execution_count": null,
   "id": "e4093df0",
   "metadata": {},
   "outputs": [],
   "source": []
  },
  {
   "cell_type": "code",
   "execution_count": null,
   "id": "7c0bfb4e",
   "metadata": {},
   "outputs": [],
   "source": []
  },
  {
   "cell_type": "code",
   "execution_count": null,
   "id": "7a91e729",
   "metadata": {},
   "outputs": [],
   "source": []
  },
  {
   "cell_type": "code",
   "execution_count": null,
   "id": "29121fe9",
   "metadata": {},
   "outputs": [],
   "source": []
  },
  {
   "cell_type": "code",
   "execution_count": null,
   "id": "dd306499",
   "metadata": {},
   "outputs": [],
   "source": []
  },
  {
   "cell_type": "code",
   "execution_count": null,
   "id": "b34ea2b0",
   "metadata": {},
   "outputs": [],
   "source": []
  },
  {
   "cell_type": "code",
   "execution_count": null,
   "id": "b768d102",
   "metadata": {},
   "outputs": [],
   "source": []
  },
  {
   "cell_type": "code",
   "execution_count": null,
   "id": "2266888d",
   "metadata": {},
   "outputs": [],
   "source": []
  },
  {
   "cell_type": "code",
   "execution_count": null,
   "id": "9e918451",
   "metadata": {},
   "outputs": [],
   "source": []
  },
  {
   "cell_type": "code",
   "execution_count": null,
   "id": "a5d077de",
   "metadata": {},
   "outputs": [],
   "source": []
  },
  {
   "cell_type": "code",
   "execution_count": null,
   "id": "95566af7",
   "metadata": {},
   "outputs": [],
   "source": []
  },
  {
   "cell_type": "code",
   "execution_count": null,
   "id": "5234092f",
   "metadata": {},
   "outputs": [],
   "source": []
  },
  {
   "cell_type": "code",
   "execution_count": null,
   "id": "6d29e230",
   "metadata": {},
   "outputs": [],
   "source": []
  },
  {
   "cell_type": "code",
   "execution_count": null,
   "id": "ae574ef5",
   "metadata": {},
   "outputs": [],
   "source": []
  },
  {
   "cell_type": "code",
   "execution_count": null,
   "id": "ea154a11",
   "metadata": {},
   "outputs": [],
   "source": []
  },
  {
   "cell_type": "code",
   "execution_count": null,
   "id": "031f7260",
   "metadata": {},
   "outputs": [],
   "source": []
  },
  {
   "cell_type": "code",
   "execution_count": null,
   "id": "dda2ca31",
   "metadata": {},
   "outputs": [],
   "source": []
  },
  {
   "cell_type": "code",
   "execution_count": null,
   "id": "72396b0d",
   "metadata": {},
   "outputs": [],
   "source": []
  },
  {
   "cell_type": "code",
   "execution_count": null,
   "id": "f832c5da",
   "metadata": {},
   "outputs": [],
   "source": []
  },
  {
   "cell_type": "code",
   "execution_count": null,
   "id": "aa2996b7",
   "metadata": {},
   "outputs": [],
   "source": []
  },
  {
   "cell_type": "code",
   "execution_count": null,
   "id": "624d2e2c",
   "metadata": {},
   "outputs": [],
   "source": []
  },
  {
   "cell_type": "code",
   "execution_count": null,
   "id": "8e3195f3",
   "metadata": {},
   "outputs": [],
   "source": []
  },
  {
   "cell_type": "code",
   "execution_count": null,
   "id": "bd95ec7e",
   "metadata": {},
   "outputs": [],
   "source": []
  },
  {
   "cell_type": "code",
   "execution_count": null,
   "id": "e4732271",
   "metadata": {},
   "outputs": [],
   "source": []
  },
  {
   "cell_type": "code",
   "execution_count": null,
   "id": "c2ca91b3",
   "metadata": {},
   "outputs": [],
   "source": []
  },
  {
   "cell_type": "code",
   "execution_count": null,
   "id": "a7acc425",
   "metadata": {},
   "outputs": [],
   "source": []
  },
  {
   "cell_type": "code",
   "execution_count": null,
   "id": "c6c9ff06",
   "metadata": {},
   "outputs": [],
   "source": []
  }
 ],
 "metadata": {
  "kernelspec": {
   "display_name": "Python 3 (ipykernel)",
   "language": "python",
   "name": "python3"
  },
  "language_info": {
   "codemirror_mode": {
    "name": "ipython",
    "version": 3
   },
   "file_extension": ".py",
   "mimetype": "text/x-python",
   "name": "python",
   "nbconvert_exporter": "python",
   "pygments_lexer": "ipython3",
   "version": "3.9.13"
  }
 },
 "nbformat": 4,
 "nbformat_minor": 5
}
