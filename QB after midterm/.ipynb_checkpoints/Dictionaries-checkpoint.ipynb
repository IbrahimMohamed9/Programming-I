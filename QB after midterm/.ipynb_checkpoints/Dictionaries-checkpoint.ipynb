{
 "cells": [
  {
   "cell_type": "code",
   "execution_count": null,
   "id": "2b24f5a1",
   "metadata": {},
   "outputs": [],
   "source": [
    "\"\"\"Task #1\"\"\"\n",
    "\n",
    "def summdic(n1, n2, n3):\n",
    "    n4 = {}\n",
    "    for i in n1:\n",
    "        n4[i] = n1[i]\n",
    "    for j in n2:\n",
    "        n4[j] = n2[j]\n",
    "    for k in n3:\n",
    "        n4[k] = n3[k]\n",
    "    return n4\n",
    "\n",
    "    \n",
    "dic1={1:10, 2:20}\n",
    "dic2={3:30, 4:40}\n",
    "dic3={5:50,6:60}\n",
    "summdic(dic1, dic2, dic3) #{1: 10, 2: 20, 3: 30, 4: 40, 5: 50, 6: 60}"
   ]
  },
  {
   "cell_type": "code",
   "execution_count": null,
   "id": "e4932d51",
   "metadata": {},
   "outputs": [],
   "source": [
    "\"\"\"Task #1 other solve\"\"\"\n",
    "def summdic(n1, n2, n3):\n",
    "    n4 = {}\n",
    "    for i in (n1, n2, n3): n4.update(i)\n",
    "    return n4\n",
    "\n",
    "    \n",
    "dic1={1:10, 2:20}\n",
    "dic2={3:30, 4:40}\n",
    "dic3={5:50,6:60}\n",
    "summdic(dic1, dic2, dic3) #{1: 10, 2: 20, 3: 30, 4: 40, 5: 50, 6: 60}"
   ]
  },
  {
   "cell_type": "code",
   "execution_count": 1,
   "id": "8d27357b",
   "metadata": {},
   "outputs": [
    {
     "name": "stdout",
     "output_type": "stream",
     "text": [
      "False\n",
      "True\n"
     ]
    }
   ],
   "source": [
    "\"\"\"Task #2\"\"\"\n",
    "\n",
    "def check(dic, n):\n",
    "    if n in dic:\n",
    "        return True\n",
    "    return False\n",
    "\n",
    "car = {\"brand\": \"Ford\",\"model\": \"Mustang\",\"year\": 1964}\n",
    "print(check(car, \"hi\")) #False\n",
    "print(check(car, \"brand\")) #True"
   ]
  },
  {
   "cell_type": "code",
   "execution_count": null,
   "id": "1d63c4e9",
   "metadata": {},
   "outputs": [],
   "source": [
    "\"\"\"Task #3\"\"\"\n",
    "\n",
    "def iterate(n):\n",
    "    return [i for i in n.items()]\n",
    "\n",
    "car = {\"brand\": \"Ford\",\"model\": \"Mustang\",\"year\": 1964}\n",
    "iterate(car)#[('brand', 'Ford'), ('model', 'Mustang'), ('year', 1964)]"
   ]
  },
  {
   "cell_type": "code",
   "execution_count": null,
   "id": "64930bbc",
   "metadata": {},
   "outputs": [],
   "source": [
    "\"\"\"Task #4\"\"\"\n",
    "\n",
    "def generate(n):\n",
    "    j = {}\n",
    "    for i in range(1, n+1):j.update({i:i*i})\n",
    "    return j\n",
    "\n",
    "generate(5)#{1: 1, 2: 4, 3: 9, 4: 16, 5: 25}"
   ]
  },
  {
   "cell_type": "code",
   "execution_count": null,
   "id": "2d0fe238",
   "metadata": {},
   "outputs": [],
   "source": [
    "\"\"\"Task #5\"\"\"\n",
    "\n",
    "def sumdic(n):\n",
    "    return sum(n.values())\n",
    "\n",
    "sumdic({5:50,6:60, 7:70}) #180"
   ]
  },
  {
   "cell_type": "code",
   "execution_count": null,
   "id": "5b78de77",
   "metadata": {},
   "outputs": [],
   "source": [
    "\"\"\"Task #6\"\"\"\n",
    "\n",
    "def mult(n):\n",
    "    n1 = 1\n",
    "    for i in n.values(): \n",
    "        n1 *= i\n",
    "    return n1\n",
    "\n",
    "mult({5:50,6:60, 7:70}) #210000"
   ]
  },
  {
   "cell_type": "code",
   "execution_count": null,
   "id": "a0afed35",
   "metadata": {},
   "outputs": [],
   "source": [
    "\"\"\"Task #7\"\"\"\n",
    "\n",
    "def remove(n, k):\n",
    "    del n[k]\n",
    "    return n\n",
    "\n",
    "remove({5:50,6:60, 7:70}, 5) #{6:60, 7:70}"
   ]
  },
  {
   "cell_type": "code",
   "execution_count": null,
   "id": "1c0eb080",
   "metadata": {},
   "outputs": [],
   "source": [
    "\"\"\"Task #8\"\"\"\n",
    "\n",
    "def the_max_min(n):\n",
    "    m, mi = list(n.values())[0], list(n.values())[0]\n",
    "    \"\"\"\n",
    "    m = list(n.values())[0]\n",
    "    mi = list(n.values())[0]\n",
    "    \"\"\"\n",
    "    for i in n.values():\n",
    "        if i > m: m = i\n",
    "        if i < mi:mi = i\n",
    "        \"\"\"\n",
    "        if i > m:\n",
    "            m = i\n",
    "        if i < mi:\n",
    "            mi = i\n",
    "        \"\"\"\n",
    "    return \"The maximum \", m,\"The minimum \", mi\n",
    "     \n",
    "            \n",
    "    \n",
    "dic = {'ite  m1': 1150, 'ite  m2': 300}\n",
    "the_max_min(dic)#('The maximum ', 1150, 'The minimum ', 300)"
   ]
  },
  {
   "cell_type": "code",
   "execution_count": null,
   "id": "93a0d123",
   "metadata": {},
   "outputs": [],
   "source": [
    "\"\"\"Task #9\"\"\"\n",
    "\n",
    "def Counter(n1, n2):\n",
    "    d = {}\n",
    "    for i in n1: d.update({i:n1.get(i, 0) + n2.get(i, 0)})\n",
    "    \"\"\"\n",
    "    abbreviation for:\n",
    "    for i in n1:\n",
    "        d[i] = n1.get(i, 0) + n2.get(i, 0)\n",
    "    \"\"\"\n",
    "    for j in n2 :\n",
    "        if j not in d: d.update({j: n2[j]})\n",
    "    \"\"\"\n",
    "    abbreviation for:\n",
    "    if j not in d:\n",
    "        d[j] = n2[j]\n",
    "    \"\"\"\n",
    "    return d\n",
    "\n",
    "\n",
    "d1 = {'a': 100, 'b': 200, 'c':300}\n",
    "d2 = {'a': 300, 'b': 200, 'd':400}\n",
    "Counter(d2, d1)#{'a': 400, 'b': 400, 'd': 400, 'c': 300}"
   ]
  },
  {
   "cell_type": "code",
   "execution_count": null,
   "id": "80df0189",
   "metadata": {},
   "outputs": [],
   "source": [
    "\"\"\"Task #9 other solve\"\"\"\n",
    "\n",
    "from collections import Counter\n",
    "def counter(d1, d2):\n",
    "    return Counter(d1) + Counter(d2)\n",
    "\n",
    "d1 = {'a': 100, 'b': 200, 'c':300}\n",
    "d2 = {'a': 300, 'b': 200, 'd':400}\n",
    "counter(d2, d1)#Counter({'a': 400, 'b': 400, 'd': 400, 'c': 300})"
   ]
  },
  {
   "cell_type": "code",
   "execution_count": null,
   "id": "6711f2eb",
   "metadata": {},
   "outputs": [],
   "source": [
    "\"\"\"Task #10\"\"\"\n",
    "\n",
    "def uniq(n):\n",
    "    n1 = [j for i in n for j in i.values()]\n",
    "    \"\"\"\n",
    "    n1 = []\n",
    "    for i in n:\n",
    "        for j in i.values():\n",
    "            n1.append(j)\n",
    "    \"\"\"\n",
    "    return set(n1)\n",
    "\n",
    "uniq([{\"V\":\"S001\"}, {\"V\": \"S002\"}, {\"VI\": \"S001\"},\n",
    "      {\"VI\": \"S005\"}, {\"VII\":\"S005\"}, {\"V\":\"S009\"},{\"VIII\":\"S007\"}])\n",
    "#('S002', 'S005', 'S007', 'S001', 'S009')"
   ]
  },
  {
   "cell_type": "code",
   "execution_count": null,
   "id": "ab8900d0",
   "metadata": {},
   "outputs": [],
   "source": [
    "\"\"\"Task #10 other solve\"\"\"\n",
    "\n",
    "def uniq(n):\n",
    "    return tuple(set(j for i in n for j in i.values()))\n",
    "\n",
    "uniq([{\"V\":\"S001\"}, {\"V\": \"S002\"}, {\"VI\": \"S001\"},\n",
    "      {\"VI\": \"S005\"}, {\"VII\":\"S005\"}, {\"V\":\"S009\"},{\"VIII\":\"S007\"}])\n",
    "#('S002', 'S005', 'S007', 'S001', 'S009')"
   ]
  },
  {
   "cell_type": "code",
   "execution_count": null,
   "id": "6233f53b",
   "metadata": {},
   "outputs": [],
   "source": [
    "\"\"\"Task #11\"\"\"\n",
    "\n",
    "def combinations(n):\n",
    "    n1 = n.copy()\n",
    "    n2 = []\n",
    "    for i in n:\n",
    "        del n1[i]\n",
    "        for j in n1:\n",
    "            for k in range(len(n[i])):\n",
    "                for q in range(len(n1[j])):\n",
    "                    n2.append(n[i][k] + n1[j][q])\n",
    "    for a in n2:\n",
    "        print(a)\n",
    "    \n",
    "    \n",
    "combinations({'1':['a','b'], '2':['c','d']})\n",
    "    \"\"\"\n",
    "    ac\n",
    "    ad\n",
    "    bc\n",
    "    bd\n",
    "    \"\"\""
   ]
  },
  {
   "cell_type": "code",
   "execution_count": 2,
   "id": "884d40a5",
   "metadata": {},
   "outputs": [
    {
     "name": "stdout",
     "output_type": "stream",
     "text": [
      "ac\n",
      "ad\n",
      "bc\n",
      "bd\n"
     ]
    }
   ],
   "source": [
    "\"\"\"Task #11 other solve\"\"\"\n",
    "\n",
    "import itertools      \n",
    "d ={'1':['a','b'], '2':['c','d']}\n",
    "for combo in itertools.product(*[d[k] for k in sorted(d.keys())]):\n",
    "    print(''.join(combo))\n",
    "    \"\"\"\n",
    "    ac\n",
    "    ad\n",
    "    bc\n",
    "    bd\n",
    "    \"\"\"\n",
    "#https://www.w3resource.com/python-exercises/dictionary/python-data-type-dictionary-exercise-21.php"
   ]
  },
  {
   "cell_type": "code",
   "execution_count": null,
   "id": "994694c8",
   "metadata": {},
   "outputs": [],
   "source": [
    "\"\"\"Task #12\"\"\"\n",
    "\n",
    "def counter(n):\n",
    "    z = [j for i in n for j in i.values()]\n",
    "    \"\"\"\n",
    "    z = []\n",
    "    for i in n:\n",
    "        for j in i.values():\n",
    "            z.append(j)\n",
    "    \"\"\"\n",
    "    z1, d = [(z[a-1],z[a]) for a in range(1, len(z), 2)], {}\n",
    "#     z1 = []\n",
    "#     for a in range(1, len(z1), 2):\n",
    "#         z1.append((z1[a-1],z1[a]))\n",
    "#     d = {}\n",
    "    for k in z1:d.update({k[0]:k[1] + d.get(k[0], 0)})\n",
    "#     for k in z1:\n",
    "#         d[k[0]] = k[1] + d.get(k[0], 0)\n",
    "    return d\n",
    "\n",
    "x = [{'item': 'item1', 'amount': 400},\n",
    "    {'item': 'item2', 'amount': 300}, {'item': 'item1', 'amount': 750}]\n",
    "counter(x) #{'item1': 1150, 'item2': 300}"
   ]
  },
  {
   "cell_type": "code",
   "execution_count": null,
   "id": "ca31d8e7",
   "metadata": {},
   "outputs": [],
   "source": [
    "\"\"\"Task #13\"\"\"\n",
    "\n",
    "def remove_space(n):\n",
    "    n1, z = {},[]\n",
    "    for i in n:\n",
    "        strr = \"\"\n",
    "        for j in i:\n",
    "            if j != \" \": strr += j\n",
    "        n1[strr] = n[i]\n",
    "    return n1\n",
    "    \n",
    "        \n",
    "\n",
    "remove_space({'ite  m1': 1150, 'ite  m2': 300})#{'item1': 1150, 'item2': 300}"
   ]
  },
  {
   "cell_type": "code",
   "execution_count": null,
   "id": "0f6332b9",
   "metadata": {},
   "outputs": [],
   "source": [
    "\"\"\"Task #14\"\"\"\n",
    "\n",
    "def find(dic1, dic2):\n",
    "    z = [i for i in dic1 if i in dic2]\n",
    "    \"\"\"\n",
    "    z = []\n",
    "    for i in dic1:\n",
    "        if i in dic 2:\n",
    "            z.append(i)\n",
    "    \"\"\"\n",
    "    z1 = [[b, dic1[b]] for b in z if dic1[b] == dic2[b]]\n",
    "    \"\"\"\n",
    "    z1 = []\n",
    "    for b in z:\n",
    "        if dic1[b] == dic2[b]:\n",
    "            z1.append((b, dic1[b]))\n",
    "    \"\"\"\n",
    "    for j in range(len(z1)):print(str(z1[j][0]) + \": \" + str(z1[j][1]) + \" is present in both x and y\")\n",
    "    \"\"\"\n",
    "    for j in range(len(z1)):\n",
    "        print(str(z1[j][0]) + \": \" + str(z1[j][1]) + \" is present in both x and y\")\n",
    "    \"\"\"\n",
    "    \n",
    "    \n",
    "x, y = {'key1': 1, 'key2': 3, 'key3': 2}, {'key1': 1, 'key2': 2}\n",
    "find(x, y) #key1: 1 is present in both x and y"
   ]
  },
  {
   "cell_type": "code",
   "execution_count": null,
   "id": "49175fad",
   "metadata": {},
   "outputs": [],
   "source": [
    "\"\"\"Task #14 other solve\"\"\"\n",
    "def find(x, y):\n",
    "    for (key, value) in set(x.items()) & set(y.items()):\n",
    "        print('%s: %s is present in both x and y' % (key, value))\n",
    "\n",
    "x = {'key1': 1, 'key2': 3, 'key3': 2}\n",
    "y = {'key1': 1, 'key2': 2}\n",
    "find(x, y) #key1: 1 is present in both x and y"
   ]
  },
  {
   "cell_type": "code",
   "execution_count": null,
   "id": "0e1faf6a",
   "metadata": {},
   "outputs": [],
   "source": [
    "\"\"\"Task #15\"\"\"\n",
    "\n",
    "def filter_even(dic1):\n",
    "    dic2 = {}\n",
    "    for i in dic1:dic2.update({i:[j for j in dic1[i] if j % 2 == 0]})\n",
    "    \"\"\"\n",
    "    dic2= {}\n",
    "    for i in dic1:\n",
    "        z = []\n",
    "        for j in dic1[i]:\n",
    "            if j % 2 == 0:\n",
    "                z.append(j)\n",
    "        dic2[i] = z\n",
    "    return dic2\n",
    "    \"\"\"\n",
    "    return dic2\n",
    "    \n",
    "    \n",
    "print(filter_even({'V': [1, 4, 6, 10], 'VI': [1, 4, 12], 'VII': [1, 3, 8]}))\n",
    "#{'V': [4, 6, 10], 'VI': [4, 12], 'VII': [8]}\n",
    "print(filter_even({'V': [1, 3, 5], 'VI': [1, 5], 'VII': [2, 7, 9]}))\n",
    "#{'V': [], 'VI': [], 'VII': [2]}"
   ]
  },
  {
   "cell_type": "code",
   "execution_count": null,
   "id": "86624bb6",
   "metadata": {},
   "outputs": [],
   "source": [
    "\"\"\"Task #16\"\"\"\n",
    "\n",
    "d = {'#FF0000': 'Red', '#800000': 'Maroon', '#FFFF00': 'Yellow', '#808000': 'Olive'}\n",
    "def find_len(d):\n",
    "    return len([j for i in d.values() for j in i])\n",
    "    \"\"\"\n",
    "    z = []\n",
    "    for i in d.values():\n",
    "        for j in i:\n",
    "            z.append(j)\n",
    "    m = len(z)\n",
    "    return m\n",
    "    \"\"\"\n",
    "\n",
    "find_len(d) #20"
   ]
  },
  {
   "cell_type": "code",
   "execution_count": null,
   "id": "b2937dcc",
   "metadata": {},
   "outputs": [],
   "source": [
    "\"\"\"Task #17\"\"\"\n",
    "\n",
    "def find(d):\n",
    "    return [i for i in d]\n",
    "    '''\n",
    "    j = []\n",
    "    for i in d:\n",
    "        j.append(i)\n",
    "    return j\n",
    "    '''\n",
    "\n",
    "find({'Theodore': 19, 'Roxanne': 20, 'Mathew': 21, 'Betty': 20})\n",
    "#['Theodore', 'Roxanne', 'Mathew', 'Betty']"
   ]
  },
  {
   "cell_type": "code",
   "execution_count": null,
   "id": "66068c1a",
   "metadata": {},
   "outputs": [],
   "source": [
    "\"\"\"Task #18\"\"\"\n",
    "\n",
    "def find(d):\n",
    "    return [i for i in d.values()]\n",
    "    \"\"\"\n",
    "    z = []\n",
    "    for i in d.values():\n",
    "        z.append(i)\n",
    "    return z\n",
    "    \"\"\"\n",
    "find({'Theodore': 19, 'Roxanne': 20, 'Mathew': 21, 'Betty': 20})#[19, 20, 21, 20]"
   ]
  },
  {
   "cell_type": "code",
   "execution_count": null,
   "id": "9149bf29",
   "metadata": {},
   "outputs": [],
   "source": [
    "\"\"\"Task #19\"\"\"\n",
    "\n",
    "def find(n):\n",
    "    minn, maxx = min([i for i in n.values()]), max([i for i in n.values()])\n",
    "    return tuple([j for j in n if n[j] == minn or n[j] == maxx])\n",
    "    \"\"\"\n",
    "    minn = 1000\n",
    "    maxx = 0\n",
    "    lst = ()\n",
    "    for i in n.values():\n",
    "        if i > maxx:\n",
    "            maxx = i\n",
    "        if minn > i:\n",
    "            minn = i\n",
    "    for j in n:\n",
    "        if n[j] == minn or n[j] == maxx:\n",
    "            lst.append(j)\n",
    "    return lst\n",
    "    \"\"\"\n",
    "\n",
    "find({'Theodore': 19, 'Roxanne': 22, 'Mathew': 21, 'Betty': 20})#('Theodore', 'Roxanne')"
   ]
  },
  {
   "cell_type": "code",
   "execution_count": null,
   "id": "3ab32481",
   "metadata": {},
   "outputs": [],
   "source": [
    "\"\"\"Task #20\"\"\"\n",
    "\n",
    "def find(d):\n",
    "    return [i for i in d.items()]\n",
    "    \"\"\"\n",
    "    z = []\n",
    "    for i in d.items():\n",
    "        z.append(i)\n",
    "    return z\n",
    "    \"\"\"\n",
    "find({'Red': 1, 'Green': 3, 'White': 5, 'Black': 2, 'Pink': 4})\n",
    "#[('Red', 1), ('Green', 3), ('White', 5), ('Black', 2), ('Pink', 4)]"
   ]
  },
  {
   "cell_type": "code",
   "execution_count": null,
   "id": "6447d2b7",
   "metadata": {},
   "outputs": [],
   "source": [
    "\"\"\"Task #21\"\"\"\n",
    "\n",
    "def find(n1, n2):\n",
    "    return dict(zip(n1,n2))\n",
    "    \"\"\"\n",
    "    d, c = {}, 0\n",
    "    for i in n1:\n",
    "        d.update({i:n2[c]})\n",
    "        c += 1\n",
    "        if len(n2) == c: break\n",
    "    return d \n",
    "    \"\"\"\n",
    "    \n",
    "\n",
    "find(['a', 'b', 'c', 'd', 'e', 'f'], [1, 2, 3, 4, 5])#{'a': 1, 'b': 2, 'c': 3, 'd': 4, 'e': 5}"
   ]
  },
  {
   "cell_type": "code",
   "execution_count": null,
   "id": "bac7a958",
   "metadata": {},
   "outputs": [],
   "source": [
    "\"\"\"Task #22\"\"\"\n",
    "\n",
    "#paper\n"
   ]
  },
  {
   "cell_type": "code",
   "execution_count": null,
   "id": "e59035ca",
   "metadata": {},
   "outputs": [],
   "source": [
    "\"\"\"Task #23\"\"\"\n",
    "\n",
    "#paper\n"
   ]
  },
  {
   "cell_type": "code",
   "execution_count": null,
   "id": "bcbf0a8c",
   "metadata": {},
   "outputs": [],
   "source": [
    "\"\"\"Task #24\"\"\"\n",
    "\n",
    "#paper\n"
   ]
  },
  {
   "cell_type": "code",
   "execution_count": null,
   "id": "4023b7e1",
   "metadata": {},
   "outputs": [],
   "source": [
    "\"\"\"Task #25\"\"\"\n",
    "\n",
    "#paper\n"
   ]
  },
  {
   "cell_type": "code",
   "execution_count": null,
   "id": "904c41b6",
   "metadata": {},
   "outputs": [],
   "source": [
    "\"\"\"Task #26\"\"\"\n",
    "\n",
    "#paper\n"
   ]
  },
  {
   "cell_type": "code",
   "execution_count": null,
   "id": "c38e55f0",
   "metadata": {},
   "outputs": [],
   "source": [
    "\"\"\"Task #27\"\"\"\n",
    "\n",
    "def mostright(d):\n",
    "    for i in d:d.update({i:int(str(d[i])[-1])})\n",
    "    \"\"\"\n",
    "    for i in d:\n",
    "        d[i] = int(str(d[i])[-1])\n",
    "    return d\n",
    "    \"\"\"\n",
    "    return d\n",
    "\n",
    "mostright({\"qw\": 45, \"en\":1334, \"fro\": 774, \"klo\": 223})#{'qw': 5, 'en': 4, 'fro': 4, 'klo': 3}"
   ]
  },
  {
   "cell_type": "code",
   "execution_count": null,
   "id": "c251ab91",
   "metadata": {},
   "outputs": [],
   "source": [
    "\"\"\"Task #28\"\"\"\n",
    "\n",
    "def dubled(dictt):\n",
    "    z = [i for i in dictt.values() if i < 14]\n",
    "    for j in dictt:\n",
    "        if dictt[j] in z:\n",
    "            dictt[j] = dictt[j]*2\n",
    "    return dictt\n",
    "\n",
    "dubled({\"for\": 4, \"hi\": 14, \"hallow\": 13})#{'for': 8, 'hi': 14, 'hallow': 26}"
   ]
  },
  {
   "cell_type": "code",
   "execution_count": null,
   "id": "66def66f",
   "metadata": {},
   "outputs": [],
   "source": [
    "\"\"\"Task #29\"\"\"\n",
    "\n",
    "def dubled(dictt):\n",
    "    z = [i for i in dictt.values() if i < 9]\n",
    "    for j in dictt:\n",
    "        if dictt[j] in z:\n",
    "            dictt[j] = dictt[j]*2\n",
    "    return dictt\n",
    "\n",
    "dubled({\"for\": 4, \"hi\": 14, \"hallow\": 13})#{'for': 8, 'hi': 14, 'hallow': 13}"
   ]
  }
 ],
 "metadata": {
  "kernelspec": {
   "display_name": "Python 3 (ipykernel)",
   "language": "python",
   "name": "python3"
  },
  "language_info": {
   "codemirror_mode": {
    "name": "ipython",
    "version": 3
   },
   "file_extension": ".py",
   "mimetype": "text/x-python",
   "name": "python",
   "nbconvert_exporter": "python",
   "pygments_lexer": "ipython3",
   "version": "3.9.13"
  }
 },
 "nbformat": 4,
 "nbformat_minor": 5
}
