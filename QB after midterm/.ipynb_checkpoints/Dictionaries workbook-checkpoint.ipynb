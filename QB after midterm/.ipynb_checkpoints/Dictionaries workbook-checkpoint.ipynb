{
 "cells": [
  {
   "cell_type": "code",
   "execution_count": 7,
   "id": "2b24f5a1",
   "metadata": {},
   "outputs": [
    {
     "data": {
      "text/plain": [
       "{1: 10, 2: 20, 3: 30, 4: 40, 5: 50, 6: 60}"
      ]
     },
     "execution_count": 7,
     "metadata": {},
     "output_type": "execute_result"
    }
   ],
   "source": [
    "\"\"\"Task #1 First Solve\"\"\"\n",
    "\n",
    "def summdic(dict1, dict2, dict3):\n",
    "    dict4 = {}\n",
    "    for i in dict1:\n",
    "        dict4[i] = dict1[i]\n",
    "    for j in dict2:\n",
    "        dict4[j] = dict2[j]\n",
    "    for k in dict3:\n",
    "        dict4[k] = dict3[k]\n",
    "    return dict4\n",
    "\n",
    "    \n",
    "dic1={1:10, 2:20}\n",
    "dic2={3:30, 4:40}\n",
    "dic3={5:50,6:60}\n",
    "summdic(dic1, dic2, dic3) #{1: 10, 2: 20, 3: 30, 4: 40, 5: 50, 6: 60}"
   ]
  },
  {
   "cell_type": "code",
   "execution_count": 27,
   "id": "667923b8",
   "metadata": {
    "scrolled": true
   },
   "outputs": [
    {
     "data": {
      "text/plain": [
       "{1: 10, 2: 20, 3: 30, 4: 40, 5: 50, 6: 60}"
      ]
     },
     "execution_count": 27,
     "metadata": {},
     "output_type": "execute_result"
    }
   ],
   "source": [
    "\"\"\"Task #1 Second Solve\"\"\"\n",
    "\n",
    "def summdic(dict1, dict2, dict3):\n",
    "    dict4 = {}\n",
    "    for i in dict1:dict4.update({i:dict1[i]})\n",
    "    \"\"\"\n",
    "    abbreviation for:\n",
    "    for i in dict1:\n",
    "        dict4.update({i:dict1[i]}) \n",
    "    \"\"\"\n",
    "    \"\"\"\n",
    "     The update() method:\n",
    "     \n",
    "    #The update() method: inserts the specified items to the dictionary.\n",
    "    \n",
    "    (The specified items can be a dictionary,\n",
    "    or an iterable object with key value pairs).\n",
    "    \"\"\"\n",
    "    for j in dict2:dict4.update({j:dict2[j]})\n",
    "    for k in dict3:dict4.update({k:dict3[k]})\n",
    "        \n",
    "    return dict4\n",
    "\n",
    "    \n",
    "dic1={1:10, 2:20}\n",
    "dic2={3:30, 4:40}\n",
    "dic3={5:50,6:60}\n",
    "summdic(dic1, dic2, dic3) #{1: 10, 2: 20, 3: 30, 4: 40, 5: 50, 6: 60}"
   ]
  },
  {
   "cell_type": "code",
   "execution_count": 30,
   "id": "e4932d51",
   "metadata": {},
   "outputs": [
    {
     "data": {
      "text/plain": [
       "{1: 10, 2: 20, 3: 30, 4: 40, 5: 50, 6: 60}"
      ]
     },
     "execution_count": 30,
     "metadata": {},
     "output_type": "execute_result"
    }
   ],
   "source": [
    "\"\"\"Task #1 Third Solve\"\"\"\n",
    "def summdic(dict1, dict2, dict3):\n",
    "    dict4 = {}\n",
    "    for i in (dict1, dict2, dict3):dict4.update(i)\n",
    "    \"\"\"\n",
    "    abbreviation for:\n",
    "    for i in (dict1, dict2, dict3):  #I will take the first dictionary and add it\n",
    "          dict4.update(i)                     after it second, etc\n",
    "    \"\"\"\n",
    "    return dict4\n",
    "\n",
    "    \n",
    "dic1={1:10, 2:20}\n",
    "dic2={3:30, 4:40}\n",
    "dic3={5:50, 6:60}\n",
    "summdic(dic1, dic2, dic3) #{1: 10, 2: 20, 3: 30, 4: 40, 5: 50, 6: 60}"
   ]
  },
  {
   "cell_type": "code",
   "execution_count": 45,
   "id": "8d27357b",
   "metadata": {},
   "outputs": [
    {
     "name": "stdout",
     "output_type": "stream",
     "text": [
      "False\n",
      "True\n"
     ]
    }
   ],
   "source": [
    "\"\"\"Task #2 First Solve\"\"\"\n",
    "\n",
    "def check(dict, n):\n",
    "    if n in dict:return True\n",
    "    \"\"\"\n",
    "    if n in dict:\n",
    "        return True\n",
    "    If element(n) in keys of dictionary \n",
    "    will go return True and if those are not\n",
    "    equal will go to return False.\n",
    "    \"\"\"\n",
    "    return False #you can add else but it is not important.\n",
    "\n",
    "car = {\"brand\": \"Ford\",\"model\": \"Mustang\",\"year\": 1964}\n",
    "print(check(car, \"hi\")) #False\n",
    "print(check(car, \"brand\")) #True"
   ]
  },
  {
   "cell_type": "code",
   "execution_count": 47,
   "id": "6c86f76f",
   "metadata": {},
   "outputs": [
    {
     "name": "stdout",
     "output_type": "stream",
     "text": [
      "False\n",
      "True\n"
     ]
    }
   ],
   "source": [
    "\"\"\"Task #2 Second Solve\"\"\"\n",
    "\n",
    "def check(dict, n):\n",
    "    for i in dict:\n",
    "        if i == n: return True\n",
    "        \"\"\"\n",
    "        abbreviation for:\n",
    "        if i == n:\n",
    "            return True\n",
    "        \"\"\"\n",
    "    return False #you can add else but it is not important.\n",
    "\n",
    "car = {\"brand\": \"Ford\",\"model\": \"Mustang\",\"year\": 1964}\n",
    "print(check(car, \"hi\")) #False\n",
    "print(check(car, \"brand\")) #True"
   ]
  },
  {
   "cell_type": "code",
   "execution_count": 2,
   "id": "1d63c4e9",
   "metadata": {},
   "outputs": [
    {
     "data": {
      "text/plain": [
       "[('first', 'ibrahim'), ('second', 'fatima'), ('third', 'roqia')]"
      ]
     },
     "execution_count": 2,
     "metadata": {},
     "output_type": "execute_result"
    }
   ],
   "source": [
    "\"\"\"Task #3 First Solve\"\"\"\n",
    "\n",
    "def iterate(dictt):\n",
    "    return [i for i in dictt.items()]\n",
    "    \"\"\"\n",
    "    abbreviation for:\n",
    "    listt = []\n",
    "    for i in dictt.items():\n",
    "        listt.append(i)\n",
    "    return listt\n",
    "    \"\"\"\n",
    "\n",
    "names = {\"first\": \"ibrahim\",\"second\": \"fatima\",\"third\": \"roqia\"}\n",
    "iterate(names)#[('first', 'ibrahim'), ('second', 'fatima'), ('third', 'roqia')]"
   ]
  },
  {
   "cell_type": "code",
   "execution_count": 50,
   "id": "c6eeaf59",
   "metadata": {},
   "outputs": [
    {
     "data": {
      "text/plain": [
       "[('first', 'ibrahim'), ('second', 'fatima'), ('third', 'roqia')]"
      ]
     },
     "execution_count": 50,
     "metadata": {},
     "output_type": "execute_result"
    }
   ],
   "source": [
    "\"\"\"Task #3 Second Solve\"\"\"\n",
    "\n",
    "def iterate(dictt):\n",
    "    list1 = [i for i in dictt.keys()]\n",
    "    \"\"\"\n",
    "    abbreviation for:\n",
    "    \n",
    "    list1 = []\n",
    "    for i in dictt.keys():\n",
    "        list1.append(i)\n",
    "    \"\"\"\n",
    "    list2 = [j for j in dictt.values()]\n",
    "    \"\"\"\n",
    "    abbreviation for:\n",
    "    \n",
    "    list2 = []\n",
    "    for j in dictt.values():\n",
    "        list2.append(j)\n",
    "    \"\"\"\n",
    "    list3 = [k for k in zip(list1, list2)] #zip will take the first element in the list1 with\n",
    "                                                  #the first element in list2 in tuples\n",
    "                                                                #etc\n",
    "    \"\"\"\n",
    "    abbreviation for:\n",
    "    \n",
    "    list3 = []\n",
    "    for k in zip(list1, list2):\n",
    "        list3.append(k)\n",
    "    \"\"\"\n",
    "    return list3\n",
    "\n",
    "\n",
    "names = {\"first\": \"ibrahim\",\"second\": \"fatima\",\"third\": \"roqia\"}\n",
    "iterate(names)#[('first', 'ibrahim'), ('second', 'fatima'), ('third', 'roqia')]"
   ]
  },
  {
   "cell_type": "code",
   "execution_count": 51,
   "id": "98774177",
   "metadata": {},
   "outputs": [
    {
     "data": {
      "text/plain": [
       "{1: 1, 2: 4, 3: 9, 4: 16, 5: 25}"
      ]
     },
     "execution_count": 51,
     "metadata": {},
     "output_type": "execute_result"
    }
   ],
   "source": [
    "\"\"\"Task #4 First Solve\"\"\"\n",
    "\n",
    "def generate(n):\n",
    "    j = {}\n",
    "    for i in range(1, n+1):j[i] = i*i\n",
    "    \"\"\"\n",
    "    abbreviation for:\n",
    "    \n",
    "    j = {}\n",
    "    for i in range(1, n+1):\n",
    "        j[i] = i*i\n",
    "    \"\"\"\n",
    "    return j\n",
    "\n",
    "generate(5)#{1: 1, 2: 4, 3: 9, 4: 16, 5: 25}"
   ]
  },
  {
   "cell_type": "code",
   "execution_count": null,
   "id": "64930bbc",
   "metadata": {},
   "outputs": [],
   "source": [
    "\"\"\"Task #4 Second Solve\"\"\"\n",
    "\n",
    "def generate(n):\n",
    "    j = {}\n",
    "    for i in range(1, n+1):j.update({i:i*i})\n",
    "    \"\"\"\n",
    "    abbreviation for:\n",
    "    \n",
    "    j = {}\n",
    "    for i in range(1, n+1):\n",
    "        j.update({i:i*i})\n",
    "    \"\"\"\n",
    "    return j\n",
    "\n",
    "generate(5)#{1: 1, 2: 4, 3: 9, 4: 16, 5: 25}"
   ]
  },
  {
   "cell_type": "code",
   "execution_count": 53,
   "id": "a94d5693",
   "metadata": {},
   "outputs": [
    {
     "data": {
      "text/plain": [
       "180"
      ]
     },
     "execution_count": 53,
     "metadata": {},
     "output_type": "execute_result"
    }
   ],
   "source": [
    "\"\"\"Task #5 First Solve\"\"\"\n",
    "\n",
    "def sumdic(n):\n",
    "    sum = 0\n",
    "    for i in n.values():sum += i\n",
    "    \"\"\"\n",
    "    abbreviation for:\n",
    "    \n",
    "    for i in n.values():\n",
    "        sum += 1\n",
    "    \"\"\"\n",
    "    return sum\n",
    "\n",
    "Numbers = {5:50,6:60, 7:70}\n",
    "sumdic(Numbers) #180"
   ]
  },
  {
   "cell_type": "code",
   "execution_count": 3,
   "id": "2d0fe238",
   "metadata": {},
   "outputs": [
    {
     "data": {
      "text/plain": [
       "180"
      ]
     },
     "execution_count": 3,
     "metadata": {},
     "output_type": "execute_result"
    }
   ],
   "source": [
    "\"\"\"Task #5 Second Solve\"\"\"\n",
    "\n",
    "def sumdic(n):\n",
    "    return sum(n.values())#The sum function returns the sum of the list.\n",
    "\n",
    "Numbers = {5:50,6:60, 7:70}\n",
    "sumdic(Numbers) #180"
   ]
  },
  {
   "cell_type": "code",
   "execution_count": null,
   "id": "5b78de77",
   "metadata": {},
   "outputs": [],
   "source": [
    "\"\"\"Task #6 First Solve\"\"\"\n",
    "\n",
    "def mult(n):\n",
    "    n1 = 1\n",
    "    for i in n.values(): \n",
    "        n1 *= i\n",
    "    return n1\n",
    "\n",
    "mult({5:50,6:60, 7:70}) #210000"
   ]
  },
  {
   "cell_type": "code",
   "execution_count": 2,
   "id": "1f377cea",
   "metadata": {},
   "outputs": [
    {
     "data": {
      "text/plain": [
       "210000"
      ]
     },
     "execution_count": 2,
     "metadata": {},
     "output_type": "execute_result"
    }
   ],
   "source": [
    "\"\"\"Task #6 Second Solve\"\"\"\n",
    "\n",
    "import math\n",
    "def mult(n):\n",
    "    return math.prod(n.values())#The prod(product) function returns the product of the list.\n",
    "\n",
    "mult({5:50,6:60, 7:70}) #210000"
   ]
  },
  {
   "cell_type": "code",
   "execution_count": 57,
   "id": "9f84cd9b",
   "metadata": {},
   "outputs": [
    {
     "data": {
      "text/plain": [
       "210000"
      ]
     },
     "execution_count": 57,
     "metadata": {},
     "output_type": "execute_result"
    }
   ],
   "source": [
    "\"\"\"Task #6 Third Solve\"\"\"\n",
    "\n",
    "from math import prod #now we can put prod without math.prod  :)\n",
    "def mult(n):\n",
    "    return prod(n.values())#The prod(product) function returns the product of the list.\n",
    "\n",
    "mult({5:50,6:60, 7:70}) #210000"
   ]
  },
  {
   "cell_type": "code",
   "execution_count": null,
   "id": "a0afed35",
   "metadata": {},
   "outputs": [],
   "source": [
    "\"\"\"Task #7 First Solve\"\"\"\n",
    "\n",
    "def remove(n, k):\n",
    "    del n[k]\n",
    "    return n\n",
    "\n",
    "remove({5:50,6:60, 7:70}, 5) #{6:60, 7:70}"
   ]
  },
  {
   "cell_type": "code",
   "execution_count": 4,
   "id": "4b3fd64a",
   "metadata": {},
   "outputs": [
    {
     "data": {
      "text/plain": [
       "{6: 60, 7: 70}"
      ]
     },
     "execution_count": 4,
     "metadata": {},
     "output_type": "execute_result"
    }
   ],
   "source": [
    "\"\"\"Task #7 Second Solve\"\"\"\n",
    "\n",
    "def remove(n, k):\n",
    "    dict = {}\n",
    "    for i in n.keys():\n",
    "        if i != k:\n",
    "            dict[i] = n[i]\n",
    "    return dict\n",
    "\n",
    "remove({5:50,6:60, 7:70}, 5) #{6:60, 7:70}"
   ]
  },
  {
   "cell_type": "code",
   "execution_count": 10,
   "id": "4ef05093",
   "metadata": {},
   "outputs": [
    {
     "data": {
      "text/plain": [
       "('The maximum ', 1150, 'The minimum ', 300)"
      ]
     },
     "execution_count": 10,
     "metadata": {},
     "output_type": "execute_result"
    }
   ],
   "source": [
    "\"\"\"Task #8 First Solve\"\"\"\n",
    "\n",
    "def the_max_min(n):\n",
    "    return \"The maximum \", max(list(n.values())),\"The minimum \", min(list(n.values()))\n",
    "    \"\"\"\n",
    "    why did we put list?\n",
    "    \n",
    "    we put list() because we want convert the the \n",
    "    element from dict_values type to list type\n",
    "    \"\"\"\n",
    "    \"\"\"\n",
    "    what is the max and min methods?\n",
    "    \n",
    "    min method returns the elements from the list with minimum value.\n",
    "    max method returns the elements from the list with maximum value.\n",
    "    \"\"\"\n",
    "            \n",
    "    \n",
    "dic = {'ite  m1': 1150, 'ite  m2': 300}\n",
    "the_max_min(dic)#('The maximum ', 1150, 'The minimum ', 300)"
   ]
  },
  {
   "cell_type": "code",
   "execution_count": null,
   "id": "1c0eb080",
   "metadata": {},
   "outputs": [],
   "source": [
    "\"\"\"Task #8 Second Solve\"\"\"\n",
    "\n",
    "def the_max_min(n):\n",
    "    m, mi = list(n.values())[0], list(n.values())[0] #we put list() because we want convert the\n",
    "                                                          #the element from dict_values type\n",
    "                                                                        #to list type\n",
    "    \"\"\"                                                              \n",
    "    m = list(n.values())[0]\n",
    "    mi = list(n.values())[0]\n",
    "    \"\"\"\n",
    "    for i in n.values():\n",
    "        if i > m: m = i\n",
    "        if i < mi:mi = i\n",
    "        \"\"\"\n",
    "        if i > m:\n",
    "            m = i\n",
    "        if i < mi:\n",
    "            mi = i\n",
    "        \"\"\"\n",
    "    return \"The maximum \", m,\"The minimum \", mi\n",
    "     \n",
    "            \n",
    "    \n",
    "dic = {'ite  m1': 1150, 'ite  m2': 300}\n",
    "the_max_min(dic)#('The maximum ', 1150, 'The minimum ', 300)"
   ]
  },
  {
   "cell_type": "code",
   "execution_count": null,
   "id": "93a0d123",
   "metadata": {},
   "outputs": [],
   "source": [
    "\"\"\"Task #9 First Solve\"\"\"\n",
    "\n",
    "def Counter(n1, n2):\n",
    "    d = {}\n",
    "    for i in n1: d.update({i:n1.get(i, 0) + n2.get(i, 0)})\n",
    "    \"\"\"\n",
    "    abbreviation for:\n",
    "    \n",
    "    for i in n1:\n",
    "        d[i] = n1.get(i, 0) + n2.get(i, 0)\n",
    "    \"\"\"\n",
    "    for j in n2 :\n",
    "        if j not in d: d.update({j: n2[j]}) #we took all keys in n1 and all common keys between \n",
    "                                                    #n2 and n1 now we want make sure all keys\n",
    "                                                                #in n2 took\n",
    "    \"\"\"\n",
    "    abbreviation for:\n",
    "\n",
    "    if j not in d:\n",
    "        d[j] = n2[j]\n",
    "    \"\"\"\n",
    "    return d\n",
    "\n",
    "\n",
    "d1 = {'a': 100, 'b': 200, 'c':300}\n",
    "d2 = {'a': 300, 'b': 200, 'd':400}\n",
    "Counter(d2, d1)#{'a': 400, 'b': 400, 'd': 400, 'c': 300}"
   ]
  },
  {
   "cell_type": "code",
   "execution_count": 24,
   "id": "0d1971f5",
   "metadata": {},
   "outputs": [
    {
     "data": {
      "text/plain": [
       "{'a': 400, 'b': 400, 'd': 400, 'c': 300}"
      ]
     },
     "execution_count": 24,
     "metadata": {},
     "output_type": "execute_result"
    }
   ],
   "source": [
    "\"\"\"Task #9 Second Solve\"\"\"\n",
    "\n",
    "def Counter(n1, n2):\n",
    "    listKeys1 = [i for i in n1.keys()]\n",
    "    \"\"\"\n",
    "    abbreviation for:\n",
    "    \n",
    "    listKeys1 = []\n",
    "    for i in n1.keys():\n",
    "        listKeys1.append(i)\n",
    "    \"\"\"\n",
    "    listKeys2 = [j for j in n2.keys()]\n",
    "    \"\"\"\n",
    "    abbreviation for:\n",
    "    \n",
    "    listKeys2 = []\n",
    "    for j in n2.keys():\n",
    "        listKeys2.append(j)\n",
    "    \"\"\"\n",
    "    commonKeys = set(listKeys1).intersection(listKeys2)\n",
    "    dic = {}\n",
    "    for k in commonKeys:\n",
    "        dic[k] = n1[k] + n2[k]\n",
    "    listKeys3 = [m for m in listKeys1 + listKeys2]\n",
    "    \"\"\"\n",
    "    abbreviation for:\n",
    "    \n",
    "    listKeys3 = []\n",
    "    for m in listKeys1 + listKeys2:\n",
    "        listKeys3.append(m)\n",
    "    \"\"\"\n",
    "    listKeys4 = [q for q in listKeys3 if q not in commonKeys]\n",
    "    \"\"\"\n",
    "    abbreviation for:\n",
    "    \n",
    "    listKeys4 = []\n",
    "    for q in listKeys3:\n",
    "        if q not in commonKeys:\n",
    "            listKeys4.append(q)\n",
    "    \"\"\"\n",
    "    for r in listKeys4:\n",
    "        dic.update({r:n1.get(r, 0) + n2.get(r, 0)})\n",
    "#      same  dic[r] = n1.get(r, 0) + n2.get(r, 0)\n",
    "    return dic\n",
    "\n",
    "d1 = {'a': 100, 'b': 200, 'c':300}\n",
    "d2 = {'a': 300, 'b': 200, 'd':400}\n",
    "Counter(d2, d1)#{'a': 400, 'b': 400, 'd': 400, 'c': 300}"
   ]
  },
  {
   "cell_type": "code",
   "execution_count": null,
   "id": "80df0189",
   "metadata": {},
   "outputs": [],
   "source": [
    "\"\"\"Task #9 Third Solve\"\"\"\n",
    "\n",
    "from collections import Counter\n",
    "\n",
    "def counter(d1, d2):\n",
    "    return Counter(d1) + Counter(d2)\n",
    "\n",
    "d1 = {'a': 100, 'b': 200, 'c':300}\n",
    "d2 = {'a': 300, 'b': 200, 'd':400}\n",
    "counter(d2, d1)#{'a': 400, 'b': 400, 'd': 400, 'c': 300}"
   ]
  },
  {
   "cell_type": "code",
   "execution_count": 34,
   "id": "b0715078",
   "metadata": {},
   "outputs": [
    {
     "data": {
      "text/plain": [
       "['S001', 'S002', 'S005', 'S009', 'S007']"
      ]
     },
     "execution_count": 34,
     "metadata": {},
     "output_type": "execute_result"
    }
   ],
   "source": [
    "\"\"\"Task #10 First Solve\"\"\"\n",
    "\n",
    "def uniq(n):\n",
    "    listt = []\n",
    "    for i in n:\n",
    "        for j in i.values():\n",
    "            if j not in listt:\n",
    "                listt.append(j)\n",
    "    return listt\n",
    "    \n",
    "\n",
    "uniq([{\"V\":\"S001\"}, {\"V\": \"S002\"}, {\"VI\": \"S001\"},\n",
    "      {\"VI\": \"S005\"}, {\"VII\":\"S005\"}, {\"V\":\"S009\"},{\"VIII\":\"S007\"}])\n",
    "#['S001', 'S002', 'S005', 'S009', 'S007']"
   ]
  },
  {
   "cell_type": "code",
   "execution_count": 25,
   "id": "ab8900d0",
   "metadata": {},
   "outputs": [
    {
     "data": {
      "text/plain": [
       "{'S001', 'S002', 'S005', 'S007', 'S009'}"
      ]
     },
     "execution_count": 25,
     "metadata": {},
     "output_type": "execute_result"
    }
   ],
   "source": [
    "\"\"\"Task #10 Second Solve\"\"\"\n",
    "\n",
    "def uniq(n):\n",
    "    return set(j for i in n for j in i.values())\n",
    "#Set type no duplicate members we can use it when we want to delete duplicates members.\n",
    "    \"\"\"\n",
    "    abbreviation for:\n",
    "    \n",
    "    n1 = []\n",
    "    for i in n:\n",
    "        for j in i.values():\n",
    "            n1.append(j)\n",
    "    return set(n1)\n",
    "    \"\"\"\n",
    "uniq([{\"V\":\"S001\"}, {\"V\": \"S002\"}, {\"VI\": \"S001\"},\n",
    "      {\"VI\": \"S005\"}, {\"VII\":\"S005\"}, {\"V\":\"S009\"},{\"VIII\":\"S007\"}])\n",
    "#{'S002', 'S005', 'S007', 'S001', 'S009'}"
   ]
  },
  {
   "cell_type": "code",
   "execution_count": 46,
   "id": "4d97006a",
   "metadata": {},
   "outputs": [
    {
     "data": {
      "text/plain": [
       "['ac', 'ad', 'bc', 'bd']"
      ]
     },
     "execution_count": 46,
     "metadata": {},
     "output_type": "execute_result"
    }
   ],
   "source": [
    "\"\"\"Task #11 First Solve\"\"\"\n",
    "\n",
    "def combinations(dict):\n",
    "    listvalues = list(dict.values())\n",
    "    listvalues1 = listvalues[0]\n",
    "    listvalues2 = listvalues[1]\n",
    "    listvalues3 = [i+j for i in listvalues1 for j in listvalues2]\n",
    "    \"\"\"\n",
    "    abbreviation for:\n",
    "    \n",
    "    listvalues3 = []\n",
    "    for i in listvalues1:\n",
    "        for j in listvalues2:\n",
    "            listvalues3.append(i+j)\n",
    "    \"\"\"\n",
    "    return listvalues3\n",
    "        \n",
    "combinations({'1':['a','b'], '2':['c','d']}) #['ac', 'ad', 'bc', 'bd']"
   ]
  },
  {
   "cell_type": "code",
   "execution_count": 45,
   "id": "6233f53b",
   "metadata": {},
   "outputs": [
    {
     "data": {
      "text/plain": [
       "['ac', 'ad', 'bc', 'bd']"
      ]
     },
     "execution_count": 45,
     "metadata": {},
     "output_type": "execute_result"
    }
   ],
   "source": [
    "\"\"\"Task #11 Second Solve\"\"\"\n",
    "\n",
    "def combinations(n):\n",
    "    n1 = n.copy()\n",
    "    n2 = []\n",
    "    for i in n:\n",
    "        del n1[i]\n",
    "        for j in n1:\n",
    "            for k in range(len(n[i])):\n",
    "                for q in range(len(n1[j])):\n",
    "                    n2.append(n[i][k] + n1[j][q])\n",
    "    return n2\n",
    "    \n",
    "    \n",
    "combinations({'1':['a','b'], '2':['c','d']}) #['ac', 'ad', 'bc', 'bd']"
   ]
  },
  {
   "cell_type": "code",
   "execution_count": 50,
   "id": "994694c8",
   "metadata": {},
   "outputs": [
    {
     "data": {
      "text/plain": [
       "{'item1': 1150, 'item2': 300}"
      ]
     },
     "execution_count": 50,
     "metadata": {},
     "output_type": "execute_result"
    }
   ],
   "source": [
    "\"\"\"Task #12\"\"\"\n",
    "\n",
    "def counter(n):\n",
    "    z = [j for i in n for j in i.values()]\n",
    "    \"\"\"\n",
    "    abbreviation for:\n",
    "    \n",
    "    z = []\n",
    "    for i in n:\n",
    "        for j in i.values():\n",
    "            z.append(j)\n",
    "    \"\"\"\n",
    "    z1, d = [(z[a-1],z[a]) for a in range(1, len(z), 2)], {}\n",
    "    \"\"\"\n",
    "    abbreviation for:\n",
    "    \n",
    "    z1 = []\n",
    "    for a in range(1, len(z1), 2):\n",
    "        z1.append((z1[a-1],z1[a]))\n",
    "    d = {}\n",
    "    \"\"\"\n",
    "    for k in z1:d.update({k[0]:k[1] + d.get(k[0], 0)})\n",
    "    \"\"\"\n",
    "    abbreviation for:\n",
    "    \n",
    "    for k in z1:\n",
    "        d[k[0]] = k[1] + d.get(k[0], 0)\n",
    "    \"\"\"\n",
    "    return d\n",
    "\n",
    "x = [{'item': 'item1', 'amount': 400},\n",
    "    {'item': 'item2', 'amount': 300}, {'item': 'item1', 'amount': 750}]\n",
    "counter(x) #{'item1': 1150, 'item2': 300}"
   ]
  },
  {
   "cell_type": "code",
   "execution_count": 51,
   "id": "ca31d8e7",
   "metadata": {},
   "outputs": [
    {
     "data": {
      "text/plain": [
       "{'item1': 1150, 'item2': 300}"
      ]
     },
     "execution_count": 51,
     "metadata": {},
     "output_type": "execute_result"
    }
   ],
   "source": [
    "\"\"\"Task #13 First Solve\"\"\"\n",
    "\n",
    "def remove_space(dict):\n",
    "    dict1, z = {},[]\n",
    "    \"\"\"\n",
    "    abbreviation for:\n",
    "    \n",
    "    dict1 = {}\n",
    "    z = []\n",
    "    \"\"\"\n",
    "    for i in dict:\n",
    "        strr = \"\"\n",
    "        for j in i:\n",
    "            if j != \" \":\n",
    "                strr += j\n",
    "        dict1[strr] = dict[i]\n",
    "    return dict1\n",
    "    \n",
    "        \n",
    "\n",
    "remove_space({'ite  m1': 1150, 'ite  m2': 300})#{'item1': 1150, 'item2': 300}"
   ]
  },
  {
   "cell_type": "code",
   "execution_count": 54,
   "id": "9e62a9a4",
   "metadata": {},
   "outputs": [
    {
     "data": {
      "text/plain": [
       "{'item1': 1150, 'item2': 300}"
      ]
     },
     "execution_count": 54,
     "metadata": {},
     "output_type": "execute_result"
    }
   ],
   "source": [
    "\"\"\"Task #13 Second Solve\"\"\"\n",
    "\n",
    "def remove_space(dict):\n",
    "    new_dict = {}\n",
    "    for key, value in dict.items():\n",
    "        new_dict[key.replace(\" \", \"\")] = value \n",
    "        #The replace() method replaces a specified phrase with another specified phrase.\n",
    "    return new_dict\n",
    "\n",
    "remove_space({'ite  m1': 1150, 'ite  m2': 300})#{'item1': 1150, 'item2': 300}"
   ]
  },
  {
   "cell_type": "code",
   "execution_count": null,
   "id": "b25364a6",
   "metadata": {},
   "outputs": [],
   "source": [
    "\"\"\"Task #14 First Solve\"\"\"\n",
    "def find(x, y):\n",
    "    for (key, value) in x.items():\n",
    "        for (key1, value1) in y.items():\n",
    "            if (key, value) == (key1, value1):\n",
    "                print('{0}: {1} is present in both x and y'.format(key, value))\n",
    "\n",
    "x = {'key1': 1, 'key2': 3, 'key3': 2}\n",
    "y = {'key1': 1, 'key2': 2}\n",
    "find(x, y) #key1: 1 is present in both x and y"
   ]
  },
  {
   "cell_type": "code",
   "execution_count": null,
   "id": "0f6332b9",
   "metadata": {},
   "outputs": [],
   "source": [
    "\"\"\"Task #14 Second Solve\"\"\"\n",
    "\n",
    "def find(dic1, dic2):\n",
    "    z = [i for i in dic1 if i in dic2]\n",
    "    \"\"\"\n",
    "    abbreviation for:\n",
    "    \n",
    "    z = []\n",
    "    for i in dic1:\n",
    "        if i in dic 2:\n",
    "            z.append(i)\n",
    "    \"\"\"\n",
    "    z1 = [[b, dic1[b]] for b in z if dic1[b] == dic2[b]]\n",
    "    \"\"\"\n",
    "    abbreviation for:\n",
    "    \n",
    "    z1 = []\n",
    "    for b in z:\n",
    "        if dic1[b] == dic2[b]:\n",
    "            z1.append((b, dic1[b]))\n",
    "    \"\"\"\n",
    "    for j in range(len(z1)):print(str(z1[j][0]) + \": \" + str(z1[j][1]) + \" is present in both x and y\")\n",
    "    \"\"\"\n",
    "    abbreviation for:\n",
    "    \n",
    "    for j in range(len(z1)):\n",
    "        print(str(z1[j][0]) + \": \" + str(z1[j][1]) + \" is present in both x and y\")\n",
    "    \"\"\"\n",
    "    \n",
    "    \n",
    "x, y = {'key1': 1, 'key2': 3, 'key3': 2}, {'key1': 1, 'key2': 2}\n",
    "find(x, y) #key1: 1 is present in both x and y"
   ]
  },
  {
   "cell_type": "code",
   "execution_count": 62,
   "id": "0e1faf6a",
   "metadata": {},
   "outputs": [
    {
     "name": "stdout",
     "output_type": "stream",
     "text": [
      "{'V': [4, 6, 10], 'VI': [4, 12], 'VII': [8]}\n",
      "{'V': [], 'VI': [], 'VII': [2]}\n"
     ]
    }
   ],
   "source": [
    "\"\"\"Task #15 First Solve\"\"\"\n",
    "\n",
    "def filter_even(dict1):\n",
    "    new_dict = {}\n",
    "    for i in dict1:\n",
    "        new_dict[i] = [j for j in dict1[i] if j % 2 == 0]\n",
    "        \"\"\"                 \"\"\n",
    "                            abbreviation for:\n",
    "                            \n",
    "                        for i in dic1:\n",
    "                            z = []\n",
    "                            for j in dict1[i]:\n",
    "                                if j % 2 == 0:\n",
    "                                    z.append(j)\n",
    "                            dic1[i] = z\n",
    "        \"\"\"                  \"\"\n",
    "    return new_dict \n",
    "    \n",
    "print(filter_even({'V': [1, 4, 6, 10], 'VI': [1, 4, 12], 'VII': [1, 3, 8]}))\n",
    "#{'V': [4, 6, 10], 'VI': [4, 12], 'VII': [8]}\n",
    "print(filter_even({'V': [1, 3, 5], 'VI': [1, 5], 'VII': [2, 7, 9]}))\n",
    "#{'V': [], 'VI': [], 'VII': [2]}"
   ]
  },
  {
   "cell_type": "code",
   "execution_count": null,
   "id": "3e0ef979",
   "metadata": {},
   "outputs": [],
   "source": [
    "\"\"\"Task #15 Second Solve\"\"\"\n",
    "\n",
    "def filter_even(dic1):\n",
    "    dic2 = {}\n",
    "    for i in dic1:dic2.update({i:[j for j in dic1[i] if j % 2 == 0]})\n",
    "    \"\"\"\n",
    "    abbreviation for:\n",
    "    \n",
    "    dic2= {}\n",
    "    for i in dic1:\n",
    "        z = []\n",
    "        for j in dic1[i]:\n",
    "            if j % 2 == 0:\n",
    "                z.append(j)\n",
    "        dic2[i] = z\n",
    "    return dic2\n",
    "    \"\"\"\n",
    "    return dic2\n",
    "    \n",
    "    \n",
    "print(filter_even({'V': [1, 4, 6, 10], 'VI': [1, 4, 12], 'VII': [1, 3, 8]}))\n",
    "#{'V': [4, 6, 10], 'VI': [4, 12], 'VII': [8]}\n",
    "print(filter_even({'V': [1, 3, 5], 'VI': [1, 5], 'VII': [2, 7, 9]}))\n",
    "#{'V': [], 'VI': [], 'VII': [2]}"
   ]
  },
  {
   "cell_type": "code",
   "execution_count": 63,
   "id": "06476d74",
   "metadata": {},
   "outputs": [
    {
     "data": {
      "text/plain": [
       "20"
      ]
     },
     "execution_count": 63,
     "metadata": {},
     "output_type": "execute_result"
    }
   ],
   "source": [
    "\"\"\"Task #16 First Solve\"\"\"\n",
    "\n",
    "def find_len(d):\n",
    "    sum = 0\n",
    "    for i in d.values():\n",
    "        sum += len(i)\n",
    "    return sum\n",
    "    \n",
    "d = {'#FF0000': 'Red', '#800000': 'Maroon', '#FFFF00': 'Yellow', '#808000': 'Olive'}\n",
    "find_len(d) #20"
   ]
  },
  {
   "cell_type": "code",
   "execution_count": null,
   "id": "86624bb6",
   "metadata": {},
   "outputs": [],
   "source": [
    "\"\"\"Task #16 Second Solve\"\"\"\n",
    "\n",
    "def find_len(d):\n",
    "    return len([j for i in d.values() for j in i])\n",
    "    \"\"\"\n",
    "    abbreviation for:\n",
    "    \n",
    "    z = []\n",
    "    for i in d.values():\n",
    "        for j in i:\n",
    "            z.append(j)\n",
    "    m = len(z)\n",
    "    return m\n",
    "    \"\"\"\n",
    "    \n",
    "d = {'#FF0000': 'Red', '#800000': 'Maroon', '#FFFF00': 'Yellow', '#808000': 'Olive'}\n",
    "find_len(d) #20"
   ]
  },
  {
   "cell_type": "code",
   "execution_count": 65,
   "id": "bcf56593",
   "metadata": {},
   "outputs": [
    {
     "data": {
      "text/plain": [
       "dict_keys"
      ]
     },
     "execution_count": 65,
     "metadata": {},
     "output_type": "execute_result"
    }
   ],
   "source": [
    "\"\"\"Task #17 First Solve\"\"\"\n",
    "\n",
    "def find(d):\n",
    "    return list(d.keys()) #we wrote list bacause we want convert the type from dict_keys\n",
    "                                                #to list\n",
    "\n",
    "find({'Theodore': 19, 'Roxanne': 20, 'Mathew': 21, 'Betty': 20})\n",
    "#['Theodore', 'Roxanne', 'Mathew', 'Betty']"
   ]
  },
  {
   "cell_type": "code",
   "execution_count": null,
   "id": "b2937dcc",
   "metadata": {},
   "outputs": [],
   "source": [
    "\"\"\"Task #17 Second Solve\"\"\"\n",
    "\n",
    "def find(d):\n",
    "    return [i for i in d]\n",
    "    '''\n",
    "    abbreviation for:\n",
    "    \n",
    "    j = []\n",
    "    for i in d:\n",
    "        j.append(i)\n",
    "    return j\n",
    "    '''\n",
    "\n",
    "find({'Theodore': 19, 'Roxanne': 20, 'Mathew': 21, 'Betty': 20})\n",
    "#['Theodore', 'Roxanne', 'Mathew', 'Betty']"
   ]
  },
  {
   "cell_type": "code",
   "execution_count": 69,
   "id": "e2bd30a7",
   "metadata": {},
   "outputs": [
    {
     "data": {
      "text/plain": [
       "dict_values"
      ]
     },
     "execution_count": 69,
     "metadata": {},
     "output_type": "execute_result"
    }
   ],
   "source": [
    "\"\"\"Task #18 First solve\"\"\"\n",
    "\n",
    "def find(d):\n",
    "    return list(d.values())#we wrote list bacause we want convert the type from dict_values\n",
    "                                                #to list\n",
    "    \"\"\"\n",
    "    abbreviation for:\n",
    "    \n",
    "    z = []\n",
    "    for i in d.values():\n",
    "        z.append(i)\n",
    "    return z\n",
    "    \"\"\"\n",
    "find({'Theodore': 19, 'Roxanne': 20, 'Mathew': 21, 'Betty': 20})#[19, 20, 21, 20]"
   ]
  },
  {
   "cell_type": "code",
   "execution_count": null,
   "id": "66068c1a",
   "metadata": {},
   "outputs": [],
   "source": [
    "\"\"\"Task #18 Second Solve\"\"\"\n",
    "\n",
    "def find(d):\n",
    "    return [i for i in d.values()]\n",
    "    \"\"\"\n",
    "    abbreviation for:\n",
    "    \n",
    "    z = []\n",
    "    for i in d.values():\n",
    "        z.append(i)\n",
    "    return z\n",
    "    \"\"\"\n",
    "find({'Theodore': 19, 'Roxanne': 20, 'Mathew': 21, 'Betty': 20})#[19, 20, 21, 20]"
   ]
  },
  {
   "cell_type": "code",
   "execution_count": null,
   "id": "9149bf29",
   "metadata": {},
   "outputs": [],
   "source": [
    "\"\"\"Task #19 First Solve\"\"\"\n",
    "\n",
    "def find(n):\n",
    "    minn, maxx = min(list(n.values())), max(list(n.values()))\n",
    "    \"\"\"\n",
    "    abbreviation for:\n",
    "    minn = min(list(n.values()))\n",
    "    maxx = max(list(n.values()))\n",
    "    \"\"\"\n",
    "    return [j for j in n if n[j] == minn or n[j] == maxx]\n",
    "    \"\"\"\n",
    "    abbreviation for:\n",
    "    \n",
    "    lst = []\n",
    "    for j in n:\n",
    "        if n[j] == minn or n[j] == maxx:\n",
    "            lst.append(j)\n",
    "    return lst\n",
    "    \"\"\"\n",
    "\n",
    "find({'Theodore': 19, 'Roxanne': 22, 'Mathew': 21, 'Betty': 20})#['Theodore', 'Roxanne']"
   ]
  },
  {
   "cell_type": "code",
   "execution_count": null,
   "id": "1ca4538f",
   "metadata": {},
   "outputs": [],
   "source": [
    "\"\"\"Task #19 Second Solve\"\"\"\n",
    "\n",
    "def find(n):\n",
    "    minn, maxx = min([i for i in n.values()]), max([i for i in n.values()])\n",
    "    \"\"\"\n",
    "    abbreviation for:\n",
    "    lst = []\n",
    "    for i in n.values():\n",
    "        lst.append()\n",
    "    minn = min(lst)\n",
    "    max = max(lst)\n",
    "    \"\"\"\n",
    "    return [j for j in n if n[j] == minn or n[j] == maxx]\n",
    "    \"\"\"\n",
    "    abbreviation for:\n",
    "    \n",
    "    lst1 = []\n",
    "    for j in n:\n",
    "        if n[j] == minn or n[j] == maxx:\n",
    "            lst1.append(j)\n",
    "    return lst1\n",
    "    \"\"\"\n",
    "\n",
    "find({'Theodore': 19, 'Roxanne': 22, 'Mathew': 21, 'Betty': 20})\n",
    "#['Theodore', 'Roxanne']"
   ]
  },
  {
   "cell_type": "code",
   "execution_count": 70,
   "id": "248ff692",
   "metadata": {},
   "outputs": [
    {
     "data": {
      "text/plain": [
       "dict_items"
      ]
     },
     "execution_count": 70,
     "metadata": {},
     "output_type": "execute_result"
    }
   ],
   "source": [
    "\"\"\"Task #20 First Solve\"\"\"\n",
    "\n",
    "def find(d):\n",
    "    return list(d.items()) #we wrote list bacause we want convert the type from dict_items\n",
    "                                                #to list\n",
    "    \n",
    "find({'Red': 1, 'Green': 3, 'White': 5, 'Black': 2, 'Pink': 4})\n",
    "#[('Red', 1), ('Green', 3), ('White', 5), ('Black', 2), ('Pink', 4)]"
   ]
  },
  {
   "cell_type": "code",
   "execution_count": null,
   "id": "3ab32481",
   "metadata": {},
   "outputs": [],
   "source": [
    "\"\"\"Task #20 Second Solve\"\"\"\n",
    "\n",
    "def find(d):\n",
    "    return [i for i in d.items()]\n",
    "    \"\"\"\n",
    "    abbreviation for:\n",
    "    \n",
    "    z = []\n",
    "    for i in d.items():\n",
    "        z.append(i)\n",
    "    return z\n",
    "    \"\"\"\n",
    "find({'Red': 1, 'Green': 3, 'White': 5, 'Black': 2, 'Pink': 4})\n",
    "#[('Red', 1), ('Green', 3), ('White', 5), ('Black', 2), ('Pink', 4)]"
   ]
  },
  {
   "cell_type": "code",
   "execution_count": 77,
   "id": "cedfaf2f",
   "metadata": {},
   "outputs": [
    {
     "data": {
      "text/plain": [
       "{'a': 1, 'b': 2, 'c': 3, 'd': 4, 'e': 5}"
      ]
     },
     "execution_count": 77,
     "metadata": {},
     "output_type": "execute_result"
    }
   ],
   "source": [
    "\"\"\"Task #21 First Solve\"\"\"\n",
    "\n",
    "def find(list1, list2):\n",
    "    dict = {}\n",
    "    if len(list1) > len(list2):\n",
    "        list1=list1[:len(list2)]\n",
    "    elif len(list1) < len(list2):\n",
    "        list2 = list2[:len(list1)]\n",
    "        \n",
    "    for i in range(len(list1)):\n",
    "        dict.update({list1[i]:list2[i]})\n",
    "    return dict\n",
    "    \n",
    "\n",
    "find(['a', 'b', 'c', 'd', 'e', 'f'], [1, 2, 3, 4, 5])#{'a': 1, 'b': 2, 'c': 3, 'd': 4, 'e': 5}"
   ]
  },
  {
   "cell_type": "code",
   "execution_count": 78,
   "id": "6447d2b7",
   "metadata": {},
   "outputs": [
    {
     "data": {
      "text/plain": [
       "{'a': 1, 'b': 2, 'c': 3, 'd': 4, 'e': 5}"
      ]
     },
     "execution_count": 78,
     "metadata": {},
     "output_type": "execute_result"
    }
   ],
   "source": [
    "\"\"\"Task #21 Second Solve\"\"\"\n",
    "\n",
    "def find(n1, n2):\n",
    "    d, c = {}, 0\n",
    "    for i in n1:\n",
    "        d.update({i:n2[c]})\n",
    "        c += 1\n",
    "        if len(n2) == c:\n",
    "            break\n",
    "    return d     \n",
    "\n",
    "find(['a', 'b', 'c', 'd', 'e', 'f'], [1, 2, 3, 4, 5])#{'a': 1, 'b': 2, 'c': 3, 'd': 4, 'e': 5}"
   ]
  },
  {
   "cell_type": "code",
   "execution_count": 84,
   "id": "f6893888",
   "metadata": {},
   "outputs": [
    {
     "name": "stdout",
     "output_type": "stream",
     "text": [
      "45\n",
      "qw\n",
      "1334\n",
      "en\n",
      "774\n",
      "fro\n",
      "223\n",
      "klo\n"
     ]
    },
    {
     "data": {
      "text/plain": [
       "{'qw': 5, 'en': 4, 'fro': 4, 'klo': 3}"
      ]
     },
     "execution_count": 84,
     "metadata": {},
     "output_type": "execute_result"
    }
   ],
   "source": [
    "\"\"\"Task #22 First Solve\"\"\"\n",
    "\n",
    "def mostright(d):\n",
    "    for i in d:\n",
    "        d[i] = int(str(d[i])[-1]) #we convert it from integer to string because we \n",
    "                                    #want use index -1 and return it integer again.\n",
    "    \"\"\"\n",
    "    abbreviation for:\n",
    "    \n",
    "    for i in d:\n",
    "        d.update({i:int(str(d[i])[-1])})\n",
    "    return d\n",
    "    \"\"\"\n",
    "    return d\n",
    "\n",
    "dictt = {\"qw\": 45, \"en\":1334, \"fro\": 774, \"klo\": 223}\n",
    "\n",
    "mostright(dictt)#{'qw': 5, 'en': 4, 'fro': 4, 'klo': 3}"
   ]
  },
  {
   "cell_type": "code",
   "execution_count": null,
   "id": "c38e55f0",
   "metadata": {},
   "outputs": [],
   "source": [
    "\"\"\"Task #22 Second Solve\"\"\"\n",
    "\n",
    "def mostright(d):\n",
    "    for i in d:d.update({i:int(str(d[i])[-1])})#we convert it from integer to string because we \n",
    "                                                #want use index -1 and return it integer again.\n",
    "    \"\"\"\n",
    "    abbreviation for:\n",
    "    \n",
    "    for i in d:\n",
    "        d.update({i:int(str(d[i])[-1])})\n",
    "    return d\n",
    "    \"\"\"\n",
    "    return d\n",
    "\n",
    "dictt = {\"qw\": 45, \"en\":1334, \"fro\": 774, \"klo\": 223}\n",
    "\n",
    "mostright(dictt)#{'qw': 5, 'en': 4, 'fro': 4, 'klo': 3}"
   ]
  },
  {
   "cell_type": "code",
   "execution_count": null,
   "id": "c251ab91",
   "metadata": {},
   "outputs": [],
   "source": [
    "\"\"\"Task #23 First Solve\"\"\"\n",
    "\n",
    "def dubled(dictt):\n",
    "    z = [i for i in dictt.values() if i < 14]\n",
    "    for j in dictt:\n",
    "        if dictt[j] in z:\n",
    "            dictt[j] = dictt[j]*2\n",
    "    return dictt\n",
    "\n",
    "dictt = {\"for\": 4, \"hi\": 14, \"hallow\": 13}\n",
    "\n",
    "dubled(dictt)#{'for': 8, 'hi': 14, 'hallow': 26}"
   ]
  },
  {
   "cell_type": "code",
   "execution_count": 81,
   "id": "8a0b1ad8",
   "metadata": {},
   "outputs": [
    {
     "data": {
      "text/plain": [
       "{'for': 8, 'hi': 14, 'hallow': 26}"
      ]
     },
     "execution_count": 81,
     "metadata": {},
     "output_type": "execute_result"
    }
   ],
   "source": [
    "\"\"\"Task #23 Second Solve\"\"\"\n",
    "\n",
    "def dubled(dictt):\n",
    "    for j in dictt:\n",
    "        if dictt[j] < 14:\n",
    "            dictt[j] = dictt[j]*2\n",
    "    return dictt\n",
    "\n",
    "dictt = {\"for\": 4, \"hi\": 14, \"hallow\": 13}\n",
    "\n",
    "dubled(dictt)#{'for': 8, 'hi': 14, 'hallow': 26}"
   ]
  },
  {
   "cell_type": "code",
   "execution_count": 6,
   "id": "66def66f",
   "metadata": {
    "scrolled": true
   },
   "outputs": [
    {
     "data": {
      "text/plain": [
       "{'for': 8, 'hi': 14, 'hallow': 13}"
      ]
     },
     "execution_count": 6,
     "metadata": {},
     "output_type": "execute_result"
    }
   ],
   "source": [
    "\"\"\"Task #24 First Solve\"\"\"\n",
    "\n",
    "def dubled(dictt):\n",
    "    z = [i for i in dictt.values() if i < 9]\n",
    "    \"\"\"\n",
    "    abbreviation for:\n",
    "    \n",
    "    z = []\n",
    "    for i in dictt.values():\n",
    "        if i < 9:\n",
    "            z.append(i)\n",
    "    \"\"\"\n",
    "    for j in dictt:\n",
    "        if dictt[j] in z:\n",
    "            dictt[j] = dictt[j]*2\n",
    "    return dictt\n",
    "\n",
    "dictt = {\"for\": 4, \"hi\": 14, \"hallow\": 13}\n",
    "\n",
    "dubled(dictt) #{'for': 8, 'hi': 14, 'hallow': 13}"
   ]
  },
  {
   "cell_type": "code",
   "execution_count": 82,
   "id": "b13f7944",
   "metadata": {},
   "outputs": [
    {
     "data": {
      "text/plain": [
       "{'for': 8, 'hi': 14, 'hallow': 13}"
      ]
     },
     "execution_count": 82,
     "metadata": {},
     "output_type": "execute_result"
    }
   ],
   "source": [
    "\"\"\"Task #24 Second Solve\"\"\"\n",
    "\n",
    "def dubled(dictt):\n",
    "    for j in dictt:\n",
    "        if dictt[j] < 9:\n",
    "            dictt[j] = dictt[j]*2\n",
    "    return dictt\n",
    "\n",
    "dictt = {\"for\": 4, \"hi\": 14, \"hallow\": 13}\n",
    "\n",
    "dubled(dictt)##{'for': 8, 'hi': 14, 'hallow': 13}"
   ]
  }
 ],
 "metadata": {
  "kernelspec": {
   "display_name": "Python 3 (ipykernel)",
   "language": "python",
   "name": "python3"
  },
  "language_info": {
   "codemirror_mode": {
    "name": "ipython",
    "version": 3
   },
   "file_extension": ".py",
   "mimetype": "text/x-python",
   "name": "python",
   "nbconvert_exporter": "python",
   "pygments_lexer": "ipython3",
   "version": "3.9.13"
  }
 },
 "nbformat": 4,
 "nbformat_minor": 5
}
