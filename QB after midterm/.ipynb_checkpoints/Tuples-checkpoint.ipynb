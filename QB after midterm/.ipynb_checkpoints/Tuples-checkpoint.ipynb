{
 "cells": [
  {
   "cell_type": "code",
   "execution_count": null,
   "id": "44a0a2ee",
   "metadata": {},
   "outputs": [],
   "source": [
    "\"\"\"Task #1\"\"\"\n",
    "\n",
    "def mult(t):\n",
    "    mult = 1\n",
    "    for i in t:\n",
    "        mult *= i\n",
    "    return mult\n",
    "\n",
    "print(mult((4, 3, 2, 2, -1, 18))) #-864\n",
    "print(mult((2, 4, 8, 8, 3, 2, 9))) #27648"
   ]
  },
  {
   "cell_type": "code",
   "execution_count": null,
   "id": "86863cf4",
   "metadata": {},
   "outputs": [],
   "source": [
    "\"\"\"Task #2\"\"\"\n",
    "\n",
    "def average_tuple(nums):\n",
    "    return [sum(i)/len(i) for i in zip(*nums)]\n",
    "    \"\"\"\n",
    "    z = []\n",
    "    for i in zip(*nums): #* this will split the big tuple into tuples\n",
    "        average = sum(i)/len(i)\n",
    "        z.append(average)\n",
    "    return z\n",
    "    \n",
    "    zip will take the first int from all tuples and put those in a new tuple:\n",
    "    (10, 30, 81, 1)\n",
    "    (10, 45, 80, 2)\n",
    "    (10, 56, 39, 3)\n",
    "    (12, 45, 32, 4)\n",
    "    \"\"\"\n",
    "    \n",
    "print(average_tuple(((10, 10, 10, 12), (30, 45, 56, 45), (81, 80, 39, 32), (1, 2, 3, 4))))\n",
    "#[30.5, 34.25, 27.0, 23.25]    \n",
    "print(average_tuple(((1, 1, -5), (30, -15, 56), (81, -60, -39), (-10, 2, 3))))\n",
    "#[25.5, -18.0, 3.75]"
   ]
  },
  {
   "cell_type": "code",
   "execution_count": null,
   "id": "068c7bd3",
   "metadata": {},
   "outputs": [],
   "source": [
    "\"\"\"Task #3\"\"\"\n",
    "\n",
    "def int_tuple(n):\n",
    "    return tuple([(int(i[0]),int(i[1])) for i in n])\n",
    "    \"\"\"\n",
    "    lst = []\n",
    "    for i in n:\n",
    "        tup = (int(i[0]), int(i[1]))\n",
    "        lst.append(tup)\n",
    "    return lst\n",
    "    \"\"\"\n",
    "    \n",
    "int_tuple((('333', '33'), ('1416', '55'))) #((333, 33), (1416, 55))"
   ]
  },
  {
   "cell_type": "code",
   "execution_count": null,
   "id": "fe96fa0d",
   "metadata": {},
   "outputs": [],
   "source": [
    "\"\"\"Task #4\"\"\"\n",
    "\n",
    "def convert(n):\n",
    "    strr = ''\n",
    "    for i in n:strr += str(i)\n",
    "    \"\"\"\n",
    "    for i in n:\n",
    "        strr += str(i)\n",
    "    \"\"\"\n",
    "    return int(strr)\n",
    "\n",
    "\n",
    "print(convert((1, 2, 3))) #123\n",
    "print(convert((10, 20, 40, 5, 70))) #102040570"
   ]
  },
  {
   "cell_type": "code",
   "execution_count": null,
   "id": "d8652e95",
   "metadata": {},
   "outputs": [],
   "source": [
    "\"\"\"Task #5\"\"\"\n",
    "\n",
    "def check(tup, co):\n",
    "    if co in [j for i in tup for j in i]:return True\n",
    "    return False\n",
    "    \"\"\"\n",
    "    z = []\n",
    "    for i in tup:\n",
    "        for j in i:\n",
    "            z.append(j)\n",
    "            \n",
    "            \n",
    "    if co in z:\n",
    "        return True\n",
    "    return False\n",
    "    \n",
    "    or you can wrote:\n",
    "    if co in z:\n",
    "        return True\n",
    "    else:\n",
    "        return False\n",
    "    \"\"\"\n",
    "    \n",
    "print(check((('Red', 'White', 'Blue'),\n",
    "             ('Green', 'Pink', 'Purple'),\n",
    "             ('Orange', 'Yellow', 'Lime')),\n",
    "            \"White\")) #True\n",
    "print(check((('Red', 'White', 'Blue'),\n",
    "             ('Green', 'Pink', 'Purple'),\n",
    "             ('Orange', 'Yellow', 'Lime')),\n",
    "            \"Olive \")) #False"
   ]
  },
  {
   "cell_type": "code",
   "execution_count": 1,
   "id": "fe705757",
   "metadata": {},
   "outputs": [
    {
     "name": "stdout",
     "output_type": "stream",
     "text": [
      "True\n",
      "False\n"
     ]
    }
   ],
   "source": [
    "\"\"\"Task #5 other solve\"\"\"\n",
    "\n",
    "def tup(n, m):\n",
    "    for i in range(len(n)):\n",
    "        if len(n[i]) > 1:\n",
    "            for j in range(len(n[i])):\n",
    "                z = n[i][j],\n",
    "                if len(z) == 1:\n",
    "                    if m == n[i][j]:\n",
    "                        return True\n",
    "        else:\n",
    "            if n[i] == m:\n",
    "                return True\n",
    "    return False\n",
    "\n",
    "print(tup((('Red', 'White', 'Blue'),\n",
    "           ('Green', 'Pink', 'Purple'),\n",
    "           ('Orange', 'Yellow', 'Lime')),\n",
    "          \"White\"))\n",
    "\n",
    "print(tup((('Red', 'White', 'Blue'),\n",
    "           ('Green', 'Pink', 'Purple'),\n",
    "           ('Orange', 'Yellow', 'Lime')),\n",
    "          \"Olive\"))"
   ]
  },
  {
   "cell_type": "code",
   "execution_count": null,
   "id": "b0539ee7",
   "metadata": {},
   "outputs": [],
   "source": [
    "\"\"\"Task #5 other solve\"\"\"\n",
    "\n",
    "def check(tup, item):\n",
    "    for i in tup:\n",
    "        if item in i:return True\n",
    "        \"\"\"\n",
    "        if item in i:\n",
    "            return True\n",
    "        \"\"\"\n",
    "    return False\n",
    "\n",
    "print(check((('Red', 'White', 'Blue'),\n",
    "             ('Green', 'Pink', 'Purple'),\n",
    "             ('Orange', 'Yellow', 'Lime')),\n",
    "            \"White\")) #True\n",
    "print(check((('Red', 'White', 'Blue'),\n",
    "             ('Green', 'Pink', 'Purple'),\n",
    "             ('Orange', 'Yellow', 'Lime')),\n",
    "            \"Olive \")) #False"
   ]
  },
  {
   "cell_type": "code",
   "execution_count": 5,
   "id": "68562179",
   "metadata": {},
   "outputs": [
    {
     "name": "stdout",
     "output_type": "stream",
     "text": [
      "[3, 5, 7]\n",
      "[9, -1, 7, 8]\n"
     ]
    }
   ],
   "source": [
    "\"\"\"Task #6\"\"\"\n",
    "\n",
    "def sum_tuple(tup):\n",
    "    return [sum(i) for i in tup]\n",
    "    \"\"\"\n",
    "    lst = []\n",
    "    for i in tup:\n",
    "        suum = sum(i)\n",
    "        lst.append(suum)\n",
    "    return lst\n",
    "    \"\"\"\n",
    "    \n",
    "print(sum_tuple([(1, 2), (2, 3), (3, 4)]))#[3, 5, 7]\n",
    "print(sum_tuple([(1, 2, 6), (2, 3, -6), (3, 4), (2, 2, 2, 2)]))#[9, -1, 7, 8]"
   ]
  },
  {
   "cell_type": "code",
   "execution_count": null,
   "id": "ccdc9d04",
   "metadata": {},
   "outputs": [],
   "source": [
    "\"\"\"Task #7\"\"\"\n",
    "\n",
    "def conver(n):\n",
    "    return [list(i) for i in n]\n",
    "    \"\"\"\n",
    "    lst = []\n",
    "    for i in n:\n",
    "        a = list(i)\n",
    "        lst.append(a)\n",
    "    return lst\n",
    "    \"\"\"\n",
    "\n",
    "print(conver([(1, 2), (2, 3), (3, 4)])) #[[1, 2], [2, 3], [3, 4]]\n",
    "print(conver([(1, 2), (2, 3, 5), (3, 4), (2, 3, 4, 2)])) \n",
    "#[[1, 2], [2, 3, 5], [3, 4], [2, 3, 4, 2]]"
   ]
  }
 ],
 "metadata": {
  "kernelspec": {
   "display_name": "Python 3 (ipykernel)",
   "language": "python",
   "name": "python3"
  },
  "language_info": {
   "codemirror_mode": {
    "name": "ipython",
    "version": 3
   },
   "file_extension": ".py",
   "mimetype": "text/x-python",
   "name": "python",
   "nbconvert_exporter": "python",
   "pygments_lexer": "ipython3",
   "version": "3.9.13"
  }
 },
 "nbformat": 4,
 "nbformat_minor": 5
}
